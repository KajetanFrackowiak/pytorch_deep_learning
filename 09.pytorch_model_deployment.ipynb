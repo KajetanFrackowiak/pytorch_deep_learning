{
 "cells": [
  {
   "cell_type": "code",
   "execution_count": 1,
   "id": "19fae3ae",
   "metadata": {
    "id": "19fae3ae"
   },
   "outputs": [
    {
     "name": "stdout",
     "output_type": "stream",
     "text": [
      "2.2.2+cu121\n",
      "0.17.2+cu121\n"
     ]
    }
   ],
   "source": [
    "import torch\n",
    "import torchvision\n",
    "\n",
    "print(torch.__version__)\n",
    "print(torchvision.__version__)"
   ]
  },
  {
   "cell_type": "code",
   "execution_count": 2,
   "id": "193d9ba8",
   "metadata": {
    "colab": {
     "base_uri": "https://localhost:8080/"
    },
    "executionInfo": {
     "elapsed": 43963,
     "status": "ok",
     "timestamp": 1712901863059,
     "user": {
      "displayName": "Kajetan Frąckowiak",
      "userId": "06064176921065523082"
     },
     "user_tz": -120
    },
    "id": "193d9ba8",
    "outputId": "8b51d875-9d3b-4d1b-ae6f-7f4725cbdfa8"
   },
   "outputs": [],
   "source": [
    "# Continue with regular imports\n",
    "import matplotlib.pyplot as plt\n",
    "import torch\n",
    "import torchvision\n",
    "\n",
    "from torch import nn\n",
    "from torchvision import transforms\n",
    "\n",
    "# Try to get torchinfo, install it if it doesn't work\n",
    "try:\n",
    "    from torchinfo import summary\n",
    "except:\n",
    "    print(\"[INFO] Couldn't find torchinfo... installing it.\")\n",
    "    !pip install -q torchinfo\n",
    "    from torchinfo import summary\n",
    "\n",
    "# Try to import the going_modular directory, download it from GitHub if it doesn't work\n",
    "try:\n",
    "    from going_modular import data_setup, engine, utils\n",
    "    from helper_functions import download_data, set_seeds, plot_loss_curves\n",
    "except:\n",
    "    # Get the going_modular scripts\n",
    "    print(\"[INFO] Couldn't find going_modular or helper_functions scripts... downloading them from GitHub.\")\n",
    "    !git clone https://github.com/mrdbourke/pytorch-deep-learning\n",
    "    !mv pytorch-deep-learning/going_modular .\n",
    "    !mv pytorch-deep-learning/helper_functions.py . # get the helper_functions.py script\n",
    "    !rm -rf pytorch-deep-learning\n",
    "    from going_modular.going_modular import data_setup, engine\n",
    "    from helper_functions import download_data, set_seeds, plot_loss_curves"
   ]
  },
  {
   "cell_type": "code",
   "execution_count": 3,
   "id": "328964cb",
   "metadata": {
    "colab": {
     "base_uri": "https://localhost:8080/",
     "height": 35
    },
    "executionInfo": {
     "elapsed": 5,
     "status": "ok",
     "timestamp": 1712901863059,
     "user": {
      "displayName": "Kajetan Frąckowiak",
      "userId": "06064176921065523082"
     },
     "user_tz": -120
    },
    "id": "328964cb",
    "outputId": "29eef5d2-4c34-447c-fc2a-ac3cd2cc0fc3"
   },
   "outputs": [
    {
     "data": {
      "text/plain": [
       "'cuda'"
      ]
     },
     "execution_count": 3,
     "metadata": {},
     "output_type": "execute_result"
    }
   ],
   "source": [
    "device = \"cuda\" if torch.cuda.is_available() else \"cpu\"\n",
    "device\n"
   ]
  },
  {
   "cell_type": "markdown",
   "id": "e6fea98b",
   "metadata": {
    "id": "e6fea98b"
   },
   "source": [
    "## 1. Getting data"
   ]
  },
  {
   "cell_type": "code",
   "execution_count": 4,
   "id": "523f8929",
   "metadata": {
    "colab": {
     "base_uri": "https://localhost:8080/"
    },
    "executionInfo": {
     "elapsed": 2089,
     "status": "ok",
     "timestamp": 1712901865144,
     "user": {
      "displayName": "Kajetan Frąckowiak",
      "userId": "06064176921065523082"
     },
     "user_tz": -120
    },
    "id": "523f8929",
    "outputId": "60d0184d-2d2d-422c-8f55-794fb4c07ab2"
   },
   "outputs": [
    {
     "name": "stdout",
     "output_type": "stream",
     "text": [
      "[INFO] data\\pizza_steak_sushi_20_percent directory exists, skipping download.\n"
     ]
    },
    {
     "data": {
      "text/plain": [
       "WindowsPath('data/pizza_steak_sushi_20_percent')"
      ]
     },
     "execution_count": 4,
     "metadata": {},
     "output_type": "execute_result"
    }
   ],
   "source": [
    "data_20_percent_path = download_data(source=\"https://github.com/mrdbourke/pytorch-deep-learning/raw/main/data/pizza_steak_sushi_20_percent.zip\",\n",
    "                                     destination=\"pizza_steak_sushi_20_percent\")\n",
    "\n",
    "data_20_percent_path"
   ]
  },
  {
   "cell_type": "code",
   "execution_count": 5,
   "id": "cbb8449d",
   "metadata": {
    "id": "cbb8449d"
   },
   "outputs": [],
   "source": [
    "train_dir = data_20_percent_path / \"train\"\n",
    "test_dir = data_20_percent_path / \"test\""
   ]
  },
  {
   "cell_type": "markdown",
   "id": "3970fe03",
   "metadata": {
    "id": "3970fe03"
   },
   "source": [
    "## 2. FoodVision Mini model deployment experiment outline"
   ]
  },
  {
   "cell_type": "markdown",
   "id": "e5a0f094",
   "metadata": {
    "id": "e5a0f094"
   },
   "source": [
    "## 3. Creating an EffNetB2 feature extractor"
   ]
  },
  {
   "cell_type": "code",
   "execution_count": 6,
   "id": "6b1ac281",
   "metadata": {
    "colab": {
     "base_uri": "https://localhost:8080/"
    },
    "executionInfo": {
     "elapsed": 1252,
     "status": "ok",
     "timestamp": 1712901866393,
     "user": {
      "displayName": "Kajetan Frąckowiak",
      "userId": "06064176921065523082"
     },
     "user_tz": -120
    },
    "id": "6b1ac281",
    "outputId": "9d302bb6-7e12-48c1-afaa-f2dbd58ad09f"
   },
   "outputs": [],
   "source": [
    "effnetb2_weights = torchvision.models.EfficientNet_B2_Weights.DEFAULT\n",
    "\n",
    "# 2. Get EffNetB2 transforms\n",
    "effnetb2_transforms = effnetb2_weights.transforms()\n",
    "\n",
    "# 3. Setup pretrained model\n",
    "effnetb2 = torchvision.models.efficientnet_b2(weights=effnetb2_weights) # could also use weights=\"DEFAULT\"\n",
    "\n",
    "# 4. Freeze the base layers in the model (this will freeze all layers to begin with)\n",
    "for param in effnetb2.parameters():\n",
    "    param.requires_grad = False"
   ]
  },
  {
   "cell_type": "code",
   "execution_count": 7,
   "id": "eb261fac",
   "metadata": {
    "colab": {
     "base_uri": "https://localhost:8080/"
    },
    "executionInfo": {
     "elapsed": 4,
     "status": "ok",
     "timestamp": 1712901866394,
     "user": {
      "displayName": "Kajetan Frąckowiak",
      "userId": "06064176921065523082"
     },
     "user_tz": -120
    },
    "id": "eb261fac",
    "outputId": "64063f58-68ce-44a6-b041-8650012ab5fb"
   },
   "outputs": [
    {
     "data": {
      "text/plain": [
       "Sequential(\n",
       "  (0): Dropout(p=0.3, inplace=True)\n",
       "  (1): Linear(in_features=1408, out_features=1000, bias=True)\n",
       ")"
      ]
     },
     "execution_count": 7,
     "metadata": {},
     "output_type": "execute_result"
    }
   ],
   "source": [
    "effnetb2.classifier"
   ]
  },
  {
   "cell_type": "code",
   "execution_count": 8,
   "id": "57a72ddc-1d8b-4d7c-954f-cda635b05975",
   "metadata": {
    "id": "57a72ddc-1d8b-4d7c-954f-cda635b05975"
   },
   "outputs": [],
   "source": [
    "effnetb2.classifier = nn.Sequential(\n",
    "    nn.Dropout(p=0.3, inplace=True), # keep dropout layer same\n",
    "    nn.Linear(in_features=1408, # keep in_features same\n",
    "              out_features=3)) # change out_features to suit our number of classes"
   ]
  },
  {
   "cell_type": "code",
   "execution_count": 9,
   "id": "821a95e6-6693-46c5-876a-2a0e9a8ec6b9",
   "metadata": {
    "id": "821a95e6-6693-46c5-876a-2a0e9a8ec6b9"
   },
   "outputs": [],
   "source": [
    "def create_effnetb2_model(num_classes:int=3,\n",
    "                          seed:int=42):\n",
    "    \"\"\"Creates an EfficientNetB2 feature extractor model and transforms.\n",
    "\n",
    "    Args:\n",
    "        num_classes (int, optional): number of classes in the classifier head.\n",
    "            Defaults to 3.\n",
    "        seed (int, optional): random seed value. Defaults to 42.\n",
    "\n",
    "    Returns:\n",
    "        model (torch.nn.Module): EffNetB2 feature extractor model.\n",
    "        transforms (torchvision.transforms): EffNetB2 image transforms.\n",
    "    \"\"\"\n",
    "    weights = torchvision.models.EfficientNet_B2_Weights.DEFAULT\n",
    "    transforms = weights.transforms()\n",
    "    model = torchvision.models.efficientnet_b2(weights=weights)\n",
    "\n",
    "    # 4. Freeze all layers in base model\n",
    "    for param in model.parameters():\n",
    "        param.requires_grad = False\n",
    "\n",
    "    # 5. Change classifier head with random seed for reproducibility\n",
    "    torch.manual_seed(seed)\n",
    "    model.classifier = nn.Sequential(\n",
    "        nn.Dropout(p=0.3, inplace=True),\n",
    "        nn.Linear(in_features=1408, out_features=num_classes),\n",
    "    )\n",
    "\n",
    "    return model, transforms"
   ]
  },
  {
   "cell_type": "code",
   "execution_count": 10,
   "id": "297bc0cc-92b8-4374-befa-71004b1faf5d",
   "metadata": {
    "id": "297bc0cc-92b8-4374-befa-71004b1faf5d"
   },
   "outputs": [],
   "source": [
    "effnetb2, effnetb2_transforms = create_effnetb2_model(num_classes=3,\n",
    "                                                      seed=42)"
   ]
  },
  {
   "cell_type": "code",
   "execution_count": 11,
   "id": "3f094280-41aa-4498-9d56-9cd2c3017569",
   "metadata": {
    "id": "3f094280-41aa-4498-9d56-9cd2c3017569"
   },
   "outputs": [],
   "source": [
    "from torchinfo import summary\n",
    "\n",
    "# summary(effnetb2,\n",
    "#         input_size=(1, 3, 224, 224),\n",
    "#         col_names=[\"input_size\", \"output_size\", \"num_params\", \"trainable\"],\n",
    "#         col_width=20,\n",
    "#         row_settings=[\"var_names\"])"
   ]
  },
  {
   "cell_type": "code",
   "execution_count": 12,
   "id": "81fe2012-c495-4de6-bbe6-56fa9d663db7",
   "metadata": {
    "id": "81fe2012-c495-4de6-bbe6-56fa9d663db7"
   },
   "outputs": [],
   "source": [
    "train_dataloader_effnetb2, test_dataloader_effnetb2, class_names = data_setup.create_dataloaders(train_dir=train_dir,\n",
    "                                                                                                 test_dir=test_dir,\n",
    "                                                                                                 transform=effnetb2_transforms,\n",
    "                                                                                                 batch_size=32)"
   ]
  },
  {
   "cell_type": "code",
   "execution_count": 13,
   "id": "2ea9942e-3f24-45ee-8b4d-33e54459b412",
   "metadata": {
    "colab": {
     "base_uri": "https://localhost:8080/",
     "height": 229,
     "referenced_widgets": [
      "d0fc3957ebc0450ca3b3ea0a8d5e3441",
      "fdecda765a884f39a3829b82cca3709e",
      "6d779ab7f66646f9b096b2ee3d69a540",
      "40fb9a6bf6f94c5fbc2234c3455f7d60",
      "f478c6f185544f41a40d600b6274a06b",
      "b30a67d3802d475b83eec5347bb5d7df",
      "a77174417993483e884f233ab66e08a6",
      "50ae02cf5a364174919949e4334033bd",
      "2e8e3b8a7ef2449ba6f2d18d257c0ffb",
      "326523d6008940a4876c4fb33fcf5a24",
      "0d57e5693e2340b19dd6835f3a14625f"
     ]
    },
    "id": "2ea9942e-3f24-45ee-8b4d-33e54459b412",
    "outputId": "da46e058-2206-4c9c-9273-a92703298fe5",
    "scrolled": true
   },
   "outputs": [
    {
     "data": {
      "application/vnd.jupyter.widget-view+json": {
<<<<<<< HEAD
       "model_id": "7eb2d9dc49e44b2aad9763f5e4a551b2",
=======
       "model_id": "abaf9a81e8474a8b87ad5e80836805bf",
>>>>>>> 9b2deb37df264c839beba2041265696d8e24c60a
       "version_major": 2,
       "version_minor": 0
      },
      "text/plain": [
       "  0%|          | 0/10 [00:00<?, ?it/s]"
      ]
     },
     "metadata": {},
     "output_type": "display_data"
    },
    {
     "name": "stdout",
     "output_type": "stream",
     "text": [
      "Epoch: 1 | train_loss: 0.9797 | train_acc: 0.5687 | test_loss: 0.7365 | test_acc: 0.9347\n",
      "Epoch: 2 | train_loss: 0.7102 | train_acc: 0.8562 | test_loss: 0.5842 | test_acc: 0.9472\n",
      "Epoch: 3 | train_loss: 0.5892 | train_acc: 0.8896 | test_loss: 0.4863 | test_acc: 0.9437\n",
      "Epoch: 4 | train_loss: 0.4494 | train_acc: 0.9083 | test_loss: 0.4323 | test_acc: 0.9381\n",
      "Epoch: 5 | train_loss: 0.4303 | train_acc: 0.9000 | test_loss: 0.3882 | test_acc: 0.9290\n",
      "Epoch: 6 | train_loss: 0.4393 | train_acc: 0.8812 | test_loss: 0.3467 | test_acc: 0.9688\n",
      "Epoch: 7 | train_loss: 0.4316 | train_acc: 0.8750 | test_loss: 0.3226 | test_acc: 0.9625\n",
      "Epoch: 8 | train_loss: 0.3899 | train_acc: 0.8979 | test_loss: 0.3420 | test_acc: 0.9227\n",
      "Epoch: 9 | train_loss: 0.3734 | train_acc: 0.8979 | test_loss: 0.3100 | test_acc: 0.9256\n",
      "Epoch: 10 | train_loss: 0.3648 | train_acc: 0.8646 | test_loss: 0.2782 | test_acc: 0.9625\n"
     ]
    }
   ],
   "source": [
    "optimizer = torch.optim.Adam(params=effnetb2.parameters(),\n",
    "                             lr=1e-3)\n",
    "\n",
    "loss_fn = torch.nn.CrossEntropyLoss()\n",
    "\n",
    "set_seeds()\n",
    "effnetb2.to(device)\n",
    "effnetb2_results = engine.train(model=effnetb2,\n",
    "                                train_dataloader=train_dataloader_effnetb2,\n",
    "                                test_dataloader=test_dataloader_effnetb2,\n",
    "                                epochs=10,\n",
    "                                optimizer=optimizer,\n",
    "                                loss_fn=loss_fn,\n",
    "                                device=device)"
   ]
  },
  {
   "cell_type": "code",
<<<<<<< HEAD
   "execution_count": null,
=======
   "execution_count": 14,
>>>>>>> 9b2deb37df264c839beba2041265696d8e24c60a
   "id": "41cd931d-6ffd-4bef-b519-ed9ad1b62315",
   "metadata": {
    "id": "41cd931d-6ffd-4bef-b519-ed9ad1b62315"
   },
<<<<<<< HEAD
   "outputs": [],
=======
   "outputs": [
    {
     "data": {
      "image/png": "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",
      "text/plain": [
       "<Figure size 1500x700 with 2 Axes>"
      ]
     },
     "metadata": {},
     "output_type": "display_data"
    }
   ],
>>>>>>> 9b2deb37df264c839beba2041265696d8e24c60a
   "source": [
    "from helper_functions import plot_loss_curves\n",
    "\n",
    "plot_loss_curves(effnetb2_results)"
   ]
  },
  {
   "cell_type": "code",
<<<<<<< HEAD
   "execution_count": null,
=======
   "execution_count": 15,
>>>>>>> 9b2deb37df264c839beba2041265696d8e24c60a
   "id": "5ac1b3e5-dc3a-43aa-afca-4acf3c11b0e1",
   "metadata": {
    "id": "5ac1b3e5-dc3a-43aa-afca-4acf3c11b0e1"
   },
<<<<<<< HEAD
   "outputs": [],
=======
   "outputs": [
    {
     "name": "stdout",
     "output_type": "stream",
     "text": [
      "[INFO] Saving model to: models/09_pretrained_effnetb2_feature_extractor_pizza_steak_sushi_20_percent.pth\n"
     ]
    }
   ],
>>>>>>> 9b2deb37df264c839beba2041265696d8e24c60a
   "source": [
    "# from going_modular import utils\n",
    "\n",
    "utils.save_model(model=effnetb2,\n",
    "                 target_dir=\"models\",\n",
    "                 model_name=\"09_pretrained_effnetb2_feature_extractor_pizza_steak_sushi_20_percent.pth\")"
   ]
  },
  {
   "cell_type": "code",
<<<<<<< HEAD
   "execution_count": null,
=======
   "execution_count": 16,
>>>>>>> 9b2deb37df264c839beba2041265696d8e24c60a
   "id": "872dccde-3149-4e74-8b98-fc530f75fbaf",
   "metadata": {
    "id": "872dccde-3149-4e74-8b98-fc530f75fbaf"
   },
<<<<<<< HEAD
   "outputs": [],
=======
   "outputs": [
    {
     "name": "stdout",
     "output_type": "stream",
     "text": [
      "Pretrained EffNetb2 feature extractor model size: 29 MB\n"
     ]
    }
   ],
>>>>>>> 9b2deb37df264c839beba2041265696d8e24c60a
   "source": [
    "from pathlib import Path\n",
    "\n",
    "pretrained_effnetb2_model_size = Path(\"models/09_pretrained_effnetb2_feature_extractor_pizza_steak_sushi_20_percent.pth\").stat().st_size // (1024*1024)\n",
    "effnetb2_loaded_results = torch.load(\"models/09_pretrained_effnetb2_feature_extractor_pizza_steak_sushi_20_percent.pth\")\n",
    "print(f\"Pretrained EffNetb2 feature extractor model size: {pretrained_effnetb2_model_size} MB\")"
   ]
  },
  {
   "cell_type": "code",
<<<<<<< HEAD
   "execution_count": null,
=======
   "execution_count": 17,
>>>>>>> 9b2deb37df264c839beba2041265696d8e24c60a
   "id": "054ce973-b244-4dfc-bdc8-e66ff3a7151c",
   "metadata": {
    "id": "054ce973-b244-4dfc-bdc8-e66ff3a7151c"
   },
<<<<<<< HEAD
   "outputs": [],
=======
   "outputs": [
    {
     "data": {
      "text/plain": [
       "7705221"
      ]
     },
     "execution_count": 17,
     "metadata": {},
     "output_type": "execute_result"
    }
   ],
>>>>>>> 9b2deb37df264c839beba2041265696d8e24c60a
   "source": [
    "effnetb2_total_params = sum(torch.numel(param) for param in effnetb2.parameters())\n",
    "effnetb2_total_params"
   ]
  },
  {
   "cell_type": "code",
<<<<<<< HEAD
   "execution_count": null,
=======
   "execution_count": 18,
>>>>>>> 9b2deb37df264c839beba2041265696d8e24c60a
   "id": "4c91f18a-4fbe-450c-a034-8d63c7ce7c51",
   "metadata": {
    "id": "4c91f18a-4fbe-450c-a034-8d63c7ce7c51"
   },
<<<<<<< HEAD
   "outputs": [],
=======
   "outputs": [
    {
     "data": {
      "text/plain": [
       "{'test_loss': 0.28086442947387696,\n",
       " 'test_acc': 0.96875,\n",
       " 'number_of_parameters': 7705221,\n",
       " 'model_size (MB)': 29}"
      ]
     },
     "execution_count": 18,
     "metadata": {},
     "output_type": "execute_result"
    }
   ],
>>>>>>> 9b2deb37df264c839beba2041265696d8e24c60a
   "source": [
    "effnetb2_stats = {\"test_loss\": effnetb2_results[\"test_loss\"][-1],\n",
    "                  \"test_acc\": effnetb2_results[\"test_acc\"][-1],\n",
    "                  \"number_of_parameters\": effnetb2_total_params,\n",
    "                  \"model_size (MB)\": pretrained_effnetb2_model_size}\n",
    "effnetb2_stats"
   ]
  },
  {
   "cell_type": "code",
<<<<<<< HEAD
   "execution_count": null,
=======
   "execution_count": 19,
>>>>>>> 9b2deb37df264c839beba2041265696d8e24c60a
   "id": "de959590-3378-48b7-b12b-03755f9c04cc",
   "metadata": {
    "id": "de959590-3378-48b7-b12b-03755f9c04cc"
   },
<<<<<<< HEAD
   "outputs": [],
=======
   "outputs": [
    {
     "data": {
      "text/plain": [
       "Sequential(\n",
       "  (head): Linear(in_features=768, out_features=1000, bias=True)\n",
       ")"
      ]
     },
     "execution_count": 19,
     "metadata": {},
     "output_type": "execute_result"
    }
   ],
>>>>>>> 9b2deb37df264c839beba2041265696d8e24c60a
   "source": [
    "vit = torchvision.models.vit_b_16()\n",
    "vit.heads"
   ]
  },
  {
   "cell_type": "code",
<<<<<<< HEAD
   "execution_count": null,
=======
   "execution_count": 20,
>>>>>>> 9b2deb37df264c839beba2041265696d8e24c60a
   "id": "e54344b4-5155-4132-a61e-351e787b5c4b",
   "metadata": {
    "id": "e54344b4-5155-4132-a61e-351e787b5c4b"
   },
   "outputs": [],
   "source": [
    "def create_vit_model(num_classes:int=3,\n",
    "                     seed:int=42):\n",
    "    weights = torchvision.models.ViT_B_16_Weights.DEFAULT\n",
    "    transforms = weights.transforms()\n",
    "    model = torchvision.models.vit_b_16(weights=weights)\n",
    "\n",
    "    for param in model.parameters():\n",
    "        param.requires_grad = False\n",
    "\n",
    "    torch.manual_seed(seed)\n",
    "    model.heads = nn.Sequential(nn.Linear(in_features=768,\n",
    "                                        out_features=num_classes))\n",
    "\n",
    "    return model, transforms"
   ]
  },
  {
   "cell_type": "code",
<<<<<<< HEAD
   "execution_count": null,
=======
   "execution_count": 21,
>>>>>>> 9b2deb37df264c839beba2041265696d8e24c60a
   "id": "89b3da05-adfa-4dcc-848e-2983b18e18e6",
   "metadata": {
    "id": "89b3da05-adfa-4dcc-848e-2983b18e18e6"
   },
   "outputs": [],
   "source": [
    "vit, vit_transforms = create_vit_model(num_classes=3,\n",
    "                                       seed=42)"
   ]
  },
  {
   "cell_type": "code",
<<<<<<< HEAD
   "execution_count": null,
=======
   "execution_count": 22,
>>>>>>> 9b2deb37df264c839beba2041265696d8e24c60a
   "id": "df21820a-25e0-4eff-8783-4c1db89a9228",
   "metadata": {
    "id": "df21820a-25e0-4eff-8783-4c1db89a9228"
   },
   "outputs": [],
   "source": [
    "from torchinfo import summary\n",
    "\n",
    "# summary(vit,\n",
    "#         input_size=(1, 3, 224, 224),\n",
    "#         col_names=[\"input_size\", \"output_size\", \"num_params\", \"trainable\"],\n",
    "#         col_width=20,\n",
    "#         row_settings=[\"var_names\"])"
   ]
  },
  {
   "cell_type": "code",
<<<<<<< HEAD
   "execution_count": null,
=======
   "execution_count": 23,
>>>>>>> 9b2deb37df264c839beba2041265696d8e24c60a
   "id": "f287cce0-e808-4ad5-bbd3-45242f045cf4",
   "metadata": {
    "id": "f287cce0-e808-4ad5-bbd3-45242f045cf4"
   },
   "outputs": [],
   "source": [
    "train_dataloader_vit, test_dataloader_vit, class_names = data_setup.create_dataloaders(train_dir=train_dir,\n",
    "                                                                                       test_dir=test_dir,\n",
    "                                                                                       transform=vit_transforms,\n",
    "                                                                                       batch_size=32)"
   ]
  },
  {
   "cell_type": "code",
<<<<<<< HEAD
   "execution_count": null,
=======
   "execution_count": 24,
>>>>>>> 9b2deb37df264c839beba2041265696d8e24c60a
   "id": "e19b9966-d4b5-4c42-a22e-74afbf2c059d",
   "metadata": {
    "id": "e19b9966-d4b5-4c42-a22e-74afbf2c059d"
   },
<<<<<<< HEAD
   "outputs": [],
=======
   "outputs": [
    {
     "data": {
      "application/vnd.jupyter.widget-view+json": {
       "model_id": "09a2bc4d46ea4784895bd2f8dd2cc86b",
       "version_major": 2,
       "version_minor": 0
      },
      "text/plain": [
       "  0%|          | 0/10 [00:00<?, ?it/s]"
      ]
     },
     "metadata": {},
     "output_type": "display_data"
    },
    {
     "name": "stdout",
     "output_type": "stream",
     "text": [
      "Epoch: 1 | train_loss: 0.7023 | train_acc: 0.7500 | test_loss: 0.2714 | test_acc: 0.9290\n",
      "Epoch: 2 | train_loss: 0.2531 | train_acc: 0.9104 | test_loss: 0.1669 | test_acc: 0.9602\n",
      "Epoch: 3 | train_loss: 0.1766 | train_acc: 0.9542 | test_loss: 0.1270 | test_acc: 0.9693\n",
      "Epoch: 4 | train_loss: 0.1277 | train_acc: 0.9625 | test_loss: 0.1072 | test_acc: 0.9722\n",
      "Epoch: 5 | train_loss: 0.1163 | train_acc: 0.9646 | test_loss: 0.0950 | test_acc: 0.9784\n",
      "Epoch: 6 | train_loss: 0.1270 | train_acc: 0.9375 | test_loss: 0.0830 | test_acc: 0.9722\n",
      "Epoch: 7 | train_loss: 0.0899 | train_acc: 0.9771 | test_loss: 0.0844 | test_acc: 0.9784\n",
      "Epoch: 8 | train_loss: 0.0928 | train_acc: 0.9812 | test_loss: 0.0759 | test_acc: 0.9722\n",
      "Epoch: 9 | train_loss: 0.0933 | train_acc: 0.9792 | test_loss: 0.0729 | test_acc: 0.9784\n",
      "Epoch: 10 | train_loss: 0.0662 | train_acc: 0.9833 | test_loss: 0.0642 | test_acc: 0.9847\n"
     ]
    }
   ],
>>>>>>> 9b2deb37df264c839beba2041265696d8e24c60a
   "source": [
    "optimizer = torch.optim.Adam(params=vit.parameters(),\n",
    "                             lr=1e-3)\n",
    "criterium = torch.nn.CrossEntropyLoss()\n",
    "\n",
    "set_seeds()\n",
    "vit_results = engine.train(model=vit.to(device),\n",
    "                           train_dataloader=train_dataloader_vit,\n",
    "                           test_dataloader=test_dataloader_vit,\n",
    "                           epochs=10,\n",
    "                           optimizer=optimizer,\n",
    "                           loss_fn=criterium,\n",
    "                           device=device)"
   ]
  },
  {
   "cell_type": "code",
<<<<<<< HEAD
   "execution_count": null,
=======
   "execution_count": 25,
>>>>>>> 9b2deb37df264c839beba2041265696d8e24c60a
   "id": "bcfb9e4e-6486-4203-87ab-606915e7824e",
   "metadata": {
    "id": "bcfb9e4e-6486-4203-87ab-606915e7824e"
   },
<<<<<<< HEAD
   "outputs": [],
=======
   "outputs": [
    {
     "data": {
      "image/png": "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",
      "text/plain": [
       "<Figure size 1500x700 with 2 Axes>"
      ]
     },
     "metadata": {},
     "output_type": "display_data"
    }
   ],
>>>>>>> 9b2deb37df264c839beba2041265696d8e24c60a
   "source": [
    "from helper_functions import plot_loss_curves\n",
    "\n",
    "plot_loss_curves(vit_results)"
   ]
  },
  {
   "cell_type": "code",
<<<<<<< HEAD
   "execution_count": null,
=======
   "execution_count": 26,
>>>>>>> 9b2deb37df264c839beba2041265696d8e24c60a
   "id": "0ed0c5df-3949-4363-9007-98b199f1c403",
   "metadata": {
    "id": "0ed0c5df-3949-4363-9007-98b199f1c403"
   },
<<<<<<< HEAD
   "outputs": [],
=======
   "outputs": [
    {
     "name": "stdout",
     "output_type": "stream",
     "text": [
      "[INFO] Saving model to: models/09_pretrained_vit_feature_extractor_pizza_steak_sushi_20_percent.pth\n"
     ]
    }
   ],
>>>>>>> 9b2deb37df264c839beba2041265696d8e24c60a
   "source": [
    "utils.save_model(model=vit,\n",
    "                 target_dir=\"models\",\n",
    "                 model_name=\"09_pretrained_vit_feature_extractor_pizza_steak_sushi_20_percent.pth\")"
   ]
  },
  {
   "cell_type": "code",
<<<<<<< HEAD
   "execution_count": null,
=======
   "execution_count": 27,
>>>>>>> 9b2deb37df264c839beba2041265696d8e24c60a
   "id": "c17f23fa-75b6-44e2-99d3-e1df2f71ccce",
   "metadata": {
    "id": "c17f23fa-75b6-44e2-99d3-e1df2f71ccce"
   },
<<<<<<< HEAD
   "outputs": [],
=======
   "outputs": [
    {
     "name": "stdout",
     "output_type": "stream",
     "text": [
      "Pretrained vit model size: 327 MB\n"
     ]
    }
   ],
>>>>>>> 9b2deb37df264c839beba2041265696d8e24c60a
   "source": [
    "from pathlib import Path\n",
    "\n",
    "pretrained_vit_model_size = Path(\"models/09_pretrained_vit_feature_extractor_pizza_steak_sushi_20_percent.pth\").stat().st_size // (1024*1024)\n",
    "print(f\"Pretrained vit model size: {pretrained_vit_model_size} MB\")"
   ]
  },
  {
   "cell_type": "code",
<<<<<<< HEAD
   "execution_count": null,
=======
   "execution_count": 28,
>>>>>>> 9b2deb37df264c839beba2041265696d8e24c60a
   "id": "52d7483c-d8ff-4cd2-a42c-a92118f620bc",
   "metadata": {
    "id": "52d7483c-d8ff-4cd2-a42c-a92118f620bc"
   },
<<<<<<< HEAD
   "outputs": [],
=======
   "outputs": [
    {
     "data": {
      "text/plain": [
       "85800963"
      ]
     },
     "execution_count": 28,
     "metadata": {},
     "output_type": "execute_result"
    }
   ],
>>>>>>> 9b2deb37df264c839beba2041265696d8e24c60a
   "source": [
    "vit_total_params = sum(torch.numel(param) for param in vit.parameters())\n",
    "vit_total_params"
   ]
  },
  {
   "cell_type": "code",
<<<<<<< HEAD
   "execution_count": null,
=======
   "execution_count": 29,
>>>>>>> 9b2deb37df264c839beba2041265696d8e24c60a
   "id": "cbd141e5-e5dd-43e7-8f47-01be449200d7",
   "metadata": {
    "id": "cbd141e5-e5dd-43e7-8f47-01be449200d7"
   },
<<<<<<< HEAD
   "outputs": [],
=======
   "outputs": [
    {
     "data": {
      "text/plain": [
       "{'test_loss': 0.06418212177231908,\n",
       " 'test_acc': 0.984659090909091,\n",
       " 'number_of_parameters': 85800963,\n",
       " 'model_size (MB)': 327}"
      ]
     },
     "execution_count": 29,
     "metadata": {},
     "output_type": "execute_result"
    }
   ],
>>>>>>> 9b2deb37df264c839beba2041265696d8e24c60a
   "source": [
    "vit_stats = {\"test_loss\": vit_results[\"test_loss\"][-1],\n",
    "            \"test_acc\": vit_results[\"test_acc\"][-1],\n",
    "            \"number_of_parameters\": vit_total_params,\n",
    "            \"model_size (MB)\": pretrained_vit_model_size}\n",
    "vit_stats"
   ]
  },
  {
   "cell_type": "code",
<<<<<<< HEAD
   "execution_count": null,
=======
   "execution_count": 30,
>>>>>>> 9b2deb37df264c839beba2041265696d8e24c60a
   "id": "9b250394-9f73-46f2-873b-5dca054ef562",
   "metadata": {
    "id": "9b250394-9f73-46f2-873b-5dca054ef562"
   },
<<<<<<< HEAD
   "outputs": [],
=======
   "outputs": [
    {
     "name": "stdout",
     "output_type": "stream",
     "text": [
      "[INFO] Finding all filepaths ending with '.jpg' in directory: data/pizza_steak_sushi_20_percent/test\n"
     ]
    },
    {
     "data": {
      "text/plain": [
       "[PosixPath('data/pizza_steak_sushi_20_percent/test/pizza/833711.jpg'),\n",
       " PosixPath('data/pizza_steak_sushi_20_percent/test/pizza/148765.jpg'),\n",
       " PosixPath('data/pizza_steak_sushi_20_percent/test/pizza/771336.jpg'),\n",
       " PosixPath('data/pizza_steak_sushi_20_percent/test/pizza/2572488.jpg'),\n",
       " PosixPath('data/pizza_steak_sushi_20_percent/test/pizza/416067.jpg')]"
      ]
     },
     "execution_count": 30,
     "metadata": {},
     "output_type": "execute_result"
    }
   ],
>>>>>>> 9b2deb37df264c839beba2041265696d8e24c60a
   "source": [
    "from pathlib import Path\n",
    "\n",
    "print(f\"[INFO] Finding all filepaths ending with '.jpg' in directory: {test_dir}\")\n",
    "test_data_paths = list(Path(test_dir).glob(\"*/*.jpg\"))\n",
    "test_data_paths[-5:]"
   ]
  },
  {
   "cell_type": "code",
<<<<<<< HEAD
   "execution_count": null,
=======
   "execution_count": 31,
>>>>>>> 9b2deb37df264c839beba2041265696d8e24c60a
   "id": "77789292-4c55-4b96-ad28-94d82eeac34f",
   "metadata": {
    "id": "77789292-4c55-4b96-ad28-94d82eeac34f"
   },
   "outputs": [],
   "source": [
    "import pathlib\n",
    "import torch\n",
    "\n",
    "from PIL import Image\n",
    "from timeit import default_timer as timer\n",
    "from tqdm.auto import tqdm\n",
    "from typing import List, Dict\n",
    "\n",
    "def pred_and_store(paths: List[pathlib.Path],\n",
    "                   model: torch.nn.Module,\n",
    "                   transform: torchvision.transforms,\n",
    "                   class_names: List[str],\n",
    "                   device: str = \"cuda\" if torch.cuda.is_available() else \"cpu\") -> List[Dict]:\n",
    "    pred_list = []\n",
    "\n",
    "    for path in tqdm(paths):\n",
    "        pred_dict = {}\n",
    "\n",
    "        pred_dict[\"image_path\"] = str(path)\n",
    "        class_name = path.parent.stem\n",
    "        pred_dict[\"class_name\"] = class_name\n",
    "\n",
    "        start_time = timer()\n",
    "        img = Image.open(path)\n",
    "        transformed_image = transform(img).unsqueeze(0).to(device)\n",
    "\n",
    "        model.to(device)\n",
    "        model.eval()\n",
    "\n",
    "        with torch.no_grad():\n",
    "            pred_logit = model(transformed_image)  # inference on target sample\n",
    "            pred_prob = torch.softmax(pred_logit, dim=1)\n",
    "            pred_label = torch.argmax(pred_prob, dim=1)\n",
    "            pred_class = class_names[pred_label.cpu()]\n",
    "\n",
    "            pred_dict[\"pred_prob\"] = round(pred_prob.unsqueeze(0).max().cpu().item(), 4)\n",
    "            pred_dict[\"pred_class\"] = pred_class\n",
    "\n",
    "            end_time = timer()\n",
    "            pred_dict[\"time_for_pred\"] = round(end_time-start_time, 4)\n",
    "\n",
    "        pred_dict[\"correct\"] = class_name == pred_class\n",
    "        pred_list.append(pred_dict)\n",
    "\n",
    "    return pred_list"
   ]
  },
  {
   "cell_type": "code",
<<<<<<< HEAD
   "execution_count": null,
=======
   "execution_count": 32,
>>>>>>> 9b2deb37df264c839beba2041265696d8e24c60a
   "id": "021b4a63-f9a5-45d2-8239-c210ddcf8cd2",
   "metadata": {
    "id": "021b4a63-f9a5-45d2-8239-c210ddcf8cd2"
   },
<<<<<<< HEAD
   "outputs": [],
=======
   "outputs": [
    {
     "data": {
      "application/vnd.jupyter.widget-view+json": {
       "model_id": "193f4b7534344a7ebc6dce84312c5e35",
       "version_major": 2,
       "version_minor": 0
      },
      "text/plain": [
       "  0%|          | 0/150 [00:00<?, ?it/s]"
      ]
     },
     "metadata": {},
     "output_type": "display_data"
    }
   ],
>>>>>>> 9b2deb37df264c839beba2041265696d8e24c60a
   "source": [
    "effnetb2_test_pred_dicts = pred_and_store(paths=test_data_paths,\n",
    "                                          model=effnetb2,\n",
    "                                          transform=effnetb2_transforms,\n",
    "                                          class_names=class_names,\n",
    "                                          device='cpu')"
   ]
  },
  {
   "cell_type": "code",
<<<<<<< HEAD
   "execution_count": null,
=======
   "execution_count": 33,
>>>>>>> 9b2deb37df264c839beba2041265696d8e24c60a
   "id": "593a37db-10de-4fed-80d8-cf0851bb4165",
   "metadata": {
    "id": "593a37db-10de-4fed-80d8-cf0851bb4165",
    "scrolled": true
   },
<<<<<<< HEAD
   "outputs": [],
=======
   "outputs": [
    {
     "data": {
      "text/plain": [
       "[{'image_path': 'data/pizza_steak_sushi_20_percent/test/sushi/705150.jpg',\n",
       "  'class_name': 'sushi',\n",
       "  'pred_prob': 0.5944,\n",
       "  'pred_class': 'sushi',\n",
       "  'time_for_pred': 0.2563,\n",
       "  'correct': True},\n",
       " {'image_path': 'data/pizza_steak_sushi_20_percent/test/sushi/2743100.jpg',\n",
       "  'class_name': 'sushi',\n",
       "  'pred_prob': 0.9198,\n",
       "  'pred_class': 'sushi',\n",
       "  'time_for_pred': 0.0965,\n",
       "  'correct': True},\n",
       " {'image_path': 'data/pizza_steak_sushi_20_percent/test/sushi/1994748.jpg',\n",
       "  'class_name': 'sushi',\n",
       "  'pred_prob': 0.5362,\n",
       "  'pred_class': 'sushi',\n",
       "  'time_for_pred': 0.0834,\n",
       "  'correct': True},\n",
       " {'image_path': 'data/pizza_steak_sushi_20_percent/test/sushi/124279.jpg',\n",
       "  'class_name': 'sushi',\n",
       "  'pred_prob': 0.5619,\n",
       "  'pred_class': 'sushi',\n",
       "  'time_for_pred': 0.081,\n",
       "  'correct': True},\n",
       " {'image_path': 'data/pizza_steak_sushi_20_percent/test/sushi/1346344.jpg',\n",
       "  'class_name': 'sushi',\n",
       "  'pred_prob': 0.9557,\n",
       "  'pred_class': 'sushi',\n",
       "  'time_for_pred': 0.0823,\n",
       "  'correct': True}]"
      ]
     },
     "execution_count": 33,
     "metadata": {},
     "output_type": "execute_result"
    }
   ],
>>>>>>> 9b2deb37df264c839beba2041265696d8e24c60a
   "source": [
    "effnetb2_test_pred_dicts[:5]"
   ]
  },
  {
   "cell_type": "code",
<<<<<<< HEAD
   "execution_count": null,
=======
   "execution_count": 34,
>>>>>>> 9b2deb37df264c839beba2041265696d8e24c60a
   "id": "73ba7c17-e181-4b5e-8ef7-b2aa618f3fc6",
   "metadata": {
    "id": "73ba7c17-e181-4b5e-8ef7-b2aa618f3fc6"
   },
<<<<<<< HEAD
   "outputs": [],
=======
   "outputs": [
    {
     "data": {
      "text/html": [
       "<div>\n",
       "<style scoped>\n",
       "    .dataframe tbody tr th:only-of-type {\n",
       "        vertical-align: middle;\n",
       "    }\n",
       "\n",
       "    .dataframe tbody tr th {\n",
       "        vertical-align: top;\n",
       "    }\n",
       "\n",
       "    .dataframe thead th {\n",
       "        text-align: right;\n",
       "    }\n",
       "</style>\n",
       "<table border=\"1\" class=\"dataframe\">\n",
       "  <thead>\n",
       "    <tr style=\"text-align: right;\">\n",
       "      <th></th>\n",
       "      <th>image_path</th>\n",
       "      <th>class_name</th>\n",
       "      <th>pred_prob</th>\n",
       "      <th>pred_class</th>\n",
       "      <th>time_for_pred</th>\n",
       "      <th>correct</th>\n",
       "    </tr>\n",
       "  </thead>\n",
       "  <tbody>\n",
       "    <tr>\n",
       "      <th>0</th>\n",
       "      <td>data/pizza_steak_sushi_20_percent/test/sushi/7...</td>\n",
       "      <td>sushi</td>\n",
       "      <td>0.5944</td>\n",
       "      <td>sushi</td>\n",
       "      <td>0.2563</td>\n",
       "      <td>True</td>\n",
       "    </tr>\n",
       "    <tr>\n",
       "      <th>1</th>\n",
       "      <td>data/pizza_steak_sushi_20_percent/test/sushi/2...</td>\n",
       "      <td>sushi</td>\n",
       "      <td>0.9198</td>\n",
       "      <td>sushi</td>\n",
       "      <td>0.0965</td>\n",
       "      <td>True</td>\n",
       "    </tr>\n",
       "    <tr>\n",
       "      <th>2</th>\n",
       "      <td>data/pizza_steak_sushi_20_percent/test/sushi/1...</td>\n",
       "      <td>sushi</td>\n",
       "      <td>0.5362</td>\n",
       "      <td>sushi</td>\n",
       "      <td>0.0834</td>\n",
       "      <td>True</td>\n",
       "    </tr>\n",
       "    <tr>\n",
       "      <th>3</th>\n",
       "      <td>data/pizza_steak_sushi_20_percent/test/sushi/1...</td>\n",
       "      <td>sushi</td>\n",
       "      <td>0.5619</td>\n",
       "      <td>sushi</td>\n",
       "      <td>0.0810</td>\n",
       "      <td>True</td>\n",
       "    </tr>\n",
       "    <tr>\n",
       "      <th>4</th>\n",
       "      <td>data/pizza_steak_sushi_20_percent/test/sushi/1...</td>\n",
       "      <td>sushi</td>\n",
       "      <td>0.9557</td>\n",
       "      <td>sushi</td>\n",
       "      <td>0.0823</td>\n",
       "      <td>True</td>\n",
       "    </tr>\n",
       "  </tbody>\n",
       "</table>\n",
       "</div>"
      ],
      "text/plain": [
       "                                          image_path class_name  pred_prob  \\\n",
       "0  data/pizza_steak_sushi_20_percent/test/sushi/7...      sushi     0.5944   \n",
       "1  data/pizza_steak_sushi_20_percent/test/sushi/2...      sushi     0.9198   \n",
       "2  data/pizza_steak_sushi_20_percent/test/sushi/1...      sushi     0.5362   \n",
       "3  data/pizza_steak_sushi_20_percent/test/sushi/1...      sushi     0.5619   \n",
       "4  data/pizza_steak_sushi_20_percent/test/sushi/1...      sushi     0.9557   \n",
       "\n",
       "  pred_class  time_for_pred  correct  \n",
       "0      sushi         0.2563     True  \n",
       "1      sushi         0.0965     True  \n",
       "2      sushi         0.0834     True  \n",
       "3      sushi         0.0810     True  \n",
       "4      sushi         0.0823     True  "
      ]
     },
     "execution_count": 34,
     "metadata": {},
     "output_type": "execute_result"
    }
   ],
>>>>>>> 9b2deb37df264c839beba2041265696d8e24c60a
   "source": [
    "import pandas as pd\n",
    "effnetb2_test_pred_df = pd.DataFrame(effnetb2_test_pred_dicts)\n",
    "effnetb2_test_pred_df.head()"
   ]
  },
  {
   "cell_type": "code",
<<<<<<< HEAD
   "execution_count": null,
=======
   "execution_count": 35,
>>>>>>> 9b2deb37df264c839beba2041265696d8e24c60a
   "id": "3b822c54-ddc2-4c79-9624-44ad473226d3",
   "metadata": {
    "id": "3b822c54-ddc2-4c79-9624-44ad473226d3"
   },
<<<<<<< HEAD
   "outputs": [],
=======
   "outputs": [
    {
     "data": {
      "text/plain": [
       "correct\n",
       "True     145\n",
       "False      5\n",
       "Name: count, dtype: int64"
      ]
     },
     "execution_count": 35,
     "metadata": {},
     "output_type": "execute_result"
    }
   ],
>>>>>>> 9b2deb37df264c839beba2041265696d8e24c60a
   "source": [
    "effnetb2_test_pred_df.correct.value_counts()"
   ]
  },
  {
   "cell_type": "code",
<<<<<<< HEAD
   "execution_count": null,
=======
   "execution_count": 36,
>>>>>>> 9b2deb37df264c839beba2041265696d8e24c60a
   "id": "71187fe2-5093-4524-9b45-0b16f23af402",
   "metadata": {
    "id": "71187fe2-5093-4524-9b45-0b16f23af402"
   },
<<<<<<< HEAD
   "outputs": [],
=======
   "outputs": [
    {
     "name": "stdout",
     "output_type": "stream",
     "text": [
      "EffnetB2 average time per prediction: 0.0871 seconds\n"
     ]
    }
   ],
>>>>>>> 9b2deb37df264c839beba2041265696d8e24c60a
   "source": [
    "effnetb2_average_time_per_pred = round(effnetb2_test_pred_df.time_for_pred.mean(), 4)\n",
    "print(f\"EffnetB2 average time per prediction: {effnetb2_average_time_per_pred} seconds\")"
   ]
  },
  {
   "cell_type": "code",
<<<<<<< HEAD
   "execution_count": null,
=======
   "execution_count": 37,
>>>>>>> 9b2deb37df264c839beba2041265696d8e24c60a
   "id": "9bc9a83c-3b96-4500-9332-24edf1da3721",
   "metadata": {
    "id": "9bc9a83c-3b96-4500-9332-24edf1da3721"
   },
<<<<<<< HEAD
   "outputs": [],
=======
   "outputs": [
    {
     "data": {
      "text/plain": [
       "{'test_loss': 0.28086442947387696,\n",
       " 'test_acc': 0.96875,\n",
       " 'number_of_parameters': 7705221,\n",
       " 'model_size (MB)': 29,\n",
       " 'time_per_pred_cpu': 0.0871}"
      ]
     },
     "execution_count": 37,
     "metadata": {},
     "output_type": "execute_result"
    }
   ],
>>>>>>> 9b2deb37df264c839beba2041265696d8e24c60a
   "source": [
    "effnetb2_stats[\"time_per_pred_cpu\"] = effnetb2_average_time_per_pred\n",
    "effnetb2_stats"
   ]
  },
  {
   "cell_type": "code",
<<<<<<< HEAD
   "execution_count": null,
=======
   "execution_count": 38,
>>>>>>> 9b2deb37df264c839beba2041265696d8e24c60a
   "id": "e60c7a62-57fe-44f5-bd73-327aca424623",
   "metadata": {
    "id": "e60c7a62-57fe-44f5-bd73-327aca424623"
   },
<<<<<<< HEAD
   "outputs": [],
=======
   "outputs": [
    {
     "data": {
      "application/vnd.jupyter.widget-view+json": {
       "model_id": "484ee044788a45a68428bae543e35a25",
       "version_major": 2,
       "version_minor": 0
      },
      "text/plain": [
       "  0%|          | 0/150 [00:00<?, ?it/s]"
      ]
     },
     "metadata": {},
     "output_type": "display_data"
    }
   ],
>>>>>>> 9b2deb37df264c839beba2041265696d8e24c60a
   "source": [
    "vit_test_pred_dicts = pred_and_store(paths=test_data_paths,\n",
    "                                     model=vit,\n",
    "                                     transform=vit_transforms,\n",
    "                                     class_names=class_names,\n",
    "                                     device=\"cpu\")"
   ]
  },
  {
   "cell_type": "code",
<<<<<<< HEAD
   "execution_count": null,
=======
   "execution_count": 39,
>>>>>>> 9b2deb37df264c839beba2041265696d8e24c60a
   "id": "81c05b7a-bdbf-4de0-95b5-b4dae7320163",
   "metadata": {
    "id": "81c05b7a-bdbf-4de0-95b5-b4dae7320163"
   },
<<<<<<< HEAD
   "outputs": [],
=======
   "outputs": [
    {
     "data": {
      "text/plain": [
       "[{'image_path': 'data/pizza_steak_sushi_20_percent/test/sushi/705150.jpg',\n",
       "  'class_name': 'sushi',\n",
       "  'pred_prob': 0.9447,\n",
       "  'pred_class': 'sushi',\n",
       "  'time_for_pred': 0.383,\n",
       "  'correct': True},\n",
       " {'image_path': 'data/pizza_steak_sushi_20_percent/test/sushi/2743100.jpg',\n",
       "  'class_name': 'sushi',\n",
       "  'pred_prob': 0.9962,\n",
       "  'pred_class': 'sushi',\n",
       "  'time_for_pred': 0.2029,\n",
       "  'correct': True}]"
      ]
     },
     "execution_count": 39,
     "metadata": {},
     "output_type": "execute_result"
    }
   ],
>>>>>>> 9b2deb37df264c839beba2041265696d8e24c60a
   "source": [
    "vit_test_pred_dicts[:2]"
   ]
  },
  {
   "cell_type": "code",
<<<<<<< HEAD
   "execution_count": null,
=======
   "execution_count": 40,
>>>>>>> 9b2deb37df264c839beba2041265696d8e24c60a
   "id": "d39909ba-9195-4fdf-82b6-fc21847e2e52",
   "metadata": {
    "id": "d39909ba-9195-4fdf-82b6-fc21847e2e52"
   },
<<<<<<< HEAD
   "outputs": [],
=======
   "outputs": [
    {
     "data": {
      "text/html": [
       "<div>\n",
       "<style scoped>\n",
       "    .dataframe tbody tr th:only-of-type {\n",
       "        vertical-align: middle;\n",
       "    }\n",
       "\n",
       "    .dataframe tbody tr th {\n",
       "        vertical-align: top;\n",
       "    }\n",
       "\n",
       "    .dataframe thead th {\n",
       "        text-align: right;\n",
       "    }\n",
       "</style>\n",
       "<table border=\"1\" class=\"dataframe\">\n",
       "  <thead>\n",
       "    <tr style=\"text-align: right;\">\n",
       "      <th></th>\n",
       "      <th>image_path</th>\n",
       "      <th>class_name</th>\n",
       "      <th>pred_prob</th>\n",
       "      <th>pred_class</th>\n",
       "      <th>time_for_pred</th>\n",
       "      <th>correct</th>\n",
       "    </tr>\n",
       "  </thead>\n",
       "  <tbody>\n",
       "    <tr>\n",
       "      <th>0</th>\n",
       "      <td>data/pizza_steak_sushi_20_percent/test/sushi/7...</td>\n",
       "      <td>sushi</td>\n",
       "      <td>0.9447</td>\n",
       "      <td>sushi</td>\n",
       "      <td>0.3830</td>\n",
       "      <td>True</td>\n",
       "    </tr>\n",
       "    <tr>\n",
       "      <th>1</th>\n",
       "      <td>data/pizza_steak_sushi_20_percent/test/sushi/2...</td>\n",
       "      <td>sushi</td>\n",
       "      <td>0.9962</td>\n",
       "      <td>sushi</td>\n",
       "      <td>0.2029</td>\n",
       "      <td>True</td>\n",
       "    </tr>\n",
       "    <tr>\n",
       "      <th>2</th>\n",
       "      <td>data/pizza_steak_sushi_20_percent/test/sushi/1...</td>\n",
       "      <td>sushi</td>\n",
       "      <td>0.9630</td>\n",
       "      <td>sushi</td>\n",
       "      <td>0.1666</td>\n",
       "      <td>True</td>\n",
       "    </tr>\n",
       "    <tr>\n",
       "      <th>3</th>\n",
       "      <td>data/pizza_steak_sushi_20_percent/test/sushi/1...</td>\n",
       "      <td>sushi</td>\n",
       "      <td>0.8947</td>\n",
       "      <td>sushi</td>\n",
       "      <td>0.1619</td>\n",
       "      <td>True</td>\n",
       "    </tr>\n",
       "    <tr>\n",
       "      <th>4</th>\n",
       "      <td>data/pizza_steak_sushi_20_percent/test/sushi/1...</td>\n",
       "      <td>sushi</td>\n",
       "      <td>0.9957</td>\n",
       "      <td>sushi</td>\n",
       "      <td>0.1694</td>\n",
       "      <td>True</td>\n",
       "    </tr>\n",
       "  </tbody>\n",
       "</table>\n",
       "</div>"
      ],
      "text/plain": [
       "                                          image_path class_name  pred_prob  \\\n",
       "0  data/pizza_steak_sushi_20_percent/test/sushi/7...      sushi     0.9447   \n",
       "1  data/pizza_steak_sushi_20_percent/test/sushi/2...      sushi     0.9962   \n",
       "2  data/pizza_steak_sushi_20_percent/test/sushi/1...      sushi     0.9630   \n",
       "3  data/pizza_steak_sushi_20_percent/test/sushi/1...      sushi     0.8947   \n",
       "4  data/pizza_steak_sushi_20_percent/test/sushi/1...      sushi     0.9957   \n",
       "\n",
       "  pred_class  time_for_pred  correct  \n",
       "0      sushi         0.3830     True  \n",
       "1      sushi         0.2029     True  \n",
       "2      sushi         0.1666     True  \n",
       "3      sushi         0.1619     True  \n",
       "4      sushi         0.1694     True  "
      ]
     },
     "execution_count": 40,
     "metadata": {},
     "output_type": "execute_result"
    }
   ],
>>>>>>> 9b2deb37df264c839beba2041265696d8e24c60a
   "source": [
    "import pandas as pd\n",
    "vit_test_pred_df = pd.DataFrame(vit_test_pred_dicts)\n",
    "vit_test_pred_df.head()"
   ]
  },
  {
   "cell_type": "code",
<<<<<<< HEAD
   "execution_count": null,
=======
   "execution_count": 41,
>>>>>>> 9b2deb37df264c839beba2041265696d8e24c60a
   "id": "d856eee2-afa7-4b75-a71f-1b2d2229159f",
   "metadata": {
    "id": "d856eee2-afa7-4b75-a71f-1b2d2229159f"
   },
<<<<<<< HEAD
   "outputs": [],
=======
   "outputs": [
    {
     "data": {
      "text/plain": [
       "correct\n",
       "True     148\n",
       "False      2\n",
       "Name: count, dtype: int64"
      ]
     },
     "execution_count": 41,
     "metadata": {},
     "output_type": "execute_result"
    }
   ],
>>>>>>> 9b2deb37df264c839beba2041265696d8e24c60a
   "source": [
    "vit_test_pred_df.correct.value_counts()"
   ]
  },
  {
   "cell_type": "code",
<<<<<<< HEAD
   "execution_count": null,
=======
   "execution_count": 42,
>>>>>>> 9b2deb37df264c839beba2041265696d8e24c60a
   "id": "703750c4-38cc-4b9d-888d-a13f238ebddc",
   "metadata": {
    "id": "703750c4-38cc-4b9d-888d-a13f238ebddc"
   },
<<<<<<< HEAD
   "outputs": [],
=======
   "outputs": [
    {
     "name": "stdout",
     "output_type": "stream",
     "text": [
      "Average time per pred ViT: 0.1763 seconds\n"
     ]
    }
   ],
>>>>>>> 9b2deb37df264c839beba2041265696d8e24c60a
   "source": [
    "vit_average_time_per_pred = round(vit_test_pred_df.time_for_pred.mean(), 4)\n",
    "print(f\"Average time per pred ViT: {vit_average_time_per_pred} seconds\")"
   ]
  },
  {
   "cell_type": "code",
<<<<<<< HEAD
   "execution_count": null,
=======
   "execution_count": 43,
>>>>>>> 9b2deb37df264c839beba2041265696d8e24c60a
   "id": "0e8e6450-6387-4350-a451-a906f4c11f78",
   "metadata": {
    "id": "0e8e6450-6387-4350-a451-a906f4c11f78"
   },
<<<<<<< HEAD
   "outputs": [],
=======
   "outputs": [
    {
     "data": {
      "text/plain": [
       "{'test_loss': 0.06418212177231908,\n",
       " 'test_acc': 0.984659090909091,\n",
       " 'number_of_parameters': 85800963,\n",
       " 'model_size (MB)': 327,\n",
       " 'time_per_pred_cpu': 0.1763}"
      ]
     },
     "execution_count": 43,
     "metadata": {},
     "output_type": "execute_result"
    }
   ],
>>>>>>> 9b2deb37df264c839beba2041265696d8e24c60a
   "source": [
    "vit_stats[\"time_per_pred_cpu\"] = vit_average_time_per_pred\n",
    "vit_stats"
   ]
  },
  {
   "cell_type": "code",
<<<<<<< HEAD
   "execution_count": null,
=======
   "execution_count": 44,
>>>>>>> 9b2deb37df264c839beba2041265696d8e24c60a
   "id": "76aa1650-08ca-4c6a-88d1-6b093a8bd0db",
   "metadata": {
    "id": "76aa1650-08ca-4c6a-88d1-6b093a8bd0db"
   },
<<<<<<< HEAD
   "outputs": [],
=======
   "outputs": [
    {
     "data": {
      "text/html": [
       "<div>\n",
       "<style scoped>\n",
       "    .dataframe tbody tr th:only-of-type {\n",
       "        vertical-align: middle;\n",
       "    }\n",
       "\n",
       "    .dataframe tbody tr th {\n",
       "        vertical-align: top;\n",
       "    }\n",
       "\n",
       "    .dataframe thead th {\n",
       "        text-align: right;\n",
       "    }\n",
       "</style>\n",
       "<table border=\"1\" class=\"dataframe\">\n",
       "  <thead>\n",
       "    <tr style=\"text-align: right;\">\n",
       "      <th></th>\n",
       "      <th>test_loss</th>\n",
       "      <th>test_acc</th>\n",
       "      <th>number_of_parameters</th>\n",
       "      <th>model_size (MB)</th>\n",
       "      <th>time_per_pred_cpu</th>\n",
       "      <th>model</th>\n",
       "    </tr>\n",
       "  </thead>\n",
       "  <tbody>\n",
       "    <tr>\n",
       "      <th>0</th>\n",
       "      <td>0.280864</td>\n",
       "      <td>96.88</td>\n",
       "      <td>7705221</td>\n",
       "      <td>29</td>\n",
       "      <td>0.0871</td>\n",
       "      <td>EffnetB2</td>\n",
       "    </tr>\n",
       "    <tr>\n",
       "      <th>1</th>\n",
       "      <td>0.064182</td>\n",
       "      <td>98.47</td>\n",
       "      <td>85800963</td>\n",
       "      <td>327</td>\n",
       "      <td>0.1763</td>\n",
       "      <td>ViT</td>\n",
       "    </tr>\n",
       "  </tbody>\n",
       "</table>\n",
       "</div>"
      ],
      "text/plain": [
       "   test_loss  test_acc  number_of_parameters  model_size (MB)  \\\n",
       "0   0.280864     96.88               7705221               29   \n",
       "1   0.064182     98.47              85800963              327   \n",
       "\n",
       "   time_per_pred_cpu     model  \n",
       "0             0.0871  EffnetB2  \n",
       "1             0.1763       ViT  "
      ]
     },
     "execution_count": 44,
     "metadata": {},
     "output_type": "execute_result"
    }
   ],
>>>>>>> 9b2deb37df264c839beba2041265696d8e24c60a
   "source": [
    "df = pd.DataFrame([effnetb2_stats, vit_stats])\n",
    "df[\"model\"] = [\"EffnetB2\", \"ViT\"]\n",
    "df[\"test_acc\"] = round(df[\"test_acc\"] * 100, 2)\n",
    "df"
   ]
  },
  {
   "cell_type": "code",
<<<<<<< HEAD
   "execution_count": null,
=======
   "execution_count": 45,
>>>>>>> 9b2deb37df264c839beba2041265696d8e24c60a
   "id": "6a168399-564e-4cf1-998a-8b4a208dcaf6",
   "metadata": {
    "id": "6a168399-564e-4cf1-998a-8b4a208dcaf6"
   },
<<<<<<< HEAD
   "outputs": [],
=======
   "outputs": [
    {
     "data": {
      "text/html": [
       "<div>\n",
       "<style scoped>\n",
       "    .dataframe tbody tr th:only-of-type {\n",
       "        vertical-align: middle;\n",
       "    }\n",
       "\n",
       "    .dataframe tbody tr th {\n",
       "        vertical-align: top;\n",
       "    }\n",
       "\n",
       "    .dataframe thead th {\n",
       "        text-align: right;\n",
       "    }\n",
       "</style>\n",
       "<table border=\"1\" class=\"dataframe\">\n",
       "  <thead>\n",
       "    <tr style=\"text-align: right;\">\n",
       "      <th></th>\n",
       "      <th>test_loss</th>\n",
       "      <th>test_acc</th>\n",
       "      <th>number_of_parameters</th>\n",
       "      <th>model_size (MB)</th>\n",
       "      <th>time_per_pred_cpu</th>\n",
       "    </tr>\n",
       "  </thead>\n",
       "  <tbody>\n",
       "    <tr>\n",
       "      <th>ViT to EffNetB2 ratios</th>\n",
       "      <td>0.228516</td>\n",
       "      <td>1.016412</td>\n",
       "      <td>11.135432</td>\n",
       "      <td>11.275862</td>\n",
       "      <td>2.02411</td>\n",
       "    </tr>\n",
       "  </tbody>\n",
       "</table>\n",
       "</div>"
      ],
      "text/plain": [
       "                        test_loss  test_acc  number_of_parameters  \\\n",
       "ViT to EffNetB2 ratios   0.228516  1.016412             11.135432   \n",
       "\n",
       "                        model_size (MB)  time_per_pred_cpu  \n",
       "ViT to EffNetB2 ratios        11.275862            2.02411  "
      ]
     },
     "execution_count": 45,
     "metadata": {},
     "output_type": "execute_result"
    }
   ],
>>>>>>> 9b2deb37df264c839beba2041265696d8e24c60a
   "source": [
    "pd.DataFrame(data=(df.set_index(\"model\").loc[\"ViT\"] / df.set_index(\"model\").loc[\"EffnetB2\"]),\n",
    "             columns=[\"ViT to EffNetB2 ratios\"]).T"
   ]
  },
  {
   "cell_type": "code",
<<<<<<< HEAD
   "execution_count": null,
=======
   "execution_count": 46,
>>>>>>> 9b2deb37df264c839beba2041265696d8e24c60a
   "id": "1e6cff91-0787-470f-a93b-b62648972bf4",
   "metadata": {
    "id": "1e6cff91-0787-470f-a93b-b62648972bf4"
   },
   "outputs": [],
   "source": [
    "import os\n",
    "\n",
    "os.makedirs(\"images\", exist_ok=True)"
   ]
  },
  {
   "cell_type": "code",
<<<<<<< HEAD
   "execution_count": null,
=======
   "execution_count": 47,
>>>>>>> 9b2deb37df264c839beba2041265696d8e24c60a
   "id": "ab31b43c-59f6-401b-a13f-3d83fbfe4aa5",
   "metadata": {
    "id": "ab31b43c-59f6-401b-a13f-3d83fbfe4aa5"
   },
<<<<<<< HEAD
   "outputs": [],
=======
   "outputs": [
    {
     "data": {
      "image/png": "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",
      "text/plain": [
       "<Figure size 1200x800 with 1 Axes>"
      ]
     },
     "metadata": {},
     "output_type": "display_data"
    }
   ],
>>>>>>> 9b2deb37df264c839beba2041265696d8e24c60a
   "source": [
    "fig, ax = plt.subplots(figsize=(12, 8))\n",
    "scatter = ax.scatter(data=df,\n",
    "                     x=\"time_per_pred_cpu\",\n",
    "                     y=\"test_acc\",\n",
    "                     c=[\"blue\", \"orange\"],\n",
    "                     s=df[\"model_size (MB)\"])  # Use model sizes as dot sizes\n",
    "ax.set_title(\"FoodVision Mini Inference Speed vs Performance\", fontsize=18)\n",
    "ax.set_xlabel(\"Prediction time per image (seconds)\", fontsize=14)\n",
    "ax.set_ylabel(\"Test accuracy (%)\", fontsize=14)\n",
    "ax.grid(True)\n",
    "\n",
    "for index, row in df.iterrows():\n",
    "    ax.annotate(text=row[\"model\"],\n",
    "                xy=(row[\"time_per_pred_cpu\"]+0.0006, row[\"test_acc\"]+0.03),\n",
    "                fontsize=12)\n",
    "\n",
    "handles, labels = scatter.legend_elements(prop=\"sizes\", alpha=0.5)\n",
    "model_size_legend = ax.legend(handles,\n",
    "                              labels,\n",
    "                              loc=\"lower right\",\n",
    "                              title=\"Model size (MB)\",\n",
    "                              fontsize=12)\n",
    "plt.savefig(\"images/09-foodvision-mini-inference-speed-vs-performance.jpg\")\n",
    "plt.show()\n"
   ]
  },
  {
   "cell_type": "code",
<<<<<<< HEAD
   "execution_count": null,
=======
   "execution_count": 48,
>>>>>>> 9b2deb37df264c839beba2041265696d8e24c60a
   "id": "9acc0f85-2722-4db2-81d0-1fd2385d64c8",
   "metadata": {
    "id": "9acc0f85-2722-4db2-81d0-1fd2385d64c8",
    "scrolled": true
   },
   "outputs": [],
   "source": [
    "try:\n",
    "    import gradio as gr\n",
    "except:\n",
    "    !pip -q install gradio\n",
    "    import gradio as gr\n",
    "print(f\"Gradio version: {gr.__version__}\")"
   ]
  },
  {
   "cell_type": "code",
<<<<<<< HEAD
   "execution_count": null,
=======
   "execution_count": 49,
>>>>>>> 9b2deb37df264c839beba2041265696d8e24c60a
   "id": "c3645f6f-e9cb-4f5f-86fd-5b8ce74fd715",
   "metadata": {
    "id": "c3645f6f-e9cb-4f5f-86fd-5b8ce74fd715"
   },
<<<<<<< HEAD
   "outputs": [],
=======
   "outputs": [
    {
     "data": {
      "text/plain": [
       "device(type='cuda', index=0)"
      ]
     },
     "execution_count": 49,
     "metadata": {},
     "output_type": "execute_result"
    }
   ],
>>>>>>> 9b2deb37df264c839beba2041265696d8e24c60a
   "source": [
    "effnetb2.to(\"cuda\")\n",
    "\n",
    "next(iter(effnetb2.parameters())).device"
   ]
  },
  {
   "cell_type": "code",
<<<<<<< HEAD
   "execution_count": null,
=======
   "execution_count": 50,
>>>>>>> 9b2deb37df264c839beba2041265696d8e24c60a
   "id": "6937edff-50df-4749-98c0-439384e54438",
   "metadata": {
    "id": "6937edff-50df-4749-98c0-439384e54438"
   },
   "outputs": [],
   "source": [
    "from typing import Tuple, Dict\n",
    "\n",
    "def predict(img) -> Tuple[Dict, float]:\n",
    "    \"\"\"Transforms and performs a prediction on img and return prediction and time taken\"\"\"\n",
    "    start_time = timer()\n",
    "    img = effnetb2_transforms(img).unsqueeze(0).to('cuda')\n",
    "\n",
    "    effnetb2.eval()\n",
    "    with torch.inference_mode():\n",
    "        pred_probs = torch.softmax(effnetb2(img), dim=1)\n",
    "\n",
    "    pred_labels_and_probs = {class_names[i]: float(pred_probs[0][i]) for i in range(len(class_names))}\n",
    "    pred_time = round(timer() - start_time, 5)\n",
    "\n",
    "    return pred_labels_and_probs, pred_time"
   ]
  },
  {
   "cell_type": "code",
   "execution_count": 51,
   "id": "d719017e-4159-4911-a271-8f55cbca9bd9",
   "metadata": {
    "id": "d719017e-4159-4911-a271-8f55cbca9bd9"
   },
<<<<<<< HEAD
   "outputs": [],
=======
   "outputs": [
    {
     "name": "stdout",
     "output_type": "stream",
     "text": [
      "[INFO] Predicting on image at path: data/pizza_steak_sushi_20_percent/test/sushi/301603.jpg\n",
      "\n",
      "Prediction label and probability dictionary: \n",
      "{'pizza': 0.04769156128168106, 'steak': 0.079070545732975, 'sushi': 0.8732379078865051}\n",
      "\n",
      "Prediciton time: 0.06444 seconds\n"
     ]
    }
   ],
>>>>>>> 9b2deb37df264c839beba2041265696d8e24c60a
   "source": [
    "import random\n",
    "from PIL import Image\n",
    "\n",
    "test_data_paths = list(Path(test_dir).glob(\"*/*.jpg\"))\n",
    "random_image_path = random.sample(test_data_paths, k=1)[0]\n",
    "\n",
    "image = Image.open(random_image_path)\n",
    "print(f\"[INFO] Predicting on image at path: {random_image_path}\\n\")\n",
    "\n",
    "pred_dict, pred_time = predict(img=image)\n",
    "print(f\"Prediction label and probability dictionary: \\n{pred_dict}\\n\")\n",
    "print(f\"Prediciton time: {pred_time} seconds\")"
   ]
  },
  {
   "cell_type": "code",
<<<<<<< HEAD
   "execution_count": null,
=======
   "execution_count": 52,
>>>>>>> 9b2deb37df264c839beba2041265696d8e24c60a
   "id": "OhiQDIODb7Tq",
   "metadata": {
    "id": "OhiQDIODb7Tq"
   },
<<<<<<< HEAD
   "outputs": [],
=======
   "outputs": [
    {
     "data": {
      "text/plain": [
       "[['data/pizza_steak_sushi_20_percent/test/pizza/930553.jpg',\n",
       "  'data/pizza_steak_sushi_20_percent/test/sushi/389730.jpg',\n",
       "  'data/pizza_steak_sushi_20_percent/test/steak/100274.jpg']]"
      ]
     },
     "execution_count": 52,
     "metadata": {},
     "output_type": "execute_result"
    }
   ],
>>>>>>> 9b2deb37df264c839beba2041265696d8e24c60a
   "source": [
    "example_list = [[str(filepath) for filepath in random.sample(test_data_paths, k=3)]]\n",
    "example_list"
   ]
  },
  {
   "cell_type": "code",
<<<<<<< HEAD
   "execution_count": null,
=======
   "execution_count": 53,
>>>>>>> 9b2deb37df264c839beba2041265696d8e24c60a
   "id": "-HAsZ9DTePwz",
   "metadata": {
    "id": "-HAsZ9DTePwz"
   },
<<<<<<< HEAD
   "outputs": [],
=======
   "outputs": [
    {
     "name": "stdout",
     "output_type": "stream",
     "text": [
      "Running on local URL:  http://127.0.0.1:7860\n",
      "Running on public URL: https://85562760c1416f5809.gradio.live\n",
      "\n",
      "This share link expires in 72 hours. For free permanent hosting and GPU upgrades, run `gradio deploy` from Terminal to deploy to Spaces (https://huggingface.co/spaces)\n"
     ]
    },
    {
     "data": {
      "text/html": [
       "<div><iframe src=\"https://85562760c1416f5809.gradio.live\" width=\"100%\" height=\"500\" allow=\"autoplay; camera; microphone; clipboard-read; clipboard-write;\" frameborder=\"0\" allowfullscreen></iframe></div>"
      ],
      "text/plain": [
       "<IPython.core.display.HTML object>"
      ]
     },
     "metadata": {},
     "output_type": "display_data"
    },
    {
     "data": {
      "text/plain": []
     },
     "execution_count": 53,
     "metadata": {},
     "output_type": "execute_result"
    }
   ],
>>>>>>> 9b2deb37df264c839beba2041265696d8e24c60a
   "source": [
    "import gradio as gr\n",
    "\n",
    "title = \"FoodVision Mini 🍕🥩🍣\"\n",
    "description = \"An EfficientNetB2 feature extractor computer vision model to classify images of food as pizza, steak or sushi.\"\n",
    "article = \"Created at [09. PyTorch Model Deployment](https://www.learnpytorch.io/09_pytorch_model_deployment/).\"\n",
    "\n",
    "demo = gr.Interface(fn=predict,\n",
    "                    inputs=gr.Image(type=\"pil\"),\n",
    "                    outputs=[gr.Label(num_top_classes=3, label=\"Predictions\"),\n",
    "                             gr.Number(label=\"prediction time (s)\")],\n",
    "                    examples=example_list,\n",
    "                    title=title,\n",
    "                    description=description,\n",
    "                    article=article)\n",
    "\n",
    "demo.launch(debug=False,\n",
    "            share=True)"
   ]
  },
  {
   "cell_type": "code",
<<<<<<< HEAD
   "execution_count": null,
=======
   "execution_count": 54,
>>>>>>> 9b2deb37df264c839beba2041265696d8e24c60a
   "id": "68K9L1w-gCfi",
   "metadata": {
    "id": "68K9L1w-gCfi"
   },
   "outputs": [],
   "source": [
    "import shutil\n",
    "from pathlib import Path\n",
    "\n",
    "foodvision_mini_demo_path = Path(\"demos/foodvision_mini/\")\n",
    "\n",
    "if foodvision_mini_demo_path.exists():\n",
    "  shutil.rmtree(foodvision_mini_demo_path)\n",
    "  foodvision_mini_demo_path.mkdir(parent=True,  # Make the parent folders\n",
    "                                  exist_ok=True)  # Create it even if it already exists\n",
    "else:\n",
    "  foodvision_mini_demo_path.mkdir(parents=True,\n",
    "                                  exist_ok=True)\n",
    "\n",
    "!ls demos/foodvision_mini/"
   ]
  },
  {
   "cell_type": "code",
<<<<<<< HEAD
   "execution_count": null,
=======
   "execution_count": 55,
>>>>>>> 9b2deb37df264c839beba2041265696d8e24c60a
   "id": "4T95UcyRjIr8",
   "metadata": {
    "id": "4T95UcyRjIr8"
   },
<<<<<<< HEAD
   "outputs": [],
=======
   "outputs": [
    {
     "name": "stdout",
     "output_type": "stream",
     "text": [
      "[INFO] Copying data/pizza_steak_sushi_20_percent/test/sushi/592799.jpg to demos/foodvision_mini/examples/592799.jpg\n",
      "[INFO] Copying data/pizza_steak_sushi_20_percent/test/steak/3622237.jpg to demos/foodvision_mini/examples/3622237.jpg\n",
      "[INFO] Copying data/pizza_steak_sushi_20_percent/test/pizza/2582289.jpg to demos/foodvision_mini/examples/2582289.jpg\n"
     ]
    }
   ],
>>>>>>> 9b2deb37df264c839beba2041265696d8e24c60a
   "source": [
    "import shutil\n",
    "from pathlib import Path\n",
    "\n",
    "foodvision_mini_examples_path = foodvision_mini_demo_path / \"examples\"\n",
    "foodvision_mini_examples_path.mkdir(parents=True, exist_ok=True)\n",
    "\n",
    "foodvision_mini_examples = [Path('data/pizza_steak_sushi_20_percent/test/sushi/592799.jpg'),\n",
    "                            Path('data/pizza_steak_sushi_20_percent/test/steak/3622237.jpg'),\n",
    "                            Path('data/pizza_steak_sushi_20_percent/test/pizza/2582289.jpg')]\n",
    "\n",
    "# Collect three random test dataset image paths\n",
    "for example in foodvision_mini_examples:\n",
    "  destination = foodvision_mini_examples_path / example.name\n",
    "  print(f\"[INFO] Copying {example} to {destination}\")\n",
    "  shutil.copy2(src=example, dst=destination)"
   ]
  },
  {
   "cell_type": "code",
<<<<<<< HEAD
   "execution_count": null,
=======
   "execution_count": 56,
>>>>>>> 9b2deb37df264c839beba2041265696d8e24c60a
   "id": "1akjsBkgkW7l",
   "metadata": {
    "id": "1akjsBkgkW7l"
   },
<<<<<<< HEAD
   "outputs": [],
=======
   "outputs": [
    {
     "data": {
      "text/plain": [
       "[['examples/2582289.jpg'], ['examples/592799.jpg'], ['examples/3622237.jpg']]"
      ]
     },
     "execution_count": 56,
     "metadata": {},
     "output_type": "execute_result"
    }
   ],
>>>>>>> 9b2deb37df264c839beba2041265696d8e24c60a
   "source": [
    "import os\n",
    "\n",
    "example_list = [[\"examples/\" + example] for example in os.listdir(foodvision_mini_examples_path)]\n",
    "example_list"
   ]
  },
  {
   "cell_type": "code",
<<<<<<< HEAD
   "execution_count": null,
=======
   "execution_count": 57,
>>>>>>> 9b2deb37df264c839beba2041265696d8e24c60a
   "id": "fRShsEB9lV9Y",
   "metadata": {
    "id": "fRShsEB9lV9Y"
   },
<<<<<<< HEAD
   "outputs": [],
=======
   "outputs": [
    {
     "name": "stdout",
     "output_type": "stream",
     "text": [
      "[INFO] Attempting to move models/09_pretrained_effnetb2_feature_extractor_pizza_steak_sushi_20_percent.pth to demos/foodvision_mini/09_pretrained_effnetb2_feature_extractor_pizza_steak_sushi_20_percent.pth\n",
      "[INFO] Model move complete.\n"
     ]
    }
   ],
>>>>>>> 9b2deb37df264c839beba2041265696d8e24c60a
   "source": [
    "\n",
    "import shutil\n",
    "\n",
    "effnetb2_foodvision_mini_model_path = \"models/09_pretrained_effnetb2_feature_extractor_pizza_steak_sushi_20_percent.pth\"\n",
    "\n",
    "effnetb2_foodvision_mini_model_destination = foodvision_mini_demo_path / effnetb2_foodvision_mini_model_path.split(\"/\")[1]\n",
    "\n",
    "try:\n",
    "    print(f\"[INFO] Attempting to move {effnetb2_foodvision_mini_model_path} to {effnetb2_foodvision_mini_model_destination}\")\n",
    "\n",
    "    # Move the model\n",
    "    shutil.move(src=effnetb2_foodvision_mini_model_path,\n",
    "                dst=effnetb2_foodvision_mini_model_destination)\n",
    "\n",
    "    print(f\"[INFO] Model move complete.\")\n",
    "\n",
    "except:\n",
    "  print(f\"[INFO] No model found at {effnetb2_foodvision_mini_model_path}, perhaps its already been moved?\")\n",
    "  print(f\"[INFO] Model exists at {effnetb2_foodvision_mini_model_destination}: {effnetb2_foodvision_mini_model_destination.exists()}\")\n"
   ]
  },
  {
   "cell_type": "code",
<<<<<<< HEAD
   "execution_count": null,
=======
   "execution_count": 58,
>>>>>>> 9b2deb37df264c839beba2041265696d8e24c60a
   "id": "3aDdgO1gnd33",
   "metadata": {
    "id": "3aDdgO1gnd33"
   },
<<<<<<< HEAD
   "outputs": [],
=======
   "outputs": [
    {
     "name": "stdout",
     "output_type": "stream",
     "text": [
      "Writing demos/foodvision_mini/model.py\n"
     ]
    }
   ],
>>>>>>> 9b2deb37df264c839beba2041265696d8e24c60a
   "source": [
    "%%writefile demos/foodvision_mini/model.py\n",
    "import torch\n",
    "import torchvision\n",
    "\n",
    "from torch import nn\n",
    "\n",
    "def create_effnetb2_model(num_classes:int=3,\n",
    "                          seed:int=42):\n",
    "  \"\"\"Creates an EfficientNetB2 feature extractor model and transforms.\n",
    "\n",
    "  Args:\n",
    "    num_classes (int, optional): number of classes in the classifier head.\n",
    "      Defaults to 3.\n",
    "    seed (int, optional): random seed value. Defaults to 42.\n",
    "  \"\"\"\n",
    "  weights = torchvision.models.EfficientNet_B2_Weights.DEFAULT\n",
    "  transforms = weights.transforms()\n",
    "  model = torchvision.models.efficientnet_b2(weights=weights)\n",
    "\n",
    "  for param in model.parameters():\n",
    "    param.requires_grad = False\n",
    "\n",
    "  torch.manual_seed(seed)\n",
    "  model.classifier = nn.Sequential(\n",
    "      nn.Dropout(p=0.2, inplace=True),\n",
    "      nn.Linear(in_features=1408, out_features=num_classes),\n",
    "  )\n",
    "  return model, transforms"
   ]
  },
  {
   "cell_type": "code",
<<<<<<< HEAD
   "execution_count": null,
=======
   "execution_count": 91,
>>>>>>> 9b2deb37df264c839beba2041265696d8e24c60a
   "id": "eIaXplkYp88u",
   "metadata": {
    "id": "eIaXplkYp88u"
   },
<<<<<<< HEAD
   "outputs": [],
=======
   "outputs": [
    {
     "name": "stdout",
     "output_type": "stream",
     "text": [
      "Overwriting demos/foodvision_mini/app.py\n"
     ]
    }
   ],
>>>>>>> 9b2deb37df264c839beba2041265696d8e24c60a
   "source": [
    "%%writefile demos/foodvision_mini/app.py\n",
    "import gradio as gr\n",
    "import os\n",
    "import torch\n",
    "\n",
    "from model import create_effnetb2_model\n",
    "from timeit import default_timer as timer\n",
    "from typing import Tuple, Dict\n",
    "\n",
    "class_names = [\"pizza\", \"steak\", \"sushi\"]\n",
    "\n",
    "effnetb2, effnetb2_transforms = create_effnetb2_model(\n",
    "    num_classes=3\n",
    ")\n",
    "\n",
    "effnetb2.load_state_dict(\n",
    "    torch.load(\n",
    "        f=\"09_pretrained_effnetb2_feature_extractor_pizza_steak_sushi_20_percent.pth\",\n",
    "        map_location=torch.device(\"cpu\")\n",
    "    )\n",
    ")\n",
    "\n",
    "\n",
    "def predict(img) -> Tuple[Dict, float]:\n",
    "  \"\"\"Transforms and performs a prediction on img and returns prediction and time taken.\"\"\"\n",
    "  start_time = timer()\n",
    "  img = effnetb2_transforms(img).unsqueeze(0)\n",
    "\n",
    "  effnetb2.eval()\n",
    "  with torch.inference_mode():\n",
    "    pred_probs = torch.softmax(effnetb2(img), dim=1)\n",
    "\n",
    "  pred_labels_and_probs = {class_names[i]: float(pred_probs[0][i]) for i in range(len(class_names))}\n",
    "  pred_time = round(timer() - start_time, 5)\n",
    "\n",
    "  return pred_labels_and_probs, pred_time\n",
    "\n",
    "\n",
    "title = \"FoodVision Mini 🍕🥩🍣\"\n",
    "description = \"An EfficientNetB2 feature extractor computer vision model to classify images of food as pizza, steak or sushi.\"\n",
    "article = \"Created at [09. PyTorch Model Deployment](https://www.learnpytorch.io/09_pytorch_model_deployment/).\"\n",
    "\n",
<<<<<<< HEAD
    "example_list = [[\"examples\" / example] for example in os.listdir(\"examples\")]\n",
    "\n",
    "demo = gr.Interface(fn=predict,\n",
    "                    inputs=gr.Image(type=\"pil\"),\n",
    "                    outputs=[gr.Label(num_top_classes=3, label=\"Predictions\"),\n",
    "                           gr.Number(label=\"Predicton time(s)\")],\n",
    "                    examples=example_list,\n",
=======
    "example_list = [[\"examples/\" + example] for example in os.listdir(\"examples\")]\n",
    "\n",
    "# Create the Gradio demo\n",
    "demo = gr.Interface(fn=predict, # mapping function from input to output\n",
    "                    inputs=gr.Image(type=\"pil\"), # what are the inputs?\n",
    "                    outputs=[gr.Label(num_top_classes=3, label=\"Predictions\"), # what are the outputs?\n",
    "                             gr.Number(label=\"Prediction time (s)\")], # our fn has two outputs, therefore we have two outputs\n",
    "                    # Create examples list from \"examples/\" directory\n",
    "                    examples=example_list, \n",
>>>>>>> 9b2deb37df264c839beba2041265696d8e24c60a
    "                    title=title,\n",
    "                    description=description,\n",
    "                    article=article)\n",
    "\n",
<<<<<<< HEAD
    "demo.launch()"
=======
    "# Launch the demo!\n",
    "demo.launch()  # Don't need share=True in Hugging Face spaces"
>>>>>>> 9b2deb37df264c839beba2041265696d8e24c60a
   ]
  },
  {
   "cell_type": "code",
<<<<<<< HEAD
   "execution_count": null,
=======
   "execution_count": 92,
>>>>>>> 9b2deb37df264c839beba2041265696d8e24c60a
   "id": "OZTHgtC7uOom",
   "metadata": {
    "id": "OZTHgtC7uOom"
   },
<<<<<<< HEAD
   "outputs": [],
   "source": [
    "%%write demos/foodvision_mini/requirements.txt\n",
=======
   "outputs": [
    {
     "name": "stdout",
     "output_type": "stream",
     "text": [
      "Overwriting demos/foodvision_mini/requirements.txt\n"
     ]
    }
   ],
   "source": [
    "%%writefile demos/foodvision_mini/requirements.txt\n",
>>>>>>> 9b2deb37df264c839beba2041265696d8e24c60a
    "torch>=1.12.0\n",
    "torchvision>=0.13.0\n",
    "gradio>=3.1.4"
   ]
  },
  {
   "cell_type": "code",
<<<<<<< HEAD
   "execution_count": null,
=======
   "execution_count": 93,
>>>>>>> 9b2deb37df264c839beba2041265696d8e24c60a
   "id": "nckcBiDr7Ac_",
   "metadata": {
    "id": "nckcBiDr7Ac_"
   },
<<<<<<< HEAD
   "outputs": [],
=======
   "outputs": [
    {
     "name": "stdout",
     "output_type": "stream",
     "text": [
      "09_pretrained_effnetb2_feature_extractor_pizza_steak_sushi_20_percent.pth\n",
      "app.py\n",
      "examples\n",
      "flagged\n",
      "model.py\n",
      "__pycache__\n",
      "requirements.txt\n"
     ]
    }
   ],
>>>>>>> 9b2deb37df264c839beba2041265696d8e24c60a
   "source": [
    "!ls demos/foodvision_mini"
   ]
  },
  {
   "cell_type": "code",
<<<<<<< HEAD
   "execution_count": null,
=======
   "execution_count": 94,
>>>>>>> 9b2deb37df264c839beba2041265696d8e24c60a
   "id": "XI9bciNB7Udr",
   "metadata": {
    "id": "XI9bciNB7Udr"
   },
<<<<<<< HEAD
=======
   "outputs": [
    {
     "name": "stdout",
     "output_type": "stream",
     "text": [
      "updating: 09_pretrained_effnetb2_feature_extractor_pizza_steak_sushi_20_percent.pth (deflated 8%)\n",
      "updating: app.py (deflated 53%)\n",
      "updating: examples/ (stored 0%)\n",
      "updating: examples/2582289.jpg (deflated 17%)\n",
      "updating: examples/592799.jpg (deflated 1%)\n",
      "updating: examples/3622237.jpg (deflated 0%)\n",
      "updating: model.py (deflated 49%)\n",
      "updating: requirements.txt (deflated 4%)\n",
      "updating: flagged/ (stored 0%)\n",
      "Not running in Google Colab, can't use google.colab.files.download(), please manually download.\n"
     ]
    }
   ],
   "source": [
    "!cd demos/foodvision_mini && zip -r ../foodvision_mini.zip * -x \"*.pyc\" \"*.ipynb\" \"*__pycache__*\" \"*ipynb_checkpoints*\"\n",
    "\n",
    "try:\n",
    "    from google.colab import files\n",
    "    files.download(\"demos/foodvision_mini.zip\")\n",
    "except:\n",
    "    print(\"Not running in Google Colab, can't use google.colab.files.download(), please manually download.\")"
   ]
  },
  {
   "cell_type": "code",
   "execution_count": 156,
   "id": "b6a203e3-b6db-4ba5-bb05-fb9e0c9d62a7",
   "metadata": {
    "scrolled": true
   },
   "outputs": [
    {
     "data": {
      "text/html": [
       "\n",
       "        <iframe\n",
       "            width=\"900\"\n",
       "            height=\"750\"\n",
       "            src=\"https://hf.space/embed/KajetanFrackowiak/foodvision_mini/+\"\n",
       "            frameborder=\"0\"\n",
       "            allowfullscreen\n",
       "            \n",
       "        ></iframe>\n",
       "        "
      ],
      "text/plain": [
       "<IPython.lib.display.IFrame at 0x75f0c491b4d0>"
      ]
     },
     "execution_count": 156,
     "metadata": {},
     "output_type": "execute_result"
    }
   ],
   "source": [
    "from IPython.display import IFrame\n",
    "\n",
    "IFrame(src=\"https://hf.space/embed/KajetanFrackowiak/foodvision_mini/+\", width=900, height=750)"
   ]
  },
  {
   "cell_type": "code",
   "execution_count": 96,
   "id": "09efb5a1-17b7-487c-8b9d-04b35c7298d2",
   "metadata": {},
   "outputs": [],
   "source": [
    "# Create EffNetb2 model capable of fitting to 101 classes for Food101\n",
    "effnetb2_food101, effnetb2_transforms = create_effnetb2_model(num_classes=101)"
   ]
  },
  {
   "cell_type": "code",
   "execution_count": 98,
   "id": "0027969c-a480-463f-a25a-7b75e51fb66b",
   "metadata": {},
   "outputs": [],
   "source": [
    "from torchinfo import summary\n",
    "\n",
    "# summary(effnetb2_food101,\n",
    "#         input_size=(1, 3, 224, 224),\n",
    "#         col_names=[\"input_size\", \"output_size\", \"num_params\", \"trainable\"],\n",
    "#         col_width=20,\n",
    "#         row_settings=[\"var_names\"])"
   ]
  },
  {
   "cell_type": "code",
   "execution_count": 104,
   "id": "a5fe79cb-9b38-4273-8ecd-76dbf19dc062",
   "metadata": {},
   "outputs": [],
   "source": [
    "food101_train_transforms = torchvision.transforms.Compose([\n",
    "    torchvision.transforms.TrivialAugmentWide(),\n",
    "    effnetb2_transforms,\n",
    "])"
   ]
  },
  {
   "cell_type": "code",
   "execution_count": 107,
   "id": "3f6b9d14-8d5b-4060-ae58-2319ab813d3c",
   "metadata": {},
   "outputs": [
    {
     "name": "stdout",
     "output_type": "stream",
     "text": [
      "Training transforms:\n",
      "Compose(\n",
      "    TrivialAugmentWide(num_magnitude_bins=31, interpolation=InterpolationMode.NEAREST, fill=None)\n",
      "    ImageClassification(\n",
      "    crop_size=[288]\n",
      "    resize_size=[288]\n",
      "    mean=[0.485, 0.456, 0.406]\n",
      "    std=[0.229, 0.224, 0.225]\n",
      "    interpolation=InterpolationMode.BICUBIC\n",
      ")\n",
      ")\n",
      "\n",
      "Testing transforms:\n",
      "ImageClassification(\n",
      "    crop_size=[288]\n",
      "    resize_size=[288]\n",
      "    mean=[0.485, 0.456, 0.406]\n",
      "    std=[0.229, 0.224, 0.225]\n",
      "    interpolation=InterpolationMode.BICUBIC\n",
      ")\n"
     ]
    }
   ],
   "source": [
    "print(f\"Training transforms:\\n{food101_train_transforms}\\n\")\n",
    "print(f\"Testing transforms:\\n{effnetb2_transforms}\")"
   ]
  },
  {
   "cell_type": "code",
   "execution_count": 110,
   "id": "a48fb0b4-6eee-4904-b1b0-2e98d03501f4",
   "metadata": {},
   "outputs": [],
   "source": [
    "from torchvision import datasets\n",
    "\n",
    "from pathlib import Path\n",
    "data_dir = Path(\"data\")\n",
    "\n",
    "train_data = datasets.Food101(root=data_dir,\n",
    "                              split=\"train\",\n",
    "                              transform=food101_train_transforms,  # data augmentation on training data\n",
    "                              download=True)\n",
    "\n",
    "test_data = datasets.Food101(root=data_dir,\n",
    "                             split=\"test\",\n",
    "                             transform=effnetb2_transforms,  # normal EffNetB2 transforms on test data\n",
    "                             download=True)"
   ]
  },
  {
   "cell_type": "code",
   "execution_count": 111,
   "id": "8b43df9b-ee01-4592-8e83-7163921f8526",
   "metadata": {},
   "outputs": [
    {
     "data": {
      "text/plain": [
       "['apple_pie',\n",
       " 'baby_back_ribs',\n",
       " 'baklava',\n",
       " 'beef_carpaccio',\n",
       " 'beef_tartare',\n",
       " 'beet_salad',\n",
       " 'beignets',\n",
       " 'bibimbap',\n",
       " 'bread_pudding',\n",
       " 'breakfast_burrito']"
      ]
     },
     "execution_count": 111,
     "metadata": {},
     "output_type": "execute_result"
    }
   ],
   "source": [
    "food101_class_names = train_data.classes\n",
    "food101_class_names[:10]"
   ]
  },
  {
   "cell_type": "code",
   "execution_count": 120,
   "id": "ed6946fc-9757-4de9-ad53-d740c08be919",
   "metadata": {},
   "outputs": [],
   "source": [
    "def split_dataset(dataset:torchvision.datasets, split_size:float=0.2, seed:int=42):\n",
    "\n",
    "    # Create split lengths based on original dataset length\n",
    "    length_1 = int(len(dataset) * split_size) # desired length\n",
    "    length_2 = len(dataset) - length_1 # remaining length\n",
    "        \n",
    "    # Print out info\n",
    "    print(f\"[INFO] Splitting dataset of length {len(dataset)} into splits of size: {length_1} ({int(split_size*100)}%), {length_2} ({int((1-split_size)*100)}%)\")\n",
    "    \n",
    "    # Create splits with given random seed\n",
    "    random_split_1, random_split_2 = torch.utils.data.random_split(dataset, \n",
    "                                                                   lengths=[length_1, length_2],\n",
    "                                                                   generator=torch.manual_seed(seed)) # set the random seed for reproducible splits\n",
    "    return random_split_1, random_split_2"
   ]
  },
  {
   "cell_type": "code",
   "execution_count": 122,
   "id": "8cde9345-bc94-412e-a132-8e9e3c2d8ac3",
   "metadata": {},
   "outputs": [
    {
     "name": "stdout",
     "output_type": "stream",
     "text": [
      "[INFO] Splitting dataset of length 75750 into splits of size: 15150 (20%), 60600 (80%)\n",
      "[INFO] Splitting dataset of length 25250 into splits of size: 5050 (20%), 20200 (80%)\n"
     ]
    },
    {
     "data": {
      "text/plain": [
       "(15150, 5050)"
      ]
     },
     "execution_count": 122,
     "metadata": {},
     "output_type": "execute_result"
    }
   ],
   "source": [
    "train_data_food101_20_percent, _ = split_dataset(dataset=train_data,\n",
    "                                                 split_size=0.2)\n",
    "\n",
    "test_data_food101_20_percent, _ = split_dataset(dataset=test_data,\n",
    "                                                split_size=0.2)\n",
    "\n",
    "len(train_data_food101_20_percent), len(test_data_food101_20_percent)"
   ]
  },
  {
   "cell_type": "code",
   "execution_count": 124,
   "id": "b51db1bd-a3a3-40f3-adc3-0da4c6b347df",
   "metadata": {},
   "outputs": [],
   "source": [
    "import os\n",
    "import torch\n",
    "\n",
    "BATCH_SIZE = 32\n",
    "NUM_WORKERS = 2 if os.cpu_count() <= 4 else 4\n",
    "\n",
    "train_dataloader_food101_20_percent = torch.utils.data.DataLoader(train_data_food101_20_percent,\n",
    "                                                                  batch_size=BATCH_SIZE,\n",
    "                                                                  shuffle=True,\n",
    "                                                                  num_workers=NUM_WORKERS)\n",
    "\n",
    "test_dataloader_food101_20_percent = torch.utils.data.DataLoader(test_data_food101_20_percent,\n",
    "                                                                 batch_size=BATCH_SIZE,\n",
    "                                                                 shuffle=False,\n",
    "                                                                 num_workers=NUM_WORKERS)"
   ]
  },
  {
   "cell_type": "code",
   "execution_count": 125,
   "id": "0c86a03b-8071-45e6-815f-7a3650265c68",
   "metadata": {},
   "outputs": [
    {
     "data": {
      "application/vnd.jupyter.widget-view+json": {
       "model_id": "39550d38487b47c5af3f3976d0a1b095",
       "version_major": 2,
       "version_minor": 0
      },
      "text/plain": [
       "  0%|          | 0/5 [00:00<?, ?it/s]"
      ]
     },
     "metadata": {},
     "output_type": "display_data"
    },
    {
     "name": "stdout",
     "output_type": "stream",
     "text": [
      "Epoch: 1 | train_loss: 3.6328 | train_acc: 0.2878 | test_loss: 2.7667 | test_acc: 0.4893\n",
      "Epoch: 2 | train_loss: 2.8628 | train_acc: 0.4384 | test_loss: 2.4652 | test_acc: 0.5359\n",
      "Epoch: 3 | train_loss: 2.6605 | train_acc: 0.4824 | test_loss: 2.3549 | test_acc: 0.5657\n",
      "Epoch: 4 | train_loss: 2.5503 | train_acc: 0.5096 | test_loss: 2.3029 | test_acc: 0.5749\n",
      "Epoch: 5 | train_loss: 2.4996 | train_acc: 0.5220 | test_loss: 2.2807 | test_acc: 0.5782\n"
     ]
    }
   ],
   "source": [
    "optimizer = torch.optim.Adam(params=effnetb2_food101.parameters(),\n",
    "                             lr=1e-3)\n",
    "criterium = torch.nn.CrossEntropyLoss(label_smoothing=0.1)\n",
    "\n",
    "set_seeds()\n",
    "effnetb2_food101_results = engine.train(model=effnetb2_food101,\n",
    "                                        train_dataloader=train_dataloader_food101_20_percent,\n",
    "                                        test_dataloader=test_dataloader_food101_20_percent,\n",
    "                                        optimizer=optimizer,\n",
    "                                        loss_fn=criterium,\n",
    "                                        epochs=5,\n",
    "                                        device=device)"
   ]
  },
  {
   "cell_type": "code",
   "execution_count": 126,
   "id": "926d1c6f-ce6e-45d8-aecf-73af073dbfb0",
   "metadata": {},
   "outputs": [
    {
     "data": {
      "image/png": "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",
      "text/plain": [
       "<Figure size 1500x700 with 2 Axes>"
      ]
     },
     "metadata": {},
     "output_type": "display_data"
    }
   ],
   "source": [
    "plot_loss_curves(effnetb2_food101_results)"
   ]
  },
  {
   "cell_type": "code",
   "execution_count": 127,
   "id": "0fde2246-93b9-4a0a-a591-909245783dfe",
   "metadata": {},
   "outputs": [
    {
     "name": "stdout",
     "output_type": "stream",
     "text": [
      "[INFO] Saving model to: models/09_pretrained_effnetb2_feature_extractor_food101_20_percent.pth\n"
     ]
    }
   ],
   "source": [
    "effnetb2_food101_model_path = \"09_pretrained_effnetb2_feature_extractor_food101_20_percent.pth\"\n",
    "\n",
    "utils.save_model(model=effnetb2_food101,\n",
    "                 target_dir=\"models\",\n",
    "                 model_name=effnetb2_food101_model_path)"
   ]
  },
  {
   "cell_type": "code",
   "execution_count": 130,
   "id": "9cc5417e-644b-4888-a410-0fceebf13640",
   "metadata": {},
   "outputs": [
    {
     "data": {
      "text/plain": [
       "<All keys matched successfully>"
      ]
     },
     "execution_count": 130,
     "metadata": {},
     "output_type": "execute_result"
    }
   ],
   "source": [
    "# Ceate Food101 compatible EffNetB2 instance\n",
    "loaded_effnetb2_food101, effnetb2_transforms = create_effnetb2_model(num_classes=101)\n",
    "\n",
    "loaded_effnetb2_food101.load_state_dict(torch.load(\"models/09_pretrained_effnetb2_feature_extractor_food101_20_percent.pth\"))"
   ]
  },
  {
   "cell_type": "code",
   "execution_count": 131,
   "id": "03c9a90e-32b8-4ed4-bb84-b394ecfb3ef6",
   "metadata": {},
   "outputs": [
    {
     "name": "stdout",
     "output_type": "stream",
     "text": [
      "Pretrained EffnetB2 feature extractor Food101 model size: 30 MB\n"
     ]
    }
   ],
   "source": [
    "from pathlib import Path\n",
    "\n",
    "pretrained_effnetb2_food101_model_size = Path(\"models\", effnetb2_food101_model_path).stat().st_size // (1024*1024)\n",
    "print(f\"Pretrained EffnetB2 feature extractor Food101 model size: {pretrained_effnetb2_food101_model_size} MB\")"
   ]
  },
  {
   "cell_type": "code",
   "execution_count": 132,
   "id": "cc939a4f-ff33-4b58-8cd4-26a5b968d73a",
   "metadata": {},
   "outputs": [],
   "source": [
    "from pathlib import Path\n",
    "\n",
    "foodvision_big_demo_path = Path(\"demos/foodvision_big/\")\n",
    "foodvision_big_demo_path.mkdir(parents=True, exist_ok=True)\n",
    "(foodvision_big_demo_path / \"examples\").mkdir(parents=True, exist_ok=True)"
   ]
  },
  {
   "cell_type": "code",
   "execution_count": 133,
   "id": "f3baf282-f56f-4be7-b42c-e72877272d10",
   "metadata": {},
   "outputs": [
    {
     "name": "stdout",
     "output_type": "stream",
     "text": [
      "--2024-04-12 14:25:18--  https://raw.githubusercontent.com/mrdbourke/pytorch-deep-learning/main/images/04-pizza-dad.jpeg\n",
      "Resolving raw.githubusercontent.com (raw.githubusercontent.com)... 2606:50c0:8000::154, 2606:50c0:8002::154, 2606:50c0:8003::154, ...\n",
      "Connecting to raw.githubusercontent.com (raw.githubusercontent.com)|2606:50c0:8000::154|:443... connected.\n",
      "HTTP request sent, awaiting response... 200 OK\n",
      "Length: 2874848 (2.7M) [image/jpeg]\n",
      "Saving to: ‘04-pizza-dad.jpeg’\n",
      "\n",
      "04-pizza-dad.jpeg   100%[===================>]   2.74M  42.8KB/s    in 62s     \n",
      "\n",
      "2024-04-12 14:26:20 (45.4 KB/s) - ‘04-pizza-dad.jpeg’ saved [2874848/2874848]\n",
      "\n"
     ]
    }
   ],
   "source": [
    "!wget https://raw.githubusercontent.com/mrdbourke/pytorch-deep-learning/main/images/04-pizza-dad.jpeg \n",
    "!mv 04-pizza-dad.jpeg demos/foodvision_big/examples/04-pizza-dad.jpg\n",
    "\n",
    "!mv models/09_pretrained_effnetb2_feature_extractor_food101_20_percent.pth demos/foodvision_big"
   ]
  },
  {
   "cell_type": "code",
   "execution_count": 134,
   "id": "d7b30b3d-0a95-4f98-89ce-347f33fc6938",
   "metadata": {},
   "outputs": [
    {
     "data": {
      "text/plain": [
       "['apple_pie',\n",
       " 'baby_back_ribs',\n",
       " 'baklava',\n",
       " 'beef_carpaccio',\n",
       " 'beef_tartare',\n",
       " 'beet_salad',\n",
       " 'beignets',\n",
       " 'bibimbap',\n",
       " 'bread_pudding',\n",
       " 'breakfast_burrito']"
      ]
     },
     "execution_count": 134,
     "metadata": {},
     "output_type": "execute_result"
    }
   ],
   "source": [
    "food101_class_names[:10]"
   ]
  },
  {
   "cell_type": "code",
   "execution_count": 136,
   "id": "4454986b-0904-4f0d-bc9d-7a94ee8ebc32",
   "metadata": {},
   "outputs": [
    {
     "name": "stdout",
     "output_type": "stream",
     "text": [
      "[INFO] Saving Food101 class names to demos/foodvision_big/class_names.txt\n"
     ]
    }
   ],
   "source": [
    "foodvision_big_class_names_path = foodvision_big_demo_path / \"class_names.txt\"\n",
    "\n",
    "with open(foodvision_big_class_names_path, \"w\") as f:\n",
    "    print(f\"[INFO] Saving Food101 class names to {foodvision_big_class_names_path}\")\n",
    "    f.write(\"\\n\".join(food101_class_names))"
   ]
  },
  {
   "cell_type": "code",
   "execution_count": 139,
   "id": "2de4f1e1-a7ad-4556-a8eb-d8e0ebb33180",
   "metadata": {},
   "outputs": [
    {
     "data": {
      "text/plain": [
       "['apple_pie', 'baby_back_ribs', 'baklava', 'beef_carpaccio', 'beef_tartare']"
      ]
     },
     "execution_count": 139,
     "metadata": {},
     "output_type": "execute_result"
    }
   ],
   "source": [
    "with open(foodvision_big_class_names_path, \"r\") as f:\n",
    "    food101_class_names_loaded = [food.strip() for food in f.readlines()]\n",
    "\n",
    "food101_class_names_loaded[:5]"
   ]
  },
  {
   "cell_type": "code",
   "execution_count": 152,
   "id": "6098e7f1-b4b3-475c-891b-a37d99e83417",
   "metadata": {},
   "outputs": [
    {
     "name": "stdout",
     "output_type": "stream",
     "text": [
      "Overwriting demos/foodvision_big/model.py\n"
     ]
    }
   ],
   "source": [
    "%%writefile demos/foodvision_big/model.py\n",
    "import torch\n",
    "import torchvision\n",
    "\n",
    "from torch import nn\n",
    "\n",
    "def create_effnetb2_model(num_classes:int=3,\n",
    "                          seed:int=42):\n",
    "    weights = torchvision.models.EfficientNet_B2_Weights.DEFAULT\n",
    "    transforms = weights.transforms()\n",
    "    model = torchvision.models.efficientnet_b2(weights=weights)\n",
    "\n",
    "    for param in model.parameters():\n",
    "        param.requires_grad = False\n",
    "\n",
    "    torch.manual_seed(seed)\n",
    "    model.classifier = nn.Sequential(\n",
    "        nn.Dropout(p=0.3, inplace=True),\n",
    "        nn.Linear(in_features=1408, out_features=num_classes)\n",
    "    )\n",
    "\n",
    "    return model, transforms"
   ]
  },
  {
   "cell_type": "code",
   "execution_count": 157,
   "id": "6cc9dc46-fd30-4e2d-bcef-cde3440734bd",
   "metadata": {},
   "outputs": [
    {
     "name": "stdout",
     "output_type": "stream",
     "text": [
      "Overwriting demos/foodvision_big/app.py\n"
     ]
    }
   ],
   "source": [
    "%%writefile demos/foodvision_big/app.py\n",
    "\n",
    "import gradio as gr\n",
    "import os\n",
    "import torch\n",
    "\n",
    "from model import create_effnetb2_model\n",
    "from timeit import default_timer as timer\n",
    "from typing import Tuple, Dict\n",
    "\n",
    "# Setup class names\n",
    "with open(\"class_names.txt\", \"r\") as f:\n",
    "    class_names = [food_name.strip() for food_name in f.readlines()]\n",
    "\n",
    "effnetb2, effnetb2_transforms = create_effnetb2_model(\n",
    "    num_classes=101\n",
    ")\n",
    "\n",
    "# Load saved weights\n",
    "effnetb2.load_state_dict(\n",
    "    torch.load(\n",
    "        f=\"09_pretrained_effnetb2_feature_extractor_food101_20_percent.pth\",\n",
    "        map_location=torch.device(\"cpu\"),  # load to cpu\n",
    "    )\n",
    ")\n",
    "\n",
    "\n",
    "def predict(img) -> Tuple[Dict, float]:\n",
    "    \"\"\"Transforms and performs a prediction on img and returns prediction and time taken.\"\"\"\n",
    "    start_time = timer()\n",
    "    img = effnetb2_transforms(img).unsqueeze(0)\n",
    "\n",
    "    effnetb2.eval()\n",
    "    with torch.inference_mode():\n",
    "        pred_probs = torch.softmax(effnetb2(img), dim=1)\n",
    "\n",
    "    pred_labels_and_probs = {class_names[i]: float(pred_probs[0][i]) for i in range(len(class_names))}\n",
    "    pred_time = round(timer() - start_time, 5)\n",
    "\n",
    "    return pred_labels_and_probs, pred_time\n",
    "\n",
    "\n",
    "title = \"FoodVision Big 🍔👁\"\n",
    "description = \"An EfficientNetB2 feature extractor computer vision model to classify images of food into [101 different classes](https://github.com/mrdbourke/pytorch-deep-learning/blob/main/extras/food101_class_names.txt).\"\n",
    "article = \"Created at [09. PyTorch Model Deployment](https://www.learnpytorch.io/09_pytorch_model_deployment/).\"\n",
    "\n",
    "example_list = [[\"examples/\" + example] for example in os.listdir(\"examples\")]\n",
    "\n",
    "demo = gr.Interface(\n",
    "    fn=predict,\n",
    "    inputs=gr.Image(type=\"pil\"),\n",
    "    outputs=[\n",
    "        gr.Label(num_top_classes=5, label=\"Predictions\"),\n",
    "        gr.Number(label=\"Prediction time(s)\"),\n",
    "    ],\n",
    "    examples=example_list,\n",
    "    title=title,\n",
    "    description=description,\n",
    "    article=article,\n",
    ")\n",
    "\n",
    "demo.launch() "
   ]
  },
  {
   "cell_type": "code",
   "execution_count": 144,
   "id": "c01f2e7b-5dd7-47c9-ba39-1733bdf991ff",
   "metadata": {},
   "outputs": [
    {
     "name": "stdout",
     "output_type": "stream",
     "text": [
      "Writing demos/foodvision_big/requirements.txt\n"
     ]
    }
   ],
   "source": [
    "%%writefile demos/foodvision_big/requirements.txt\n",
    "torch>=1.12.0\n",
    "torchvision>=0.13.0\n",
    "gradio>=3.1.4"
   ]
  },
  {
   "cell_type": "code",
   "execution_count": 145,
   "id": "20e60159-aaa2-44d3-90a2-ac7515c77ea7",
   "metadata": {},
   "outputs": [
    {
     "name": "stdout",
     "output_type": "stream",
     "text": [
      "  adding: 09_pretrained_effnetb2_feature_extractor_food101_20_percent.pth (deflated 8%)\n",
      "  adding: app.py (deflated 50%)\n",
      "  adding: class_names.txt (deflated 48%)\n",
      "  adding: examples/ (stored 0%)\n",
      "  adding: examples/04-pizza-dad.jpg (deflated 0%)\n",
      "  adding: model.py (deflated 48%)\n",
      "  adding: requirements.txt (deflated 4%)\n",
      "Not running in Google Colab, can't use google.colab.files.download()\n"
     ]
    }
   ],
   "source": [
    "# Zip foodvision_big folder but exclude certain files\n",
    "!cd demos/foodvision_big && zip -r ../foodvision_big.zip * -x \"*.pyc\" \"*.ipynb\" \"*__pycache__*\" \"*ipynb_checkpoints*\"\n",
    "\n",
    "try:\n",
    "    from google.colab import files\n",
    "    files.download(\"demos/foodvision_big.zip\")\n",
    "except:\n",
    "    print(\"Not running in Google Colab, can't use google.colab.files.download()\")"
   ]
  },
  {
   "cell_type": "code",
   "execution_count": 155,
   "id": "0f2457be-cc94-416d-a3d0-85c2ab74a6c5",
   "metadata": {},
   "outputs": [
    {
     "data": {
      "text/html": [
       "\n",
       "        <iframe\n",
       "            width=\"900\"\n",
       "            height=\"750\"\n",
       "            src=\"https://hf.space/embed/KajetanFrackowiak/foodvision_big/+\"\n",
       "            frameborder=\"0\"\n",
       "            allowfullscreen\n",
       "            \n",
       "        ></iframe>\n",
       "        "
      ],
      "text/plain": [
       "<IPython.lib.display.IFrame at 0x75f0c0b7b410>"
      ]
     },
     "execution_count": 155,
     "metadata": {},
     "output_type": "execute_result"
    }
   ],
   "source": [
    "from IPython.display import IFrame\n",
    "\n",
    "IFrame(src=\"https://hf.space/embed/KajetanFrackowiak/foodvision_big/+\", width=900, height=750)"
   ]
  },
  {
   "cell_type": "code",
   "execution_count": null,
   "id": "14c093ca-d2c5-452d-9b7e-87ca16f1080d",
   "metadata": {},
>>>>>>> 9b2deb37df264c839beba2041265696d8e24c60a
   "outputs": [],
   "source": []
  }
 ],
 "metadata": {
  "colab": {
   "provenance": [
    {
     "file_id": "https://github.com/KajetanFrackowiak/pytorch_deep_learning/blob/main/09.pytorch_model_deployment.ipynb",
     "timestamp": 1712865534854
    }
   ]
  },
  "kernelspec": {
   "display_name": "Python 3 (ipykernel)",
   "language": "python",
   "name": "python3"
  },
  "language_info": {
   "codemirror_mode": {
    "name": "ipython",
    "version": 3
   },
   "file_extension": ".py",
   "mimetype": "text/x-python",
   "name": "python",
   "nbconvert_exporter": "python",
   "pygments_lexer": "ipython3",
   "version": "3.11.5"
  },
  "widgets": {
   "application/vnd.jupyter.widget-state+json": {
    "0d57e5693e2340b19dd6835f3a14625f": {
     "model_module": "@jupyter-widgets/controls",
     "model_module_version": "1.5.0",
     "model_name": "DescriptionStyleModel",
     "state": {
      "_model_module": "@jupyter-widgets/controls",
      "_model_module_version": "1.5.0",
      "_model_name": "DescriptionStyleModel",
      "_view_count": null,
      "_view_module": "@jupyter-widgets/base",
      "_view_module_version": "1.2.0",
      "_view_name": "StyleView",
      "description_width": ""
     }
    },
    "2e8e3b8a7ef2449ba6f2d18d257c0ffb": {
     "model_module": "@jupyter-widgets/controls",
     "model_module_version": "1.5.0",
     "model_name": "ProgressStyleModel",
     "state": {
      "_model_module": "@jupyter-widgets/controls",
      "_model_module_version": "1.5.0",
      "_model_name": "ProgressStyleModel",
      "_view_count": null,
      "_view_module": "@jupyter-widgets/base",
      "_view_module_version": "1.2.0",
      "_view_name": "StyleView",
      "bar_color": null,
      "description_width": ""
     }
    },
    "326523d6008940a4876c4fb33fcf5a24": {
     "model_module": "@jupyter-widgets/base",
     "model_module_version": "1.2.0",
     "model_name": "LayoutModel",
     "state": {
      "_model_module": "@jupyter-widgets/base",
      "_model_module_version": "1.2.0",
      "_model_name": "LayoutModel",
      "_view_count": null,
      "_view_module": "@jupyter-widgets/base",
      "_view_module_version": "1.2.0",
      "_view_name": "LayoutView",
      "align_content": null,
      "align_items": null,
      "align_self": null,
      "border": null,
      "bottom": null,
      "display": null,
      "flex": null,
      "flex_flow": null,
      "grid_area": null,
      "grid_auto_columns": null,
      "grid_auto_flow": null,
      "grid_auto_rows": null,
      "grid_column": null,
      "grid_gap": null,
      "grid_row": null,
      "grid_template_areas": null,
      "grid_template_columns": null,
      "grid_template_rows": null,
      "height": null,
      "justify_content": null,
      "justify_items": null,
      "left": null,
      "margin": null,
      "max_height": null,
      "max_width": null,
      "min_height": null,
      "min_width": null,
      "object_fit": null,
      "object_position": null,
      "order": null,
      "overflow": null,
      "overflow_x": null,
      "overflow_y": null,
      "padding": null,
      "right": null,
      "top": null,
      "visibility": null,
      "width": null
     }
    },
    "40fb9a6bf6f94c5fbc2234c3455f7d60": {
     "model_module": "@jupyter-widgets/controls",
     "model_module_version": "1.5.0",
     "model_name": "HTMLModel",
     "state": {
      "_dom_classes": [],
      "_model_module": "@jupyter-widgets/controls",
      "_model_module_version": "1.5.0",
      "_model_name": "HTMLModel",
      "_view_count": null,
      "_view_module": "@jupyter-widgets/controls",
      "_view_module_version": "1.5.0",
      "_view_name": "HTMLView",
      "description": "",
      "description_tooltip": null,
      "layout": "IPY_MODEL_326523d6008940a4876c4fb33fcf5a24",
      "placeholder": "​",
      "style": "IPY_MODEL_0d57e5693e2340b19dd6835f3a14625f",
      "value": " 5/10 [14:07&lt;13:47, 165.59s/it]"
     }
    },
    "50ae02cf5a364174919949e4334033bd": {
     "model_module": "@jupyter-widgets/base",
     "model_module_version": "1.2.0",
     "model_name": "LayoutModel",
     "state": {
      "_model_module": "@jupyter-widgets/base",
      "_model_module_version": "1.2.0",
      "_model_name": "LayoutModel",
      "_view_count": null,
      "_view_module": "@jupyter-widgets/base",
      "_view_module_version": "1.2.0",
      "_view_name": "LayoutView",
      "align_content": null,
      "align_items": null,
      "align_self": null,
      "border": null,
      "bottom": null,
      "display": null,
      "flex": null,
      "flex_flow": null,
      "grid_area": null,
      "grid_auto_columns": null,
      "grid_auto_flow": null,
      "grid_auto_rows": null,
      "grid_column": null,
      "grid_gap": null,
      "grid_row": null,
      "grid_template_areas": null,
      "grid_template_columns": null,
      "grid_template_rows": null,
      "height": null,
      "justify_content": null,
      "justify_items": null,
      "left": null,
      "margin": null,
      "max_height": null,
      "max_width": null,
      "min_height": null,
      "min_width": null,
      "object_fit": null,
      "object_position": null,
      "order": null,
      "overflow": null,
      "overflow_x": null,
      "overflow_y": null,
      "padding": null,
      "right": null,
      "top": null,
      "visibility": null,
      "width": null
     }
    },
    "6d779ab7f66646f9b096b2ee3d69a540": {
     "model_module": "@jupyter-widgets/controls",
     "model_module_version": "1.5.0",
     "model_name": "FloatProgressModel",
     "state": {
      "_dom_classes": [],
      "_model_module": "@jupyter-widgets/controls",
      "_model_module_version": "1.5.0",
      "_model_name": "FloatProgressModel",
      "_view_count": null,
      "_view_module": "@jupyter-widgets/controls",
      "_view_module_version": "1.5.0",
      "_view_name": "ProgressView",
      "bar_style": "",
      "description": "",
      "description_tooltip": null,
      "layout": "IPY_MODEL_50ae02cf5a364174919949e4334033bd",
      "max": 10,
      "min": 0,
      "orientation": "horizontal",
      "style": "IPY_MODEL_2e8e3b8a7ef2449ba6f2d18d257c0ffb",
      "value": 5
     }
    },
    "a77174417993483e884f233ab66e08a6": {
     "model_module": "@jupyter-widgets/controls",
     "model_module_version": "1.5.0",
     "model_name": "DescriptionStyleModel",
     "state": {
      "_model_module": "@jupyter-widgets/controls",
      "_model_module_version": "1.5.0",
      "_model_name": "DescriptionStyleModel",
      "_view_count": null,
      "_view_module": "@jupyter-widgets/base",
      "_view_module_version": "1.2.0",
      "_view_name": "StyleView",
      "description_width": ""
     }
    },
    "b30a67d3802d475b83eec5347bb5d7df": {
     "model_module": "@jupyter-widgets/base",
     "model_module_version": "1.2.0",
     "model_name": "LayoutModel",
     "state": {
      "_model_module": "@jupyter-widgets/base",
      "_model_module_version": "1.2.0",
      "_model_name": "LayoutModel",
      "_view_count": null,
      "_view_module": "@jupyter-widgets/base",
      "_view_module_version": "1.2.0",
      "_view_name": "LayoutView",
      "align_content": null,
      "align_items": null,
      "align_self": null,
      "border": null,
      "bottom": null,
      "display": null,
      "flex": null,
      "flex_flow": null,
      "grid_area": null,
      "grid_auto_columns": null,
      "grid_auto_flow": null,
      "grid_auto_rows": null,
      "grid_column": null,
      "grid_gap": null,
      "grid_row": null,
      "grid_template_areas": null,
      "grid_template_columns": null,
      "grid_template_rows": null,
      "height": null,
      "justify_content": null,
      "justify_items": null,
      "left": null,
      "margin": null,
      "max_height": null,
      "max_width": null,
      "min_height": null,
      "min_width": null,
      "object_fit": null,
      "object_position": null,
      "order": null,
      "overflow": null,
      "overflow_x": null,
      "overflow_y": null,
      "padding": null,
      "right": null,
      "top": null,
      "visibility": null,
      "width": null
     }
    },
    "d0fc3957ebc0450ca3b3ea0a8d5e3441": {
     "model_module": "@jupyter-widgets/controls",
     "model_module_version": "1.5.0",
     "model_name": "HBoxModel",
     "state": {
      "_dom_classes": [],
      "_model_module": "@jupyter-widgets/controls",
      "_model_module_version": "1.5.0",
      "_model_name": "HBoxModel",
      "_view_count": null,
      "_view_module": "@jupyter-widgets/controls",
      "_view_module_version": "1.5.0",
      "_view_name": "HBoxView",
      "box_style": "",
      "children": [
       "IPY_MODEL_fdecda765a884f39a3829b82cca3709e",
       "IPY_MODEL_6d779ab7f66646f9b096b2ee3d69a540",
       "IPY_MODEL_40fb9a6bf6f94c5fbc2234c3455f7d60"
      ],
      "layout": "IPY_MODEL_f478c6f185544f41a40d600b6274a06b"
     }
    },
    "f478c6f185544f41a40d600b6274a06b": {
     "model_module": "@jupyter-widgets/base",
     "model_module_version": "1.2.0",
     "model_name": "LayoutModel",
     "state": {
      "_model_module": "@jupyter-widgets/base",
      "_model_module_version": "1.2.0",
      "_model_name": "LayoutModel",
      "_view_count": null,
      "_view_module": "@jupyter-widgets/base",
      "_view_module_version": "1.2.0",
      "_view_name": "LayoutView",
      "align_content": null,
      "align_items": null,
      "align_self": null,
      "border": null,
      "bottom": null,
      "display": null,
      "flex": null,
      "flex_flow": null,
      "grid_area": null,
      "grid_auto_columns": null,
      "grid_auto_flow": null,
      "grid_auto_rows": null,
      "grid_column": null,
      "grid_gap": null,
      "grid_row": null,
      "grid_template_areas": null,
      "grid_template_columns": null,
      "grid_template_rows": null,
      "height": null,
      "justify_content": null,
      "justify_items": null,
      "left": null,
      "margin": null,
      "max_height": null,
      "max_width": null,
      "min_height": null,
      "min_width": null,
      "object_fit": null,
      "object_position": null,
      "order": null,
      "overflow": null,
      "overflow_x": null,
      "overflow_y": null,
      "padding": null,
      "right": null,
      "top": null,
      "visibility": null,
      "width": null
     }
    },
    "fdecda765a884f39a3829b82cca3709e": {
     "model_module": "@jupyter-widgets/controls",
     "model_module_version": "1.5.0",
     "model_name": "HTMLModel",
     "state": {
      "_dom_classes": [],
      "_model_module": "@jupyter-widgets/controls",
      "_model_module_version": "1.5.0",
      "_model_name": "HTMLModel",
      "_view_count": null,
      "_view_module": "@jupyter-widgets/controls",
      "_view_module_version": "1.5.0",
      "_view_name": "HTMLView",
      "description": "",
      "description_tooltip": null,
      "layout": "IPY_MODEL_b30a67d3802d475b83eec5347bb5d7df",
      "placeholder": "​",
      "style": "IPY_MODEL_a77174417993483e884f233ab66e08a6",
      "value": " 50%"
     }
    }
   }
  }
 },
 "nbformat": 4,
 "nbformat_minor": 5
}
