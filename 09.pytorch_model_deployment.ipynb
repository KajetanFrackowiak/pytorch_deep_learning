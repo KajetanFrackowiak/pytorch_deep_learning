{
 "cells": [
  {
   "cell_type": "code",
<<<<<<< HEAD
   "execution_count": 1,
=======
   "execution_count": 3,
>>>>>>> 20a6b9e978ab3926899c2002e2795181d77b2857
   "id": "19fae3ae",
   "metadata": {},
   "outputs": [
    {
     "name": "stdout",
     "output_type": "stream",
     "text": [
      "1.10.0\n",
      "0.11.1\n"
     ]
    }
   ],
   "source": [
    "import torch\n",
    "import torchvision \n",
    "\n",
    "print(torch.__version__)\n",
    "print(torchvision.__version__)"
   ]
  },
  {
   "cell_type": "code",
<<<<<<< HEAD
   "execution_count": 2,
=======
   "execution_count": 4,
>>>>>>> 20a6b9e978ab3926899c2002e2795181d77b2857
   "id": "193d9ba8",
   "metadata": {},
   "outputs": [],
   "source": [
    "import matplotlib.pyplot as plt\n",
    "from torch import nn\n",
    "from torchvision import transforms\n",
    "\n",
    "try:\n",
    "    from torchinfo import summary\n",
    "except:\n",
    "    print(\"[INFO] Couldn't find torchinfo... installing it.\")\n",
    "    !pip install -q torchinfo\n",
    "    from torchinfo import summary\n",
    "\n",
    "try:\n",
    "    from going_modular import data_setup, engine\n",
    "    from helper_functions import download_data, set_seeds, plot_loss_curves\n",
    "\n",
    "except:\n",
    "    print(\"[INFO] Couldn't fing going_modular or helper_functions\")"
   ]
  },
  {
   "cell_type": "code",
<<<<<<< HEAD
   "execution_count": 3,
=======
   "execution_count": 5,
>>>>>>> 20a6b9e978ab3926899c2002e2795181d77b2857
   "id": "328964cb",
   "metadata": {},
   "outputs": [
    {
     "data": {
      "text/plain": [
       "'cuda'"
      ]
     },
<<<<<<< HEAD
     "execution_count": 3,
=======
     "execution_count": 5,
>>>>>>> 20a6b9e978ab3926899c2002e2795181d77b2857
     "metadata": {},
     "output_type": "execute_result"
    }
   ],
   "source": [
    "device = \"cuda\" if torch.cuda.is_available() else \"cpu\"\n",
    "device"
   ]
  },
  {
   "cell_type": "markdown",
   "id": "e6fea98b",
   "metadata": {},
   "source": [
    "## 1. Getting data"
   ]
  },
  {
   "cell_type": "code",
<<<<<<< HEAD
   "execution_count": 4,
=======
   "execution_count": 6,
>>>>>>> 20a6b9e978ab3926899c2002e2795181d77b2857
   "id": "523f8929",
   "metadata": {},
   "outputs": [
    {
     "name": "stdout",
     "output_type": "stream",
     "text": [
      "[INFO] data\\pizza_steak_sushi_20_percent directory exists, skipping download.\n"
     ]
    },
    {
     "data": {
      "text/plain": [
       "WindowsPath('data/pizza_steak_sushi_20_percent')"
      ]
     },
<<<<<<< HEAD
     "execution_count": 4,
=======
     "execution_count": 6,
>>>>>>> 20a6b9e978ab3926899c2002e2795181d77b2857
     "metadata": {},
     "output_type": "execute_result"
    }
   ],
   "source": [
    "data_20_percent_path = download_data(source=\"https://github.com/mrdbourke/pytorch-deep-learning/raw/main/data/pizza_steak_sushi_20_percent.zip\",\n",
    "                                     destination=\"pizza_steak_sushi_20_percent\")\n",
    "\n",
    "data_20_percent_path"
   ]
  },
  {
   "cell_type": "code",
<<<<<<< HEAD
   "execution_count": 5,
=======
   "execution_count": 7,
>>>>>>> 20a6b9e978ab3926899c2002e2795181d77b2857
   "id": "cbb8449d",
   "metadata": {},
   "outputs": [],
   "source": [
    "train_dir = data_20_percent_path / \"train\"\n",
    "test_dir = data_20_percent_path / \"test\""
   ]
  },
  {
   "cell_type": "markdown",
   "id": "3970fe03",
   "metadata": {},
   "source": [
    "## 2. FoodVision Mini model deployment experiment outline"
   ]
  },
  {
   "cell_type": "markdown",
   "id": "e5a0f094",
   "metadata": {},
   "source": [
    "## 3. Creating an EffNetB2 feature extractor"
   ]
  },
  {
   "cell_type": "code",
<<<<<<< HEAD
   "execution_count": 6,
=======
   "execution_count": 26,
>>>>>>> 20a6b9e978ab3926899c2002e2795181d77b2857
   "id": "6b1ac281",
   "metadata": {},
   "outputs": [],
   "source": [
    "effnetb2 = torchvision.models.efficientnet_b2(pretrained=True).to(device)\n",
    "\n",
    "# 2. Get EffNetB2 transforms\n",
    "effnetb2_transforms = transforms.Compose([\n",
    "    transforms.Resize(224),\n",
    "    transforms.CenterCrop(224),\n",
    "    transforms.ToTensor(),\n",
    "    transforms.Normalize(mean=[0.485, 0.456, 0.406],\n",
    "                        std=[0.229, 0.224, 0.225])\n",
    "])\n",
    "\n",
    "# 3. Freeze the base layers in the model (this will freeze all layers to begin with)\n",
    "for param in effnetb2.parameters():\n",
    "    param.requires_grad = False"
   ]
  },
  {
   "cell_type": "code",
<<<<<<< HEAD
   "execution_count": 7,
=======
   "execution_count": 27,
>>>>>>> 20a6b9e978ab3926899c2002e2795181d77b2857
   "id": "eb261fac",
   "metadata": {},
   "outputs": [
    {
     "data": {
      "text/plain": [
       "Sequential(\n",
       "  (0): Dropout(p=0.3, inplace=True)\n",
       "  (1): Linear(in_features=1408, out_features=1000, bias=True)\n",
       ")"
      ]
     },
<<<<<<< HEAD
     "execution_count": 7,
=======
     "execution_count": 27,
>>>>>>> 20a6b9e978ab3926899c2002e2795181d77b2857
     "metadata": {},
     "output_type": "execute_result"
    }
   ],
   "source": [
    "effnetb2.classifier"
   ]
  },
  {
   "cell_type": "code",
<<<<<<< HEAD
   "execution_count": 8,
=======
   "execution_count": 28,
>>>>>>> 20a6b9e978ab3926899c2002e2795181d77b2857
   "id": "57a72ddc-1d8b-4d7c-954f-cda635b05975",
   "metadata": {},
   "outputs": [],
   "source": [
    "effnetb2.classifier = nn.Sequential(\n",
    "    nn.Dropout(p=0.3, inplace=True), # keep dropout layer same\n",
    "    nn.Linear(in_features=1408, # keep in_features same \n",
    "              out_features=3)) # change out_features to suit our number of classes"
   ]
  },
  {
   "cell_type": "code",
<<<<<<< HEAD
   "execution_count": 9,
=======
   "execution_count": 44,
>>>>>>> 20a6b9e978ab3926899c2002e2795181d77b2857
   "id": "821a95e6-6693-46c5-876a-2a0e9a8ec6b9",
   "metadata": {},
   "outputs": [],
   "source": [
    "def create_effnetb2_model(num_classes:int=3, \n",
    "                          seed:int=42):\n",
    "    \"\"\"Creates an EfficientNetB2 feature extractor model and transforms.\n",
    "\n",
    "    Args:\n",
    "        num_classes (int, optional): number of classes in the classifier head. \n",
    "            Defaults to 3.\n",
    "        seed (int, optional): random seed value. Defaults to 42.\n",
    "\n",
    "    Returns:\n",
    "        model (torch.nn.Module): EffNetB2 feature extractor model. \n",
    "        transforms (torchvision.transforms): EffNetB2 image transforms.\n",
    "    \"\"\"\n",
    "    model = torchvision.models.efficientnet_b2(pretrained=True).to(device)\n",
    "    transform = transforms.Compose([\n",
    "        transforms.Resize(224),\n",
    "        transforms.CenterCrop(224),\n",
    "        transforms.ToTensor()\n",
    "    ])\n",
    "    \n",
    "    # 4. Freeze all layers in base model\n",
    "    for param in model.parameters():\n",
    "        param.requires_grad = False\n",
    "\n",
    "    # 5. Change classifier head with random seed for reproducibility\n",
    "    torch.manual_seed(seed)\n",
    "    model.classifier = nn.Sequential(\n",
    "        nn.Dropout(p=0.3, inplace=True),\n",
    "        nn.Linear(in_features=1408, out_features=num_classes),\n",
    "    )\n",
    "    \n",
    "    return model, transform"
   ]
  },
  {
   "cell_type": "code",
<<<<<<< HEAD
   "execution_count": 10,
=======
   "execution_count": 45,
>>>>>>> 20a6b9e978ab3926899c2002e2795181d77b2857
   "id": "297bc0cc-92b8-4374-befa-71004b1faf5d",
   "metadata": {},
   "outputs": [],
   "source": [
    "effnetb2, effnetb2_transforms = create_effnetb2_model(num_classes=3,\n",
    "                                                      seed=42)"
   ]
  },
  {
   "cell_type": "code",
<<<<<<< HEAD
   "execution_count": 11,
=======
   "execution_count": 46,
>>>>>>> 20a6b9e978ab3926899c2002e2795181d77b2857
   "id": "3f094280-41aa-4498-9d56-9cd2c3017569",
   "metadata": {},
   "outputs": [],
   "source": [
    "from torchinfo import summary\n",
    "\n",
    "# summary(effnetb2,\n",
    "#         input_size=(1, 3, 224, 224),\n",
    "#         col_names=[\"input_size\", \"output_size\", \"num_params\", \"trainable\"],\n",
    "#         col_width=20,\n",
    "#         row_settings=[\"var_names\"])"
   ]
  },
  {
   "cell_type": "code",
<<<<<<< HEAD
   "execution_count": 12,
=======
   "execution_count": 47,
>>>>>>> 20a6b9e978ab3926899c2002e2795181d77b2857
   "id": "81fe2012-c495-4de6-bbe6-56fa9d663db7",
   "metadata": {},
   "outputs": [],
   "source": [
    "from going_modular import data_setup\n",
    "train_dataloader_effnetb2, test_dataloader_effnetb2, class_names = data_setup.create_dataloaders(train_dir=train_dir,\n",
    "                                                                                                 test_dir=test_dir,\n",
    "                                                                                                 transform=effnetb2_transforms,\n",
    "                                                                                                 batch_size=32)"
   ]
  },
  {
   "cell_type": "code",
<<<<<<< HEAD
   "execution_count": 28,
=======
   "execution_count": 48,
>>>>>>> 20a6b9e978ab3926899c2002e2795181d77b2857
   "id": "2ea9942e-3f24-45ee-8b4d-33e54459b412",
   "metadata": {
    "scrolled": true
   },
   "outputs": [
    {
<<<<<<< HEAD
     "data": {
      "application/vnd.jupyter.widget-view+json": {
       "model_id": "99fa32f693234321a047c721c4f552d0",
       "version_major": 2,
       "version_minor": 0
      },
      "text/plain": [
       "  0%|          | 0/10 [00:00<?, ?it/s]"
      ]
     },
     "metadata": {},
     "output_type": "display_data"
    },
    {
     "name": "stdout",
=======
     "name": "stderr",
>>>>>>> 20a6b9e978ab3926899c2002e2795181d77b2857
     "output_type": "stream",
     "text": [
      "  0%|          | 0/10 [00:05<?, ?it/s]\n"
     ]
    },
    {
     "ename": "RuntimeError",
     "evalue": "Caught RuntimeError in DataLoader worker process 12.\nOriginal Traceback (most recent call last):\n  File \"C:\\Users\\kajte\\anaconda3\\envs\\py39_torch\\lib\\site-packages\\torch\\utils\\data\\_utils\\worker.py\", line 287, in _worker_loop\n    data = fetcher.fetch(index)\n  File \"C:\\Users\\kajte\\anaconda3\\envs\\py39_torch\\lib\\site-packages\\torch\\utils\\data\\_utils\\fetch.py\", line 52, in fetch\n    return self.collate_fn(data)\n  File \"C:\\Users\\kajte\\anaconda3\\envs\\py39_torch\\lib\\site-packages\\torch\\utils\\data\\_utils\\collate.py\", line 84, in default_collate\n    return [default_collate(samples) for samples in transposed]\n  File \"C:\\Users\\kajte\\anaconda3\\envs\\py39_torch\\lib\\site-packages\\torch\\utils\\data\\_utils\\collate.py\", line 84, in <listcomp>\n    return [default_collate(samples) for samples in transposed]\n  File \"C:\\Users\\kajte\\anaconda3\\envs\\py39_torch\\lib\\site-packages\\torch\\utils\\data\\_utils\\collate.py\", line 54, in default_collate\n    storage = elem.storage()._new_shared(numel)\n  File \"C:\\Users\\kajte\\anaconda3\\envs\\py39_torch\\lib\\site-packages\\torch\\storage.py\", line 155, in _new_shared\n    return cls._new_using_filename(size)\nRuntimeError: falseINTERNAL ASSERT FAILED at \"..\\\\aten\\\\src\\\\ATen\\\\MapAllocator.cpp\":135, please report a bug to PyTorch. Couldn't open shared file mapping: <0000025E5B783852>, error code: <1455>\n",
     "output_type": "error",
     "traceback": [
      "\u001b[1;31m---------------------------------------------------------------------------\u001b[0m",
      "\u001b[1;31mRuntimeError\u001b[0m                              Traceback (most recent call last)",
      "Cell \u001b[1;32mIn[48], line 10\u001b[0m\n\u001b[0;32m      8\u001b[0m set_seeds()\n\u001b[0;32m      9\u001b[0m effnetb2\u001b[38;5;241m.\u001b[39mto(device)\n\u001b[1;32m---> 10\u001b[0m effnetb2_results \u001b[38;5;241m=\u001b[39m \u001b[43mengine\u001b[49m\u001b[38;5;241;43m.\u001b[39;49m\u001b[43mtrain\u001b[49m\u001b[43m(\u001b[49m\u001b[43mmodel\u001b[49m\u001b[38;5;241;43m=\u001b[39;49m\u001b[43meffnetb2\u001b[49m\u001b[43m,\u001b[49m\n\u001b[0;32m     11\u001b[0m \u001b[43m                                \u001b[49m\u001b[43mtrain_dataloader\u001b[49m\u001b[38;5;241;43m=\u001b[39;49m\u001b[43mtrain_dataloader_effnetb2\u001b[49m\u001b[43m,\u001b[49m\n\u001b[0;32m     12\u001b[0m \u001b[43m                                \u001b[49m\u001b[43mtest_dataloader\u001b[49m\u001b[38;5;241;43m=\u001b[39;49m\u001b[43mtest_dataloader_effnetb2\u001b[49m\u001b[43m,\u001b[49m\n\u001b[0;32m     13\u001b[0m \u001b[43m                                \u001b[49m\u001b[43mepochs\u001b[49m\u001b[38;5;241;43m=\u001b[39;49m\u001b[38;5;241;43m10\u001b[39;49m\u001b[43m,\u001b[49m\n\u001b[0;32m     14\u001b[0m \u001b[43m                                \u001b[49m\u001b[43moptimizer\u001b[49m\u001b[38;5;241;43m=\u001b[39;49m\u001b[43moptimizer\u001b[49m\u001b[43m,\u001b[49m\n\u001b[0;32m     15\u001b[0m \u001b[43m                                \u001b[49m\u001b[43mloss_fn\u001b[49m\u001b[38;5;241;43m=\u001b[39;49m\u001b[43mloss_fn\u001b[49m\u001b[43m,\u001b[49m\n\u001b[0;32m     16\u001b[0m \u001b[43m                                \u001b[49m\u001b[43mdevice\u001b[49m\u001b[38;5;241;43m=\u001b[39;49m\u001b[43mdevice\u001b[49m\u001b[43m)\u001b[49m\n",
      "File \u001b[1;32m~\\Documents\\pytorch_deep_learning\\going_modular\\engine.py:167\u001b[0m, in \u001b[0;36mtrain\u001b[1;34m(model, train_dataloader, test_dataloader, optimizer, loss_fn, epochs, device)\u001b[0m\n\u001b[0;32m    165\u001b[0m \u001b[38;5;66;03m# Loop through training and testing steps for a number of epochs\u001b[39;00m\n\u001b[0;32m    166\u001b[0m \u001b[38;5;28;01mfor\u001b[39;00m epoch \u001b[38;5;129;01min\u001b[39;00m tqdm(\u001b[38;5;28mrange\u001b[39m(epochs)):\n\u001b[1;32m--> 167\u001b[0m     train_loss, train_acc \u001b[38;5;241m=\u001b[39m \u001b[43mtrain_step\u001b[49m\u001b[43m(\u001b[49m\u001b[43mmodel\u001b[49m\u001b[38;5;241;43m=\u001b[39;49m\u001b[43mmodel\u001b[49m\u001b[43m,\u001b[49m\n\u001b[0;32m    168\u001b[0m \u001b[43m                                      \u001b[49m\u001b[43mdataloader\u001b[49m\u001b[38;5;241;43m=\u001b[39;49m\u001b[43mtrain_dataloader\u001b[49m\u001b[43m,\u001b[49m\n\u001b[0;32m    169\u001b[0m \u001b[43m                                      \u001b[49m\u001b[43mloss_fn\u001b[49m\u001b[38;5;241;43m=\u001b[39;49m\u001b[43mloss_fn\u001b[49m\u001b[43m,\u001b[49m\n\u001b[0;32m    170\u001b[0m \u001b[43m                                      \u001b[49m\u001b[43moptimizer\u001b[49m\u001b[38;5;241;43m=\u001b[39;49m\u001b[43moptimizer\u001b[49m\u001b[43m,\u001b[49m\n\u001b[0;32m    171\u001b[0m \u001b[43m                                      \u001b[49m\u001b[43mdevice\u001b[49m\u001b[38;5;241;43m=\u001b[39;49m\u001b[43mdevice\u001b[49m\u001b[43m)\u001b[49m\n\u001b[0;32m    172\u001b[0m     test_loss, test_acc \u001b[38;5;241m=\u001b[39m test_step(model\u001b[38;5;241m=\u001b[39mmodel,\n\u001b[0;32m    173\u001b[0m       dataloader\u001b[38;5;241m=\u001b[39mtest_dataloader,\n\u001b[0;32m    174\u001b[0m       loss_fn\u001b[38;5;241m=\u001b[39mloss_fn,\n\u001b[0;32m    175\u001b[0m       device\u001b[38;5;241m=\u001b[39mdevice)\n\u001b[0;32m    177\u001b[0m     \u001b[38;5;66;03m# Print out what's happening\u001b[39;00m\n",
      "File \u001b[1;32m~\\Documents\\pytorch_deep_learning\\going_modular\\engine.py:41\u001b[0m, in \u001b[0;36mtrain_step\u001b[1;34m(model, dataloader, loss_fn, optimizer, device)\u001b[0m\n\u001b[0;32m     38\u001b[0m train_loss, train_acc \u001b[38;5;241m=\u001b[39m \u001b[38;5;241m0\u001b[39m, \u001b[38;5;241m0\u001b[39m\n\u001b[0;32m     40\u001b[0m \u001b[38;5;66;03m# Loop through data loader data batches\u001b[39;00m\n\u001b[1;32m---> 41\u001b[0m \u001b[38;5;28;01mfor\u001b[39;00m batch, (X, y) \u001b[38;5;129;01min\u001b[39;00m \u001b[38;5;28menumerate\u001b[39m(dataloader):\n\u001b[0;32m     42\u001b[0m     \u001b[38;5;66;03m# Send data to target device\u001b[39;00m\n\u001b[0;32m     43\u001b[0m     X, y \u001b[38;5;241m=\u001b[39m X\u001b[38;5;241m.\u001b[39mto(device), y\u001b[38;5;241m.\u001b[39mto(device)\n\u001b[0;32m     45\u001b[0m     \u001b[38;5;66;03m# 1. Forward pass\u001b[39;00m\n",
      "File \u001b[1;32m~\\anaconda3\\envs\\py39_torch\\lib\\site-packages\\torch\\utils\\data\\dataloader.py:521\u001b[0m, in \u001b[0;36m_BaseDataLoaderIter.__next__\u001b[1;34m(self)\u001b[0m\n\u001b[0;32m    519\u001b[0m \u001b[38;5;28;01mif\u001b[39;00m \u001b[38;5;28mself\u001b[39m\u001b[38;5;241m.\u001b[39m_sampler_iter \u001b[38;5;129;01mis\u001b[39;00m \u001b[38;5;28;01mNone\u001b[39;00m:\n\u001b[0;32m    520\u001b[0m     \u001b[38;5;28mself\u001b[39m\u001b[38;5;241m.\u001b[39m_reset()\n\u001b[1;32m--> 521\u001b[0m data \u001b[38;5;241m=\u001b[39m \u001b[38;5;28;43mself\u001b[39;49m\u001b[38;5;241;43m.\u001b[39;49m\u001b[43m_next_data\u001b[49m\u001b[43m(\u001b[49m\u001b[43m)\u001b[49m\n\u001b[0;32m    522\u001b[0m \u001b[38;5;28mself\u001b[39m\u001b[38;5;241m.\u001b[39m_num_yielded \u001b[38;5;241m+\u001b[39m\u001b[38;5;241m=\u001b[39m \u001b[38;5;241m1\u001b[39m\n\u001b[0;32m    523\u001b[0m \u001b[38;5;28;01mif\u001b[39;00m \u001b[38;5;28mself\u001b[39m\u001b[38;5;241m.\u001b[39m_dataset_kind \u001b[38;5;241m==\u001b[39m _DatasetKind\u001b[38;5;241m.\u001b[39mIterable \u001b[38;5;129;01mand\u001b[39;00m \\\n\u001b[0;32m    524\u001b[0m         \u001b[38;5;28mself\u001b[39m\u001b[38;5;241m.\u001b[39m_IterableDataset_len_called \u001b[38;5;129;01mis\u001b[39;00m \u001b[38;5;129;01mnot\u001b[39;00m \u001b[38;5;28;01mNone\u001b[39;00m \u001b[38;5;129;01mand\u001b[39;00m \\\n\u001b[0;32m    525\u001b[0m         \u001b[38;5;28mself\u001b[39m\u001b[38;5;241m.\u001b[39m_num_yielded \u001b[38;5;241m>\u001b[39m \u001b[38;5;28mself\u001b[39m\u001b[38;5;241m.\u001b[39m_IterableDataset_len_called:\n",
      "File \u001b[1;32m~\\anaconda3\\envs\\py39_torch\\lib\\site-packages\\torch\\utils\\data\\dataloader.py:1203\u001b[0m, in \u001b[0;36m_MultiProcessingDataLoaderIter._next_data\u001b[1;34m(self)\u001b[0m\n\u001b[0;32m   1201\u001b[0m \u001b[38;5;28;01melse\u001b[39;00m:\n\u001b[0;32m   1202\u001b[0m     \u001b[38;5;28;01mdel\u001b[39;00m \u001b[38;5;28mself\u001b[39m\u001b[38;5;241m.\u001b[39m_task_info[idx]\n\u001b[1;32m-> 1203\u001b[0m     \u001b[38;5;28;01mreturn\u001b[39;00m \u001b[38;5;28;43mself\u001b[39;49m\u001b[38;5;241;43m.\u001b[39;49m\u001b[43m_process_data\u001b[49m\u001b[43m(\u001b[49m\u001b[43mdata\u001b[49m\u001b[43m)\u001b[49m\n",
      "File \u001b[1;32m~\\anaconda3\\envs\\py39_torch\\lib\\site-packages\\torch\\utils\\data\\dataloader.py:1229\u001b[0m, in \u001b[0;36m_MultiProcessingDataLoaderIter._process_data\u001b[1;34m(self, data)\u001b[0m\n\u001b[0;32m   1227\u001b[0m \u001b[38;5;28mself\u001b[39m\u001b[38;5;241m.\u001b[39m_try_put_index()\n\u001b[0;32m   1228\u001b[0m \u001b[38;5;28;01mif\u001b[39;00m \u001b[38;5;28misinstance\u001b[39m(data, ExceptionWrapper):\n\u001b[1;32m-> 1229\u001b[0m     \u001b[43mdata\u001b[49m\u001b[38;5;241;43m.\u001b[39;49m\u001b[43mreraise\u001b[49m\u001b[43m(\u001b[49m\u001b[43m)\u001b[49m\n\u001b[0;32m   1230\u001b[0m \u001b[38;5;28;01mreturn\u001b[39;00m data\n",
      "File \u001b[1;32m~\\anaconda3\\envs\\py39_torch\\lib\\site-packages\\torch\\_utils.py:434\u001b[0m, in \u001b[0;36mExceptionWrapper.reraise\u001b[1;34m(self)\u001b[0m\n\u001b[0;32m    430\u001b[0m \u001b[38;5;28;01mexcept\u001b[39;00m \u001b[38;5;167;01mTypeError\u001b[39;00m:\n\u001b[0;32m    431\u001b[0m     \u001b[38;5;66;03m# If the exception takes multiple arguments, don't try to\u001b[39;00m\n\u001b[0;32m    432\u001b[0m     \u001b[38;5;66;03m# instantiate since we don't know how to\u001b[39;00m\n\u001b[0;32m    433\u001b[0m     \u001b[38;5;28;01mraise\u001b[39;00m \u001b[38;5;167;01mRuntimeError\u001b[39;00m(msg) \u001b[38;5;28;01mfrom\u001b[39;00m \u001b[38;5;28;01mNone\u001b[39;00m\n\u001b[1;32m--> 434\u001b[0m \u001b[38;5;28;01mraise\u001b[39;00m exception\n",
      "\u001b[1;31mRuntimeError\u001b[0m: Caught RuntimeError in DataLoader worker process 12.\nOriginal Traceback (most recent call last):\n  File \"C:\\Users\\kajte\\anaconda3\\envs\\py39_torch\\lib\\site-packages\\torch\\utils\\data\\_utils\\worker.py\", line 287, in _worker_loop\n    data = fetcher.fetch(index)\n  File \"C:\\Users\\kajte\\anaconda3\\envs\\py39_torch\\lib\\site-packages\\torch\\utils\\data\\_utils\\fetch.py\", line 52, in fetch\n    return self.collate_fn(data)\n  File \"C:\\Users\\kajte\\anaconda3\\envs\\py39_torch\\lib\\site-packages\\torch\\utils\\data\\_utils\\collate.py\", line 84, in default_collate\n    return [default_collate(samples) for samples in transposed]\n  File \"C:\\Users\\kajte\\anaconda3\\envs\\py39_torch\\lib\\site-packages\\torch\\utils\\data\\_utils\\collate.py\", line 84, in <listcomp>\n    return [default_collate(samples) for samples in transposed]\n  File \"C:\\Users\\kajte\\anaconda3\\envs\\py39_torch\\lib\\site-packages\\torch\\utils\\data\\_utils\\collate.py\", line 54, in default_collate\n    storage = elem.storage()._new_shared(numel)\n  File \"C:\\Users\\kajte\\anaconda3\\envs\\py39_torch\\lib\\site-packages\\torch\\storage.py\", line 155, in _new_shared\n    return cls._new_using_filename(size)\nRuntimeError: falseINTERNAL ASSERT FAILED at \"..\\\\aten\\\\src\\\\ATen\\\\MapAllocator.cpp\":135, please report a bug to PyTorch. Couldn't open shared file mapping: <0000025E5B783852>, error code: <1455>\n"
     ]
    }
   ],
   "source": [
    "from going_modular import engine\n",
    "\n",
    "optimizer = torch.optim.Adam(params=effnetb2.parameters(),\n",
    "                             lr=1e-3)\n",
    "\n",
    "loss_fn = torch.nn.CrossEntropyLoss()\n",
    "\n",
    "set_seeds()\n",
    "effnetb2.to(device)\n",
    "effnetb2_results = engine.train(model=effnetb2,\n",
    "                                train_dataloader=train_dataloader_effnetb2,\n",
    "                                test_dataloader=test_dataloader_effnetb2,\n",
    "                                epochs=10,\n",
    "                                optimizer=optimizer,\n",
    "                                loss_fn=loss_fn,\n",
    "                                device=device)"
   ]
  },
  {
   "cell_type": "code",
<<<<<<< HEAD
   "execution_count": 29,
=======
   "execution_count": 34,
>>>>>>> 20a6b9e978ab3926899c2002e2795181d77b2857
   "id": "41cd931d-6ffd-4bef-b519-ed9ad1b62315",
   "metadata": {},
   "outputs": [
    {
     "data": {
      "image/png": "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",
      "text/plain": [
       "<Figure size 1500x700 with 2 Axes>"
      ]
     },
     "metadata": {},
     "output_type": "display_data"
    }
   ],
   "source": [
    "from helper_functions import plot_loss_curves\n",
    "\n",
    "plot_loss_curves(effnetb2_results)"
   ]
  },
  {
   "cell_type": "code",
<<<<<<< HEAD
   "execution_count": 30,
=======
   "execution_count": 35,
>>>>>>> 20a6b9e978ab3926899c2002e2795181d77b2857
   "id": "5ac1b3e5-dc3a-43aa-afca-4acf3c11b0e1",
   "metadata": {},
   "outputs": [
    {
     "name": "stdout",
     "output_type": "stream",
     "text": [
      "[INFO] Saving model to: models\\09_pretrained_effnetb2_feature_extractor_pizza_steak_sushi_20_percent.pth\n"
     ]
    }
   ],
   "source": [
    "from going_modular import utils\n",
    "\n",
    "utils.save_model(model=effnetb2,\n",
    "                 target_dir=\"models\",\n",
    "                 model_name=\"09_pretrained_effnetb2_feature_extractor_pizza_steak_sushi_20_percent.pth\")"
   ]
  },
  {
   "cell_type": "code",
<<<<<<< HEAD
   "execution_count": 31,
=======
   "execution_count": 24,
>>>>>>> 20a6b9e978ab3926899c2002e2795181d77b2857
   "id": "872dccde-3149-4e74-8b98-fc530f75fbaf",
   "metadata": {},
   "outputs": [
    {
     "name": "stdout",
     "output_type": "stream",
     "text": [
      "Pretrained EffNetb2 feature extractor model size: 29 MB\n"
     ]
    }
   ],
   "source": [
    "from pathlib import Path\n",
    "\n",
    "pretrained_effnetb2_model_size = Path(\"models/09_pretrained_effnetb2_feature_extractor_pizza_steak_sushi_20_percent.pth\").stat().st_size // (1024*1024)\n",
    "effnetb2_loaded_results = torch.load(\"models/09_pretrained_effnetb2_feature_extractor_pizza_steak_sushi_20_percent.pth\")\n",
    "print(f\"Pretrained EffNetb2 feature extractor model size: {pretrained_effnetb2_model_size} MB\")"
   ]
  },
  {
   "cell_type": "code",
<<<<<<< HEAD
   "execution_count": 32,
=======
   "execution_count": 36,
>>>>>>> 20a6b9e978ab3926899c2002e2795181d77b2857
   "id": "054ce973-b244-4dfc-bdc8-e66ff3a7151c",
   "metadata": {},
   "outputs": [
    {
     "data": {
      "text/plain": [
       "7705221"
      ]
     },
<<<<<<< HEAD
     "execution_count": 32,
     "metadata": {},
     "output_type": "execute_result"
    }
   ],
   "source": [
    "effnetb2_total_params = sum(torch.numel(param) for param in effnetb2.parameters())\n",
    "effnetb2_total_params"
   ]
  },
  {
   "cell_type": "code",
   "execution_count": 36,
   "id": "4c91f18a-4fbe-450c-a034-8d63c7ce7c51",
   "metadata": {},
   "outputs": [
    {
     "data": {
      "text/plain": [
       "{'test_loss': 0.28086442947387696,\n",
       " 'test_acc': 0.96875,\n",
       " 'number_of_parameters': 7705221,\n",
       " 'model_size (MB)': 29}"
      ]
     },
=======
>>>>>>> 20a6b9e978ab3926899c2002e2795181d77b2857
     "execution_count": 36,
     "metadata": {},
     "output_type": "execute_result"
    }
   ],
   "source": [
<<<<<<< HEAD
    "effnetb2_stats = {\"test_loss\": effnetb2_results[\"test_loss\"][-1],\n",
    "                  \"test_acc\": effnetb2_results[\"test_acc\"][-1],\n",
    "                  \"number_of_parameters\": effnetb2_total_params,\n",
    "                  \"model_size (MB)\": pretrained_effnetb2_model_size}\n",
    "effnetb2_stats"
=======
    "# Count number of parameters in EffNetb2\n",
    "effnetb2_total_params = sum(torch.numel(param) for param in effnetb2.parameters())\n",
    "effnetb2_total_params"
>>>>>>> 20a6b9e978ab3926899c2002e2795181d77b2857
   ]
  },
  {
   "cell_type": "code",
   "execution_count": 37,
<<<<<<< HEAD
   "id": "de959590-3378-48b7-b12b-03755f9c04cc",
=======
   "id": "f3bb59a0",
>>>>>>> 20a6b9e978ab3926899c2002e2795181d77b2857
   "metadata": {},
   "outputs": [
    {
     "data": {
      "text/plain": [
<<<<<<< HEAD
       "Sequential(\n",
       "  (head): Linear(in_features=768, out_features=1000, bias=True)\n",
       ")"
=======
       "{'test_loss': 1.111557412147522,\n",
       " 'test_acc': 0.30568181818181817,\n",
       " 'number_of_parameters': 7705221,\n",
       " 'model_size (MB)': 29}"
>>>>>>> 20a6b9e978ab3926899c2002e2795181d77b2857
      ]
     },
     "execution_count": 37,
     "metadata": {},
     "output_type": "execute_result"
    }
   ],
   "source": [
<<<<<<< HEAD
    "vit = torchvision.models.vit_b_16()\n",
    "vit.heads"
=======
    "effnetb2_stats = {\"test_loss\": effnetb2_results[\"test_loss\"][-1],\n",
    "                 \"test_acc\": effnetb2_results[\"test_acc\"][-1],\n",
    "                 \"number_of_parameters\": effnetb2_total_params,\n",
    "                 \"model_size (MB)\": pretrained_effnetb2_model_size}\n",
    "effnetb2_stats"
>>>>>>> 20a6b9e978ab3926899c2002e2795181d77b2857
   ]
  },
  {
   "cell_type": "code",
<<<<<<< HEAD
   "execution_count": 38,
   "id": "e54344b4-5155-4132-a61e-351e787b5c4b",
=======
   "execution_count": 49,
   "id": "f3ddb3cb",
>>>>>>> 20a6b9e978ab3926899c2002e2795181d77b2857
   "metadata": {},
   "outputs": [],
   "source": [
    "def create_vit_model(num_classes:int=3,\n",
<<<<<<< HEAD
    "                     seed:int=42):\n",
    "    weights = torchvision.models.ViT_B_16_Weights.DEFAULT\n",
    "    transforms = weights.transforms()\n",
    "    model = torchvision.models.vit_b_16(weights=weights)\n",
    "\n",
    "    for param in model.parameters():\n",
    "        param.requires_grad = False\n",
    "\n",
    "    torch.manual_seed(seed)\n",
    "    model.heads = nn.Sequential(nn.Linear(in_features=768,\n",
    "                                        out_features=num_classes))\n",
=======
    "                    seed:int=42):\n",
    "    weights = torchvision.models.ViT_B_16_Weights.DEFAULT\n",
    "    tranforms = trochvision.transforms()\n",
    "    model = torchvision.models.vit_b_16(weights=weights)\n",
    "    \n",
    "    for param in model.parameters():\n",
    "        param.requires_grad = False\n",
    "        \n",
    "    torch.manual_seed(seed)\n",
    "    model.heads = nn.Sequential(nn.Linear(in_features=768,\n",
    "                                         out_features=num_classes))\n",
>>>>>>> 20a6b9e978ab3926899c2002e2795181d77b2857
    "    \n",
    "    return model, transforms"
   ]
  },
  {
   "cell_type": "code",
<<<<<<< HEAD
   "execution_count": 39,
   "id": "89b3da05-adfa-4dcc-848e-2983b18e18e6",
   "metadata": {},
   "outputs": [],
   "source": [
    "vit, vit_transforms = create_vit_model(num_classes=3,\n",
    "                                       seed=42)"
   ]
  },
  {
   "cell_type": "code",
   "execution_count": 40,
   "id": "df21820a-25e0-4eff-8783-4c1db89a9228",
   "metadata": {},
   "outputs": [],
   "source": [
    "from torchinfo import summary\n",
    "\n",
    "# summary(vit,\n",
    "#         input_size=(1, 3, 224, 224),\n",
    "#         col_names=[\"input_size\", \"output_size\", \"num_params\", \"trainable\"],\n",
    "#         col_width=20,\n",
    "#         row_settings=[\"var_names\"])"
   ]
  },
  {
   "cell_type": "code",
   "execution_count": 41,
   "id": "f287cce0-e808-4ad5-bbd3-45242f045cf4",
   "metadata": {},
   "outputs": [],
   "source": [
    "from going_modular import data_setup\n",
    "train_dataloader_vit, test_dataloader_vit, class_names = data_setup.create_dataloaders(train_dir=train_dir,\n",
    "                                                                                       test_dir=test_dir,\n",
    "                                                                                       transform=vit_transforms,\n",
    "                                                                                       batch_size=32)"
   ]
  },
  {
   "cell_type": "code",
   "execution_count": 43,
   "id": "e19b9966-d4b5-4c42-a22e-74afbf2c059d",
   "metadata": {},
   "outputs": [
    {
     "data": {
      "application/vnd.jupyter.widget-view+json": {
       "model_id": "fb5354af3f4c4cb5a57f3716ab4b178b",
       "version_major": 2,
       "version_minor": 0
      },
      "text/plain": [
       "  0%|          | 0/10 [00:00<?, ?it/s]"
      ]
     },
     "metadata": {},
     "output_type": "display_data"
    },
    {
     "name": "stdout",
     "output_type": "stream",
     "text": [
      "Epoch: 1 | train_loss: 0.7023 | train_acc: 0.7500 | test_loss: 0.2714 | test_acc: 0.9290\n",
      "Epoch: 2 | train_loss: 0.2531 | train_acc: 0.9104 | test_loss: 0.1669 | test_acc: 0.9602\n",
      "Epoch: 3 | train_loss: 0.1766 | train_acc: 0.9542 | test_loss: 0.1270 | test_acc: 0.9693\n",
      "Epoch: 4 | train_loss: 0.1277 | train_acc: 0.9625 | test_loss: 0.1072 | test_acc: 0.9722\n",
      "Epoch: 5 | train_loss: 0.1163 | train_acc: 0.9646 | test_loss: 0.0950 | test_acc: 0.9784\n",
      "Epoch: 6 | train_loss: 0.1270 | train_acc: 0.9375 | test_loss: 0.0830 | test_acc: 0.9722\n",
      "Epoch: 7 | train_loss: 0.0899 | train_acc: 0.9771 | test_loss: 0.0844 | test_acc: 0.9784\n",
      "Epoch: 8 | train_loss: 0.0928 | train_acc: 0.9812 | test_loss: 0.0759 | test_acc: 0.9722\n",
      "Epoch: 9 | train_loss: 0.0933 | train_acc: 0.9792 | test_loss: 0.0729 | test_acc: 0.9784\n",
      "Epoch: 10 | train_loss: 0.0662 | train_acc: 0.9833 | test_loss: 0.0642 | test_acc: 0.9847\n"
     ]
    }
   ],
   "source": [
    "from going_modular import engine\n",
    "\n",
    "optimizer = torch.optim.Adam(params=vit.parameters(),\n",
    "                             lr=1e-3)\n",
    "criterium = torch.nn.CrossEntropyLoss()\n",
    "\n",
    "set_seeds()\n",
    "vit_results = engine.train(model=vit.to(device),\n",
    "                           train_dataloader=train_dataloader_vit,\n",
    "                           test_dataloader=test_dataloader_vit,\n",
    "                           epochs=10,\n",
    "                           optimizer=optimizer,\n",
    "                           loss_fn=criterium,\n",
    "                           device=device)"
   ]
  },
  {
   "cell_type": "code",
   "execution_count": 44,
   "id": "bcfb9e4e-6486-4203-87ab-606915e7824e",
   "metadata": {},
   "outputs": [
    {
     "data": {
      "image/png": "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",
      "text/plain": [
       "<Figure size 1500x700 with 2 Axes>"
      ]
     },
     "metadata": {},
     "output_type": "display_data"
    }
   ],
   "source": [
    "from helper_functions import plot_loss_curves\n",
    "\n",
    "plot_loss_curves(vit_results)"
   ]
  },
  {
   "cell_type": "code",
   "execution_count": 45,
   "id": "0ed0c5df-3949-4363-9007-98b199f1c403",
   "metadata": {},
   "outputs": [
    {
     "name": "stdout",
     "output_type": "stream",
     "text": [
      "[INFO] Saving model to: models/09_pretrained_vit_feature_extractor_pizza_steak_sushi_20_percent.pth\n"
     ]
    }
   ],
   "source": [
    "from going_modular import utils\n",
    "\n",
    "utils.save_model(model=vit,\n",
    "                 target_dir=\"models\",\n",
    "                 model_name=\"09_pretrained_vit_feature_extractor_pizza_steak_sushi_20_percent.pth\")"
   ]
  },
  {
   "cell_type": "code",
   "execution_count": 46,
   "id": "c17f23fa-75b6-44e2-99d3-e1df2f71ccce",
   "metadata": {},
   "outputs": [
    {
     "name": "stdout",
     "output_type": "stream",
     "text": [
      "Pretrained vit model size: 327 MB\n"
     ]
    }
   ],
   "source": [
    "from pathlib import Path\n",
    "\n",
    "pretrained_vit_model_size = Path(\"models/09_pretrained_vit_feature_extractor_pizza_steak_sushi_20_percent.pth\").stat().st_size // (1024*1024)\n",
    "print(f\"Pretrained vit model size: {pretrained_vit_model_size} MB\")"
   ]
  },
  {
   "cell_type": "code",
   "execution_count": 47,
   "id": "52d7483c-d8ff-4cd2-a42c-a92118f620bc",
   "metadata": {},
   "outputs": [
    {
     "data": {
      "text/plain": [
       "85800963"
      ]
     },
     "execution_count": 47,
     "metadata": {},
     "output_type": "execute_result"
    }
   ],
   "source": [
    "vit_total_params = sum(torch.numel(param) for param in vit.parameters())\n",
    "vit_total_params"
   ]
  },
  {
   "cell_type": "code",
   "execution_count": 48,
   "id": "cbd141e5-e5dd-43e7-8f47-01be449200d7",
   "metadata": {},
   "outputs": [
    {
     "data": {
      "text/plain": [
       "{'test_loss': 0.06418212177231908,\n",
       " 'test_acc': 0.984659090909091,\n",
       " 'number_of_parameters': 85800963,\n",
       " 'model_size (MB)': 327}"
      ]
     },
     "execution_count": 48,
     "metadata": {},
     "output_type": "execute_result"
    }
   ],
   "source": [
    "vit_stats = {\"test_loss\": vit_results[\"test_loss\"][-1],\n",
    "            \"test_acc\": vit_results[\"test_acc\"][-1],\n",
    "            \"number_of_parameters\": vit_total_params,\n",
    "            \"model_size (MB)\": pretrained_vit_model_size}\n",
    "vit_stats"
   ]
  },
  {
   "cell_type": "code",
   "execution_count": 49,
   "id": "9b250394-9f73-46f2-873b-5dca054ef562",
   "metadata": {},
   "outputs": [
    {
     "name": "stdout",
     "output_type": "stream",
     "text": [
      "[INFO] Finding all filepaths ending with '.jpg' in directory: data/pizza_steak_sushi_20_percent/test\n"
     ]
    },
    {
     "data": {
      "text/plain": [
       "[PosixPath('data/pizza_steak_sushi_20_percent/test/pizza/833711.jpg'),\n",
       " PosixPath('data/pizza_steak_sushi_20_percent/test/pizza/148765.jpg'),\n",
       " PosixPath('data/pizza_steak_sushi_20_percent/test/pizza/771336.jpg'),\n",
       " PosixPath('data/pizza_steak_sushi_20_percent/test/pizza/2572488.jpg'),\n",
       " PosixPath('data/pizza_steak_sushi_20_percent/test/pizza/416067.jpg')]"
      ]
     },
     "execution_count": 49,
     "metadata": {},
     "output_type": "execute_result"
    }
   ],
   "source": [
    "from pathlib import Path\n",
    "\n",
    "print(f\"[INFO] Finding all filepaths ending with '.jpg' in directory: {test_dir}\")\n",
    "test_data_paths = list(Path(test_dir).glob(\"*/*.jpg\"))\n",
    "test_data_paths[-5:]"
   ]
  },
  {
   "cell_type": "code",
   "execution_count": 50,
   "id": "77789292-4c55-4b96-ad28-94d82eeac34f",
   "metadata": {},
   "outputs": [],
   "source": [
    "import pathlib\n",
    "import torch\n",
    "\n",
    "from PIL import Image\n",
    "from timeit import default_timer as timer\n",
    "from tqdm.auto import tqdm\n",
    "from typing import List, Dict\n",
    "\n",
    "def pred_and_store(paths: List[pathlib.Path],\n",
    "                   model: torch.nn.Module,\n",
    "                   transform: torchvision.transforms,\n",
    "                   class_names: List[str],\n",
    "                   device: str = \"cuda\" if torch.cuda.is_available() else \"cpu\") -> List[Dict]:\n",
    "    pred_list = []\n",
    "\n",
    "    for path in tqdm(paths):\n",
    "        pred_dict = {}\n",
    "\n",
    "        pred_dict[\"image_path\"] = str(path)\n",
    "        class_name = path.parent.stem\n",
    "        pred_dict[\"class_name\"] = class_name\n",
    "\n",
    "        start_time = timer()\n",
    "        img = Image.open(path)\n",
    "        transformed_image = transform(img).unsqueeze(0).to(device)\n",
    "\n",
    "        model.to(device)\n",
    "        model.eval()\n",
    "\n",
    "        with torch.no_grad():\n",
    "            pred_logit = model(transformed_image)  # inference on target sample\n",
    "            pred_prob = torch.softmax(pred_logit, dim=1)\n",
    "            pred_label = torch.argmax(pred_prob, dim=1)\n",
    "            pred_class = class_names[pred_label.cpu()]\n",
    "\n",
    "            pred_dict[\"pred_prob\"] = round(pred_prob.unsqueeze(0).max().cpu().item(), 4)\n",
    "            pred_dict[\"pred_class\"] = pred_class\n",
    "\n",
    "            end_time = timer()\n",
    "            pred_dict[\"time_for_pred\"] = round(end_time-start_time, 4)\n",
    "\n",
    "        pred_dict[\"correct\"] = class_name == pred_class\n",
    "        pred_list.append(pred_dict)\n",
    "\n",
    "    return pred_list"
   ]
  },
  {
   "cell_type": "code",
   "execution_count": 51,
   "id": "021b4a63-f9a5-45d2-8239-c210ddcf8cd2",
   "metadata": {},
   "outputs": [
    {
     "data": {
      "application/vnd.jupyter.widget-view+json": {
       "model_id": "da9d7de8d2bd46d5a733a92600151ac0",
       "version_major": 2,
       "version_minor": 0
      },
      "text/plain": [
       "  0%|          | 0/150 [00:00<?, ?it/s]"
      ]
     },
     "metadata": {},
     "output_type": "display_data"
    }
   ],
   "source": [
    "effnetb2_test_pred_dicts = pred_and_store(paths=test_data_paths,\n",
    "                                          model=effnetb2,\n",
    "                                          transform=effnetb2_transforms,\n",
    "                                          class_names=class_names,\n",
    "                                          device='cpu')"
   ]
  },
  {
   "cell_type": "code",
   "execution_count": 52,
   "id": "593a37db-10de-4fed-80d8-cf0851bb4165",
   "metadata": {
    "scrolled": true
   },
   "outputs": [
    {
     "data": {
      "text/plain": [
       "[{'image_path': 'data/pizza_steak_sushi_20_percent/test/sushi/705150.jpg',\n",
       "  'class_name': 'sushi',\n",
       "  'pred_prob': 0.5944,\n",
       "  'pred_class': 'sushi',\n",
       "  'time_for_pred': 0.2019,\n",
       "  'correct': True},\n",
       " {'image_path': 'data/pizza_steak_sushi_20_percent/test/sushi/2743100.jpg',\n",
       "  'class_name': 'sushi',\n",
       "  'pred_prob': 0.9198,\n",
       "  'pred_class': 'sushi',\n",
       "  'time_for_pred': 0.0976,\n",
       "  'correct': True},\n",
       " {'image_path': 'data/pizza_steak_sushi_20_percent/test/sushi/1994748.jpg',\n",
       "  'class_name': 'sushi',\n",
       "  'pred_prob': 0.5362,\n",
       "  'pred_class': 'sushi',\n",
       "  'time_for_pred': 0.0827,\n",
       "  'correct': True},\n",
       " {'image_path': 'data/pizza_steak_sushi_20_percent/test/sushi/124279.jpg',\n",
       "  'class_name': 'sushi',\n",
       "  'pred_prob': 0.5619,\n",
       "  'pred_class': 'sushi',\n",
       "  'time_for_pred': 0.0996,\n",
       "  'correct': True},\n",
       " {'image_path': 'data/pizza_steak_sushi_20_percent/test/sushi/1346344.jpg',\n",
       "  'class_name': 'sushi',\n",
       "  'pred_prob': 0.9557,\n",
       "  'pred_class': 'sushi',\n",
       "  'time_for_pred': 0.0935,\n",
       "  'correct': True}]"
      ]
     },
     "execution_count": 52,
     "metadata": {},
     "output_type": "execute_result"
    }
   ],
   "source": [
    "effnetb2_test_pred_dicts[:5]"
   ]
  },
  {
   "cell_type": "code",
   "execution_count": 53,
   "id": "73ba7c17-e181-4b5e-8ef7-b2aa618f3fc6",
   "metadata": {},
   "outputs": [
    {
     "data": {
      "text/html": [
       "<div>\n",
       "<style scoped>\n",
       "    .dataframe tbody tr th:only-of-type {\n",
       "        vertical-align: middle;\n",
       "    }\n",
       "\n",
       "    .dataframe tbody tr th {\n",
       "        vertical-align: top;\n",
       "    }\n",
       "\n",
       "    .dataframe thead th {\n",
       "        text-align: right;\n",
       "    }\n",
       "</style>\n",
       "<table border=\"1\" class=\"dataframe\">\n",
       "  <thead>\n",
       "    <tr style=\"text-align: right;\">\n",
       "      <th></th>\n",
       "      <th>image_path</th>\n",
       "      <th>class_name</th>\n",
       "      <th>pred_prob</th>\n",
       "      <th>pred_class</th>\n",
       "      <th>time_for_pred</th>\n",
       "      <th>correct</th>\n",
       "    </tr>\n",
       "  </thead>\n",
       "  <tbody>\n",
       "    <tr>\n",
       "      <th>0</th>\n",
       "      <td>data/pizza_steak_sushi_20_percent/test/sushi/7...</td>\n",
       "      <td>sushi</td>\n",
       "      <td>0.5944</td>\n",
       "      <td>sushi</td>\n",
       "      <td>0.2019</td>\n",
       "      <td>True</td>\n",
       "    </tr>\n",
       "    <tr>\n",
       "      <th>1</th>\n",
       "      <td>data/pizza_steak_sushi_20_percent/test/sushi/2...</td>\n",
       "      <td>sushi</td>\n",
       "      <td>0.9198</td>\n",
       "      <td>sushi</td>\n",
       "      <td>0.0976</td>\n",
       "      <td>True</td>\n",
       "    </tr>\n",
       "    <tr>\n",
       "      <th>2</th>\n",
       "      <td>data/pizza_steak_sushi_20_percent/test/sushi/1...</td>\n",
       "      <td>sushi</td>\n",
       "      <td>0.5362</td>\n",
       "      <td>sushi</td>\n",
       "      <td>0.0827</td>\n",
       "      <td>True</td>\n",
       "    </tr>\n",
       "    <tr>\n",
       "      <th>3</th>\n",
       "      <td>data/pizza_steak_sushi_20_percent/test/sushi/1...</td>\n",
       "      <td>sushi</td>\n",
       "      <td>0.5619</td>\n",
       "      <td>sushi</td>\n",
       "      <td>0.0996</td>\n",
       "      <td>True</td>\n",
       "    </tr>\n",
       "    <tr>\n",
       "      <th>4</th>\n",
       "      <td>data/pizza_steak_sushi_20_percent/test/sushi/1...</td>\n",
       "      <td>sushi</td>\n",
       "      <td>0.9557</td>\n",
       "      <td>sushi</td>\n",
       "      <td>0.0935</td>\n",
       "      <td>True</td>\n",
       "    </tr>\n",
       "  </tbody>\n",
       "</table>\n",
       "</div>"
      ],
      "text/plain": [
       "                                          image_path class_name  pred_prob  \\\n",
       "0  data/pizza_steak_sushi_20_percent/test/sushi/7...      sushi     0.5944   \n",
       "1  data/pizza_steak_sushi_20_percent/test/sushi/2...      sushi     0.9198   \n",
       "2  data/pizza_steak_sushi_20_percent/test/sushi/1...      sushi     0.5362   \n",
       "3  data/pizza_steak_sushi_20_percent/test/sushi/1...      sushi     0.5619   \n",
       "4  data/pizza_steak_sushi_20_percent/test/sushi/1...      sushi     0.9557   \n",
       "\n",
       "  pred_class  time_for_pred  correct  \n",
       "0      sushi         0.2019     True  \n",
       "1      sushi         0.0976     True  \n",
       "2      sushi         0.0827     True  \n",
       "3      sushi         0.0996     True  \n",
       "4      sushi         0.0935     True  "
      ]
     },
     "execution_count": 53,
     "metadata": {},
     "output_type": "execute_result"
    }
   ],
   "source": [
    "import pandas as pd\n",
    "effnetb2_test_pred_df = pd.DataFrame(effnetb2_test_pred_dicts)\n",
    "effnetb2_test_pred_df.head()"
   ]
  },
  {
   "cell_type": "code",
   "execution_count": 54,
   "id": "3b822c54-ddc2-4c79-9624-44ad473226d3",
   "metadata": {},
   "outputs": [
    {
     "data": {
      "text/plain": [
       "correct\n",
       "True     145\n",
       "False      5\n",
       "Name: count, dtype: int64"
      ]
     },
     "execution_count": 54,
     "metadata": {},
     "output_type": "execute_result"
    }
   ],
   "source": [
    "effnetb2_test_pred_df.correct.value_counts()"
   ]
  },
  {
   "cell_type": "code",
   "execution_count": 55,
   "id": "71187fe2-5093-4524-9b45-0b16f23af402",
   "metadata": {},
   "outputs": [
    {
     "name": "stdout",
     "output_type": "stream",
     "text": [
      "EffnetB2 average time per prediction: 0.0893 seconds\n"
=======
   "execution_count": 50,
   "id": "3a9a9e85",
   "metadata": {},
   "outputs": [
    {
     "ename": "AttributeError",
     "evalue": "module 'torchvision.models' has no attribute 'ViT_B_16_Weights'",
     "output_type": "error",
     "traceback": [
      "\u001b[1;31m---------------------------------------------------------------------------\u001b[0m",
      "\u001b[1;31mAttributeError\u001b[0m                            Traceback (most recent call last)",
      "Cell \u001b[1;32mIn[50], line 1\u001b[0m\n\u001b[1;32m----> 1\u001b[0m vit, vit_tranforms \u001b[38;5;241m=\u001b[39m \u001b[43mcreate_vit_model\u001b[49m\u001b[43m(\u001b[49m\u001b[43mnum_classes\u001b[49m\u001b[38;5;241;43m=\u001b[39;49m\u001b[38;5;241;43m3\u001b[39;49m\u001b[43m,\u001b[49m\n\u001b[0;32m      2\u001b[0m \u001b[43m                                     \u001b[49m\u001b[43mseed\u001b[49m\u001b[38;5;241;43m=\u001b[39;49m\u001b[38;5;241;43m42\u001b[39;49m\u001b[43m)\u001b[49m\n",
      "Cell \u001b[1;32mIn[49], line 3\u001b[0m, in \u001b[0;36mcreate_vit_model\u001b[1;34m(num_classes, seed)\u001b[0m\n\u001b[0;32m      1\u001b[0m \u001b[38;5;28;01mdef\u001b[39;00m \u001b[38;5;21mcreate_vit_model\u001b[39m(num_classes:\u001b[38;5;28mint\u001b[39m\u001b[38;5;241m=\u001b[39m\u001b[38;5;241m3\u001b[39m,\n\u001b[0;32m      2\u001b[0m                     seed:\u001b[38;5;28mint\u001b[39m\u001b[38;5;241m=\u001b[39m\u001b[38;5;241m42\u001b[39m):\n\u001b[1;32m----> 3\u001b[0m     weights \u001b[38;5;241m=\u001b[39m \u001b[43mtorchvision\u001b[49m\u001b[38;5;241;43m.\u001b[39;49m\u001b[43mmodels\u001b[49m\u001b[38;5;241;43m.\u001b[39;49m\u001b[43mViT_B_16_Weights\u001b[49m\u001b[38;5;241m.\u001b[39mDEFAULT\n\u001b[0;32m      4\u001b[0m     tranforms \u001b[38;5;241m=\u001b[39m trochvision\u001b[38;5;241m.\u001b[39mtransforms()\n\u001b[0;32m      5\u001b[0m     model \u001b[38;5;241m=\u001b[39m torchvision\u001b[38;5;241m.\u001b[39mmodels\u001b[38;5;241m.\u001b[39mvit_b_16(weights\u001b[38;5;241m=\u001b[39mweights)\n",
      "\u001b[1;31mAttributeError\u001b[0m: module 'torchvision.models' has no attribute 'ViT_B_16_Weights'"
>>>>>>> 20a6b9e978ab3926899c2002e2795181d77b2857
     ]
    }
   ],
   "source": [
<<<<<<< HEAD
    "effnetb2_average_time_per_pred = round(effnetb2_test_pred_df.time_for_pred.mean(), 4)\n",
    "print(f\"EffnetB2 average time per prediction: {effnetb2_average_time_per_pred} seconds\")"
   ]
  },
  {
   "cell_type": "code",
   "execution_count": 56,
   "id": "9bc9a83c-3b96-4500-9332-24edf1da3721",
   "metadata": {},
   "outputs": [
    {
     "data": {
      "text/plain": [
       "{'test_loss': 0.28086442947387696,\n",
       " 'test_acc': 0.96875,\n",
       " 'number_of_parameters': 7705221,\n",
       " 'model_size (MB)': 29,\n",
       " 'time_per_pred_cpu': 0.0893}"
      ]
     },
     "execution_count": 56,
     "metadata": {},
     "output_type": "execute_result"
    }
   ],
   "source": [
    "effnetb2_stats[\"time_per_pred_cpu\"] = effnetb2_average_time_per_pred\n",
    "effnetb2_stats"
   ]
  },
  {
   "cell_type": "code",
   "execution_count": 57,
   "id": "e60c7a62-57fe-44f5-bd73-327aca424623",
   "metadata": {},
   "outputs": [
    {
     "data": {
      "application/vnd.jupyter.widget-view+json": {
       "model_id": "f4c2169ac65b47a99ef51a5b237b3874",
       "version_major": 2,
       "version_minor": 0
      },
      "text/plain": [
       "  0%|          | 0/150 [00:00<?, ?it/s]"
      ]
     },
     "metadata": {},
     "output_type": "display_data"
    }
   ],
   "source": [
    "vit_test_pred_dicts = pred_and_store(paths=test_data_paths,\n",
    "                                     model=vit,\n",
    "                                     transform=vit_transforms,\n",
    "                                     class_names=class_names,\n",
    "                                     device=\"cpu\")"
   ]
  },
  {
   "cell_type": "code",
   "execution_count": 58,
   "id": "81c05b7a-bdbf-4de0-95b5-b4dae7320163",
   "metadata": {},
   "outputs": [
    {
     "data": {
      "text/plain": [
       "[{'image_path': 'data/pizza_steak_sushi_20_percent/test/sushi/705150.jpg',\n",
       "  'class_name': 'sushi',\n",
       "  'pred_prob': 0.9447,\n",
       "  'pred_class': 'sushi',\n",
       "  'time_for_pred': 0.3988,\n",
       "  'correct': True},\n",
       " {'image_path': 'data/pizza_steak_sushi_20_percent/test/sushi/2743100.jpg',\n",
       "  'class_name': 'sushi',\n",
       "  'pred_prob': 0.9962,\n",
       "  'pred_class': 'sushi',\n",
       "  'time_for_pred': 0.171,\n",
       "  'correct': True}]"
      ]
     },
     "execution_count": 58,
     "metadata": {},
     "output_type": "execute_result"
    }
   ],
   "source": [
    "vit_test_pred_dicts[:2]"
   ]
  },
  {
   "cell_type": "code",
   "execution_count": 59,
   "id": "d39909ba-9195-4fdf-82b6-fc21847e2e52",
   "metadata": {},
   "outputs": [
    {
     "data": {
      "text/html": [
       "<div>\n",
       "<style scoped>\n",
       "    .dataframe tbody tr th:only-of-type {\n",
       "        vertical-align: middle;\n",
       "    }\n",
       "\n",
       "    .dataframe tbody tr th {\n",
       "        vertical-align: top;\n",
       "    }\n",
       "\n",
       "    .dataframe thead th {\n",
       "        text-align: right;\n",
       "    }\n",
       "</style>\n",
       "<table border=\"1\" class=\"dataframe\">\n",
       "  <thead>\n",
       "    <tr style=\"text-align: right;\">\n",
       "      <th></th>\n",
       "      <th>image_path</th>\n",
       "      <th>class_name</th>\n",
       "      <th>pred_prob</th>\n",
       "      <th>pred_class</th>\n",
       "      <th>time_for_pred</th>\n",
       "      <th>correct</th>\n",
       "    </tr>\n",
       "  </thead>\n",
       "  <tbody>\n",
       "    <tr>\n",
       "      <th>0</th>\n",
       "      <td>data/pizza_steak_sushi_20_percent/test/sushi/7...</td>\n",
       "      <td>sushi</td>\n",
       "      <td>0.9447</td>\n",
       "      <td>sushi</td>\n",
       "      <td>0.3988</td>\n",
       "      <td>True</td>\n",
       "    </tr>\n",
       "    <tr>\n",
       "      <th>1</th>\n",
       "      <td>data/pizza_steak_sushi_20_percent/test/sushi/2...</td>\n",
       "      <td>sushi</td>\n",
       "      <td>0.9962</td>\n",
       "      <td>sushi</td>\n",
       "      <td>0.1710</td>\n",
       "      <td>True</td>\n",
       "    </tr>\n",
       "    <tr>\n",
       "      <th>2</th>\n",
       "      <td>data/pizza_steak_sushi_20_percent/test/sushi/1...</td>\n",
       "      <td>sushi</td>\n",
       "      <td>0.9630</td>\n",
       "      <td>sushi</td>\n",
       "      <td>0.2314</td>\n",
       "      <td>True</td>\n",
       "    </tr>\n",
       "    <tr>\n",
       "      <th>3</th>\n",
       "      <td>data/pizza_steak_sushi_20_percent/test/sushi/1...</td>\n",
       "      <td>sushi</td>\n",
       "      <td>0.8947</td>\n",
       "      <td>sushi</td>\n",
       "      <td>0.2673</td>\n",
       "      <td>True</td>\n",
       "    </tr>\n",
       "    <tr>\n",
       "      <th>4</th>\n",
       "      <td>data/pizza_steak_sushi_20_percent/test/sushi/1...</td>\n",
       "      <td>sushi</td>\n",
       "      <td>0.9957</td>\n",
       "      <td>sushi</td>\n",
       "      <td>0.2667</td>\n",
       "      <td>True</td>\n",
       "    </tr>\n",
       "  </tbody>\n",
       "</table>\n",
       "</div>"
      ],
      "text/plain": [
       "                                          image_path class_name  pred_prob  \\\n",
       "0  data/pizza_steak_sushi_20_percent/test/sushi/7...      sushi     0.9447   \n",
       "1  data/pizza_steak_sushi_20_percent/test/sushi/2...      sushi     0.9962   \n",
       "2  data/pizza_steak_sushi_20_percent/test/sushi/1...      sushi     0.9630   \n",
       "3  data/pizza_steak_sushi_20_percent/test/sushi/1...      sushi     0.8947   \n",
       "4  data/pizza_steak_sushi_20_percent/test/sushi/1...      sushi     0.9957   \n",
       "\n",
       "  pred_class  time_for_pred  correct  \n",
       "0      sushi         0.3988     True  \n",
       "1      sushi         0.1710     True  \n",
       "2      sushi         0.2314     True  \n",
       "3      sushi         0.2673     True  \n",
       "4      sushi         0.2667     True  "
      ]
     },
     "execution_count": 59,
     "metadata": {},
     "output_type": "execute_result"
    }
   ],
   "source": [
    "import pandas as pd\n",
    "vit_test_pred_df = pd.DataFrame(vit_test_pred_dicts)\n",
    "vit_test_pred_df.head()"
   ]
  },
  {
   "cell_type": "code",
   "execution_count": 60,
   "id": "d856eee2-afa7-4b75-a71f-1b2d2229159f",
   "metadata": {},
   "outputs": [
    {
     "data": {
      "text/plain": [
       "correct\n",
       "True     148\n",
       "False      2\n",
       "Name: count, dtype: int64"
      ]
     },
     "execution_count": 60,
     "metadata": {},
     "output_type": "execute_result"
    }
   ],
   "source": [
    "vit_test_pred_df.correct.value_counts()"
   ]
  },
  {
   "cell_type": "code",
   "execution_count": 61,
   "id": "703750c4-38cc-4b9d-888d-a13f238ebddc",
   "metadata": {},
   "outputs": [
    {
     "name": "stdout",
     "output_type": "stream",
     "text": [
      "Average time per pred ViT: 0.2043 seconds\n"
     ]
    }
   ],
   "source": [
    "vit_average_time_per_pred = round(vit_test_pred_df.time_for_pred.mean(), 4)\n",
    "print(f\"Average time per pred ViT: {vit_average_time_per_pred} seconds\")"
   ]
  },
  {
   "cell_type": "code",
   "execution_count": 62,
   "id": "0e8e6450-6387-4350-a451-a906f4c11f78",
   "metadata": {},
   "outputs": [
    {
     "data": {
      "text/plain": [
       "{'test_loss': 0.06418212177231908,\n",
       " 'test_acc': 0.984659090909091,\n",
       " 'number_of_parameters': 85800963,\n",
       " 'model_size (MB)': 327,\n",
       " 'time_per_pred_cpu': 0.2043}"
      ]
     },
     "execution_count": 62,
     "metadata": {},
     "output_type": "execute_result"
    }
   ],
   "source": [
    "vit_stats[\"time_per_pred_cpu\"] = vit_average_time_per_pred\n",
    "vit_stats"
   ]
  },
  {
   "cell_type": "code",
   "execution_count": 63,
   "id": "76aa1650-08ca-4c6a-88d1-6b093a8bd0db",
   "metadata": {},
   "outputs": [
    {
     "data": {
      "text/html": [
       "<div>\n",
       "<style scoped>\n",
       "    .dataframe tbody tr th:only-of-type {\n",
       "        vertical-align: middle;\n",
       "    }\n",
       "\n",
       "    .dataframe tbody tr th {\n",
       "        vertical-align: top;\n",
       "    }\n",
       "\n",
       "    .dataframe thead th {\n",
       "        text-align: right;\n",
       "    }\n",
       "</style>\n",
       "<table border=\"1\" class=\"dataframe\">\n",
       "  <thead>\n",
       "    <tr style=\"text-align: right;\">\n",
       "      <th></th>\n",
       "      <th>test_loss</th>\n",
       "      <th>test_acc</th>\n",
       "      <th>number_of_parameters</th>\n",
       "      <th>model_size (MB)</th>\n",
       "      <th>time_per_pred_cpu</th>\n",
       "      <th>model</th>\n",
       "    </tr>\n",
       "  </thead>\n",
       "  <tbody>\n",
       "    <tr>\n",
       "      <th>0</th>\n",
       "      <td>0.280864</td>\n",
       "      <td>96.88</td>\n",
       "      <td>7705221</td>\n",
       "      <td>29</td>\n",
       "      <td>0.0893</td>\n",
       "      <td>EffnetB2</td>\n",
       "    </tr>\n",
       "    <tr>\n",
       "      <th>1</th>\n",
       "      <td>0.064182</td>\n",
       "      <td>98.47</td>\n",
       "      <td>85800963</td>\n",
       "      <td>327</td>\n",
       "      <td>0.2043</td>\n",
       "      <td>ViT</td>\n",
       "    </tr>\n",
       "  </tbody>\n",
       "</table>\n",
       "</div>"
      ],
      "text/plain": [
       "   test_loss  test_acc  number_of_parameters  model_size (MB)  \\\n",
       "0   0.280864     96.88               7705221               29   \n",
       "1   0.064182     98.47              85800963              327   \n",
       "\n",
       "   time_per_pred_cpu     model  \n",
       "0             0.0893  EffnetB2  \n",
       "1             0.2043       ViT  "
      ]
     },
     "execution_count": 63,
     "metadata": {},
     "output_type": "execute_result"
    }
   ],
   "source": [
    "df = pd.DataFrame([effnetb2_stats, vit_stats])\n",
    "df[\"model\"] = [\"EffnetB2\", \"ViT\"]\n",
    "df[\"test_acc\"] = round(df[\"test_acc\"] * 100, 2)\n",
    "df"
   ]
  },
  {
   "cell_type": "code",
   "execution_count": 64,
   "id": "6a168399-564e-4cf1-998a-8b4a208dcaf6",
   "metadata": {},
   "outputs": [
    {
     "data": {
      "text/html": [
       "<div>\n",
       "<style scoped>\n",
       "    .dataframe tbody tr th:only-of-type {\n",
       "        vertical-align: middle;\n",
       "    }\n",
       "\n",
       "    .dataframe tbody tr th {\n",
       "        vertical-align: top;\n",
       "    }\n",
       "\n",
       "    .dataframe thead th {\n",
       "        text-align: right;\n",
       "    }\n",
       "</style>\n",
       "<table border=\"1\" class=\"dataframe\">\n",
       "  <thead>\n",
       "    <tr style=\"text-align: right;\">\n",
       "      <th></th>\n",
       "      <th>test_loss</th>\n",
       "      <th>test_acc</th>\n",
       "      <th>number_of_parameters</th>\n",
       "      <th>model_size (MB)</th>\n",
       "      <th>time_per_pred_cpu</th>\n",
       "    </tr>\n",
       "  </thead>\n",
       "  <tbody>\n",
       "    <tr>\n",
       "      <th>ViT to EffNetB2 ratios</th>\n",
       "      <td>0.228516</td>\n",
       "      <td>1.016412</td>\n",
       "      <td>11.135432</td>\n",
       "      <td>11.275862</td>\n",
       "      <td>2.287794</td>\n",
       "    </tr>\n",
       "  </tbody>\n",
       "</table>\n",
       "</div>"
      ],
      "text/plain": [
       "                        test_loss  test_acc  number_of_parameters  \\\n",
       "ViT to EffNetB2 ratios   0.228516  1.016412             11.135432   \n",
       "\n",
       "                        model_size (MB)  time_per_pred_cpu  \n",
       "ViT to EffNetB2 ratios        11.275862           2.287794  "
      ]
     },
     "execution_count": 64,
     "metadata": {},
     "output_type": "execute_result"
    }
   ],
   "source": [
    "pd.DataFrame(data=(df.set_index(\"model\").loc[\"ViT\"] / df.set_index(\"model\").loc[\"EffnetB2\"]),\n",
    "             columns=[\"ViT to EffNetB2 ratios\"]).T"
   ]
  },
  {
   "cell_type": "code",
   "execution_count": 65,
   "id": "1e6cff91-0787-470f-a93b-b62648972bf4",
   "metadata": {},
   "outputs": [],
   "source": [
    "import os\n",
    "\n",
    "os.makedirs(\"images\", exist_ok=True)"
   ]
  },
  {
   "cell_type": "code",
   "execution_count": 66,
   "id": "ab31b43c-59f6-401b-a13f-3d83fbfe4aa5",
   "metadata": {},
   "outputs": [
    {
     "data": {
      "image/png": "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",
      "text/plain": [
       "<Figure size 1200x800 with 1 Axes>"
      ]
     },
     "metadata": {},
     "output_type": "display_data"
    }
   ],
   "source": [
    "fig, ax = plt.subplots(figsize=(12, 8))\n",
    "scatter = ax.scatter(data=df,\n",
    "                     x=\"time_per_pred_cpu\",\n",
    "                     y=\"test_acc\",\n",
    "                     c=[\"blue\", \"orange\"], \n",
    "                     s=df[\"model_size (MB)\"])  # Use model sizes as dot sizes\n",
    "ax.set_title(\"FoodVision Mini Inference Speed vs Performance\", fontsize=18)\n",
    "ax.set_xlabel(\"Prediction time per image (seconds)\", fontsize=14)\n",
    "ax.set_ylabel(\"Test accuracy (%)\", fontsize=14)\n",
    "ax.grid(True)\n",
    "\n",
    "for index, row in df.iterrows():\n",
    "    ax.annotate(text=row[\"model\"],\n",
    "                xy=(row[\"time_per_pred_cpu\"]+0.0006, row[\"test_acc\"]+0.03),  \n",
    "                fontsize=12)  \n",
    "\n",
    "handles, labels = scatter.legend_elements(prop=\"sizes\", alpha=0.5)\n",
    "model_size_legend = ax.legend(handles,\n",
    "                              labels,\n",
    "                              loc=\"lower right\",\n",
    "                              title=\"Model size (MB)\",\n",
    "                              fontsize=12)\n",
    "plt.savefig(\"images/09-foodvision-mini-inference-speed-vs-performance.jpg\")\n",
    "plt.show()\n"
   ]
  },
  {
   "cell_type": "code",
   "execution_count": 67,
   "id": "9acc0f85-2722-4db2-81d0-1fd2385d64c8",
   "metadata": {
    "scrolled": true
   },
   "outputs": [
    {
     "name": "stdout",
     "output_type": "stream",
     "text": [
      "Gradio version: 4.26.0\n"
     ]
    }
   ],
   "source": [
    "try:\n",
    "    import gradio as gr\n",
    "except:\n",
    "    !pip -q install gradio\n",
    "    import gradio as gr\n",
    "print(f\"Gradio version: {gr.__version__}\")"
   ]
  },
  {
   "cell_type": "code",
   "execution_count": 68,
   "id": "c3645f6f-e9cb-4f5f-86fd-5b8ce74fd715",
   "metadata": {},
   "outputs": [
    {
     "data": {
      "text/plain": [
       "device(type='cuda', index=0)"
      ]
     },
     "execution_count": 68,
     "metadata": {},
     "output_type": "execute_result"
    }
   ],
   "source": [
    "effnetb2.to(\"cuda\")\n",
    "\n",
    "next(iter(effnetb2.parameters())).device"
   ]
  },
  {
   "cell_type": "code",
   "execution_count": 69,
   "id": "6937edff-50df-4749-98c0-439384e54438",
   "metadata": {},
   "outputs": [],
   "source": [
    "from typing import Tuple, Dict\n",
    "\n",
    "def predict(img) -> Tuple[Dict, float]:\n",
    "    \"\"\"Transforms and performs a prediction on img and return prediction and time taken\"\"\"\n",
    "    start_time = timer()\n",
    "    img = effnetb2_transforms(img).unsqueeze(0)\n",
    "\n",
    "    effnetb2.eval()\n",
    "    with torch.inference_mode():\n",
    "        pred_probs = torch.softmax(effnetb2(img), dim=1)\n",
    "\n",
    "    pred_labels_and_probs = {class_names[i]: float(pred_probs[0][i]) for i in range(len(class_names))}\n",
    "    pred_time = round(timer() - start_time, 5)\n",
    "\n",
    "    return pred_labels_and_probs, pred_time"
=======
    "vit, vit_tranforms = create_vit_model(num_classes=3,\n",
    "                                     seed=42"
>>>>>>> 20a6b9e978ab3926899c2002e2795181d77b2857
   ]
  },
  {
   "cell_type": "code",
   "execution_count": null,
<<<<<<< HEAD
   "id": "d719017e-4159-4911-a271-8f55cbca9bd9",
=======
   "id": "1eec6c1f",
>>>>>>> 20a6b9e978ab3926899c2002e2795181d77b2857
   "metadata": {},
   "outputs": [],
   "source": []
  }
 ],
 "metadata": {
  "kernelspec": {
   "display_name": "Hello Kajetan",
   "language": "python",
   "name": "newenv"
  },
  "language_info": {
   "codemirror_mode": {
    "name": "ipython",
    "version": 3
   },
   "file_extension": ".py",
   "mimetype": "text/x-python",
   "name": "python",
   "nbconvert_exporter": "python",
   "pygments_lexer": "ipython3",
   "version": "3.9.18"
  }
 },
 "nbformat": 4,
 "nbformat_minor": 5
}
