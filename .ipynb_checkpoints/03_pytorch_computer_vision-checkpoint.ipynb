{
 "cells": [
  {
   "cell_type": "code",
<<<<<<< HEAD
   "execution_count": 1,
=======
   "execution_count": 4,
>>>>>>> 22ba257cfa401e134f3ba721ab47645d4a2f4e92
   "id": "d6a02bd5-03be-42c1-ab71-ab12b8c33238",
   "metadata": {},
   "outputs": [
    {
<<<<<<< HEAD
     "ename": "ModuleNotFoundError",
     "evalue": "No module named 'torchvision'",
     "output_type": "error",
     "traceback": [
      "\u001b[1;31m---------------------------------------------------------------------------\u001b[0m",
      "\u001b[1;31mModuleNotFoundError\u001b[0m                       Traceback (most recent call last)",
      "Cell \u001b[1;32mIn[1], line 4\u001b[0m\n\u001b[0;32m      1\u001b[0m \u001b[38;5;28;01mimport\u001b[39;00m \u001b[38;5;21;01mtorch\u001b[39;00m\n\u001b[0;32m      2\u001b[0m \u001b[38;5;28;01mfrom\u001b[39;00m \u001b[38;5;21;01mtorch\u001b[39;00m \u001b[38;5;28;01mimport\u001b[39;00m nn\n\u001b[1;32m----> 4\u001b[0m \u001b[38;5;28;01mimport\u001b[39;00m \u001b[38;5;21;01mtorchvision\u001b[39;00m\n\u001b[0;32m      5\u001b[0m \u001b[38;5;28;01mfrom\u001b[39;00m \u001b[38;5;21;01mtorchvision\u001b[39;00m \u001b[38;5;28;01mimport\u001b[39;00m datasets\n\u001b[0;32m      6\u001b[0m \u001b[38;5;28;01mfrom\u001b[39;00m \u001b[38;5;21;01mtorchvision\u001b[39;00m\u001b[38;5;21;01m.\u001b[39;00m\u001b[38;5;21;01mtransforms\u001b[39;00m \u001b[38;5;28;01mimport\u001b[39;00m ToTensor\n",
      "\u001b[1;31mModuleNotFoundError\u001b[0m: No module named 'torchvision'"
=======
     "name": "stdout",
     "output_type": "stream",
     "text": [
      "PyTorch version: 2.1.2+cu121\n",
      "torvision version: 0.16.2+cu121\n"
>>>>>>> 22ba257cfa401e134f3ba721ab47645d4a2f4e92
     ]
    }
   ],
   "source": [
    "import torch\n",
    "from torch import nn\n",
    "\n",
    "import torchvision\n",
    "from torchvision import datasets\n",
    "from torchvision.transforms import ToTensor\n",
    "\n",
    "import matplotlib.pyplot as plt\n",
    "\n",
    "print(f\"PyTorch version: {torch.__version__}\\ntorvision version: {torchvision.__version__}\")"
   ]
  },
  {
   "cell_type": "code",
<<<<<<< HEAD
   "execution_count": null,
=======
   "execution_count": 7,
>>>>>>> 22ba257cfa401e134f3ba721ab47645d4a2f4e92
   "id": "41df0097-20a5-4043-a49a-299a04a9f31b",
   "metadata": {},
   "outputs": [],
   "source": [
    "# Setup training data\n",
    "train_data = datasets.FashionMNIST(\n",
    "    root=\"data\",\n",
    "    train=True,\n",
    "    download=True,\n",
    "    transform=ToTensor(),  # images one as PIL format, we want to turn info Torch tensors\n",
    "    target_transform=None\n",
    ")\n",
    "\n",
    "# Setup test data\n",
    "test_data = datasets.FashionMNIST(\n",
    "    root=\"data\",\n",
    "    train=False,  # get test data\n",
    "    download=True,\n",
    "    transform=ToTensor()\n",
    ")"
   ]
  },
  {
   "cell_type": "code",
<<<<<<< HEAD
   "execution_count": null,
   "id": "7f016b21-07ea-4fb9-a06e-d12289bc6308",
   "metadata": {},
   "outputs": [],
=======
   "execution_count": 11,
   "id": "7f016b21-07ea-4fb9-a06e-d12289bc6308",
   "metadata": {},
   "outputs": [
    {
     "data": {
      "text/plain": [
       "(tensor([[[0.0000, 0.0000, 0.0000, 0.0000, 0.0000, 0.0000, 0.0000, 0.0000,\n",
       "           0.0000, 0.0000, 0.0000, 0.0000, 0.0000, 0.0000, 0.0000, 0.0000,\n",
       "           0.0000, 0.0000, 0.0000, 0.0000, 0.0000, 0.0000, 0.0000, 0.0000,\n",
       "           0.0000, 0.0000, 0.0000, 0.0000],\n",
       "          [0.0000, 0.0000, 0.0000, 0.0000, 0.0000, 0.0000, 0.0000, 0.0000,\n",
       "           0.0000, 0.0000, 0.0000, 0.0000, 0.0000, 0.0000, 0.0000, 0.0000,\n",
       "           0.0000, 0.0000, 0.0000, 0.0000, 0.0000, 0.0000, 0.0000, 0.0000,\n",
       "           0.0000, 0.0000, 0.0000, 0.0000],\n",
       "          [0.0000, 0.0000, 0.0000, 0.0000, 0.0000, 0.0000, 0.0000, 0.0000,\n",
       "           0.0000, 0.0000, 0.0000, 0.0000, 0.0000, 0.0000, 0.0000, 0.0000,\n",
       "           0.0000, 0.0000, 0.0000, 0.0000, 0.0000, 0.0000, 0.0000, 0.0000,\n",
       "           0.0000, 0.0000, 0.0000, 0.0000],\n",
       "          [0.0000, 0.0000, 0.0000, 0.0000, 0.0000, 0.0000, 0.0000, 0.0000,\n",
       "           0.0000, 0.0000, 0.0000, 0.0000, 0.0039, 0.0000, 0.0000, 0.0510,\n",
       "           0.2863, 0.0000, 0.0000, 0.0039, 0.0157, 0.0000, 0.0000, 0.0000,\n",
       "           0.0000, 0.0039, 0.0039, 0.0000],\n",
       "          [0.0000, 0.0000, 0.0000, 0.0000, 0.0000, 0.0000, 0.0000, 0.0000,\n",
       "           0.0000, 0.0000, 0.0000, 0.0000, 0.0118, 0.0000, 0.1412, 0.5333,\n",
       "           0.4980, 0.2431, 0.2118, 0.0000, 0.0000, 0.0000, 0.0039, 0.0118,\n",
       "           0.0157, 0.0000, 0.0000, 0.0118],\n",
       "          [0.0000, 0.0000, 0.0000, 0.0000, 0.0000, 0.0000, 0.0000, 0.0000,\n",
       "           0.0000, 0.0000, 0.0000, 0.0000, 0.0235, 0.0000, 0.4000, 0.8000,\n",
       "           0.6902, 0.5255, 0.5647, 0.4824, 0.0902, 0.0000, 0.0000, 0.0000,\n",
       "           0.0000, 0.0471, 0.0392, 0.0000],\n",
       "          [0.0000, 0.0000, 0.0000, 0.0000, 0.0000, 0.0000, 0.0000, 0.0000,\n",
       "           0.0000, 0.0000, 0.0000, 0.0000, 0.0000, 0.0000, 0.6078, 0.9255,\n",
       "           0.8118, 0.6980, 0.4196, 0.6118, 0.6314, 0.4275, 0.2510, 0.0902,\n",
       "           0.3020, 0.5098, 0.2824, 0.0588],\n",
       "          [0.0000, 0.0000, 0.0000, 0.0000, 0.0000, 0.0000, 0.0000, 0.0000,\n",
       "           0.0000, 0.0000, 0.0000, 0.0039, 0.0000, 0.2706, 0.8118, 0.8745,\n",
       "           0.8549, 0.8471, 0.8471, 0.6392, 0.4980, 0.4745, 0.4784, 0.5725,\n",
       "           0.5529, 0.3451, 0.6745, 0.2588],\n",
       "          [0.0000, 0.0000, 0.0000, 0.0000, 0.0000, 0.0000, 0.0000, 0.0000,\n",
       "           0.0000, 0.0039, 0.0039, 0.0039, 0.0000, 0.7843, 0.9098, 0.9098,\n",
       "           0.9137, 0.8980, 0.8745, 0.8745, 0.8431, 0.8353, 0.6431, 0.4980,\n",
       "           0.4824, 0.7686, 0.8980, 0.0000],\n",
       "          [0.0000, 0.0000, 0.0000, 0.0000, 0.0000, 0.0000, 0.0000, 0.0000,\n",
       "           0.0000, 0.0000, 0.0000, 0.0000, 0.0000, 0.7176, 0.8824, 0.8471,\n",
       "           0.8745, 0.8941, 0.9216, 0.8902, 0.8784, 0.8706, 0.8784, 0.8667,\n",
       "           0.8745, 0.9608, 0.6784, 0.0000],\n",
       "          [0.0000, 0.0000, 0.0000, 0.0000, 0.0000, 0.0000, 0.0000, 0.0000,\n",
       "           0.0000, 0.0000, 0.0000, 0.0000, 0.0000, 0.7569, 0.8941, 0.8549,\n",
       "           0.8353, 0.7765, 0.7059, 0.8314, 0.8235, 0.8275, 0.8353, 0.8745,\n",
       "           0.8627, 0.9529, 0.7922, 0.0000],\n",
       "          [0.0000, 0.0000, 0.0000, 0.0000, 0.0000, 0.0000, 0.0000, 0.0000,\n",
       "           0.0000, 0.0039, 0.0118, 0.0000, 0.0471, 0.8588, 0.8627, 0.8314,\n",
       "           0.8549, 0.7529, 0.6627, 0.8902, 0.8157, 0.8549, 0.8784, 0.8314,\n",
       "           0.8863, 0.7725, 0.8196, 0.2039],\n",
       "          [0.0000, 0.0000, 0.0000, 0.0000, 0.0000, 0.0000, 0.0000, 0.0000,\n",
       "           0.0000, 0.0000, 0.0235, 0.0000, 0.3882, 0.9569, 0.8706, 0.8627,\n",
       "           0.8549, 0.7961, 0.7765, 0.8667, 0.8431, 0.8353, 0.8706, 0.8627,\n",
       "           0.9608, 0.4667, 0.6549, 0.2196],\n",
       "          [0.0000, 0.0000, 0.0000, 0.0000, 0.0000, 0.0000, 0.0000, 0.0000,\n",
       "           0.0000, 0.0157, 0.0000, 0.0000, 0.2157, 0.9255, 0.8941, 0.9020,\n",
       "           0.8941, 0.9412, 0.9098, 0.8353, 0.8549, 0.8745, 0.9176, 0.8510,\n",
       "           0.8510, 0.8196, 0.3608, 0.0000],\n",
       "          [0.0000, 0.0000, 0.0039, 0.0157, 0.0235, 0.0275, 0.0078, 0.0000,\n",
       "           0.0000, 0.0000, 0.0000, 0.0000, 0.9294, 0.8863, 0.8510, 0.8745,\n",
       "           0.8706, 0.8588, 0.8706, 0.8667, 0.8471, 0.8745, 0.8980, 0.8431,\n",
       "           0.8549, 1.0000, 0.3020, 0.0000],\n",
       "          [0.0000, 0.0118, 0.0000, 0.0000, 0.0000, 0.0000, 0.0000, 0.0000,\n",
       "           0.0000, 0.2431, 0.5686, 0.8000, 0.8941, 0.8118, 0.8353, 0.8667,\n",
       "           0.8549, 0.8157, 0.8275, 0.8549, 0.8784, 0.8745, 0.8588, 0.8431,\n",
       "           0.8784, 0.9569, 0.6235, 0.0000],\n",
       "          [0.0000, 0.0000, 0.0000, 0.0000, 0.0706, 0.1725, 0.3216, 0.4196,\n",
       "           0.7412, 0.8941, 0.8627, 0.8706, 0.8510, 0.8863, 0.7843, 0.8039,\n",
       "           0.8275, 0.9020, 0.8784, 0.9176, 0.6902, 0.7373, 0.9804, 0.9725,\n",
       "           0.9137, 0.9333, 0.8431, 0.0000],\n",
       "          [0.0000, 0.2235, 0.7333, 0.8157, 0.8784, 0.8667, 0.8784, 0.8157,\n",
       "           0.8000, 0.8392, 0.8157, 0.8196, 0.7843, 0.6235, 0.9608, 0.7569,\n",
       "           0.8078, 0.8745, 1.0000, 1.0000, 0.8667, 0.9176, 0.8667, 0.8275,\n",
       "           0.8627, 0.9098, 0.9647, 0.0000],\n",
       "          [0.0118, 0.7922, 0.8941, 0.8784, 0.8667, 0.8275, 0.8275, 0.8392,\n",
       "           0.8039, 0.8039, 0.8039, 0.8627, 0.9412, 0.3137, 0.5882, 1.0000,\n",
       "           0.8980, 0.8667, 0.7373, 0.6039, 0.7490, 0.8235, 0.8000, 0.8196,\n",
       "           0.8706, 0.8941, 0.8824, 0.0000],\n",
       "          [0.3843, 0.9137, 0.7765, 0.8235, 0.8706, 0.8980, 0.8980, 0.9176,\n",
       "           0.9765, 0.8627, 0.7608, 0.8431, 0.8510, 0.9451, 0.2549, 0.2863,\n",
       "           0.4157, 0.4588, 0.6588, 0.8588, 0.8667, 0.8431, 0.8510, 0.8745,\n",
       "           0.8745, 0.8784, 0.8980, 0.1137],\n",
       "          [0.2941, 0.8000, 0.8314, 0.8000, 0.7569, 0.8039, 0.8275, 0.8824,\n",
       "           0.8471, 0.7255, 0.7725, 0.8078, 0.7765, 0.8353, 0.9412, 0.7647,\n",
       "           0.8902, 0.9608, 0.9373, 0.8745, 0.8549, 0.8314, 0.8196, 0.8706,\n",
       "           0.8627, 0.8667, 0.9020, 0.2627],\n",
       "          [0.1882, 0.7961, 0.7176, 0.7608, 0.8353, 0.7725, 0.7255, 0.7451,\n",
       "           0.7608, 0.7529, 0.7922, 0.8392, 0.8588, 0.8667, 0.8627, 0.9255,\n",
       "           0.8824, 0.8471, 0.7804, 0.8078, 0.7294, 0.7098, 0.6941, 0.6745,\n",
       "           0.7098, 0.8039, 0.8078, 0.4510],\n",
       "          [0.0000, 0.4784, 0.8588, 0.7569, 0.7020, 0.6706, 0.7176, 0.7686,\n",
       "           0.8000, 0.8235, 0.8353, 0.8118, 0.8275, 0.8235, 0.7843, 0.7686,\n",
       "           0.7608, 0.7490, 0.7647, 0.7490, 0.7765, 0.7529, 0.6902, 0.6118,\n",
       "           0.6549, 0.6941, 0.8235, 0.3608],\n",
       "          [0.0000, 0.0000, 0.2902, 0.7412, 0.8314, 0.7490, 0.6863, 0.6745,\n",
       "           0.6863, 0.7098, 0.7255, 0.7373, 0.7412, 0.7373, 0.7569, 0.7765,\n",
       "           0.8000, 0.8196, 0.8235, 0.8235, 0.8275, 0.7373, 0.7373, 0.7608,\n",
       "           0.7529, 0.8471, 0.6667, 0.0000],\n",
       "          [0.0078, 0.0000, 0.0000, 0.0000, 0.2588, 0.7843, 0.8706, 0.9294,\n",
       "           0.9373, 0.9490, 0.9647, 0.9529, 0.9569, 0.8667, 0.8627, 0.7569,\n",
       "           0.7490, 0.7020, 0.7137, 0.7137, 0.7098, 0.6902, 0.6510, 0.6588,\n",
       "           0.3882, 0.2275, 0.0000, 0.0000],\n",
       "          [0.0000, 0.0000, 0.0000, 0.0000, 0.0000, 0.0000, 0.0000, 0.1569,\n",
       "           0.2392, 0.1725, 0.2824, 0.1608, 0.1373, 0.0000, 0.0000, 0.0000,\n",
       "           0.0000, 0.0000, 0.0000, 0.0000, 0.0000, 0.0000, 0.0000, 0.0000,\n",
       "           0.0000, 0.0000, 0.0000, 0.0000],\n",
       "          [0.0000, 0.0000, 0.0000, 0.0000, 0.0000, 0.0000, 0.0000, 0.0000,\n",
       "           0.0000, 0.0000, 0.0000, 0.0000, 0.0000, 0.0000, 0.0000, 0.0000,\n",
       "           0.0000, 0.0000, 0.0000, 0.0000, 0.0000, 0.0000, 0.0000, 0.0000,\n",
       "           0.0000, 0.0000, 0.0000, 0.0000],\n",
       "          [0.0000, 0.0000, 0.0000, 0.0000, 0.0000, 0.0000, 0.0000, 0.0000,\n",
       "           0.0000, 0.0000, 0.0000, 0.0000, 0.0000, 0.0000, 0.0000, 0.0000,\n",
       "           0.0000, 0.0000, 0.0000, 0.0000, 0.0000, 0.0000, 0.0000, 0.0000,\n",
       "           0.0000, 0.0000, 0.0000, 0.0000]]]),\n",
       " 9)"
      ]
     },
     "execution_count": 11,
     "metadata": {},
     "output_type": "execute_result"
    }
   ],
>>>>>>> 22ba257cfa401e134f3ba721ab47645d4a2f4e92
   "source": [
    "image, label = train_data[0]\n",
    "image, label"
   ]
  },
  {
   "cell_type": "code",
<<<<<<< HEAD
   "execution_count": null,
   "id": "cacb90d6-d171-4bfb-bcbe-abf9a9e21ce2",
   "metadata": {},
   "outputs": [],
=======
   "execution_count": 12,
   "id": "cacb90d6-d171-4bfb-bcbe-abf9a9e21ce2",
   "metadata": {},
   "outputs": [
    {
     "data": {
      "text/plain": [
       "torch.Size([1, 28, 28])"
      ]
     },
     "execution_count": 12,
     "metadata": {},
     "output_type": "execute_result"
    }
   ],
>>>>>>> 22ba257cfa401e134f3ba721ab47645d4a2f4e92
   "source": [
    "image.shape"
   ]
  },
  {
   "cell_type": "code",
<<<<<<< HEAD
   "execution_count": null,
   "id": "3b44b0c4-5d7d-4731-9530-94eff2b7af7f",
   "metadata": {},
   "outputs": [],
=======
   "execution_count": 13,
   "id": "3b44b0c4-5d7d-4731-9530-94eff2b7af7f",
   "metadata": {},
   "outputs": [
    {
     "data": {
      "text/plain": [
       "(60000, 60000, 10000, 10000)"
      ]
     },
     "execution_count": 13,
     "metadata": {},
     "output_type": "execute_result"
    }
   ],
>>>>>>> 22ba257cfa401e134f3ba721ab47645d4a2f4e92
   "source": [
    "len(train_data.data), len(train_data.targets), len(test_data.data), len(test_data.targets)"
   ]
  },
  {
   "cell_type": "markdown",
   "id": "eae75869-4fbf-47c1-955c-b9bf5ce4db81",
   "metadata": {},
   "source": [
    "We've got 60,000 training samples and 10,000 testing samples"
   ]
  },
  {
   "cell_type": "code",
<<<<<<< HEAD
   "execution_count": null,
   "id": "3172b20e-b2fa-458c-b0e6-5e015f4c2557",
   "metadata": {},
   "outputs": [],
=======
   "execution_count": 15,
   "id": "3172b20e-b2fa-458c-b0e6-5e015f4c2557",
   "metadata": {},
   "outputs": [
    {
     "data": {
      "text/plain": [
       "['T-shirt/top',\n",
       " 'Trouser',\n",
       " 'Pullover',\n",
       " 'Dress',\n",
       " 'Coat',\n",
       " 'Sandal',\n",
       " 'Shirt',\n",
       " 'Sneaker',\n",
       " 'Bag',\n",
       " 'Ankle boot']"
      ]
     },
     "execution_count": 15,
     "metadata": {},
     "output_type": "execute_result"
    }
   ],
>>>>>>> 22ba257cfa401e134f3ba721ab47645d4a2f4e92
   "source": [
    "class_names = train_data.classes\n",
    "class_names"
   ]
  },
  {
   "cell_type": "code",
<<<<<<< HEAD
   "execution_count": null,
   "id": "18c939df-431a-4087-9c47-28d106202dcb",
   "metadata": {},
   "outputs": [],
=======
   "execution_count": 18,
   "id": "18c939df-431a-4087-9c47-28d106202dcb",
   "metadata": {},
   "outputs": [
    {
     "name": "stdout",
     "output_type": "stream",
     "text": [
      "Image shape: torch.Size([1, 28, 28])\n"
     ]
    },
    {
     "data": {
      "image/png": "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",
      "text/plain": [
       "<Figure size 640x480 with 1 Axes>"
      ]
     },
     "metadata": {},
     "output_type": "display_data"
    }
   ],
>>>>>>> 22ba257cfa401e134f3ba721ab47645d4a2f4e92
   "source": [
    "import matplotlib.pyplot as plt\n",
    "image, label = train_data[1]\n",
    "print(f\"Image shape: {image.shape}\")\n",
    "plt.imshow(image.squeeze())  # image shape is [1, 28, 28] (colour channels heigh, width)\n",
    "plt.title(label);"
   ]
  },
  {
   "cell_type": "code",
<<<<<<< HEAD
   "execution_count": null,
   "id": "cfda4fcb-61a7-42a1-9fee-72543ee98722",
   "metadata": {},
   "outputs": [],
=======
   "execution_count": 19,
   "id": "cfda4fcb-61a7-42a1-9fee-72543ee98722",
   "metadata": {},
   "outputs": [
    {
     "data": {
      "image/png": "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",
      "text/plain": [
       "<Figure size 640x480 with 1 Axes>"
      ]
     },
     "metadata": {},
     "output_type": "display_data"
    }
   ],
>>>>>>> 22ba257cfa401e134f3ba721ab47645d4a2f4e92
   "source": [
    "plt.imshow(image.squeeze(), cmap=\"gray\")\n",
    "plt.title(class_names[label]);"
   ]
  },
  {
   "cell_type": "code",
<<<<<<< HEAD
   "execution_count": null,
   "id": "27b2e2a9-d0d7-4c60-909e-56085133426f",
   "metadata": {},
   "outputs": [],
=======
   "execution_count": 23,
   "id": "27b2e2a9-d0d7-4c60-909e-56085133426f",
   "metadata": {},
   "outputs": [
    {
     "data": {
      "image/png": "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",
      "text/plain": [
       "<Figure size 900x900 with 16 Axes>"
      ]
     },
     "metadata": {},
     "output_type": "display_data"
    }
   ],
>>>>>>> 22ba257cfa401e134f3ba721ab47645d4a2f4e92
   "source": [
    "torch.manual_seed(42)\n",
    "fig = plt.figure(figsize=(9, 9))\n",
    "rows, cols = 4, 4\n",
    "for i in range(1, rows*cols + 1):\n",
    "    random_idx = torch.randint(0, len(train_data), size=[1]).item()\n",
    "    img, label = train_data[random_idx]\n",
    "    fig.add_subplot(rows, cols, i)\n",
    "    plt.imshow(img.squeeze(), cmap=\"gray\")\n",
    "    plt.axis(False);"
   ]
  },
  {
   "cell_type": "code",
<<<<<<< HEAD
   "execution_count": null,
   "id": "db30b020-723b-4844-b27e-413b84c5226f",
   "metadata": {},
   "outputs": [],
=======
   "execution_count": 29,
   "id": "db30b020-723b-4844-b27e-413b84c5226f",
   "metadata": {},
   "outputs": [
    {
     "name": "stdout",
     "output_type": "stream",
     "text": [
      "Dataloaders: (<torch.utils.data.dataloader.DataLoader object at 0x7f1ac913d210>, <torch.utils.data.dataloader.DataLoader object at 0x7f1ac90c0c50>)\n",
      "Length of train dataloader: 1875 batches of 32\n",
      "Length of test dataloader: 313 batches of 32\n"
     ]
    }
   ],
>>>>>>> 22ba257cfa401e134f3ba721ab47645d4a2f4e92
   "source": [
    "from torch.utils.data import DataLoader\n",
    "\n",
    "BATCH_SIZE = 32\n",
    "\n",
    "# Turn datasets into iterables (batches)\n",
    "train_dataloader = DataLoader(train_data,  # dataset to turn into terable\n",
    "                              batch_size=BATCH_SIZE,  # how many samples per batch\n",
    "                              shuffle=True)\n",
    "test_dataloader = DataLoader(test_data,\n",
    "                             batch_size=BATCH_SIZE,\n",
    "                             shuffle=False)\n",
    "\n",
    "print(f\"Dataloaders: {train_dataloader, test_dataloader}\")\n",
    "print(f\"Length of train dataloader: {len(train_dataloader)} batches of {BATCH_SIZE}\")\n",
    "print(f\"Length of test dataloader: {len(test_dataloader)} batches of {BATCH_SIZE}\")"
   ]
  },
  {
   "cell_type": "code",
<<<<<<< HEAD
   "execution_count": null,
   "id": "923a1903-5f92-4474-834a-2dcd8857f20c",
   "metadata": {},
   "outputs": [],
=======
   "execution_count": 31,
   "id": "923a1903-5f92-4474-834a-2dcd8857f20c",
   "metadata": {},
   "outputs": [
    {
     "data": {
      "text/plain": [
       "(torch.Size([32, 1, 28, 28]), torch.Size([32]))"
      ]
     },
     "execution_count": 31,
     "metadata": {},
     "output_type": "execute_result"
    }
   ],
>>>>>>> 22ba257cfa401e134f3ba721ab47645d4a2f4e92
   "source": [
    "# Check out what's inside the training dataloader\n",
    "train_features_batch, train_labels_batch = next(iter(train_dataloader))\n",
    "train_features_batch.shape, train_labels_batch.shape"
   ]
  },
  {
   "cell_type": "code",
<<<<<<< HEAD
   "execution_count": null,
   "id": "62fc0cec-3c8e-487e-b833-e1bec53d137b",
   "metadata": {},
   "outputs": [],
=======
   "execution_count": 34,
   "id": "62fc0cec-3c8e-487e-b833-e1bec53d137b",
   "metadata": {},
   "outputs": [
    {
     "name": "stdout",
     "output_type": "stream",
     "text": [
      "Image size: torch.Size([1, 28, 28])\n",
      "Label: 8, label size: torch.Size([])\n"
     ]
    },
    {
     "data": {
      "image/png": "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",
      "text/plain": [
       "<Figure size 640x480 with 1 Axes>"
      ]
     },
     "metadata": {},
     "output_type": "display_data"
    }
   ],
>>>>>>> 22ba257cfa401e134f3ba721ab47645d4a2f4e92
   "source": [
    "torch.manual_seed(42)\n",
    "random_idx = torch.randint(0, len(train_features_batch), size=[1]).item()\n",
    "img, label = train_features_batch[random_idx], train_labels_batch[random_idx]\n",
    "plt.imshow(img.squeeze(), cmap=\"gray\")\n",
    "plt.title(class_names[label])\n",
    "plt.axis(\"Off\")\n",
    "print(f\"Image size: {img.shape}\")\n",
    "print(f\"Label: {label}, label size: {label.shape}\")  # label = target value, img = input data"
   ]
  },
  {
   "cell_type": "code",
<<<<<<< HEAD
   "execution_count": null,
   "id": "c6205c0d-00e2-4cde-b7d8-ef85eab50f60",
   "metadata": {},
   "outputs": [],
=======
   "execution_count": 37,
   "id": "c6205c0d-00e2-4cde-b7d8-ef85eab50f60",
   "metadata": {},
   "outputs": [
    {
     "name": "stdout",
     "output_type": "stream",
     "text": [
      "Shape before flattening: torch.Size([1, 28, 28]) -> [color_channels, height, width]\n",
      "Shape after flattening: torch.Size([1, 784]) -> [color_channels, height*width]\n"
     ]
    }
   ],
>>>>>>> 22ba257cfa401e134f3ba721ab47645d4a2f4e92
   "source": [
    "# Create a flatten layer\n",
    "flatten_model = nn.Flatten() # all nn modules function as a model (can do a forward pass)\n",
    "\n",
    "# Get a single sample\n",
    "x = train_features_batch[0]\n",
    "\n",
    "# Flatten the sample\n",
    "output = flatten_model(x) # perform forward pass\n",
    "\n",
    "# Print out what happened\n",
    "print(f\"Shape before flattening: {x.shape} -> [color_channels, height, width]\")\n",
    "print(f\"Shape after flattening: {output.shape} -> [color_channels, height*width]\")"
   ]
  },
  {
   "cell_type": "code",
   "execution_count": null,
   "id": "0289eb74-6519-4a2a-b69e-e89be751196b",
   "metadata": {},
   "outputs": [],
   "source": [
    "from torch import nn\n",
    "class FashionMNISTModelV0(nn.Module):\n",
    "    def __init__(self, input_shape: int, hidden_unit: int, output_shape: int):\n",
    "        super().__init__()\n",
    "        self.layer_stack = nn.Sequential(\n",
    "        "
   ]
<<<<<<< HEAD
  },
  {
   "cell_type": "code",
   "execution_count": null,
   "id": "15971949",
   "metadata": {},
   "outputs": [],
   "source": []
=======
>>>>>>> 22ba257cfa401e134f3ba721ab47645d4a2f4e92
  }
 ],
 "metadata": {
  "kernelspec": {
   "display_name": "Python 3 (ipykernel)",
   "language": "python",
   "name": "python3"
  },
  "language_info": {
   "codemirror_mode": {
    "name": "ipython",
    "version": 3
   },
   "file_extension": ".py",
   "mimetype": "text/x-python",
   "name": "python",
   "nbconvert_exporter": "python",
   "pygments_lexer": "ipython3",
   "version": "3.11.5"
  }
 },
 "nbformat": 4,
 "nbformat_minor": 5
}
