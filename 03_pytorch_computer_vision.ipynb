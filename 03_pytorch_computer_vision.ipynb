{
 "cells": [
  {
   "cell_type": "markdown",
   "id": "a515c077-c6ab-479a-9ee7-750790c9d470",
   "metadata": {
    "id": "a515c077-c6ab-479a-9ee7-750790c9d470"
   },
   "source": [
    "# Computer vision libraries in Pytorch"
   ]
  },
  {
   "cell_type": "code",
   "execution_count": 2,
   "id": "3c3a12ff-09fc-43c5-b011-0813ea93e884",
   "metadata": {
    "colab": {
     "base_uri": "https://localhost:8080/"
    },
    "id": "3c3a12ff-09fc-43c5-b011-0813ea93e884",
    "outputId": "23a1ae9c-9c7a-4bfa-d4ff-bedde8d3a1dc"
   },
   "outputs": [
    {
     "name": "stdout",
     "output_type": "stream",
     "text": [
      "Pytorch version: 2.2.2\n",
      "torchvision version: 0.17.2\n"
     ]
    }
   ],
   "source": [
    "import torch\n",
    "from torch import nn\n",
    "\n",
    "import torchvision\n",
    "from torchvision import datasets\n",
    "from torchvision.transforms import ToTensor\n",
    "\n",
    "import matplotlib.pyplot as plt\n",
    "\n",
    "print(f\"Pytorch version: {torch.__version__}\\ntorchvision version: {torchvision.__version__}\")"
   ]
  },
  {
   "cell_type": "code",
   "execution_count": 3,
   "id": "40670f0d",
   "metadata": {},
   "outputs": [
    {
     "name": "stdout",
     "output_type": "stream",
     "text": [
      "Requirement already satisfied: wandb in /home/kajetan/anaconda3/lib/python3.11/site-packages (0.16.2)\n",
      "Requirement already satisfied: Click!=8.0.0,>=7.1 in /home/kajetan/anaconda3/lib/python3.11/site-packages (from wandb) (8.1.7)\n",
      "Requirement already satisfied: GitPython!=3.1.29,>=1.0.0 in /home/kajetan/anaconda3/lib/python3.11/site-packages (from wandb) (3.1.40)\n",
      "Requirement already satisfied: requests<3,>=2.0.0 in /home/kajetan/anaconda3/lib/python3.11/site-packages (from wandb) (2.31.0)\n",
      "Requirement already satisfied: psutil>=5.0.0 in /home/kajetan/anaconda3/lib/python3.11/site-packages (from wandb) (5.9.0)\n",
      "Requirement already satisfied: sentry-sdk>=1.0.0 in /home/kajetan/anaconda3/lib/python3.11/site-packages (from wandb) (1.34.0)\n",
      "Requirement already satisfied: docker-pycreds>=0.4.0 in /home/kajetan/anaconda3/lib/python3.11/site-packages (from wandb) (0.4.0)\n",
      "Requirement already satisfied: PyYAML in /home/kajetan/anaconda3/lib/python3.11/site-packages (from wandb) (6.0.1)\n",
      "Requirement already satisfied: setproctitle in /home/kajetan/anaconda3/lib/python3.11/site-packages (from wandb) (1.3.3)\n",
      "Requirement already satisfied: setuptools in /home/kajetan/anaconda3/lib/python3.11/site-packages (from wandb) (69.0.3)\n",
      "Requirement already satisfied: appdirs>=1.4.3 in /home/kajetan/anaconda3/lib/python3.11/site-packages (from wandb) (1.4.4)\n",
      "Requirement already satisfied: protobuf!=4.21.0,<5,>=3.19.0 in /home/kajetan/anaconda3/lib/python3.11/site-packages (from wandb) (3.20.3)\n",
      "Requirement already satisfied: six>=1.4.0 in /home/kajetan/anaconda3/lib/python3.11/site-packages (from docker-pycreds>=0.4.0->wandb) (1.16.0)\n",
      "Requirement already satisfied: gitdb<5,>=4.0.1 in /home/kajetan/anaconda3/lib/python3.11/site-packages (from GitPython!=3.1.29,>=1.0.0->wandb) (4.0.11)\n",
      "Requirement already satisfied: charset-normalizer<4,>=2 in /home/kajetan/anaconda3/lib/python3.11/site-packages (from requests<3,>=2.0.0->wandb) (2.0.4)\n",
      "Requirement already satisfied: idna<4,>=2.5 in /home/kajetan/anaconda3/lib/python3.11/site-packages (from requests<3,>=2.0.0->wandb) (3.4)\n",
      "Requirement already satisfied: urllib3<3,>=1.21.1 in /home/kajetan/anaconda3/lib/python3.11/site-packages (from requests<3,>=2.0.0->wandb) (1.26.18)\n",
      "Requirement already satisfied: certifi>=2017.4.17 in /home/kajetan/anaconda3/lib/python3.11/site-packages (from requests<3,>=2.0.0->wandb) (2024.2.2)\n",
      "Requirement already satisfied: smmap<6,>=3.0.1 in /home/kajetan/anaconda3/lib/python3.11/site-packages (from gitdb<5,>=4.0.1->GitPython!=3.1.29,>=1.0.0->wandb) (5.0.1)\n"
     ]
    }
   ],
   "source": [
    "%pip install wandb"
   ]
  },
  {
   "cell_type": "code",
   "execution_count": 4,
   "id": "34e8115d",
   "metadata": {},
   "outputs": [
    {
     "name": "stderr",
     "output_type": "stream",
     "text": [
      "Failed to detect the name of this notebook, you can set it manually with the WANDB_NOTEBOOK_NAME environment variable to enable code saving.\n",
      "\u001b[34m\u001b[1mwandb\u001b[0m: Currently logged in as: \u001b[33mfrackowiak\u001b[0m. Use \u001b[1m`wandb login --relogin`\u001b[0m to force relogin\n"
     ]
    },
    {
     "data": {
      "text/html": [
       "wandb version 0.16.5 is available!  To upgrade, please run:\n",
       " $ pip install wandb --upgrade"
      ],
      "text/plain": [
       "<IPython.core.display.HTML object>"
      ]
     },
     "metadata": {},
     "output_type": "display_data"
    },
    {
     "data": {
      "text/html": [
       "Tracking run with wandb version 0.16.2"
      ],
      "text/plain": [
       "<IPython.core.display.HTML object>"
      ]
     },
     "metadata": {},
     "output_type": "display_data"
    },
    {
     "data": {
      "text/html": [
       "Run data is saved locally in <code>/home/kajetan/Documents/pytorch_deep_learning/wandb/run-20240329_160737-sax6jrv2</code>"
      ],
      "text/plain": [
       "<IPython.core.display.HTML object>"
      ]
     },
     "metadata": {},
     "output_type": "display_data"
    },
    {
     "data": {
      "text/html": [
       "Syncing run <strong><a href='https://wandb.ai/frackowiak/pytorch_computer_vision/runs/sax6jrv2' target=\"_blank\">visionary-bird-2</a></strong> to <a href='https://wandb.ai/frackowiak/pytorch_computer_vision' target=\"_blank\">Weights & Biases</a> (<a href='https://wandb.me/run' target=\"_blank\">docs</a>)<br/>"
      ],
      "text/plain": [
       "<IPython.core.display.HTML object>"
      ]
     },
     "metadata": {},
     "output_type": "display_data"
    },
    {
     "data": {
      "text/html": [
       " View project at <a href='https://wandb.ai/frackowiak/pytorch_computer_vision' target=\"_blank\">https://wandb.ai/frackowiak/pytorch_computer_vision</a>"
      ],
      "text/plain": [
       "<IPython.core.display.HTML object>"
      ]
     },
     "metadata": {},
     "output_type": "display_data"
    },
    {
     "data": {
      "text/html": [
       " View run at <a href='https://wandb.ai/frackowiak/pytorch_computer_vision/runs/sax6jrv2' target=\"_blank\">https://wandb.ai/frackowiak/pytorch_computer_vision/runs/sax6jrv2</a>"
      ],
      "text/plain": [
       "<IPython.core.display.HTML object>"
      ]
     },
     "metadata": {},
     "output_type": "display_data"
    },
    {
     "data": {
      "text/html": [
       "<button onClick=\"this.nextSibling.style.display='block';this.style.display='none';\">Display W&B run</button><iframe src='https://wandb.ai/frackowiak/pytorch_computer_vision/runs/sax6jrv2?jupyter=true' style='border:none;width:100%;height:420px;display:none;'></iframe>"
      ],
      "text/plain": [
       "<wandb.sdk.wandb_run.Run at 0x7a0cb6a47cd0>"
      ]
     },
     "execution_count": 4,
     "metadata": {},
     "output_type": "execute_result"
    }
   ],
   "source": [
    "import wandb\n",
    "\n",
    "wandb.init(project=\"pytorch_computer_vision\", entity=\"frackowiak\")"
   ]
  },
  {
   "cell_type": "markdown",
   "id": "5a585136-0fde-498a-b313-b2c5a8edf159",
   "metadata": {
    "id": "5a585136-0fde-498a-b313-b2c5a8edf159"
   },
   "source": [
    "# Getting data"
   ]
  },
  {
   "cell_type": "code",
   "execution_count": 5,
   "id": "f1e0557c-f2e8-4bbc-85ef-4acb9729cd6d",
   "metadata": {
    "colab": {
     "base_uri": "https://localhost:8080/"
    },
    "id": "f1e0557c-f2e8-4bbc-85ef-4acb9729cd6d",
    "outputId": "096969b5-6c66-42a3-dc02-dd7b98734bc8"
   },
   "outputs": [],
   "source": [
    "# Setup training data\n",
    "train_data = datasets.FashionMNIST(\n",
    "    root=\"data\",  # where to download data to?\n",
    "    train=True,  # get training data\n",
    "    download=True,  # download data if it doesn't exist on disk\n",
    "    transform=ToTensor(),  # images come as PIL format, we want to turn into Torch tensors\n",
    "    target_transform=None  # you can transform labels as well\n",
    ")\n",
    "\n",
    "# Setup testing data\n",
    "test_data = datasets.FashionMNIST(\n",
    "    root=\"data\",\n",
    "    train=False, # get test data\n",
    "    download=True,\n",
    "    transform=ToTensor()\n",
    ")"
   ]
  },
  {
   "cell_type": "code",
   "execution_count": 6,
   "id": "f3930790-3e77-4093-8d06-8288d67ccbc5",
   "metadata": {
    "colab": {
     "base_uri": "https://localhost:8080/"
    },
    "id": "f3930790-3e77-4093-8d06-8288d67ccbc5",
    "outputId": "7122912b-e105-4fff-dd9f-0538adf32b74"
   },
   "outputs": [
    {
     "data": {
      "text/plain": [
       "(tensor([[[0.0000, 0.0000, 0.0000, 0.0000, 0.0000, 0.0000, 0.0000, 0.0000,\n",
       "           0.0000, 0.0000, 0.0000, 0.0000, 0.0000, 0.0000, 0.0000, 0.0000,\n",
       "           0.0000, 0.0000, 0.0000, 0.0000, 0.0000, 0.0000, 0.0000, 0.0000,\n",
       "           0.0000, 0.0000, 0.0000, 0.0000],\n",
       "          [0.0000, 0.0000, 0.0000, 0.0000, 0.0000, 0.0000, 0.0000, 0.0000,\n",
       "           0.0000, 0.0000, 0.0000, 0.0000, 0.0000, 0.0000, 0.0000, 0.0000,\n",
       "           0.0000, 0.0000, 0.0000, 0.0000, 0.0000, 0.0000, 0.0000, 0.0000,\n",
       "           0.0000, 0.0000, 0.0000, 0.0000],\n",
       "          [0.0000, 0.0000, 0.0000, 0.0000, 0.0000, 0.0000, 0.0000, 0.0000,\n",
       "           0.0000, 0.0000, 0.0000, 0.0000, 0.0000, 0.0000, 0.0000, 0.0000,\n",
       "           0.0000, 0.0000, 0.0000, 0.0000, 0.0000, 0.0000, 0.0000, 0.0000,\n",
       "           0.0000, 0.0000, 0.0000, 0.0000],\n",
       "          [0.0000, 0.0000, 0.0000, 0.0000, 0.0000, 0.0000, 0.0000, 0.0000,\n",
       "           0.0000, 0.0000, 0.0000, 0.0000, 0.0039, 0.0000, 0.0000, 0.0510,\n",
       "           0.2863, 0.0000, 0.0000, 0.0039, 0.0157, 0.0000, 0.0000, 0.0000,\n",
       "           0.0000, 0.0039, 0.0039, 0.0000],\n",
       "          [0.0000, 0.0000, 0.0000, 0.0000, 0.0000, 0.0000, 0.0000, 0.0000,\n",
       "           0.0000, 0.0000, 0.0000, 0.0000, 0.0118, 0.0000, 0.1412, 0.5333,\n",
       "           0.4980, 0.2431, 0.2118, 0.0000, 0.0000, 0.0000, 0.0039, 0.0118,\n",
       "           0.0157, 0.0000, 0.0000, 0.0118],\n",
       "          [0.0000, 0.0000, 0.0000, 0.0000, 0.0000, 0.0000, 0.0000, 0.0000,\n",
       "           0.0000, 0.0000, 0.0000, 0.0000, 0.0235, 0.0000, 0.4000, 0.8000,\n",
       "           0.6902, 0.5255, 0.5647, 0.4824, 0.0902, 0.0000, 0.0000, 0.0000,\n",
       "           0.0000, 0.0471, 0.0392, 0.0000],\n",
       "          [0.0000, 0.0000, 0.0000, 0.0000, 0.0000, 0.0000, 0.0000, 0.0000,\n",
       "           0.0000, 0.0000, 0.0000, 0.0000, 0.0000, 0.0000, 0.6078, 0.9255,\n",
       "           0.8118, 0.6980, 0.4196, 0.6118, 0.6314, 0.4275, 0.2510, 0.0902,\n",
       "           0.3020, 0.5098, 0.2824, 0.0588],\n",
       "          [0.0000, 0.0000, 0.0000, 0.0000, 0.0000, 0.0000, 0.0000, 0.0000,\n",
       "           0.0000, 0.0000, 0.0000, 0.0039, 0.0000, 0.2706, 0.8118, 0.8745,\n",
       "           0.8549, 0.8471, 0.8471, 0.6392, 0.4980, 0.4745, 0.4784, 0.5725,\n",
       "           0.5529, 0.3451, 0.6745, 0.2588],\n",
       "          [0.0000, 0.0000, 0.0000, 0.0000, 0.0000, 0.0000, 0.0000, 0.0000,\n",
       "           0.0000, 0.0039, 0.0039, 0.0039, 0.0000, 0.7843, 0.9098, 0.9098,\n",
       "           0.9137, 0.8980, 0.8745, 0.8745, 0.8431, 0.8353, 0.6431, 0.4980,\n",
       "           0.4824, 0.7686, 0.8980, 0.0000],\n",
       "          [0.0000, 0.0000, 0.0000, 0.0000, 0.0000, 0.0000, 0.0000, 0.0000,\n",
       "           0.0000, 0.0000, 0.0000, 0.0000, 0.0000, 0.7176, 0.8824, 0.8471,\n",
       "           0.8745, 0.8941, 0.9216, 0.8902, 0.8784, 0.8706, 0.8784, 0.8667,\n",
       "           0.8745, 0.9608, 0.6784, 0.0000],\n",
       "          [0.0000, 0.0000, 0.0000, 0.0000, 0.0000, 0.0000, 0.0000, 0.0000,\n",
       "           0.0000, 0.0000, 0.0000, 0.0000, 0.0000, 0.7569, 0.8941, 0.8549,\n",
       "           0.8353, 0.7765, 0.7059, 0.8314, 0.8235, 0.8275, 0.8353, 0.8745,\n",
       "           0.8627, 0.9529, 0.7922, 0.0000],\n",
       "          [0.0000, 0.0000, 0.0000, 0.0000, 0.0000, 0.0000, 0.0000, 0.0000,\n",
       "           0.0000, 0.0039, 0.0118, 0.0000, 0.0471, 0.8588, 0.8627, 0.8314,\n",
       "           0.8549, 0.7529, 0.6627, 0.8902, 0.8157, 0.8549, 0.8784, 0.8314,\n",
       "           0.8863, 0.7725, 0.8196, 0.2039],\n",
       "          [0.0000, 0.0000, 0.0000, 0.0000, 0.0000, 0.0000, 0.0000, 0.0000,\n",
       "           0.0000, 0.0000, 0.0235, 0.0000, 0.3882, 0.9569, 0.8706, 0.8627,\n",
       "           0.8549, 0.7961, 0.7765, 0.8667, 0.8431, 0.8353, 0.8706, 0.8627,\n",
       "           0.9608, 0.4667, 0.6549, 0.2196],\n",
       "          [0.0000, 0.0000, 0.0000, 0.0000, 0.0000, 0.0000, 0.0000, 0.0000,\n",
       "           0.0000, 0.0157, 0.0000, 0.0000, 0.2157, 0.9255, 0.8941, 0.9020,\n",
       "           0.8941, 0.9412, 0.9098, 0.8353, 0.8549, 0.8745, 0.9176, 0.8510,\n",
       "           0.8510, 0.8196, 0.3608, 0.0000],\n",
       "          [0.0000, 0.0000, 0.0039, 0.0157, 0.0235, 0.0275, 0.0078, 0.0000,\n",
       "           0.0000, 0.0000, 0.0000, 0.0000, 0.9294, 0.8863, 0.8510, 0.8745,\n",
       "           0.8706, 0.8588, 0.8706, 0.8667, 0.8471, 0.8745, 0.8980, 0.8431,\n",
       "           0.8549, 1.0000, 0.3020, 0.0000],\n",
       "          [0.0000, 0.0118, 0.0000, 0.0000, 0.0000, 0.0000, 0.0000, 0.0000,\n",
       "           0.0000, 0.2431, 0.5686, 0.8000, 0.8941, 0.8118, 0.8353, 0.8667,\n",
       "           0.8549, 0.8157, 0.8275, 0.8549, 0.8784, 0.8745, 0.8588, 0.8431,\n",
       "           0.8784, 0.9569, 0.6235, 0.0000],\n",
       "          [0.0000, 0.0000, 0.0000, 0.0000, 0.0706, 0.1725, 0.3216, 0.4196,\n",
       "           0.7412, 0.8941, 0.8627, 0.8706, 0.8510, 0.8863, 0.7843, 0.8039,\n",
       "           0.8275, 0.9020, 0.8784, 0.9176, 0.6902, 0.7373, 0.9804, 0.9725,\n",
       "           0.9137, 0.9333, 0.8431, 0.0000],\n",
       "          [0.0000, 0.2235, 0.7333, 0.8157, 0.8784, 0.8667, 0.8784, 0.8157,\n",
       "           0.8000, 0.8392, 0.8157, 0.8196, 0.7843, 0.6235, 0.9608, 0.7569,\n",
       "           0.8078, 0.8745, 1.0000, 1.0000, 0.8667, 0.9176, 0.8667, 0.8275,\n",
       "           0.8627, 0.9098, 0.9647, 0.0000],\n",
       "          [0.0118, 0.7922, 0.8941, 0.8784, 0.8667, 0.8275, 0.8275, 0.8392,\n",
       "           0.8039, 0.8039, 0.8039, 0.8627, 0.9412, 0.3137, 0.5882, 1.0000,\n",
       "           0.8980, 0.8667, 0.7373, 0.6039, 0.7490, 0.8235, 0.8000, 0.8196,\n",
       "           0.8706, 0.8941, 0.8824, 0.0000],\n",
       "          [0.3843, 0.9137, 0.7765, 0.8235, 0.8706, 0.8980, 0.8980, 0.9176,\n",
       "           0.9765, 0.8627, 0.7608, 0.8431, 0.8510, 0.9451, 0.2549, 0.2863,\n",
       "           0.4157, 0.4588, 0.6588, 0.8588, 0.8667, 0.8431, 0.8510, 0.8745,\n",
       "           0.8745, 0.8784, 0.8980, 0.1137],\n",
       "          [0.2941, 0.8000, 0.8314, 0.8000, 0.7569, 0.8039, 0.8275, 0.8824,\n",
       "           0.8471, 0.7255, 0.7725, 0.8078, 0.7765, 0.8353, 0.9412, 0.7647,\n",
       "           0.8902, 0.9608, 0.9373, 0.8745, 0.8549, 0.8314, 0.8196, 0.8706,\n",
       "           0.8627, 0.8667, 0.9020, 0.2627],\n",
       "          [0.1882, 0.7961, 0.7176, 0.7608, 0.8353, 0.7725, 0.7255, 0.7451,\n",
       "           0.7608, 0.7529, 0.7922, 0.8392, 0.8588, 0.8667, 0.8627, 0.9255,\n",
       "           0.8824, 0.8471, 0.7804, 0.8078, 0.7294, 0.7098, 0.6941, 0.6745,\n",
       "           0.7098, 0.8039, 0.8078, 0.4510],\n",
       "          [0.0000, 0.4784, 0.8588, 0.7569, 0.7020, 0.6706, 0.7176, 0.7686,\n",
       "           0.8000, 0.8235, 0.8353, 0.8118, 0.8275, 0.8235, 0.7843, 0.7686,\n",
       "           0.7608, 0.7490, 0.7647, 0.7490, 0.7765, 0.7529, 0.6902, 0.6118,\n",
       "           0.6549, 0.6941, 0.8235, 0.3608],\n",
       "          [0.0000, 0.0000, 0.2902, 0.7412, 0.8314, 0.7490, 0.6863, 0.6745,\n",
       "           0.6863, 0.7098, 0.7255, 0.7373, 0.7412, 0.7373, 0.7569, 0.7765,\n",
       "           0.8000, 0.8196, 0.8235, 0.8235, 0.8275, 0.7373, 0.7373, 0.7608,\n",
       "           0.7529, 0.8471, 0.6667, 0.0000],\n",
       "          [0.0078, 0.0000, 0.0000, 0.0000, 0.2588, 0.7843, 0.8706, 0.9294,\n",
       "           0.9373, 0.9490, 0.9647, 0.9529, 0.9569, 0.8667, 0.8627, 0.7569,\n",
       "           0.7490, 0.7020, 0.7137, 0.7137, 0.7098, 0.6902, 0.6510, 0.6588,\n",
       "           0.3882, 0.2275, 0.0000, 0.0000],\n",
       "          [0.0000, 0.0000, 0.0000, 0.0000, 0.0000, 0.0000, 0.0000, 0.1569,\n",
       "           0.2392, 0.1725, 0.2824, 0.1608, 0.1373, 0.0000, 0.0000, 0.0000,\n",
       "           0.0000, 0.0000, 0.0000, 0.0000, 0.0000, 0.0000, 0.0000, 0.0000,\n",
       "           0.0000, 0.0000, 0.0000, 0.0000],\n",
       "          [0.0000, 0.0000, 0.0000, 0.0000, 0.0000, 0.0000, 0.0000, 0.0000,\n",
       "           0.0000, 0.0000, 0.0000, 0.0000, 0.0000, 0.0000, 0.0000, 0.0000,\n",
       "           0.0000, 0.0000, 0.0000, 0.0000, 0.0000, 0.0000, 0.0000, 0.0000,\n",
       "           0.0000, 0.0000, 0.0000, 0.0000],\n",
       "          [0.0000, 0.0000, 0.0000, 0.0000, 0.0000, 0.0000, 0.0000, 0.0000,\n",
       "           0.0000, 0.0000, 0.0000, 0.0000, 0.0000, 0.0000, 0.0000, 0.0000,\n",
       "           0.0000, 0.0000, 0.0000, 0.0000, 0.0000, 0.0000, 0.0000, 0.0000,\n",
       "           0.0000, 0.0000, 0.0000, 0.0000]]]),\n",
       " 9)"
      ]
     },
     "execution_count": 6,
     "metadata": {},
     "output_type": "execute_result"
    }
   ],
   "source": [
    "image, label = train_data[0]\n",
    "image, label"
   ]
  },
  {
   "cell_type": "code",
   "execution_count": 7,
   "id": "d342333f-7cba-4d2d-b36b-df774a99281a",
   "metadata": {
    "colab": {
     "base_uri": "https://localhost:8080/"
    },
    "id": "d342333f-7cba-4d2d-b36b-df774a99281a",
    "outputId": "607e9843-9211-4139-d784-f1f65c7d66a8"
   },
   "outputs": [
    {
     "data": {
      "text/plain": [
       "torch.Size([1, 28, 28])"
      ]
     },
     "execution_count": 7,
     "metadata": {},
     "output_type": "execute_result"
    }
   ],
   "source": [
    "image.shape"
   ]
  },
  {
   "cell_type": "code",
   "execution_count": 8,
   "id": "ff7c2610-1bf9-4f4b-b6ee-04699258e859",
   "metadata": {
    "colab": {
     "base_uri": "https://localhost:8080/"
    },
    "id": "ff7c2610-1bf9-4f4b-b6ee-04699258e859",
    "outputId": "4fddf9a2-b942-43d8-df34-346c8cf4c164"
   },
   "outputs": [
    {
     "data": {
      "text/plain": [
       "(60000, 60000, 10000, 10000)"
      ]
     },
     "execution_count": 8,
     "metadata": {},
     "output_type": "execute_result"
    }
   ],
   "source": [
    "len(train_data.data), len(train_data.targets), len(test_data.data), len(test_data.targets)"
   ]
  },
  {
   "cell_type": "code",
   "execution_count": 9,
   "id": "5b193415-5da8-403b-9aeb-cfcdfaaf3c79",
   "metadata": {
    "colab": {
     "base_uri": "https://localhost:8080/"
    },
    "id": "5b193415-5da8-403b-9aeb-cfcdfaaf3c79",
    "outputId": "3b8365fc-8a31-499b-cfc5-f8fdc77248df"
   },
   "outputs": [
    {
     "data": {
      "text/plain": [
       "['T-shirt/top',\n",
       " 'Trouser',\n",
       " 'Pullover',\n",
       " 'Dress',\n",
       " 'Coat',\n",
       " 'Sandal',\n",
       " 'Shirt',\n",
       " 'Sneaker',\n",
       " 'Bag',\n",
       " 'Ankle boot']"
      ]
     },
     "execution_count": 9,
     "metadata": {},
     "output_type": "execute_result"
    }
   ],
   "source": [
    "class_names = train_data.classes\n",
    "class_names"
   ]
  },
  {
   "cell_type": "code",
   "execution_count": 10,
   "id": "15c473ed-7817-4081-9dac-fd345fdf3d50",
   "metadata": {
    "colab": {
     "base_uri": "https://localhost:8080/",
     "height": 469
    },
    "id": "15c473ed-7817-4081-9dac-fd345fdf3d50",
    "outputId": "a6061c8e-9f7f-4ac3-a956-8d28edb24cc1"
   },
   "outputs": [
    {
     "name": "stdout",
     "output_type": "stream",
     "text": [
      "Image shape: torch.Size([1, 28, 28])\n"
     ]
    },
    {
     "data": {
      "image/png": "[encoded data removed]",
      "text/plain": [
       "<Figure size 640x480 with 1 Axes>"
      ]
     },
     "metadata": {},
     "output_type": "display_data"
    }
   ],
   "source": [
    "image, label = train_data[0]\n",
    "print(f\"Image shape: {image.shape}\")\n",
    "plt.imshow(image.squeeze())\n",
    "plt.title(label);"
   ]
  },
  {
   "cell_type": "code",
   "execution_count": 11,
   "id": "687a5114-353d-4760-8164-6d19fbdfa797",
   "metadata": {
    "colab": {
     "base_uri": "https://localhost:8080/",
     "height": 469
    },
    "id": "687a5114-353d-4760-8164-6d19fbdfa797",
    "outputId": "e5bdaa4d-f6f3-4708-d46e-f914ff015f66"
   },
   "outputs": [
    {
     "data": {
      "text/plain": [
       "Text(0.5, 1.0, 'Ankle boot')"
      ]
     },
     "execution_count": 11,
     "metadata": {},
     "output_type": "execute_result"
    },
    {
     "data": {
      "image/png": "[encoded data removed]",
      "text/plain": [
       "<Figure size 640x480 with 1 Axes>"
      ]
     },
     "metadata": {},
     "output_type": "display_data"
    }
   ],
   "source": [
    "plt.imshow(image.squeeze(), cmap=\"gray\")\n",
    "plt.title(class_names[label])"
   ]
  },
  {
   "cell_type": "code",
   "execution_count": 12,
   "id": "801fdad3-645d-40c0-a9d4-7c649f57c0e9",
   "metadata": {
    "colab": {
     "base_uri": "https://localhost:8080/",
     "height": 663
    },
    "id": "801fdad3-645d-40c0-a9d4-7c649f57c0e9",
    "outputId": "a5982e93-dbd0-4b02-9ebd-628372182346"
   },
   "outputs": [
    {
     "data": {
      "image/png": "[encoded data removed]",
      "text/plain": [
       "<Figure size 900x900 with 16 Axes>"
      ]
     },
     "metadata": {},
     "output_type": "display_data"
    }
   ],
   "source": [
    "torch.manual_seed(42)\n",
    "fig = plt.figure(figsize=(9, 9))\n",
    "rows, cols = 4, 4\n",
    "for i in range(1, rows * cols + 1):\n",
    "    random_idx = torch.randint(0, len(train_data), size=[1]).item()\n",
    "    img, label = train_data[random_idx]\n",
    "    fig.add_subplot(rows, cols, i)\n",
    "    plt.imshow(img.squeeze(), cmap=\"gray\")\n",
    "    plt.title(class_names[label])\n",
    "    plt.axis(False);"
   ]
  },
  {
   "cell_type": "markdown",
   "id": "66231b2d-ec51-4a2c-8767-2b3f259e1387",
   "metadata": {
    "id": "66231b2d-ec51-4a2c-8767-2b3f259e1387"
   },
   "source": [
    "# DataLoader"
   ]
  },
  {
   "cell_type": "code",
   "execution_count": 13,
   "id": "5edfe466-a493-4d44-818d-096a709f195e",
   "metadata": {
    "colab": {
     "base_uri": "https://localhost:8080/"
    },
    "id": "5edfe466-a493-4d44-818d-096a709f195e",
    "outputId": "09ba33cd-6dd8-497f-ecef-2d857b7e4218"
   },
   "outputs": [
    {
     "name": "stdout",
     "output_type": "stream",
     "text": [
      "Dataloaders: (<torch.utils.data.dataloader.DataLoader object at 0x7a0cb4e77590>, <torch.utils.data.dataloader.DataLoader object at 0x7a0cb4c28f50>)\n",
      "Lenght of train dataloader: 1875 batches of 32\n",
      "Length of test dataloader: 313 batches of 32\n"
     ]
    }
   ],
   "source": [
    "from torch.utils.data import DataLoader\n",
    "\n",
    "BATCH_SIZE = 32\n",
    "\n",
    "# Turn datasets into iterable (batches)\n",
    "train_dataloader = DataLoader(train_data,\n",
    "                              batch_size=BATCH_SIZE,\n",
    "                              shuffle=True\n",
    "                             )\n",
    "test_dataloader = DataLoader(test_data,\n",
    "                             batch_size=BATCH_SIZE,\n",
    "                             shuffle=False\n",
    "                            )\n",
    "\n",
    "print(f\"Dataloaders: {train_dataloader, test_dataloader}\")\n",
    "print(f\"Lenght of train dataloader: {len(train_dataloader)} batches of {BATCH_SIZE}\")\n",
    "print(f\"Length of test dataloader: {len(test_dataloader)} batches of {BATCH_SIZE}\")"
   ]
  },
  {
   "cell_type": "code",
   "execution_count": 14,
   "id": "e763f4c6-c3c0-4241-bb82-7f18b32e55fa",
   "metadata": {
    "colab": {
     "base_uri": "https://localhost:8080/"
    },
    "id": "e763f4c6-c3c0-4241-bb82-7f18b32e55fa",
    "outputId": "4c0f452e-4f46-42d4-8b1a-4760f09bc757"
   },
   "outputs": [
    {
     "data": {
      "text/plain": [
       "(torch.Size([32, 1, 28, 28]), torch.Size([32]))"
      ]
     },
     "execution_count": 14,
     "metadata": {},
     "output_type": "execute_result"
    }
   ],
   "source": [
    "train_features_batch, train_labels_batch = next(iter(train_dataloader))\n",
    "train_features_batch.shape, train_labels_batch.shape"
   ]
  },
  {
   "cell_type": "code",
   "execution_count": 15,
   "id": "878bdadc-998e-44d9-a90b-3717f6943449",
   "metadata": {
    "colab": {
     "base_uri": "https://localhost:8080/",
     "height": 463
    },
    "id": "878bdadc-998e-44d9-a90b-3717f6943449",
    "outputId": "2385e377-5661-4a0a-e60d-45e1182cffe9"
   },
   "outputs": [
    {
     "name": "stdout",
     "output_type": "stream",
     "text": [
      "Image size: torch.Size([1, 28, 28])\n",
      "Label: 6, label size: torch.Size([])\n"
     ]
    },
    {
     "data": {
      "image/png": "[encoded data removed]",
      "text/plain": [
       "<Figure size 640x480 with 1 Axes>"
      ]
     },
     "metadata": {},
     "output_type": "display_data"
    }
   ],
   "source": [
    "torch.manual_seed(42)\n",
    "random_idx = torch.randint(0, len(train_features_batch), size=[1]).item()\n",
    "img, label = train_features_batch[random_idx], train_labels_batch[random_idx]\n",
    "plt.imshow(img.squeeze(), cmap=\"gray\")\n",
    "plt.title(class_names[label])\n",
    "plt.axis(\"Off\")\n",
    "print(f\"Image size: {img.shape}\")\n",
    "print(f\"Label: {label}, label size: {label.shape}\")"
   ]
  },
  {
   "cell_type": "markdown",
   "id": "7fd55316-ab16-4721-b79d-d78bb6dc5685",
   "metadata": {
    "id": "7fd55316-ab16-4721-b79d-d78bb6dc5685"
   },
   "source": [
    "# Model 0"
   ]
  },
  {
   "cell_type": "code",
   "execution_count": 16,
   "id": "fb2bccde-d159-4d30-ab6c-4f7609d64b00",
   "metadata": {
    "colab": {
     "base_uri": "https://localhost:8080/"
    },
    "id": "fb2bccde-d159-4d30-ab6c-4f7609d64b00",
    "outputId": "83359c32-8c78-451f-bc47-feae753521b4"
   },
   "outputs": [
    {
     "name": "stdout",
     "output_type": "stream",
     "text": [
      "Shape before flattening: torch.Size([1, 28, 28]) -> [color_channels, height, width]\n",
      "Shape after flattening: torch.Size([1, 784])  -> [color_channels, heght*width]\n",
      "tensor([[[0.0000, 0.0000, 0.0000, 0.0000, 0.0000, 0.0000, 0.0000, 0.0000,\n",
      "          0.0000, 0.0000, 0.0000, 0.0000, 0.0000, 0.0000, 0.0000, 0.0000,\n",
      "          0.0000, 0.0000, 0.0000, 0.0000, 0.0000, 0.0000, 0.0000, 0.0000,\n",
      "          0.0000, 0.0000, 0.0000, 0.0000],\n",
      "         [0.0000, 0.0000, 0.0000, 0.0000, 0.0000, 0.0000, 0.0000, 0.0000,\n",
      "          0.0000, 0.0000, 0.0000, 0.0000, 0.0000, 0.0000, 0.0000, 0.0000,\n",
      "          0.0000, 0.0000, 0.0000, 0.0000, 0.0000, 0.0000, 0.0000, 0.0000,\n",
      "          0.0000, 0.0000, 0.0000, 0.0000],\n",
      "         [0.0000, 0.0000, 0.0000, 0.0000, 0.0000, 0.0000, 0.0000, 0.0000,\n",
      "          0.0000, 0.0000, 0.0000, 0.0000, 0.0000, 0.0000, 0.0000, 0.0000,\n",
      "          0.0000, 0.0000, 0.0000, 0.0000, 0.0000, 0.0000, 0.0000, 0.0000,\n",
      "          0.0000, 0.0000, 0.0000, 0.0000],\n",
      "         [0.0000, 0.0000, 0.0000, 0.0000, 0.0000, 0.0000, 0.0000, 0.0000,\n",
      "          0.0000, 0.0039, 0.0039, 0.0000, 0.0000, 0.0078, 0.0078, 0.0000,\n",
      "          0.0000, 0.0039, 0.0078, 0.0000, 0.0000, 0.0000, 0.0000, 0.0000,\n",
      "          0.2863, 0.0000, 0.0000, 0.0078],\n",
      "         [0.0000, 0.0000, 0.0000, 0.0000, 0.0000, 0.0000, 0.0000, 0.0000,\n",
      "          0.0000, 0.0000, 0.0000, 0.0000, 0.0000, 0.0000, 0.0000, 0.0000,\n",
      "          0.0000, 0.0000, 0.0000, 0.0000, 0.0000, 0.0000, 0.0000, 0.0000,\n",
      "          0.3725, 0.0000, 0.0000, 0.0000],\n",
      "         [0.0000, 0.0000, 0.0000, 0.0000, 0.0000, 0.0000, 0.0000, 0.0000,\n",
      "          0.0000, 0.0000, 0.0000, 0.0000, 0.0000, 0.3373, 0.3569, 0.2039,\n",
      "          0.4980, 0.4196, 0.4706, 0.3608, 0.3961, 0.4706, 0.4471, 1.0000,\n",
      "          0.4314, 0.3451, 0.0078, 0.0000],\n",
      "         [0.0000, 0.0000, 0.0000, 0.0000, 0.0000, 0.0000, 0.0000, 0.0000,\n",
      "          0.0000, 0.0000, 0.0000, 0.0000, 0.0000, 0.0706, 0.0824, 0.0706,\n",
      "          0.4588, 0.4118, 0.4980, 0.2588, 0.2235, 0.2588, 0.0824, 0.0510,\n",
      "          0.1922, 0.5137, 0.5765, 0.0000],\n",
      "         [0.0000, 0.0000, 0.0000, 0.0000, 0.0000, 0.0000, 0.0000, 0.0000,\n",
      "          0.0000, 0.0000, 0.0000, 0.0000, 0.0000, 0.0000, 0.0000, 0.0000,\n",
      "          0.0000, 0.0000, 0.0000, 0.0000, 0.0000, 0.0000, 0.0000, 0.1333,\n",
      "          0.8000, 0.5608, 0.5255, 0.2431],\n",
      "         [0.0000, 0.0000, 0.0000, 0.0000, 0.0000, 0.0000, 0.0000, 0.0000,\n",
      "          0.0000, 0.0000, 0.0000, 0.0000, 0.0000, 0.0039, 0.0039, 0.0000,\n",
      "          0.0000, 0.0000, 0.0000, 0.0078, 0.0000, 0.0000, 0.0000, 0.9137,\n",
      "          0.9686, 0.5137, 0.4353, 0.6471],\n",
      "         [0.0000, 0.0000, 0.0000, 0.0000, 0.0000, 0.0000, 0.0000, 0.0000,\n",
      "          0.0000, 0.0000, 0.0000, 0.0000, 0.0000, 0.0000, 0.0000, 0.0000,\n",
      "          0.0000, 0.0000, 0.0000, 0.0000, 0.0000, 0.0000, 0.0588, 0.3843,\n",
      "          0.6980, 0.0588, 0.2824, 0.1686],\n",
      "         [0.0000, 0.0000, 0.0000, 0.0000, 0.0000, 0.0000, 0.0000, 0.0000,\n",
      "          0.0000, 0.0000, 0.0000, 0.0000, 0.0000, 0.0000, 0.0000, 0.0000,\n",
      "          0.0000, 0.0000, 0.0000, 0.0000, 0.0000, 0.1333, 0.2078, 0.2157,\n",
      "          0.6745, 0.2941, 0.1059, 0.0000],\n",
      "         [0.0000, 0.0000, 0.0000, 0.0000, 0.0000, 0.0000, 0.0000, 0.0000,\n",
      "          0.0000, 0.0000, 0.0000, 0.0000, 0.0000, 0.0000, 0.0000, 0.0000,\n",
      "          0.0000, 0.0000, 0.0039, 0.0000, 0.0078, 0.3333, 0.2980, 0.2941,\n",
      "          0.2039, 0.0314, 0.0000, 0.0000],\n",
      "         [0.0000, 0.0000, 0.0000, 0.0000, 0.0000, 0.0000, 0.0000, 0.0000,\n",
      "          0.0000, 0.0000, 0.0000, 0.0000, 0.0000, 0.0000, 0.0000, 0.0000,\n",
      "          0.0000, 0.0039, 0.0039, 0.0000, 0.2196, 0.5020, 0.0157, 0.0706,\n",
      "          0.3451, 0.3216, 0.0588, 0.0000],\n",
      "         [0.0000, 0.0000, 0.0000, 0.0000, 0.0000, 0.0000, 0.0000, 0.0000,\n",
      "          0.0000, 0.0000, 0.0000, 0.0000, 0.0000, 0.0000, 0.0000, 0.0000,\n",
      "          0.0000, 0.0000, 0.0000, 0.0157, 0.4863, 0.3843, 0.1804, 0.6235,\n",
      "          0.7882, 0.6000, 0.1569, 0.0000],\n",
      "         [0.0000, 0.0000, 0.0000, 0.0000, 0.0000, 0.0000, 0.0000, 0.0000,\n",
      "          0.0000, 0.0000, 0.0000, 0.0000, 0.0000, 0.0000, 0.0000, 0.0000,\n",
      "          0.0000, 0.0000, 0.0000, 0.2863, 0.4431, 0.4196, 0.5882, 0.5020,\n",
      "          0.1020, 0.2235, 0.0549, 0.0000],\n",
      "         [0.0000, 0.0000, 0.0000, 0.0000, 0.0000, 0.0000, 0.0000, 0.0000,\n",
      "          0.0000, 0.0000, 0.0000, 0.0000, 0.0000, 0.0000, 0.0000, 0.0000,\n",
      "          0.0000, 0.0000, 0.0039, 0.4078, 0.4314, 0.7137, 0.1843, 0.2196,\n",
      "          0.4118, 0.3216, 0.0196, 0.0000],\n",
      "         [0.0000, 0.0000, 0.0000, 0.0000, 0.0039, 0.0000, 0.0000, 0.0000,\n",
      "          0.0000, 0.0000, 0.0000, 0.0000, 0.0000, 0.0000, 0.0000, 0.0000,\n",
      "          0.0000, 0.0000, 0.2549, 0.5647, 0.6275, 0.0824, 0.0000, 0.0000,\n",
      "          0.5098, 0.3333, 0.0000, 0.0000],\n",
      "         [0.0000, 0.0000, 0.0000, 0.0000, 0.0000, 0.0000, 0.0039, 0.0039,\n",
      "          0.0000, 0.0000, 0.0000, 0.0000, 0.0000, 0.0000, 0.0000, 0.0000,\n",
      "          0.0000, 0.3333, 0.5647, 0.5529, 0.0000, 0.0000, 0.0000, 0.0000,\n",
      "          0.6510, 0.3059, 0.0000, 0.0000],\n",
      "         [0.0000, 0.0000, 0.0000, 0.0000, 0.0000, 0.0000, 0.0000, 0.0000,\n",
      "          0.0000, 0.0000, 0.0000, 0.0000, 0.0000, 0.0000, 0.0000, 0.0000,\n",
      "          0.1922, 0.7216, 0.4510, 0.0000, 0.0000, 0.0157, 0.0000, 0.0000,\n",
      "          0.6275, 0.2667, 0.0000, 0.0000],\n",
      "         [0.0000, 0.0000, 0.0000, 0.0039, 0.0000, 0.0000, 0.0784, 0.0784,\n",
      "          0.0000, 0.0000, 0.0000, 0.0000, 0.0000, 0.0000, 0.0000, 0.0706,\n",
      "          0.6392, 0.3804, 0.0000, 0.0000, 0.0000, 0.0314, 0.0000, 0.0000,\n",
      "          0.6667, 0.1529, 0.0000, 0.0000],\n",
      "         [0.0000, 0.0000, 0.0039, 0.0000, 0.0314, 0.2471, 0.2980, 0.1686,\n",
      "          0.0000, 0.0000, 0.0000, 0.0000, 0.0000, 0.0000, 0.0000, 0.5255,\n",
      "          0.5333, 0.0000, 0.0000, 0.0000, 0.0000, 0.0078, 0.0000, 0.0000,\n",
      "          0.6784, 0.0706, 0.0000, 0.0039],\n",
      "         [0.0039, 0.0039, 0.0000, 0.0000, 0.0706, 0.0941, 0.0000, 0.0196,\n",
      "          0.0000, 0.0000, 0.0000, 0.0000, 0.0000, 0.0000, 0.3451, 0.7137,\n",
      "          0.0275, 0.0000, 0.0000, 0.0000, 0.0000, 0.0000, 0.0000, 0.0000,\n",
      "          0.6588, 0.0039, 0.0000, 0.0039],\n",
      "         [0.0000, 0.0000, 0.0000, 0.0000, 0.0078, 0.1922, 0.1059, 0.1216,\n",
      "          0.2196, 0.0667, 0.0000, 0.0000, 0.0000, 0.3451, 0.6000, 0.1922,\n",
      "          0.0000, 0.0196, 0.0000, 0.0039, 0.0000, 0.0000, 0.0000, 0.0000,\n",
      "          0.6471, 0.0000, 0.0000, 0.0039],\n",
      "         [0.0510, 0.0275, 0.0000, 0.0000, 0.0000, 0.3294, 0.3804, 0.4000,\n",
      "          0.4941, 0.3882, 0.0000, 0.0196, 0.5020, 0.6000, 0.2863, 0.0000,\n",
      "          0.0000, 0.0000, 0.0000, 0.0000, 0.0000, 0.0000, 0.0000, 0.0039,\n",
      "          0.5451, 0.0000, 0.0000, 0.0000],\n",
      "         [0.3176, 0.5961, 0.5725, 0.5490, 0.4863, 0.4824, 0.5098, 0.4941,\n",
      "          0.4431, 0.4431, 0.4471, 0.7216, 0.6235, 0.1647, 0.0000, 0.0000,\n",
      "          0.0000, 0.0078, 0.0000, 0.0000, 0.0000, 0.0000, 0.0000, 0.0000,\n",
      "          0.7294, 0.0000, 0.0000, 0.0039],\n",
      "         [0.0000, 0.0000, 0.0000, 0.0941, 0.1647, 0.1804, 0.2235, 0.2549,\n",
      "          0.2706, 0.2549, 0.2471, 0.1569, 0.0000, 0.0000, 0.0000, 0.0000,\n",
      "          0.0000, 0.0000, 0.0000, 0.0000, 0.0000, 0.0000, 0.0000, 0.0000,\n",
      "          0.7137, 0.0157, 0.0000, 0.0039],\n",
      "         [0.0000, 0.0000, 0.0000, 0.0000, 0.0000, 0.0000, 0.0000, 0.0000,\n",
      "          0.0000, 0.0000, 0.0000, 0.0000, 0.0000, 0.0000, 0.0000, 0.0000,\n",
      "          0.0000, 0.0000, 0.0000, 0.0000, 0.0000, 0.0000, 0.0000, 0.0000,\n",
      "          0.0000, 0.0000, 0.0000, 0.0000],\n",
      "         [0.0000, 0.0000, 0.0000, 0.0000, 0.0000, 0.0000, 0.0000, 0.0000,\n",
      "          0.0000, 0.0000, 0.0000, 0.0000, 0.0000, 0.0000, 0.0000, 0.0000,\n",
      "          0.0000, 0.0000, 0.0000, 0.0000, 0.0000, 0.0000, 0.0000, 0.0000,\n",
      "          0.0000, 0.0000, 0.0000, 0.0000]]])\n",
      "tensor([[0.0000, 0.0000, 0.0000, 0.0000, 0.0000, 0.0000, 0.0000, 0.0000, 0.0000,\n",
      "         0.0000, 0.0000, 0.0000, 0.0000, 0.0000, 0.0000, 0.0000, 0.0000, 0.0000,\n",
      "         0.0000, 0.0000, 0.0000, 0.0000, 0.0000, 0.0000, 0.0000, 0.0000, 0.0000,\n",
      "         0.0000, 0.0000, 0.0000, 0.0000, 0.0000, 0.0000, 0.0000, 0.0000, 0.0000,\n",
      "         0.0000, 0.0000, 0.0000, 0.0000, 0.0000, 0.0000, 0.0000, 0.0000, 0.0000,\n",
      "         0.0000, 0.0000, 0.0000, 0.0000, 0.0000, 0.0000, 0.0000, 0.0000, 0.0000,\n",
      "         0.0000, 0.0000, 0.0000, 0.0000, 0.0000, 0.0000, 0.0000, 0.0000, 0.0000,\n",
      "         0.0000, 0.0000, 0.0000, 0.0000, 0.0000, 0.0000, 0.0000, 0.0000, 0.0000,\n",
      "         0.0000, 0.0000, 0.0000, 0.0000, 0.0000, 0.0000, 0.0000, 0.0000, 0.0000,\n",
      "         0.0000, 0.0000, 0.0000, 0.0000, 0.0000, 0.0000, 0.0000, 0.0000, 0.0000,\n",
      "         0.0000, 0.0000, 0.0000, 0.0039, 0.0039, 0.0000, 0.0000, 0.0078, 0.0078,\n",
      "         0.0000, 0.0000, 0.0039, 0.0078, 0.0000, 0.0000, 0.0000, 0.0000, 0.0000,\n",
      "         0.2863, 0.0000, 0.0000, 0.0078, 0.0000, 0.0000, 0.0000, 0.0000, 0.0000,\n",
      "         0.0000, 0.0000, 0.0000, 0.0000, 0.0000, 0.0000, 0.0000, 0.0000, 0.0000,\n",
      "         0.0000, 0.0000, 0.0000, 0.0000, 0.0000, 0.0000, 0.0000, 0.0000, 0.0000,\n",
      "         0.0000, 0.3725, 0.0000, 0.0000, 0.0000, 0.0000, 0.0000, 0.0000, 0.0000,\n",
      "         0.0000, 0.0000, 0.0000, 0.0000, 0.0000, 0.0000, 0.0000, 0.0000, 0.0000,\n",
      "         0.3373, 0.3569, 0.2039, 0.4980, 0.4196, 0.4706, 0.3608, 0.3961, 0.4706,\n",
      "         0.4471, 1.0000, 0.4314, 0.3451, 0.0078, 0.0000, 0.0000, 0.0000, 0.0000,\n",
      "         0.0000, 0.0000, 0.0000, 0.0000, 0.0000, 0.0000, 0.0000, 0.0000, 0.0000,\n",
      "         0.0000, 0.0706, 0.0824, 0.0706, 0.4588, 0.4118, 0.4980, 0.2588, 0.2235,\n",
      "         0.2588, 0.0824, 0.0510, 0.1922, 0.5137, 0.5765, 0.0000, 0.0000, 0.0000,\n",
      "         0.0000, 0.0000, 0.0000, 0.0000, 0.0000, 0.0000, 0.0000, 0.0000, 0.0000,\n",
      "         0.0000, 0.0000, 0.0000, 0.0000, 0.0000, 0.0000, 0.0000, 0.0000, 0.0000,\n",
      "         0.0000, 0.0000, 0.0000, 0.1333, 0.8000, 0.5608, 0.5255, 0.2431, 0.0000,\n",
      "         0.0000, 0.0000, 0.0000, 0.0000, 0.0000, 0.0000, 0.0000, 0.0000, 0.0000,\n",
      "         0.0000, 0.0000, 0.0000, 0.0039, 0.0039, 0.0000, 0.0000, 0.0000, 0.0000,\n",
      "         0.0078, 0.0000, 0.0000, 0.0000, 0.9137, 0.9686, 0.5137, 0.4353, 0.6471,\n",
      "         0.0000, 0.0000, 0.0000, 0.0000, 0.0000, 0.0000, 0.0000, 0.0000, 0.0000,\n",
      "         0.0000, 0.0000, 0.0000, 0.0000, 0.0000, 0.0000, 0.0000, 0.0000, 0.0000,\n",
      "         0.0000, 0.0000, 0.0000, 0.0000, 0.0588, 0.3843, 0.6980, 0.0588, 0.2824,\n",
      "         0.1686, 0.0000, 0.0000, 0.0000, 0.0000, 0.0000, 0.0000, 0.0000, 0.0000,\n",
      "         0.0000, 0.0000, 0.0000, 0.0000, 0.0000, 0.0000, 0.0000, 0.0000, 0.0000,\n",
      "         0.0000, 0.0000, 0.0000, 0.0000, 0.1333, 0.2078, 0.2157, 0.6745, 0.2941,\n",
      "         0.1059, 0.0000, 0.0000, 0.0000, 0.0000, 0.0000, 0.0000, 0.0000, 0.0000,\n",
      "         0.0000, 0.0000, 0.0000, 0.0000, 0.0000, 0.0000, 0.0000, 0.0000, 0.0000,\n",
      "         0.0000, 0.0000, 0.0039, 0.0000, 0.0078, 0.3333, 0.2980, 0.2941, 0.2039,\n",
      "         0.0314, 0.0000, 0.0000, 0.0000, 0.0000, 0.0000, 0.0000, 0.0000, 0.0000,\n",
      "         0.0000, 0.0000, 0.0000, 0.0000, 0.0000, 0.0000, 0.0000, 0.0000, 0.0000,\n",
      "         0.0000, 0.0000, 0.0039, 0.0039, 0.0000, 0.2196, 0.5020, 0.0157, 0.0706,\n",
      "         0.3451, 0.3216, 0.0588, 0.0000, 0.0000, 0.0000, 0.0000, 0.0000, 0.0000,\n",
      "         0.0000, 0.0000, 0.0000, 0.0000, 0.0000, 0.0000, 0.0000, 0.0000, 0.0000,\n",
      "         0.0000, 0.0000, 0.0000, 0.0000, 0.0000, 0.0157, 0.4863, 0.3843, 0.1804,\n",
      "         0.6235, 0.7882, 0.6000, 0.1569, 0.0000, 0.0000, 0.0000, 0.0000, 0.0000,\n",
      "         0.0000, 0.0000, 0.0000, 0.0000, 0.0000, 0.0000, 0.0000, 0.0000, 0.0000,\n",
      "         0.0000, 0.0000, 0.0000, 0.0000, 0.0000, 0.0000, 0.2863, 0.4431, 0.4196,\n",
      "         0.5882, 0.5020, 0.1020, 0.2235, 0.0549, 0.0000, 0.0000, 0.0000, 0.0000,\n",
      "         0.0000, 0.0000, 0.0000, 0.0000, 0.0000, 0.0000, 0.0000, 0.0000, 0.0000,\n",
      "         0.0000, 0.0000, 0.0000, 0.0000, 0.0000, 0.0000, 0.0039, 0.4078, 0.4314,\n",
      "         0.7137, 0.1843, 0.2196, 0.4118, 0.3216, 0.0196, 0.0000, 0.0000, 0.0000,\n",
      "         0.0000, 0.0000, 0.0039, 0.0000, 0.0000, 0.0000, 0.0000, 0.0000, 0.0000,\n",
      "         0.0000, 0.0000, 0.0000, 0.0000, 0.0000, 0.0000, 0.0000, 0.2549, 0.5647,\n",
      "         0.6275, 0.0824, 0.0000, 0.0000, 0.5098, 0.3333, 0.0000, 0.0000, 0.0000,\n",
      "         0.0000, 0.0000, 0.0000, 0.0000, 0.0000, 0.0039, 0.0039, 0.0000, 0.0000,\n",
      "         0.0000, 0.0000, 0.0000, 0.0000, 0.0000, 0.0000, 0.0000, 0.3333, 0.5647,\n",
      "         0.5529, 0.0000, 0.0000, 0.0000, 0.0000, 0.6510, 0.3059, 0.0000, 0.0000,\n",
      "         0.0000, 0.0000, 0.0000, 0.0000, 0.0000, 0.0000, 0.0000, 0.0000, 0.0000,\n",
      "         0.0000, 0.0000, 0.0000, 0.0000, 0.0000, 0.0000, 0.0000, 0.1922, 0.7216,\n",
      "         0.4510, 0.0000, 0.0000, 0.0157, 0.0000, 0.0000, 0.6275, 0.2667, 0.0000,\n",
      "         0.0000, 0.0000, 0.0000, 0.0000, 0.0039, 0.0000, 0.0000, 0.0784, 0.0784,\n",
      "         0.0000, 0.0000, 0.0000, 0.0000, 0.0000, 0.0000, 0.0000, 0.0706, 0.6392,\n",
      "         0.3804, 0.0000, 0.0000, 0.0000, 0.0314, 0.0000, 0.0000, 0.6667, 0.1529,\n",
      "         0.0000, 0.0000, 0.0000, 0.0000, 0.0039, 0.0000, 0.0314, 0.2471, 0.2980,\n",
      "         0.1686, 0.0000, 0.0000, 0.0000, 0.0000, 0.0000, 0.0000, 0.0000, 0.5255,\n",
      "         0.5333, 0.0000, 0.0000, 0.0000, 0.0000, 0.0078, 0.0000, 0.0000, 0.6784,\n",
      "         0.0706, 0.0000, 0.0039, 0.0039, 0.0039, 0.0000, 0.0000, 0.0706, 0.0941,\n",
      "         0.0000, 0.0196, 0.0000, 0.0000, 0.0000, 0.0000, 0.0000, 0.0000, 0.3451,\n",
      "         0.7137, 0.0275, 0.0000, 0.0000, 0.0000, 0.0000, 0.0000, 0.0000, 0.0000,\n",
      "         0.6588, 0.0039, 0.0000, 0.0039, 0.0000, 0.0000, 0.0000, 0.0000, 0.0078,\n",
      "         0.1922, 0.1059, 0.1216, 0.2196, 0.0667, 0.0000, 0.0000, 0.0000, 0.3451,\n",
      "         0.6000, 0.1922, 0.0000, 0.0196, 0.0000, 0.0039, 0.0000, 0.0000, 0.0000,\n",
      "         0.0000, 0.6471, 0.0000, 0.0000, 0.0039, 0.0510, 0.0275, 0.0000, 0.0000,\n",
      "         0.0000, 0.3294, 0.3804, 0.4000, 0.4941, 0.3882, 0.0000, 0.0196, 0.5020,\n",
      "         0.6000, 0.2863, 0.0000, 0.0000, 0.0000, 0.0000, 0.0000, 0.0000, 0.0000,\n",
      "         0.0000, 0.0039, 0.5451, 0.0000, 0.0000, 0.0000, 0.3176, 0.5961, 0.5725,\n",
      "         0.5490, 0.4863, 0.4824, 0.5098, 0.4941, 0.4431, 0.4431, 0.4471, 0.7216,\n",
      "         0.6235, 0.1647, 0.0000, 0.0000, 0.0000, 0.0078, 0.0000, 0.0000, 0.0000,\n",
      "         0.0000, 0.0000, 0.0000, 0.7294, 0.0000, 0.0000, 0.0039, 0.0000, 0.0000,\n",
      "         0.0000, 0.0941, 0.1647, 0.1804, 0.2235, 0.2549, 0.2706, 0.2549, 0.2471,\n",
      "         0.1569, 0.0000, 0.0000, 0.0000, 0.0000, 0.0000, 0.0000, 0.0000, 0.0000,\n",
      "         0.0000, 0.0000, 0.0000, 0.0000, 0.7137, 0.0157, 0.0000, 0.0039, 0.0000,\n",
      "         0.0000, 0.0000, 0.0000, 0.0000, 0.0000, 0.0000, 0.0000, 0.0000, 0.0000,\n",
      "         0.0000, 0.0000, 0.0000, 0.0000, 0.0000, 0.0000, 0.0000, 0.0000, 0.0000,\n",
      "         0.0000, 0.0000, 0.0000, 0.0000, 0.0000, 0.0000, 0.0000, 0.0000, 0.0000,\n",
      "         0.0000, 0.0000, 0.0000, 0.0000, 0.0000, 0.0000, 0.0000, 0.0000, 0.0000,\n",
      "         0.0000, 0.0000, 0.0000, 0.0000, 0.0000, 0.0000, 0.0000, 0.0000, 0.0000,\n",
      "         0.0000, 0.0000, 0.0000, 0.0000, 0.0000, 0.0000, 0.0000, 0.0000, 0.0000,\n",
      "         0.0000]])\n"
     ]
    }
   ],
   "source": [
    "flatten_model = nn.Flatten()  # all nn modules function as a model (can do a forward pass)\n",
    "\n",
    "x = train_features_batch[0]\n",
    "\n",
    "output = flatten_model(x)\n",
    "\n",
    "print(f\"Shape before flattening: {x.shape} -> [color_channels, height, width]\")\n",
    "print(f\"Shape after flattening: {output.shape}  -> [color_channels, heght*width]\")\n",
    "\n",
    "print(x)\n",
    "print(output)"
   ]
  },
  {
   "cell_type": "code",
   "execution_count": 17,
   "id": "ff179ae9-cc3d-46c2-9ecf-65f1156d4abc",
   "metadata": {
    "id": "ff179ae9-cc3d-46c2-9ecf-65f1156d4abc"
   },
   "outputs": [],
   "source": [
    "from torch import nn\n",
    "class FashionMNISTModelV0(nn.Module):\n",
    "    def __init__(self, input_shape: int, hidden_units: int, output_shape: int):\n",
    "        super().__init__()\n",
    "        self.layer_stack = nn.Sequential(\n",
    "        nn.Flatten(),\n",
    "        nn.Linear(in_features=input_shape, out_features=hidden_units),\n",
    "        nn.Linear(in_features=hidden_units, out_features=output_shape)\n",
    "        )\n",
    "    def forward(self, x):\n",
    "        return self.layer_stack(x)"
   ]
  },
  {
   "cell_type": "code",
   "execution_count": 18,
   "id": "34091c37-c973-43e1-b501-5d48c1ee66ba",
   "metadata": {
    "colab": {
     "base_uri": "https://localhost:8080/"
    },
    "id": "34091c37-c973-43e1-b501-5d48c1ee66ba",
    "outputId": "6e4387ca-d354-42af-db2c-020236a6cab2"
   },
   "outputs": [
    {
     "data": {
      "text/plain": [
       "FashionMNISTModelV0(\n",
       "  (layer_stack): Sequential(\n",
       "    (0): Flatten(start_dim=1, end_dim=-1)\n",
       "    (1): Linear(in_features=784, out_features=10, bias=True)\n",
       "    (2): Linear(in_features=10, out_features=10, bias=True)\n",
       "  )\n",
       ")"
      ]
     },
     "execution_count": 18,
     "metadata": {},
     "output_type": "execute_result"
    }
   ],
   "source": [
    "torch.manual_seed(42)\n",
    "\n",
    "model_0 = FashionMNISTModelV0(input_shape=784,\n",
    "                              hidden_units=10,\n",
    "                              output_shape=len(class_names)\n",
    "                             )\n",
    "model_0.to(\"cpu\")"
   ]
  },
  {
   "cell_type": "code",
   "execution_count": 19,
   "id": "56470da4-22cb-475a-b121-c6e30c2f371b",
   "metadata": {
    "id": "56470da4-22cb-475a-b121-c6e30c2f371b"
   },
   "outputs": [],
   "source": [
    "def accuracy_fn(y_true, y_pred):\n",
    "  correct = torch.eq(y_true, y_pred).sum().item()\n",
    "  acc = (correct / len(y_pred)) * 100\n",
    "  return acc\n",
    "\n",
    "loss_fn = nn.CrossEntropyLoss()\n",
    "optimizer = torch.optim.SGD(params=model_0.parameters(), lr=0.1)"
   ]
  },
  {
   "cell_type": "code",
   "execution_count": 21,
   "id": "w2rlyNuF8G4g",
   "metadata": {
    "id": "w2rlyNuF8G4g"
   },
   "outputs": [],
   "source": [
    "from timeit import default_timer as timer\n",
    "def print_train_time(start: float, end: float, device: torch.device = None):\n",
    "  \"\"\"Print difference between start and time.\n",
    "\n",
    "  Args:\n",
    "      start (flaot) : Start time of computation (preferred in timeit format).\n",
    "      end (flaot): End time of computation.\n",
    "      device ([type], optional): Device that compute is running on.\n",
    "\n",
    "  Returns:\n",
    "      flaot: time between start and end in seconds\n",
    "  \"\"\"\n",
    "  total_time = end - start\n",
    "  print(f\"Train time on {device}: {total_time:.3f} seconds\")\n",
    "  return total_time"
   ]
  },
  {
   "cell_type": "code",
   "execution_count": 22,
   "id": "6Sd1-CYlISjS",
   "metadata": {
    "colab": {
     "base_uri": "https://localhost:8080/"
    },
    "id": "6Sd1-CYlISjS",
    "outputId": "5cbed2c0-63c6-49a8-d0b9-e7bb61fa68ec"
   },
   "outputs": [
    {
     "name": "stdout",
     "output_type": "stream",
     "text": [
      "Requirement already satisfied: tqdm in /home/kajetan/anaconda3/lib/python3.11/site-packages (4.65.0)\n"
     ]
    }
   ],
   "source": [
    "%pip install tqdm"
   ]
  },
  {
   "cell_type": "code",
   "execution_count": 23,
   "id": "_5jKBqcW-rRV",
   "metadata": {
    "colab": {
     "base_uri": "https://localhost:8080/",
     "height": 587,
     "referenced_widgets": [
      "3d668d1af4f44e14a20b23cfe02c01ca",
      "a97957c5d9e14a07b1a404694558b46c",
      "f9acb30080f64d038310ef1c3a8f74f4",
      "892203b191454a5eb3522d39653788ec",
      "c47fe1943c74428cbded231a3fbe5c86",
      "ddfdd9f49e6844f3a90ac7a4850c2520",
      "a05e04dfce454dcf9a37b8ba7ad548ed",
      "69b4d0072cde4c08bb0ce4b3a34417d7",
      "ffd7c3db81ff4b60874d7a7d3da65eb4",
      "018b4792369340488e0858d8d3be9226",
      "cce75f0ded4649cf9f8e774113600df5"
     ]
    },
    "id": "_5jKBqcW-rRV",
    "outputId": "e9a83a20-59ca-476f-a886-a0e507ddc34b"
   },
   "outputs": [
    {
     "data": {
      "text/html": [
       "Finishing last run (ID:sax6jrv2) before initializing another..."
      ],
      "text/plain": [
       "<IPython.core.display.HTML object>"
      ]
     },
     "metadata": {},
     "output_type": "display_data"
    },
    {
     "name": "stderr",
     "output_type": "stream",
     "text": [
      "wandb: WARNING Source type is set to 'repo' but some required information is missing from the environment. A job will not be created from this run. See https://docs.wandb.ai/guides/launch/create-job\n"
     ]
    },
    {
     "data": {
      "application/vnd.jupyter.widget-view+json": {
       "model_id": "5850896ad0eb4cc883f53dd5a8fd36c5",
       "version_major": 2,
       "version_minor": 0
      },
      "text/plain": [
       "VBox(children=(Label(value='0.002 MB of 0.045 MB uploaded\\r'), FloatProgress(value=0.04442606611955807, max=1.…"
      ]
     },
     "metadata": {},
     "output_type": "display_data"
    },
    {
     "data": {
      "text/html": [
       " View run <strong style=\"color:#cdcd00\">visionary-bird-2</strong> at: <a href='https://wandb.ai/frackowiak/pytorch_computer_vision/runs/sax6jrv2' target=\"_blank\">https://wandb.ai/frackowiak/pytorch_computer_vision/runs/sax6jrv2</a><br/>Synced 6 W&B file(s), 0 media file(s), 0 artifact file(s) and 0 other file(s)"
      ],
      "text/plain": [
       "<IPython.core.display.HTML object>"
      ]
     },
     "metadata": {},
     "output_type": "display_data"
    },
    {
     "data": {
      "text/html": [
       "Find logs at: <code>./wandb/run-20240329_160737-sax6jrv2/logs</code>"
      ],
      "text/plain": [
       "<IPython.core.display.HTML object>"
      ]
     },
     "metadata": {},
     "output_type": "display_data"
    },
    {
     "data": {
      "text/html": [
       "Successfully finished last run (ID:sax6jrv2). Initializing new run:<br/>"
      ],
      "text/plain": [
       "<IPython.core.display.HTML object>"
      ]
     },
     "metadata": {},
     "output_type": "display_data"
    },
    {
     "data": {
      "application/vnd.jupyter.widget-view+json": {
       "model_id": "08ced0202d9d4c4889fd77a45cdc5354",
       "version_major": 2,
       "version_minor": 0
      },
      "text/plain": [
       "VBox(children=(Label(value='Waiting for wandb.init()...\\r'), FloatProgress(value=0.01111221752224891, max=1.0)…"
      ]
     },
     "metadata": {},
     "output_type": "display_data"
    },
    {
     "data": {
      "text/html": [
       "wandb version 0.16.5 is available!  To upgrade, please run:\n",
       " $ pip install wandb --upgrade"
      ],
      "text/plain": [
       "<IPython.core.display.HTML object>"
      ]
     },
     "metadata": {},
     "output_type": "display_data"
    },
    {
     "data": {
      "text/html": [
       "Tracking run with wandb version 0.16.2"
      ],
      "text/plain": [
       "<IPython.core.display.HTML object>"
      ]
     },
     "metadata": {},
     "output_type": "display_data"
    },
    {
     "data": {
      "text/html": [
       "Run data is saved locally in <code>/home/kajetan/Documents/pytorch_deep_learning/wandb/run-20240329_161518-z1bt8b0g</code>"
      ],
      "text/plain": [
       "<IPython.core.display.HTML object>"
      ]
     },
     "metadata": {},
     "output_type": "display_data"
    },
    {
     "data": {
      "text/html": [
       "Syncing run <strong><a href='https://wandb.ai/frackowiak/pytorch_computer_vision1/runs/z1bt8b0g' target=\"_blank\">glamorous-microwave-1</a></strong> to <a href='https://wandb.ai/frackowiak/pytorch_computer_vision1' target=\"_blank\">Weights & Biases</a> (<a href='https://wandb.me/run' target=\"_blank\">docs</a>)<br/>"
      ],
      "text/plain": [
       "<IPython.core.display.HTML object>"
      ]
     },
     "metadata": {},
     "output_type": "display_data"
    },
    {
     "data": {
      "text/html": [
       " View project at <a href='https://wandb.ai/frackowiak/pytorch_computer_vision1' target=\"_blank\">https://wandb.ai/frackowiak/pytorch_computer_vision1</a>"
      ],
      "text/plain": [
       "<IPython.core.display.HTML object>"
      ]
     },
     "metadata": {},
     "output_type": "display_data"
    },
    {
     "data": {
      "text/html": [
       " View run at <a href='https://wandb.ai/frackowiak/pytorch_computer_vision1/runs/z1bt8b0g' target=\"_blank\">https://wandb.ai/frackowiak/pytorch_computer_vision1/runs/z1bt8b0g</a>"
      ],
      "text/plain": [
       "<IPython.core.display.HTML object>"
      ]
     },
     "metadata": {},
     "output_type": "display_data"
    },
    {
     "data": {
      "application/vnd.jupyter.widget-view+json": {
       "model_id": "e48ae8bd7d844a49971290b0b10756c1",
       "version_major": 2,
       "version_minor": 0
      },
      "text/plain": [
       "  0%|          | 0/3 [00:00<?, ?it/s]"
      ]
     },
     "metadata": {},
     "output_type": "display_data"
    },
    {
     "name": "stdout",
     "output_type": "stream",
     "text": [
      "Epoch: 0\n",
      "-------\n",
      "Looked at 0/60000 samples\n",
      "Looked at 12800/60000 samples\n",
      "Looked at 25600/60000 samples\n",
      "Looked at 38400/60000 samples\n",
      "Looked at 51200/60000 samples\n",
      "\n",
      "Train loss: 0.59039 | Test loss: 0.50954, Test acc: 82.04%\n",
      "\n",
      "Epoch: 1\n",
      "-------\n",
      "Looked at 0/60000 samples\n",
      "Looked at 12800/60000 samples\n",
      "Looked at 25600/60000 samples\n",
      "Looked at 38400/60000 samples\n",
      "Looked at 51200/60000 samples\n",
      "\n",
      "Train loss: 0.47633 | Test loss: 0.47989, Test acc: 83.20%\n",
      "\n",
      "Epoch: 2\n",
      "-------\n",
      "Looked at 0/60000 samples\n",
      "Looked at 12800/60000 samples\n",
      "Looked at 25600/60000 samples\n",
      "Looked at 38400/60000 samples\n",
      "Looked at 51200/60000 samples\n",
      "\n",
      "Train loss: 0.45503 | Test loss: 0.47664, Test acc: 83.43%\n",
      "\n"
     ]
    },
    {
     "name": "stderr",
     "output_type": "stream",
     "text": [
      "wandb: WARNING Source type is set to 'repo' but some required information is missing from the environment. A job will not be created from this run. See https://docs.wandb.ai/guides/launch/create-job\n"
     ]
    },
    {
     "data": {
      "application/vnd.jupyter.widget-view+json": {
       "model_id": "8137017f0fc04a86bdcc98d00d95ad6c",
       "version_major": 2,
       "version_minor": 0
      },
      "text/plain": [
       "VBox(children=(Label(value='0.002 MB of 0.002 MB uploaded\\r'), FloatProgress(value=1.0, max=1.0)))"
      ]
     },
     "metadata": {},
     "output_type": "display_data"
    },
    {
     "data": {
      "text/html": [
       "<style>\n",
       "    table.wandb td:nth-child(1) { padding: 0 10px; text-align: left ; width: auto;} td:nth-child(2) {text-align: left ; width: 100%}\n",
       "    .wandb-row { display: flex; flex-direction: row; flex-wrap: wrap; justify-content: flex-start; width: 100% }\n",
       "    .wandb-col { display: flex; flex-direction: column; flex-basis: 100%; flex: 1; padding: 10px; }\n",
       "    </style>\n",
       "<div class=\"wandb-row\"><div class=\"wandb-col\"><h3>Run history:</h3><br/><table class=\"wandb\"><tr><td>Train Loss</td><td>██▅▇▃▄▃▄▃▅▆▅▄▄▅▃▃▆▇▇▄▅▅▆▇▃▇▅▁▂▅▃▄▃▆▃▃▃▅▂</td></tr></table><br/></div><div class=\"wandb-col\"><h3>Run summary:</h3><br/><table class=\"wandb\"><tr><td>Train Loss</td><td>0.31823</td></tr></table><br/></div></div>"
      ],
      "text/plain": [
       "<IPython.core.display.HTML object>"
      ]
     },
     "metadata": {},
     "output_type": "display_data"
    },
    {
     "data": {
      "text/html": [
       " View run <strong style=\"color:#cdcd00\">glamorous-microwave-1</strong> at: <a href='https://wandb.ai/frackowiak/pytorch_computer_vision1/runs/z1bt8b0g' target=\"_blank\">https://wandb.ai/frackowiak/pytorch_computer_vision1/runs/z1bt8b0g</a><br/>Synced 6 W&B file(s), 0 media file(s), 0 artifact file(s) and 0 other file(s)"
      ],
      "text/plain": [
       "<IPython.core.display.HTML object>"
      ]
     },
     "metadata": {},
     "output_type": "display_data"
    },
    {
     "data": {
      "text/html": [
       "Find logs at: <code>./wandb/run-20240329_161518-z1bt8b0g/logs</code>"
      ],
      "text/plain": [
       "<IPython.core.display.HTML object>"
      ]
     },
     "metadata": {},
     "output_type": "display_data"
    },
    {
     "name": "stdout",
     "output_type": "stream",
     "text": [
      "Train time on cpu: 30.934 seconds\n"
     ]
    }
   ],
   "source": [
    "# Import tqdm for progress bar\n",
    "from tqdm.auto import tqdm\n",
    "\n",
    "# Initialize Weights & Biases run\n",
    "wandb.init(project=\"pytorch_computer_vision1\", entity=\"frackowiak\")\n",
    "\n",
    "# Set the seed and start the timer\n",
    "torch.manual_seed(42)\n",
    "train_time_start_on_cpu = timer()\n",
    "\n",
    "# Set the number of epochs (we'll keep this small for faster training times)\n",
    "epochs = 3\n",
    "\n",
    "# Create training and testing loop\n",
    "for epoch in tqdm(range(epochs)):\n",
    "    print(f\"Epoch: {epoch}\\n-------\")\n",
    "    ### Training\n",
    "    train_loss = 0\n",
    "    # Add a loop to loop through training batches\n",
    "    for batch, (X, y) in enumerate(train_dataloader):\n",
    "        model_0.train()\n",
    "        # 1. Forward pass\n",
    "        y_pred = model_0(X)\n",
    "\n",
    "        # 2. Calculate loss (per batch)\n",
    "        loss = loss_fn(y_pred, y)\n",
    "        train_loss += loss.item() # accumulatively add up the loss per epoch\n",
    "\n",
    "        # 3. Optimizer zero grad\n",
    "        optimizer.zero_grad()\n",
    "\n",
    "        # 4. Loss backward\n",
    "        loss.backward()\n",
    "\n",
    "        # 5. Optimizer step\n",
    "        optimizer.step()\n",
    "\n",
    "        # Log training loss to wandb after each batch iteration\n",
    "        wandb.log({\"Train Loss\": loss.item()})\n",
    "\n",
    "        # Print out how many samples have been seen\n",
    "        if batch % 400 == 0:\n",
    "            print(f\"Looked at {batch * len(X)}/{len(train_dataloader.dataset)} samples\")\n",
    "            \n",
    "    # Divide total train loss by length of train dataloader (average loss per batch per epoch)\n",
    "    train_loss /= len(train_dataloader)\n",
    "\n",
    "    ### Testing\n",
    "    # Setup variables for accumulatively adding up loss and accuracy\n",
    "    test_loss, test_acc = 0, 0\n",
    "    model_0.eval()\n",
    "    with torch.inference_mode():\n",
    "        for X, y in test_dataloader:\n",
    "            # 1. Forward pass\n",
    "            test_pred = model_0(X)\n",
    "\n",
    "            # 2. Calculate loss (accumatively)\n",
    "            test_loss += loss_fn(test_pred, y).item() # accumulatively add up the loss per epoch\n",
    "\n",
    "            # 3. Calculate accuracy (preds need to be same as y_true)\n",
    "            test_acc += accuracy_fn(y_true=y, y_pred=test_pred.argmax(dim=1))\n",
    "\n",
    "        # Calculations on test metrics need to happen inside torch.inference_mode()\n",
    "        # Divide total test loss by length of test dataloader (per batch)\n",
    "        test_loss /= len(test_dataloader)\n",
    "\n",
    "        # Divide total accuracy by length of test dataloader (per batch)\n",
    "        test_acc /= len(test_dataloader)\n",
    "\n",
    "    ## Print out what's happening\n",
    "    print(f\"\\nTrain loss: {train_loss:.5f} | Test loss: {test_loss:.5f}, Test acc: {test_acc:.2f}%\\n\")\n",
    "\n",
    "# Finalize Weights & Biases run\n",
    "wandb.finish()\n",
    "\n",
    "# Calculate training time\n",
    "train_time_end_on_cpu = timer()\n",
    "total_train_time_model_0 = print_train_time(start=train_time_start_on_cpu,\n",
    "                                           end=train_time_end_on_cpu,\n",
    "                                           device=str(next(model_0.parameters()).device))\n",
    "\n"
   ]
  },
  {
   "cell_type": "code",
   "execution_count": 47,
   "id": "MXbTwlrRAJaD",
   "metadata": {
    "colab": {
     "base_uri": "https://localhost:8080/"
    },
    "id": "MXbTwlrRAJaD",
    "outputId": "150abf9c-71cb-4396-e24d-1dd3fc337526"
   },
   "outputs": [
    {
     "data": {
      "text/plain": [
       "{'model_name': 'FashionMNISTModelV0',\n",
       " 'model_loss': 0.47663894295692444,\n",
       " 'model_acc': 83.42651757188499}"
      ]
     },
     "execution_count": 47,
     "metadata": {},
     "output_type": "execute_result"
    }
   ],
   "source": [
    "torch.manual_seed(42)\n",
    "def eval_model(model: torch.nn.Module,\n",
    "               data_loader: torch.utils.data.DataLoader,\n",
    "               loss_fn: torch.nn.Module,\n",
    "               accuracy_fn):\n",
    "  \"\"\"Return a dictionary containing the results of model predicting on data_loader\n",
    "\n",
    "  Args:\n",
    "      model (torch.nn.Module): A PyTorch model capable of making predictions on data_loader.\n",
    "      data_loader (torch.utils.data.DataLoader): The target dataset to predict on.\n",
    "      loss_fn (torch.nn.Module): The loss function of model.\n",
    "      accuracy_fn: An accuracy function to compare the models predictions to the truth labels.\n",
    "\n",
    "  Returns:\n",
    "      (dict): Results of model making predictions on data_loader.\n",
    "  \"\"\"\n",
    "  loss, acc = 0, 0\n",
    "  model.eval()\n",
    "  with torch.inference_mode():\n",
    "    for X, y, in data_loader:\n",
    "      y_pred = model(X)\n",
    "\n",
    "      loss += loss_fn(y_pred, y)\n",
    "      acc += accuracy_fn(y_true=y,\n",
    "                         y_pred=y_pred.argmax(dim=1))\n",
    "\n",
    "    loss /= len(data_loader)\n",
    "    acc /= len(data_loader)\n",
    "\n",
    "  return {\"model_name\": model.__class__.__name__,\n",
    "          \"model_loss\": loss.item(),\n",
    "          \"model_acc\": acc}\n",
    "model_0_results = eval_model(model=model_0, data_loader=test_dataloader,\n",
    "                             loss_fn=loss_fn, accuracy_fn=accuracy_fn\n",
    "                             )\n",
    "model_0_results\n"
   ]
  },
  {
   "cell_type": "code",
   "execution_count": 25,
   "id": "BznyGKHzLhFu",
   "metadata": {
    "colab": {
     "base_uri": "https://localhost:8080/",
     "height": 35
    },
    "id": "BznyGKHzLhFu",
    "outputId": "5226d494-7f39-41ae-bb24-5fd5b7138b4a"
   },
   "outputs": [
    {
     "data": {
      "text/plain": [
       "'cuda'"
      ]
     },
     "execution_count": 25,
     "metadata": {},
     "output_type": "execute_result"
    }
   ],
   "source": [
    "import torch\n",
    "device = \"cuda\" if torch.cuda.is_available() else \"cpu\"\n",
    "device\n"
   ]
  },
  {
   "cell_type": "markdown",
   "id": "26c1ab3f",
   "metadata": {
    "id": "xZ18mrhRLyw7"
   },
   "source": [
    "# Create convolutional neural network "
   ]
  },
  {
   "cell_type": "code",
   "execution_count": 159,
   "id": "ca730ab9",
   "metadata": {},
   "outputs": [],
   "source": [
    "# Create a convolutional neural network \n",
    "class FashionMNISTModelV2(nn.Module):\n",
    "    \"\"\"\n",
    "    Model architecture copying TinyVGG from: \n",
    "    https://poloclub.github.io/cnn-explainer/\n",
    "    \"\"\"\n",
    "    def __init__(self, input_shape: int, hidden_units: int, output_shape: int):\n",
    "        super().__init__()\n",
    "        self.block_1 = nn.Sequential(\n",
    "            nn.Conv2d(in_channels=input_shape, \n",
    "                      out_channels=hidden_units, \n",
    "                      kernel_size=3, # how big is the square that's going over the image?\n",
    "                      stride=1, # default\n",
    "                      padding=1),# options = \"valid\" (no padding) or \"same\" (output has same shape as input) or int for specific number \n",
    "            nn.ReLU(),\n",
    "            nn.Conv2d(in_channels=hidden_units, \n",
    "                      out_channels=hidden_units,\n",
    "                      kernel_size=3,\n",
    "                      stride=1,\n",
    "                      padding=1),\n",
    "            nn.ReLU(),\n",
    "            nn.MaxPool2d(kernel_size=2,\n",
    "                         stride=2) # default stride value is same as kernel_size\n",
    "        )\n",
    "        self.block_2 = nn.Sequential(\n",
    "            nn.Conv2d(hidden_units, hidden_units, 3, padding=1),\n",
    "            nn.ReLU(),\n",
    "            nn.Conv2d(hidden_units, hidden_units, 3, padding=1),\n",
    "            nn.ReLU(),\n",
    "            nn.MaxPool2d(2)\n",
    "        )\n",
    "        self.classifier = nn.Sequential(\n",
    "            nn.Flatten(),\n",
    "            # Where did this in_features shape come from? \n",
    "            # It's because each layer of our network compresses and changes the shape of our inputs data.\n",
    "            nn.Linear(in_features=hidden_units*7*7, \n",
    "                      out_features=output_shape)\n",
    "        )\n",
    "    \n",
    "    def forward(self, x: torch.Tensor):\n",
    "        x = self.block_1(x)\n",
    "        # print(x.shape)\n",
    "        x = self.block_2(x)\n",
    "        # print(x.shape)\n",
    "        x = self.classifier(x)\n",
    "        # print(x.shape)\n",
    "        return x\n",
    "\n",
    "torch.manual_seed(42)\n",
    "model_2 = FashionMNISTModelV2(input_shape=1, \n",
    "    hidden_units=10, \n",
    "    output_shape=len(class_names)).to(device)"
   ]
  },
  {
   "cell_type": "code",
   "execution_count": 160,
   "id": "08684bd1",
   "metadata": {},
   "outputs": [],
   "source": [
    "torch.manual_seed(42)\n",
    "\n",
    "images = torch.randn(size=(32, 3, 64, 64))\n",
    "test_image = images[0]\n"
   ]
  },
  {
   "cell_type": "code",
   "execution_count": 161,
   "id": "fd08615a",
   "metadata": {},
   "outputs": [
    {
     "data": {
      "text/plain": [
       "tensor([[[ 1.5396,  0.0516,  0.6454,  ..., -0.3673,  0.8711,  0.4256],\n",
       "         [ 0.3662,  1.0114, -0.5997,  ...,  0.8983,  0.2809, -0.2741],\n",
       "         [ 1.2664, -1.4054,  0.3727,  ..., -0.3409,  1.2191, -0.0463],\n",
       "         ...,\n",
       "         [-0.1541,  0.5132, -0.3624,  ..., -0.2360, -0.4609, -0.0035],\n",
       "         [ 0.2981, -0.2432,  1.5012,  ..., -0.6289, -0.7283, -0.5767],\n",
       "         [-0.0386, -0.0781, -0.0388,  ...,  0.2842,  0.4228, -0.1802]],\n",
       "\n",
       "        [[-0.2840, -0.0319, -0.4455,  ..., -0.7956,  1.5599, -1.2449],\n",
       "         [ 0.2753, -0.1262, -0.6541,  ..., -0.2211,  0.1999, -0.8856],\n",
       "         [-0.5404, -1.5489,  0.0249,  ..., -0.5932, -1.0913, -0.3849],\n",
       "         ...,\n",
       "         [ 0.3870, -0.4064, -0.8236,  ...,  0.1734, -0.4330, -0.4951],\n",
       "         [-0.1984, -0.6386,  1.0263,  ..., -0.9401, -0.0585, -0.7833],\n",
       "         [-0.6306, -0.2052, -0.3694,  ..., -1.3248,  0.2456, -0.7134]],\n",
       "\n",
       "        [[ 0.4414,  0.5100,  0.4846,  ..., -0.8484,  0.2638,  1.1258],\n",
       "         [ 0.8117,  0.3191, -0.0157,  ...,  1.2686,  0.2319,  0.5003],\n",
       "         [ 0.3212,  0.0485, -0.2581,  ...,  0.2258,  0.2587, -0.8804],\n",
       "         ...,\n",
       "         [-0.1144, -0.1869,  0.0160,  ..., -0.8346,  0.0974,  0.8421],\n",
       "         [ 0.2941,  0.4417,  0.5866,  ..., -0.1224,  0.4814, -0.4799],\n",
       "         [ 0.6059, -0.0415, -0.2028,  ...,  0.1170,  0.2521, -0.4372]],\n",
       "\n",
       "        ...,\n",
       "\n",
       "        [[-0.2560, -0.0477,  0.6380,  ...,  0.6436,  0.7553, -0.7055],\n",
       "         [ 1.5595, -0.2209, -0.9486,  ..., -0.4876,  0.7754,  0.0750],\n",
       "         [-0.0797,  0.2471,  1.1300,  ...,  0.1505,  0.2354,  0.9576],\n",
       "         ...,\n",
       "         [ 1.1065,  0.6839,  1.2183,  ...,  0.3015, -0.1910, -0.1902],\n",
       "         [-0.3486, -0.7173, -0.3582,  ...,  0.4917,  0.7219,  0.1513],\n",
       "         [ 0.0119,  0.1017,  0.7839,  ..., -0.3752, -0.8127, -0.1257]],\n",
       "\n",
       "        [[ 0.3841,  1.1322,  0.1620,  ...,  0.7010,  0.0109,  0.6058],\n",
       "         [ 0.1664,  0.1873,  1.5924,  ...,  0.3733,  0.9096, -0.5399],\n",
       "         [ 0.4094, -0.0861, -0.7935,  ..., -0.1285, -0.9932, -0.3013],\n",
       "         ...,\n",
       "         [ 0.2688, -0.5630, -1.1902,  ...,  0.4493,  0.5404, -0.0103],\n",
       "         [ 0.0535,  0.4411,  0.5313,  ...,  0.0148, -1.0056,  0.3759],\n",
       "         [ 0.3031, -0.1590, -0.1316,  ..., -0.5384, -0.4271, -0.4876]],\n",
       "\n",
       "        [[-1.1865, -0.7280, -1.2331,  ..., -0.9013, -0.0542, -1.5949],\n",
       "         [-0.6345, -0.5920,  0.5326,  ..., -1.0395, -0.7963, -0.0647],\n",
       "         [-0.1132,  0.5166,  0.2569,  ...,  0.5595, -1.6881,  0.9485],\n",
       "         ...,\n",
       "         [-0.0254, -0.2669,  0.1927,  ..., -0.2917,  0.1088, -0.4807],\n",
       "         [-0.2609, -0.2328,  0.1404,  ..., -0.1325, -0.8436, -0.7524],\n",
       "         [-1.1399, -0.1751, -0.8705,  ...,  0.1589,  0.3377,  0.3493]]],\n",
       "       grad_fn=<SqueezeBackward1>)"
      ]
     },
     "execution_count": 161,
     "metadata": {},
     "output_type": "execute_result"
    }
   ],
   "source": [
    "torch.manual_seed(42)\n",
    "\n",
    "conv_layer = nn.Conv2d(in_channels=3,\n",
    "                       out_channels=10,\n",
    "                       kernel_size=3,\n",
    "                       stride=1,\n",
    "                       padding=0)\n",
    "\n",
    "conv_layer(test_image)"
   ]
  },
  {
   "cell_type": "code",
   "execution_count": 162,
   "id": "572f93b8",
   "metadata": {},
   "outputs": [
    {
     "data": {
      "text/plain": [
       "torch.Size([1, 3, 64, 64])"
      ]
     },
     "execution_count": 162,
     "metadata": {},
     "output_type": "execute_result"
    }
   ],
   "source": [
    "test_image.unsqueeze(dim=0).shape"
   ]
  },
  {
   "cell_type": "code",
   "execution_count": 163,
   "id": "7151686e",
   "metadata": {},
   "outputs": [
    {
     "data": {
      "text/plain": [
       "torch.Size([1, 10, 30, 30])"
      ]
     },
     "execution_count": 163,
     "metadata": {},
     "output_type": "execute_result"
    }
   ],
   "source": [
    "torch.manual_seed(42)\n",
    "conv_layer_2 = nn.Conv2d(in_channels=3,\n",
    "                         out_channels=10,\n",
    "                         kernel_size=(5,5),\n",
    "                         stride=2,\n",
    "                         padding=0)\n",
    "\n",
    "conv_layer_2(test_image.unsqueeze(dim=0)).shape"
   ]
  },
  {
   "cell_type": "code",
   "execution_count": 164,
   "id": "4f5d8e72",
   "metadata": {},
   "outputs": [
    {
     "name": "stdout",
     "output_type": "stream",
     "text": [
      "OrderedDict([('weight', tensor([[[[ 0.0883,  0.0958, -0.0271,  0.1061, -0.0253],\n",
      "          [ 0.0233, -0.0562,  0.0678,  0.1018, -0.0847],\n",
      "          [ 0.1004,  0.0216,  0.0853,  0.0156,  0.0557],\n",
      "          [-0.0163,  0.0890,  0.0171, -0.0539,  0.0294],\n",
      "          [-0.0532, -0.0135, -0.0469,  0.0766, -0.0911]],\n",
      "\n",
      "         [[-0.0532, -0.0326, -0.0694,  0.0109, -0.1140],\n",
      "          [ 0.1043, -0.0981,  0.0891,  0.0192, -0.0375],\n",
      "          [ 0.0714,  0.0180,  0.0933,  0.0126, -0.0364],\n",
      "          [ 0.0310, -0.0313,  0.0486,  0.1031,  0.0667],\n",
      "          [-0.0505,  0.0667,  0.0207,  0.0586, -0.0704]],\n",
      "\n",
      "         [[-0.1143, -0.0446, -0.0886,  0.0947,  0.0333],\n",
      "          [ 0.0478,  0.0365, -0.0020,  0.0904, -0.0820],\n",
      "          [ 0.0073, -0.0788,  0.0356, -0.0398,  0.0354],\n",
      "          [-0.0241,  0.0958, -0.0684, -0.0689, -0.0689],\n",
      "          [ 0.1039,  0.0385,  0.1111, -0.0953, -0.1145]]],\n",
      "\n",
      "\n",
      "        [[[-0.0903, -0.0777,  0.0468,  0.0413,  0.0959],\n",
      "          [-0.0596, -0.0787,  0.0613, -0.0467,  0.0701],\n",
      "          [-0.0274,  0.0661, -0.0897, -0.0583,  0.0352],\n",
      "          [ 0.0244, -0.0294,  0.0688,  0.0785, -0.0837],\n",
      "          [-0.0616,  0.1057, -0.0390, -0.0409, -0.1117]],\n",
      "\n",
      "         [[-0.0661,  0.0288, -0.0152, -0.0838,  0.0027],\n",
      "          [-0.0789, -0.0980, -0.0636, -0.1011, -0.0735],\n",
      "          [ 0.1154,  0.0218,  0.0356, -0.1077, -0.0758],\n",
      "          [-0.0384,  0.0181, -0.1016, -0.0498, -0.0691],\n",
      "          [ 0.0003, -0.0430, -0.0080, -0.0782, -0.0793]],\n",
      "\n",
      "         [[-0.0674, -0.0395, -0.0911,  0.0968, -0.0229],\n",
      "          [ 0.0994,  0.0360, -0.0978,  0.0799, -0.0318],\n",
      "          [-0.0443, -0.0958, -0.1148,  0.0330, -0.0252],\n",
      "          [ 0.0450, -0.0948,  0.0857, -0.0848, -0.0199],\n",
      "          [ 0.0241,  0.0596,  0.0932,  0.1052, -0.0916]]],\n",
      "\n",
      "\n",
      "        [[[ 0.0291, -0.0497, -0.0127, -0.0864,  0.1052],\n",
      "          [-0.0847,  0.0617,  0.0406,  0.0375, -0.0624],\n",
      "          [ 0.1050,  0.0254,  0.0149, -0.1018,  0.0485],\n",
      "          [-0.0173, -0.0529,  0.0992,  0.0257, -0.0639],\n",
      "          [-0.0584, -0.0055,  0.0645, -0.0295, -0.0659]],\n",
      "\n",
      "         [[-0.0395, -0.0863,  0.0412,  0.0894, -0.1087],\n",
      "          [ 0.0268,  0.0597,  0.0209, -0.0411,  0.0603],\n",
      "          [ 0.0607,  0.0432, -0.0203, -0.0306,  0.0124],\n",
      "          [-0.0204, -0.0344,  0.0738,  0.0992, -0.0114],\n",
      "          [-0.0259,  0.0017, -0.0069,  0.0278,  0.0324]],\n",
      "\n",
      "         [[-0.1049, -0.0426,  0.0972,  0.0450, -0.0057],\n",
      "          [-0.0696, -0.0706, -0.1034, -0.0376,  0.0390],\n",
      "          [ 0.0736,  0.0533, -0.1021, -0.0694, -0.0182],\n",
      "          [ 0.1117,  0.0167, -0.0299,  0.0478, -0.0440],\n",
      "          [-0.0747,  0.0843, -0.0525, -0.0231, -0.1149]]],\n",
      "\n",
      "\n",
      "        [[[ 0.0773,  0.0875,  0.0421, -0.0805, -0.1140],\n",
      "          [-0.0938,  0.0861,  0.0554,  0.0972,  0.0605],\n",
      "          [ 0.0292, -0.0011, -0.0878, -0.0989, -0.1080],\n",
      "          [ 0.0473, -0.0567, -0.0232, -0.0665, -0.0210],\n",
      "          [-0.0813, -0.0754,  0.0383, -0.0343,  0.0713]],\n",
      "\n",
      "         [[-0.0370, -0.0847, -0.0204, -0.0560, -0.0353],\n",
      "          [-0.1099,  0.0646, -0.0804,  0.0580,  0.0524],\n",
      "          [ 0.0825, -0.0886,  0.0830, -0.0546,  0.0428],\n",
      "          [ 0.1084, -0.0163, -0.0009, -0.0266, -0.0964],\n",
      "          [ 0.0554, -0.1146,  0.0717,  0.0864,  0.1092]],\n",
      "\n",
      "         [[-0.0272, -0.0949,  0.0260,  0.0638, -0.1149],\n",
      "          [-0.0262, -0.0692, -0.0101, -0.0568, -0.0472],\n",
      "          [-0.0367, -0.1097,  0.0947,  0.0968, -0.0181],\n",
      "          [-0.0131, -0.0471, -0.1043, -0.1124,  0.0429],\n",
      "          [-0.0634, -0.0742, -0.0090, -0.0385, -0.0374]]],\n",
      "\n",
      "\n",
      "        [[[ 0.0037, -0.0245, -0.0398, -0.0553, -0.0940],\n",
      "          [ 0.0968, -0.0462,  0.0306, -0.0401,  0.0094],\n",
      "          [ 0.1077,  0.0532, -0.1001,  0.0458,  0.1096],\n",
      "          [ 0.0304,  0.0774,  0.1138, -0.0177,  0.0240],\n",
      "          [-0.0803, -0.0238,  0.0855,  0.0592, -0.0731]],\n",
      "\n",
      "         [[-0.0926, -0.0789, -0.1140, -0.0891, -0.0286],\n",
      "          [ 0.0779,  0.0193, -0.0878, -0.0926,  0.0574],\n",
      "          [-0.0859, -0.0142,  0.0554, -0.0534, -0.0126],\n",
      "          [-0.0101, -0.0273, -0.0585, -0.1029, -0.0933],\n",
      "          [-0.0618,  0.1115, -0.0558, -0.0775,  0.0280]],\n",
      "\n",
      "         [[ 0.0318,  0.0633,  0.0878,  0.0643, -0.1145],\n",
      "          [ 0.0102,  0.0699, -0.0107, -0.0680,  0.1101],\n",
      "          [-0.0432, -0.0657, -0.1041,  0.0052,  0.0512],\n",
      "          [ 0.0256,  0.0228, -0.0876, -0.1078,  0.0020],\n",
      "          [ 0.1053,  0.0666, -0.0672, -0.0150, -0.0851]]],\n",
      "\n",
      "\n",
      "        [[[-0.0557,  0.0209,  0.0629,  0.0957, -0.1060],\n",
      "          [ 0.0772, -0.0814,  0.0432,  0.0977,  0.0016],\n",
      "          [ 0.1051, -0.0984, -0.0441,  0.0673, -0.0252],\n",
      "          [-0.0236, -0.0481,  0.0796,  0.0566,  0.0370],\n",
      "          [-0.0649, -0.0937,  0.0125,  0.0342, -0.0533]],\n",
      "\n",
      "         [[-0.0323,  0.0780,  0.0092,  0.0052, -0.0284],\n",
      "          [-0.1046, -0.1086, -0.0552, -0.0587,  0.0360],\n",
      "          [-0.0336, -0.0452,  0.1101,  0.0402,  0.0823],\n",
      "          [-0.0559, -0.0472,  0.0424, -0.0769, -0.0755],\n",
      "          [-0.0056, -0.0422, -0.0866,  0.0685,  0.0929]],\n",
      "\n",
      "         [[ 0.0187, -0.0201, -0.1070, -0.0421,  0.0294],\n",
      "          [ 0.0544, -0.0146, -0.0457,  0.0643, -0.0920],\n",
      "          [ 0.0730, -0.0448,  0.0018, -0.0228,  0.0140],\n",
      "          [-0.0349,  0.0840, -0.0030,  0.0901,  0.1110],\n",
      "          [-0.0563, -0.0842,  0.0926,  0.0905, -0.0882]]],\n",
      "\n",
      "\n",
      "        [[[-0.0089, -0.1139, -0.0945,  0.0223,  0.0307],\n",
      "          [ 0.0245, -0.0314,  0.1065,  0.0165, -0.0681],\n",
      "          [-0.0065,  0.0277,  0.0404, -0.0816,  0.0433],\n",
      "          [-0.0590, -0.0959, -0.0631,  0.1114,  0.0987],\n",
      "          [ 0.1034,  0.0678,  0.0872, -0.0155, -0.0635]],\n",
      "\n",
      "         [[ 0.0577, -0.0598, -0.0779, -0.0369,  0.0242],\n",
      "          [ 0.0594, -0.0448, -0.0680,  0.0156, -0.0681],\n",
      "          [-0.0752,  0.0602, -0.0194,  0.1055,  0.1123],\n",
      "          [ 0.0345,  0.0397,  0.0266,  0.0018, -0.0084],\n",
      "          [ 0.0016,  0.0431,  0.1074, -0.0299, -0.0488]],\n",
      "\n",
      "         [[-0.0280, -0.0558,  0.0196,  0.0862,  0.0903],\n",
      "          [ 0.0530, -0.0850, -0.0620, -0.0254, -0.0213],\n",
      "          [ 0.0095, -0.1060,  0.0359, -0.0881, -0.0731],\n",
      "          [-0.0960,  0.1006, -0.1093,  0.0871, -0.0039],\n",
      "          [-0.0134,  0.0722, -0.0107,  0.0724,  0.0835]]],\n",
      "\n",
      "\n",
      "        [[[-0.1003,  0.0444,  0.0218,  0.0248,  0.0169],\n",
      "          [ 0.0316, -0.0555, -0.0148,  0.1097,  0.0776],\n",
      "          [-0.0043, -0.1086,  0.0051, -0.0786,  0.0939],\n",
      "          [-0.0701, -0.0083, -0.0256,  0.0205,  0.1087],\n",
      "          [ 0.0110,  0.0669,  0.0896,  0.0932, -0.0399]],\n",
      "\n",
      "         [[-0.0258,  0.0556, -0.0315,  0.0541, -0.0252],\n",
      "          [-0.0783,  0.0470,  0.0177,  0.0515,  0.1147],\n",
      "          [ 0.0788,  0.1095,  0.0062, -0.0993, -0.0810],\n",
      "          [-0.0717, -0.1018, -0.0579, -0.1063, -0.1065],\n",
      "          [-0.0690, -0.1138, -0.0709,  0.0440,  0.0963]],\n",
      "\n",
      "         [[-0.0343, -0.0336,  0.0617, -0.0570, -0.0546],\n",
      "          [ 0.0711, -0.1006,  0.0141,  0.1020,  0.0198],\n",
      "          [ 0.0314, -0.0672, -0.0016,  0.0063,  0.0283],\n",
      "          [ 0.0449,  0.1003, -0.0881,  0.0035, -0.0577],\n",
      "          [-0.0913, -0.0092, -0.1016,  0.0806,  0.0134]]],\n",
      "\n",
      "\n",
      "        [[[-0.0622,  0.0603, -0.1093, -0.0447, -0.0225],\n",
      "          [-0.0981, -0.0734, -0.0188,  0.0876,  0.1115],\n",
      "          [ 0.0735, -0.0689, -0.0755,  0.1008,  0.0408],\n",
      "          [ 0.0031,  0.0156, -0.0928, -0.0386,  0.1112],\n",
      "          [-0.0285, -0.0058, -0.0959, -0.0646, -0.0024]],\n",
      "\n",
      "         [[-0.0717, -0.0143,  0.0470, -0.1130,  0.0343],\n",
      "          [-0.0763, -0.0564,  0.0443,  0.0918, -0.0316],\n",
      "          [-0.0474, -0.1044, -0.0595, -0.1011, -0.0264],\n",
      "          [ 0.0236, -0.1082,  0.1008,  0.0724, -0.1130],\n",
      "          [-0.0552,  0.0377, -0.0237, -0.0126, -0.0521]],\n",
      "\n",
      "         [[ 0.0927, -0.0645,  0.0958,  0.0075,  0.0232],\n",
      "          [ 0.0901, -0.0190, -0.0657, -0.0187,  0.0937],\n",
      "          [-0.0857,  0.0262, -0.1135,  0.0605,  0.0427],\n",
      "          [ 0.0049,  0.0496,  0.0001,  0.0639, -0.0914],\n",
      "          [-0.0170,  0.0512,  0.1150,  0.0588, -0.0840]]],\n",
      "\n",
      "\n",
      "        [[[ 0.0888, -0.0257, -0.0247, -0.1050, -0.0182],\n",
      "          [ 0.0817,  0.0161, -0.0673,  0.0355, -0.0370],\n",
      "          [ 0.1054, -0.1002, -0.0365, -0.1115, -0.0455],\n",
      "          [ 0.0364,  0.1112,  0.0194,  0.1132,  0.0226],\n",
      "          [ 0.0667,  0.0926,  0.0965, -0.0646,  0.1062]],\n",
      "\n",
      "         [[ 0.0699, -0.0540, -0.0551, -0.0969,  0.0290],\n",
      "          [-0.0936,  0.0488,  0.0365, -0.1003,  0.0315],\n",
      "          [-0.0094,  0.0527,  0.0663, -0.1148,  0.1059],\n",
      "          [ 0.0968,  0.0459, -0.1055, -0.0412, -0.0335],\n",
      "          [-0.0297,  0.0651,  0.0420,  0.0915, -0.0432]],\n",
      "\n",
      "         [[ 0.0389,  0.0411, -0.0961, -0.1120, -0.0599],\n",
      "          [ 0.0790, -0.1087, -0.1005,  0.0647,  0.0623],\n",
      "          [ 0.0950, -0.0872, -0.0845,  0.0592,  0.1004],\n",
      "          [ 0.0691,  0.0181,  0.0381,  0.1096, -0.0745],\n",
      "          [-0.0524,  0.0808, -0.0790, -0.0637,  0.0843]]]])), ('bias', tensor([ 0.0364,  0.0373, -0.0489, -0.0016,  0.1057, -0.0693,  0.0009,  0.0549,\n",
      "        -0.0797,  0.1121]))])\n"
     ]
    }
   ],
   "source": [
    "print(conv_layer_2.state_dict())"
   ]
  },
  {
   "cell_type": "code",
   "execution_count": 165,
   "id": "27c9983a",
   "metadata": {},
   "outputs": [
    {
     "name": "stdout",
     "output_type": "stream",
     "text": [
      "conv_layer_2 weight shape: \n",
      "torch.Size([10, 3, 5, 5])\n",
      "conv_layer_2 bias shape: torch.Size([10])\n"
     ]
    }
   ],
   "source": [
    "print(f\"conv_layer_2 weight shape: \\n{conv_layer_2.weight.shape}\")\n",
    "print(f\"conv_layer_2 bias shape: {conv_layer_2.bias.shape}\")"
   ]
  },
  {
   "cell_type": "code",
   "execution_count": 166,
   "id": "08a35b72",
   "metadata": {},
   "outputs": [
    {
     "name": "stdout",
     "output_type": "stream",
     "text": [
      "Test image original shape: torch.Size([3, 64, 64])\n",
      "Test image with unsqueezed dimension: torch.Size([1, 3, 64, 64])\n",
      "Shape after going through conv_layer(): torch.Size([1, 10, 62, 62])\n",
      "Shape after going through conv_layer() and max_pool_layer(): torch.Size([1, 10, 31, 31])\n"
     ]
    }
   ],
   "source": [
    "print(f\"Test image original shape: {test_image.shape}\")\n",
    "print(f\"Test image with unsqueezed dimension: {test_image.unsqueeze(dim=0).shape}\")\n",
    "\n",
    "max_pool_layer = nn.MaxPool2d(kernel_size=2)\n",
    "\n",
    "test_image_through_conv = conv_layer(test_image.unsqueeze(0))\n",
    "print(f\"Shape after going through conv_layer(): {test_image_through_conv.shape}\")\n",
    "\n",
    "test_image_through_conv_max_pool = max_pool_layer(test_image_through_conv)\n",
    "print(f\"Shape after going through conv_layer() and max_pool_layer(): {test_image_through_conv_max_pool.shape}\")"
   ]
  },
  {
   "cell_type": "markdown",
   "id": "d0046bf1",
   "metadata": {},
   "source": [
    "## 7.3 Setup a loss function and optimizer for model_2"
   ]
  },
  {
   "cell_type": "code",
   "execution_count": 194,
   "id": "13ddb4a3",
   "metadata": {},
   "outputs": [
    {
     "data": {
      "text/html": [
       "Finishing last run (ID:vcz91gp4) before initializing another..."
      ],
      "text/plain": [
       "<IPython.core.display.HTML object>"
      ]
     },
     "metadata": {},
     "output_type": "display_data"
    },
    {
     "name": "stderr",
     "output_type": "stream",
     "text": [
      "wandb: WARNING Source type is set to 'repo' but some required information is missing from the environment. A job will not be created from this run. See https://docs.wandb.ai/guides/launch/create-job\n"
     ]
    },
    {
     "data": {
      "application/vnd.jupyter.widget-view+json": {
       "model_id": "b05afd3631704714bc6f196f89113f81",
       "version_major": 2,
       "version_minor": 0
      },
      "text/plain": [
       "VBox(children=(Label(value='0.002 MB of 0.067 MB uploaded\\r'), FloatProgress(value=0.029631523622830194, max=1…"
      ]
     },
     "metadata": {},
     "output_type": "display_data"
    },
    {
     "data": {
      "text/html": [
       "<style>\n",
       "    table.wandb td:nth-child(1) { padding: 0 10px; text-align: left ; width: auto;} td:nth-child(2) {text-align: left ; width: 100%}\n",
       "    .wandb-row { display: flex; flex-direction: row; flex-wrap: wrap; justify-content: flex-start; width: 100% }\n",
       "    .wandb-col { display: flex; flex-direction: column; flex-basis: 100%; flex: 1; padding: 10px; }\n",
       "    </style>\n",
       "<div class=\"wandb-row\"><div class=\"wandb-col\"><h3>Run history:</h3><br/><table class=\"wandb\"><tr><td>Train Loss</td><td>▂▃▃▄▄▅▅▆▆▆▇▇██▁▂▂▂▂▃▃▄▄▄▄▅▅▁▁▂▂▂▃▃▃▃▄▄▄▅</td></tr><tr><td>train_acc</td><td>▁▁▂▂▃▃▄▄▅▅▆▆▇▇▁▂▃▃▄▄▅▅▆▆▇▇█▁▂▂▃▄▄▅▅▆▆▇▇█</td></tr></table><br/></div><div class=\"wandb-col\"><h3>Run summary:</h3><br/><table class=\"wandb\"><tr><td>Train Loss</td><td>611.36683</td></tr><tr><td>train_acc</td><td>165240.625</td></tr></table><br/></div></div>"
      ],
      "text/plain": [
       "<IPython.core.display.HTML object>"
      ]
     },
     "metadata": {},
     "output_type": "display_data"
    },
    {
     "data": {
      "text/html": [
       " View run <strong style=\"color:#cdcd00\">pleasant-shape-3</strong> at: <a href='https://wandb.ai/frackowiak/pytorch_computer_vision1/runs/vcz91gp4' target=\"_blank\">https://wandb.ai/frackowiak/pytorch_computer_vision1/runs/vcz91gp4</a><br/>Synced 6 W&B file(s), 0 media file(s), 0 artifact file(s) and 0 other file(s)"
      ],
      "text/plain": [
       "<IPython.core.display.HTML object>"
      ]
     },
     "metadata": {},
     "output_type": "display_data"
    },
    {
     "data": {
      "text/html": [
       "Find logs at: <code>./wandb/run-20240329_192758-vcz91gp4/logs</code>"
      ],
      "text/plain": [
       "<IPython.core.display.HTML object>"
      ]
     },
     "metadata": {},
     "output_type": "display_data"
    },
    {
     "data": {
      "text/html": [
       "Successfully finished last run (ID:vcz91gp4). Initializing new run:<br/>"
      ],
      "text/plain": [
       "<IPython.core.display.HTML object>"
      ]
     },
     "metadata": {},
     "output_type": "display_data"
    },
    {
     "data": {
      "application/vnd.jupyter.widget-view+json": {
       "model_id": "3465fc04528d4abb8eae952731aa19e1",
       "version_major": 2,
       "version_minor": 0
      },
      "text/plain": [
       "VBox(children=(Label(value='Waiting for wandb.init()...\\r'), FloatProgress(value=0.011112393677790856, max=1.0…"
      ]
     },
     "metadata": {},
     "output_type": "display_data"
    },
    {
     "data": {
      "text/html": [
       "wandb version 0.16.5 is available!  To upgrade, please run:\n",
       " $ pip install wandb --upgrade"
      ],
      "text/plain": [
       "<IPython.core.display.HTML object>"
      ]
     },
     "metadata": {},
     "output_type": "display_data"
    },
    {
     "data": {
      "text/html": [
       "Tracking run with wandb version 0.16.2"
      ],
      "text/plain": [
       "<IPython.core.display.HTML object>"
      ]
     },
     "metadata": {},
     "output_type": "display_data"
    },
    {
     "data": {
      "text/html": [
       "Run data is saved locally in <code>/home/kajetan/Documents/pytorch_deep_learning/wandb/run-20240329_193329-zeoefzfu</code>"
      ],
      "text/plain": [
       "<IPython.core.display.HTML object>"
      ]
     },
     "metadata": {},
     "output_type": "display_data"
    },
    {
     "data": {
      "text/html": [
       "Syncing run <strong><a href='https://wandb.ai/frackowiak/pytorch_computer_vision1/runs/zeoefzfu' target=\"_blank\">dry-wind-4</a></strong> to <a href='https://wandb.ai/frackowiak/pytorch_computer_vision1' target=\"_blank\">Weights & Biases</a> (<a href='https://wandb.me/run' target=\"_blank\">docs</a>)<br/>"
      ],
      "text/plain": [
       "<IPython.core.display.HTML object>"
      ]
     },
     "metadata": {},
     "output_type": "display_data"
    },
    {
     "data": {
      "text/html": [
       " View project at <a href='https://wandb.ai/frackowiak/pytorch_computer_vision1' target=\"_blank\">https://wandb.ai/frackowiak/pytorch_computer_vision1</a>"
      ],
      "text/plain": [
       "<IPython.core.display.HTML object>"
      ]
     },
     "metadata": {},
     "output_type": "display_data"
    },
    {
     "data": {
      "text/html": [
       " View run at <a href='https://wandb.ai/frackowiak/pytorch_computer_vision1/runs/zeoefzfu' target=\"_blank\">https://wandb.ai/frackowiak/pytorch_computer_vision1/runs/zeoefzfu</a>"
      ],
      "text/plain": [
       "<IPython.core.display.HTML object>"
      ]
     },
     "metadata": {},
     "output_type": "display_data"
    }
   ],
   "source": [
    "wandb.init(project=\"pytorch_computer_vision1\", entity=\"frackowiak\")\n",
    "\n",
    "def train_step(model: torch.nn.Module,\n",
    "               data_loader: torch.utils.data.DataLoader,\n",
    "               loss_fn: torch.nn.Module,\n",
    "               optimizer: torch.optim.Optimizer,\n",
    "               accuracy_fn,\n",
    "               device: torch.device = device):\n",
    "    train_loss, train_acc = 0, 0\n",
    "    model.to(device)\n",
    "    for batch, (X, y) in enumerate(data_loader):\n",
    "        # Send data to GPU\n",
    "        X, y = X.to(device), y.to(device)\n",
    "\n",
    "        # 1. Forward pass\n",
    "        y_pred = model(X)\n",
    "\n",
    "        # 2. Calculate loss\n",
    "        loss = loss_fn(y_pred, y)\n",
    "        train_loss += loss.item()\n",
    "        train_acc += accuracy_fn(y_true=y,\n",
    "                                 y_pred=y_pred.argmax(dim=1)) # Go from logits -> pred labels\n",
    "\n",
    "        # 3. Optimizer zero grad\n",
    "        optimizer.zero_grad()\n",
    "\n",
    "        # 4. Loss backward\n",
    "        loss.backward()\n",
    "\n",
    "        # 5. Optimizer step\n",
    "        optimizer.step()\n",
    "\n",
    "        wandb.log({\"Train Loss\": train_loss, \"train_acc\": train_acc})\n",
    "\n",
    "    # Calculate loss and accuracy per epoch and print out what's happening\n",
    "    train_loss /= len(data_loader)\n",
    "    train_acc /= len(data_loader)\n",
    "    print(f\"Train loss: {train_loss:.5f} | Train accuracy: {train_acc:.2f}%\")\n",
    "\n",
    "def test_step(data_loader: torch.utils.data.DataLoader,\n",
    "              model: torch.nn.Module,\n",
    "              loss_fn: torch.nn.Module,\n",
    "              accuracy_fn,\n",
    "              device: torch.device = device):\n",
    "    test_loss, test_acc = 0, 0\n",
    "    model.to(device)\n",
    "    model.eval() # put model in eval mode\n",
    "    # Turn on inference context manager\n",
    "    with torch.inference_mode(): \n",
    "        for X, y in data_loader:\n",
    "            # Send data to GPU\n",
    "            X, y = X.to(device), y.to(device)\n",
    "            \n",
    "            # 1. Forward pass\n",
    "            test_pred = model(X)\n",
    "            \n",
    "            # 2. Calculate loss and accuracy\n",
    "            test_loss += loss_fn(test_pred, y)\n",
    "            test_acc += accuracy_fn(y_true=y,\n",
    "                y_pred=test_pred.argmax(dim=1) # Go from logits -> pred labels\n",
    "            )\n",
    "        \n",
    "        # Adjust metrics and print out\n",
    "        test_loss /= len(data_loader)\n",
    "        test_acc /= len(data_loader)\n",
    "        print(f\"Test loss: {test_loss:.5f} | Test accuracy: {test_acc:.2f}%\\n\")"
   ]
  },
  {
   "cell_type": "code",
   "execution_count": 168,
   "id": "2b2b3b1a",
   "metadata": {},
   "outputs": [],
   "source": [
    "loss_fn = nn.CrossEntropyLoss()\n",
    "optimizer = torch.optim.SGD(params=model_2.parameters(),\n",
    "                            lr=0.1)"
   ]
  },
  {
   "cell_type": "code",
   "execution_count": 169,
   "id": "892b8e27",
   "metadata": {},
   "outputs": [
    {
     "data": {
      "application/vnd.jupyter.widget-view+json": {
       "model_id": "d7d2c10eaf1d4202982418dde264da36",
       "version_major": 2,
       "version_minor": 0
      },
      "text/plain": [
       "  0%|          | 0/3 [00:00<?, ?it/s]"
      ]
     },
     "metadata": {},
     "output_type": "display_data"
    },
    {
     "name": "stdout",
     "output_type": "stream",
     "text": [
      "Epoch: 0\n",
      "-------\n",
      "Train loss: 0.59248 | Train accuracy: 78.47%\n",
      "Test loss: 0.39561 | Test accuracy: 86.04%\n",
      "\n",
      "Epoch: 1\n",
      "-------\n",
      "Train loss: 0.36099 | Train accuracy: 86.95%\n",
      "Test loss: 0.35996 | Test accuracy: 86.57%\n",
      "\n",
      "Epoch: 2\n",
      "-------\n",
      "Train loss: 0.32606 | Train accuracy: 88.13%\n",
      "Test loss: 0.32604 | Test accuracy: 88.19%\n",
      "\n",
      "Train time on cuda: 36.264 seconds\n"
     ]
    }
   ],
   "source": [
    "torch.manual_seed(42)\n",
    "torch.cuda.manual_seed(42)\n",
    "\n",
    "# Measure time\n",
    "from timeit import default_timer as timer\n",
    "train_time_start_model_2 = timer()\n",
    "\n",
    "epochs = 3\n",
    "for epoch in tqdm(range(epochs)):\n",
    "    print(f\"Epoch: {epoch}\\n-------\")\n",
    "    train_step(model=model_2,\n",
    "               data_loader=train_dataloader,\n",
    "               loss_fn=loss_fn,\n",
    "               optimizer=optimizer,\n",
    "               accuracy_fn=accuracy_fn,\n",
    "               device=device)\n",
    "    test_step(model=model_2,\n",
    "              data_loader=test_dataloader,\n",
    "              loss_fn=loss_fn,\n",
    "              accuracy_fn=accuracy_fn,\n",
    "              device=device)\n",
    "    \n",
    "train_time_end_model_2 = timer()\n",
    "total_train_time_model_2 = print_train_time(start=train_time_start_model_2,\n",
    "                                            end=train_time_end_model_2,\n",
    "                                            device=device)\n"
   ]
  },
  {
   "cell_type": "code",
   "execution_count": 170,
   "id": "6829337c",
   "metadata": {},
   "outputs": [],
   "source": [
    "def eval_model(model: torch.nn.Module,\n",
    "               data_loader: torch.utils.data.DataLoader,\n",
    "               loss_fn: torch.nn.Module,\n",
    "               accuracy_fn,\n",
    "               device: torch.device = device):\n",
    "    loss, acc = 0, 0\n",
    "    with torch.inference_mode():\n",
    "        for X, y in data_loader:\n",
    "            X, y = X.to(device), y.to(device)\n",
    "            y_pred = model(X)\n",
    "            loss += loss_fn(y_pred, y)\n",
    "            acc += accuracy_fn(y_true=y, y_pred=y_pred.argmax(dim=1))\n",
    "            \n",
    "        loss /= len(data_loader)\n",
    "        acc /= len(data_loader)\n",
    "    \n",
    "    return {\"model_name\": model.__class__.__name__,  # Only works when model was created with a class\n",
    "            \"model_loss\": loss.item(),\n",
    "            \"model_acc\": acc\n",
    "            }"
   ]
  },
  {
   "cell_type": "code",
   "execution_count": 171,
   "id": "2fc90577",
   "metadata": {},
   "outputs": [
    {
     "data": {
      "text/plain": [
       "{'model_name': 'FashionMNISTModelV2',\n",
       " 'model_loss': 0.32603877782821655,\n",
       " 'model_acc': 88.18889776357827}"
      ]
     },
     "execution_count": 171,
     "metadata": {},
     "output_type": "execute_result"
    }
   ],
   "source": [
    "model_2_results = eval_model(\n",
    "    model=model_2,\n",
    "    data_loader=test_dataloader,\n",
    "    loss_fn=loss_fn,\n",
    "    accuracy_fn=accuracy_fn,\n",
    "    device=device\n",
    ")\n",
    "\n",
    "model_2_results"
   ]
  },
  {
   "cell_type": "code",
   "execution_count": 172,
   "id": "a8767a76",
   "metadata": {},
   "outputs": [
    {
     "data": {
      "text/html": [
       "<div>\n",
       "<style scoped>\n",
       "    .dataframe tbody tr th:only-of-type {\n",
       "        vertical-align: middle;\n",
       "    }\n",
       "\n",
       "    .dataframe tbody tr th {\n",
       "        vertical-align: top;\n",
       "    }\n",
       "\n",
       "    .dataframe thead th {\n",
       "        text-align: right;\n",
       "    }\n",
       "</style>\n",
       "<table border=\"1\" class=\"dataframe\">\n",
       "  <thead>\n",
       "    <tr style=\"text-align: right;\">\n",
       "      <th></th>\n",
       "      <th>model_name</th>\n",
       "      <th>model_loss</th>\n",
       "      <th>model_acc</th>\n",
       "    </tr>\n",
       "  </thead>\n",
       "  <tbody>\n",
       "    <tr>\n",
       "      <th>0</th>\n",
       "      <td>FashionMNISTModelV0</td>\n",
       "      <td>0.476639</td>\n",
       "      <td>83.426518</td>\n",
       "    </tr>\n",
       "    <tr>\n",
       "      <th>1</th>\n",
       "      <td>FashionMNISTModelV2</td>\n",
       "      <td>0.326039</td>\n",
       "      <td>88.188898</td>\n",
       "    </tr>\n",
       "  </tbody>\n",
       "</table>\n",
       "</div>"
      ],
      "text/plain": [
       "            model_name  model_loss  model_acc\n",
       "0  FashionMNISTModelV0    0.476639  83.426518\n",
       "1  FashionMNISTModelV2    0.326039  88.188898"
      ]
     },
     "execution_count": 172,
     "metadata": {},
     "output_type": "execute_result"
    }
   ],
   "source": [
    "import pandas as pd\n",
    "compare_results = pd.DataFrame([model_0_results,\n",
    "                                model_2_results])\n",
    "\n",
    "compare_results                    "
   ]
  },
  {
   "cell_type": "code",
   "execution_count": 173,
   "id": "9896e536",
   "metadata": {},
   "outputs": [
    {
     "data": {
      "text/html": [
       "<div>\n",
       "<style scoped>\n",
       "    .dataframe tbody tr th:only-of-type {\n",
       "        vertical-align: middle;\n",
       "    }\n",
       "\n",
       "    .dataframe tbody tr th {\n",
       "        vertical-align: top;\n",
       "    }\n",
       "\n",
       "    .dataframe thead th {\n",
       "        text-align: right;\n",
       "    }\n",
       "</style>\n",
       "<table border=\"1\" class=\"dataframe\">\n",
       "  <thead>\n",
       "    <tr style=\"text-align: right;\">\n",
       "      <th></th>\n",
       "      <th>model_name</th>\n",
       "      <th>model_loss</th>\n",
       "      <th>model_acc</th>\n",
       "      <th>training_time</th>\n",
       "    </tr>\n",
       "  </thead>\n",
       "  <tbody>\n",
       "    <tr>\n",
       "      <th>0</th>\n",
       "      <td>FashionMNISTModelV0</td>\n",
       "      <td>0.476639</td>\n",
       "      <td>83.426518</td>\n",
       "      <td>30.933650</td>\n",
       "    </tr>\n",
       "    <tr>\n",
       "      <th>1</th>\n",
       "      <td>FashionMNISTModelV2</td>\n",
       "      <td>0.326039</td>\n",
       "      <td>88.188898</td>\n",
       "      <td>36.263886</td>\n",
       "    </tr>\n",
       "  </tbody>\n",
       "</table>\n",
       "</div>"
      ],
      "text/plain": [
       "            model_name  model_loss  model_acc  training_time\n",
       "0  FashionMNISTModelV0    0.476639  83.426518      30.933650\n",
       "1  FashionMNISTModelV2    0.326039  88.188898      36.263886"
      ]
     },
     "execution_count": 173,
     "metadata": {},
     "output_type": "execute_result"
    }
   ],
   "source": [
    "compare_results[\"training_time\"] = [total_train_time_model_0,\n",
    "                                    total_train_time_model_2]\n",
    "\n",
    "compare_results"
   ]
  },
  {
   "cell_type": "code",
   "execution_count": 174,
   "id": "ed331cfd",
   "metadata": {},
   "outputs": [
    {
     "name": "stdout",
     "output_type": "stream",
     "text": [
      "Fri Mar 29 19:28:59 2024       \n",
      "+-----------------------------------------------------------------------------+\n",
      "| NVIDIA-SMI 525.147.05   Driver Version: 525.147.05   CUDA Version: 12.0     |\n",
      "|-------------------------------+----------------------+----------------------+\n",
      "| GPU  Name        Persistence-M| Bus-Id        Disp.A | Volatile Uncorr. ECC |\n",
      "| Fan  Temp  Perf  Pwr:Usage/Cap|         Memory-Usage | GPU-Util  Compute M. |\n",
      "|                               |                      |               MIG M. |\n",
      "|===============================+======================+======================|\n",
      "|   0  NVIDIA GeForce ...  Off  | 00000000:01:00.0  On |                  N/A |\n",
      "| 44%   67C    P2    47W / 180W |   3574MiB /  8192MiB |     18%      Default |\n",
      "|                               |                      |                  N/A |\n",
      "+-------------------------------+----------------------+----------------------+\n",
      "                                                                               \n",
      "+-----------------------------------------------------------------------------+\n",
      "| Processes:                                                                  |\n",
      "|  GPU   GI   CI        PID   Type   Process name                  GPU Memory |\n",
      "|        ID   ID                                                   Usage      |\n",
      "|=============================================================================|\n",
      "|    0   N/A  N/A    121380      G   /usr/lib/xorg/Xorg               1224MiB |\n",
      "|    0   N/A  N/A    121540      G   /usr/bin/gnome-shell              163MiB |\n",
      "|    0   N/A  N/A    122118      G   .../xdg-desktop-portal-gnome      278MiB |\n",
      "|    0   N/A  N/A    123223      G   ...on=20240328-180147.911000      626MiB |\n",
      "|    0   N/A  N/A    124135      G   ...RendererForSitePerProcess      337MiB |\n",
      "|    0   N/A  N/A    124600      C   ...etan/anaconda3/bin/python      840MiB |\n",
      "|    0   N/A  N/A    147001      G   ...--variations-seed-version       32MiB |\n",
      "+-----------------------------------------------------------------------------+\n"
     ]
    }
   ],
   "source": [
    "!nvidia-smi"
   ]
  },
  {
   "cell_type": "code",
   "execution_count": 175,
   "id": "7c8becd4",
   "metadata": {},
   "outputs": [
    {
     "data": {
      "text/plain": [
       "Text(0, 0.5, 'model')"
      ]
     },
     "execution_count": 175,
     "metadata": {},
     "output_type": "execute_result"
    },
    {
     "data": {
      "image/png": "[encoded data removed]",
      "text/plain": [
       "<Figure size 640x480 with 1 Axes>"
      ]
     },
     "metadata": {},
     "output_type": "display_data"
    }
   ],
   "source": [
    "compare_results.set_index(\"model_name\")[\"model_acc\"].plot(kind=\"barh\")\n",
    "plt.xlabel(\"accuracy (%)\")\n",
    "plt.ylabel(\"model\")"
   ]
  },
  {
   "cell_type": "code",
   "execution_count": 176,
   "id": "9ec835a1",
   "metadata": {},
   "outputs": [],
   "source": [
    "# Make and evaluate random predictions with best model\n",
    "\n",
    "def make_predictions(model: torch.nn.Module,\n",
    "                     data: list,\n",
    "                     device: torch.device = device):\n",
    "    pred_probs = []\n",
    "    model.to(device)\n",
    "    model.eval()\n",
    "    with torch.inference_mode():\n",
    "        for sample in data:\n",
    "            # Prepare the sample (add a batch dimension and pass to target device)\n",
    "            sample = torch.unsqueeze(sample, dim=0).to(device)\n",
    "\n",
    "            # Forward pass (model outputs raw logits)\n",
    "            pred_logit = model(sample)\n",
    "            \n",
    "            # Get prediction probability (logit -> prediction probability)\n",
    "            pred_prob = torch.softmax(pred_logit.squeeze(), dim=0)\n",
    "            \n",
    "            # Get pred_prob off the GPU for further calculations\n",
    "            pred_probs.append(pred_prob.cpu())\n",
    "        \n",
    "    # Stack the pred_probs to turn list into a tensor\n",
    "    return torch.stack(pred_probs)"
   ]
  },
  {
   "cell_type": "code",
   "execution_count": 177,
   "id": "5644be3b",
   "metadata": {},
   "outputs": [
    {
     "data": {
      "text/plain": [
       "Dataset FashionMNIST\n",
       "    Number of datapoints: 10000\n",
       "    Root location: data\n",
       "    Split: Test\n",
       "    StandardTransform\n",
       "Transform: ToTensor()"
      ]
     },
     "execution_count": 177,
     "metadata": {},
     "output_type": "execute_result"
    }
   ],
   "source": [
    "test_data"
   ]
  },
  {
   "cell_type": "code",
   "execution_count": 178,
   "id": "9db76e23",
   "metadata": {},
   "outputs": [
    {
     "data": {
      "text/plain": [
       "(torch.Size([1, 28, 28]), 9)"
      ]
     },
     "execution_count": 178,
     "metadata": {},
     "output_type": "execute_result"
    }
   ],
   "source": [
    "img, label = test_data[0][:10]\n",
    "img.shape, label"
   ]
  },
  {
   "cell_type": "code",
   "execution_count": 179,
   "id": "4c785da0",
   "metadata": {},
   "outputs": [
    {
     "data": {
      "text/plain": [
       "torch.Size([1, 28, 28])"
      ]
     },
     "execution_count": 179,
     "metadata": {},
     "output_type": "execute_result"
    }
   ],
   "source": [
    "import random\n",
    "\n",
    "test_samples = []\n",
    "test_labels = []\n",
    "\n",
    "for sample, label in random.sample(list(test_data), k=9):\n",
    "    test_samples.append(sample)\n",
    "    test_labels.append(label)\n",
    "    \n",
    "# View the first sample shape\n",
    "test_samples[1].shape"
   ]
  },
  {
   "cell_type": "code",
   "execution_count": 180,
   "id": "942cd78c",
   "metadata": {},
   "outputs": [
    {
     "data": {
      "text/plain": [
       "Text(0.5, 1.0, 'Sandal')"
      ]
     },
     "execution_count": 180,
     "metadata": {},
     "output_type": "execute_result"
    },
    {
     "data": {
      "image/png": "[encoded data removed]",
      "text/plain": [
       "<Figure size 640x480 with 1 Axes>"
      ]
     },
     "metadata": {},
     "output_type": "display_data"
    }
   ],
   "source": [
    "plt.imshow(test_samples[0].squeeze(), cmap=\"gray\")\n",
    "plt.title(class_names[test_labels[0]])"
   ]
  },
  {
   "cell_type": "code",
   "execution_count": 181,
   "id": "6d8a2818",
   "metadata": {},
   "outputs": [
    {
     "data": {
      "text/plain": [
       "tensor([[2.7495e-05, 8.1182e-07, 4.3684e-05, 1.6261e-04, 1.4937e-07, 9.9309e-01,\n",
       "         3.2124e-06, 1.2288e-03, 5.4476e-03, 3.3391e-07],\n",
       "        [9.9989e-02, 1.8941e-03, 7.4917e-01, 3.6347e-03, 3.6374e-03, 1.9849e-04,\n",
       "         1.3359e-01, 1.2138e-04, 7.6547e-03, 1.0858e-04]])"
      ]
     },
     "execution_count": 181,
     "metadata": {},
     "output_type": "execute_result"
    }
   ],
   "source": [
    "# Make predictions\n",
    "pred_probs = make_predictions(model=model_2,\n",
    "                              data=test_samples)\n",
    "\n",
    "# View first two prediction probabilities\n",
    "pred_probs[:2]"
   ]
  },
  {
   "cell_type": "markdown",
   "id": "ea8d76ba",
   "metadata": {},
   "source": [
    "test_labels"
   ]
  },
  {
   "cell_type": "code",
   "execution_count": 182,
   "id": "39998f4a",
   "metadata": {},
   "outputs": [
    {
     "data": {
      "text/plain": [
       "torch.Size([9, 10])"
      ]
     },
     "execution_count": 182,
     "metadata": {},
     "output_type": "execute_result"
    }
   ],
   "source": [
    "pred_probs.shape"
   ]
  },
  {
   "cell_type": "code",
   "execution_count": 183,
   "id": "5b91bf5d",
   "metadata": {},
   "outputs": [
    {
     "data": {
      "text/plain": [
       "tensor([5, 2, 0, 1, 2, 2, 1, 4, 4])"
      ]
     },
     "execution_count": 183,
     "metadata": {},
     "output_type": "execute_result"
    }
   ],
   "source": [
    "# Convert prediction probabilities to labels\n",
    "pred_classes = pred_probs.argmax(dim=1)\n",
    "pred_classes"
   ]
  },
  {
   "cell_type": "code",
   "execution_count": 184,
   "id": "e3f20cf4",
   "metadata": {},
   "outputs": [
    {
     "data": {
      "image/png": "[encoded data removed]",
      "text/plain": [
       "<Figure size 900x900 with 9 Axes>"
      ]
     },
     "metadata": {},
     "output_type": "display_data"
    }
   ],
   "source": [
    "# Plot predictions\n",
    "plt.figure(figsize=(9, 9))\n",
    "nrows = 3\n",
    "ncols = 3\n",
    "for i, sample in enumerate(test_samples):\n",
    "    plt.subplot(nrows, ncols, i+1)\n",
    "    plt.imshow(sample.squeeze(), cmap=\"gray\")\n",
    "    pred_label = class_names[pred_classes[i]]\n",
    "    truth_label = class_names[test_labels[i]]\n",
    "    title_test = f\"Pred: {pred_label} | Truth: {truth_label}\"\n",
    "\n",
    "    if pred_label == truth_label:\n",
    "        plt.title(title_test, fontsize=10, c=\"g\") # green test if pred same as truth\n",
    "    else:\n",
    "        plt.title(title_test, fontsize=10, c=\"r\")\n",
    "    \n",
    "    plt.axis(False)"
   ]
  },
  {
   "cell_type": "markdown",
   "id": "a7715d97",
   "metadata": {},
   "source": [
    "# Confusion matrix"
   ]
  },
  {
   "cell_type": "code",
   "execution_count": 185,
   "id": "65f1b769",
   "metadata": {},
   "outputs": [
    {
     "data": {
      "application/vnd.jupyter.widget-view+json": {
       "model_id": "30cd6b9c276c42529ec5b07d9932cbd6",
       "version_major": 2,
       "version_minor": 0
      },
      "text/plain": [
       "Making predictions...:   0%|          | 0/313 [00:00<?, ?it/s]"
      ]
     },
     "metadata": {},
     "output_type": "display_data"
    },
    {
     "name": "stdout",
     "output_type": "stream",
     "text": [
      "[tensor([9, 2, 1, 1, 6, 1, 4, 6, 5, 7, 4, 5, 5, 3, 4, 3, 2, 2, 8, 0, 2, 5, 7, 5,\n",
      "        1, 2, 6, 0, 9, 3, 8, 8]), tensor([3, 3, 8, 0, 7, 5, 7, 9, 6, 1, 3, 7, 6, 7, 2, 1, 6, 6, 4, 6, 5, 6, 2, 2,\n",
      "        8, 4, 8, 0, 7, 7, 8, 5]), tensor([1, 3, 3, 3, 7, 8, 7, 0, 2, 6, 4, 3, 1, 2, 8, 4, 3, 8, 5, 9, 5, 0, 3, 2,\n",
      "        0, 2, 5, 3, 6, 7, 1, 8]), tensor([6, 1, 6, 2, 3, 6, 7, 6, 7, 8, 5, 7, 9, 4, 2, 5, 7, 0, 5, 2, 8, 6, 7, 8,\n",
      "        0, 0, 9, 9, 3, 0, 8, 4]), tensor([1, 5, 4, 1, 9, 1, 8, 6, 2, 1, 2, 5, 1, 6, 0, 0, 1, 6, 1, 3, 2, 6, 2, 4,\n",
      "        1, 4, 5, 6, 4, 7, 9, 3]), tensor([7, 2, 3, 8, 0, 9, 4, 7, 4, 2, 6, 5, 6, 1, 2, 1, 3, 6, 9, 1, 0, 9, 3, 8,\n",
      "        7, 9, 8, 4, 4, 7, 1, 2]), tensor([3, 6, 3, 2, 8, 3, 6, 1, 1, 6, 2, 9, 2, 4, 6, 7, 9, 8, 4, 1, 8, 4, 1, 3,\n",
      "        1, 6, 7, 2, 8, 5, 6, 0]), tensor([7, 7, 6, 2, 7, 0, 7, 8, 9, 2, 9, 0, 5, 1, 3, 2, 5, 4, 9, 2, 2, 8, 6, 4,\n",
      "        2, 4, 9, 7, 3, 5, 5, 4]), tensor([8, 5, 2, 3, 0, 4, 8, 6, 0, 6, 3, 8, 9, 6, 1, 3, 0, 2, 3, 0, 8, 3, 7, 4,\n",
      "        6, 1, 6, 3, 6, 2, 2, 7]), tensor([5, 4, 7, 9, 5, 6, 5, 5, 1, 9, 8, 3, 3, 3, 6, 8, 0, 0, 2, 9, 7, 7, 1, 3,\n",
      "        6, 6, 2, 4, 7, 1, 6, 4]), tensor([8, 2, 6, 5, 6, 2, 8, 7, 7, 3, 3, 8, 0, 7, 1, 3, 7, 8, 2, 8, 4, 0, 0, 1,\n",
      "        0, 1, 9, 4, 9, 9, 1, 7]), tensor([8, 3, 6, 0, 2, 4, 8, 6, 1, 2, 2, 4, 4, 7, 3, 2, 2, 5, 0, 7, 9, 4, 0, 9,\n",
      "        3, 9, 8, 2, 5, 6, 2, 3]), tensor([5, 8, 1, 3, 2, 2, 6, 4, 9, 5, 2, 0, 6, 6, 3, 2, 0, 9, 7, 0, 3, 4, 3, 3,\n",
      "        2, 3, 3, 6, 7, 2, 9, 4]), tensor([2, 1, 5, 4, 5, 3, 6, 5, 7, 4, 4, 8, 9, 8, 6, 2, 4, 4, 2, 4, 1, 6, 1, 3,\n",
      "        0, 7, 8, 2, 6, 5, 3, 1]), tensor([7, 5, 3, 3, 6, 1, 2, 2, 9, 4, 6, 6, 6, 4, 2, 0, 0, 3, 3, 8, 2, 8, 9, 4,\n",
      "        0, 7, 6, 4, 6, 7, 2, 9]), tensor([7, 9, 3, 7, 5, 7, 8, 1, 6, 0, 6, 6, 8, 9, 7, 9, 1, 2, 7, 3, 2, 0, 5, 7,\n",
      "        1, 8, 2, 2, 2, 2, 4, 6]), tensor([6, 1, 9, 0, 7, 1, 9, 0, 6, 8, 3, 0, 7, 2, 6, 2, 8, 0, 2, 0, 5, 8, 7, 5,\n",
      "        0, 9, 4, 0, 4, 2, 7, 1]), tensor([3, 1, 2, 6, 4, 9, 6, 1, 5, 1, 3, 1, 9, 3, 4, 5, 3, 6, 2, 6, 4, 0, 0, 5,\n",
      "        8, 2, 3, 4, 6, 7, 7, 8]), tensor([9, 3, 3, 8, 7, 6, 7, 9, 3, 2, 6, 3, 5, 0, 1, 3, 5, 9, 4, 2, 5, 7, 8, 1,\n",
      "        2, 9, 7, 7, 1, 0, 9, 3]), tensor([2, 9, 0, 5, 1, 8, 2, 7, 1, 2, 3, 8, 2, 2, 6, 5, 3, 0, 5, 8, 8, 2, 9, 1,\n",
      "        1, 6, 4, 1, 0, 1, 4, 1]), tensor([7, 5, 8, 4, 9, 1, 0, 5, 4, 4, 4, 6, 0, 4, 5, 6, 0, 3, 5, 2, 1, 3, 1, 3,\n",
      "        6, 2, 3, 8, 2, 8, 6, 7]), tensor([0, 4, 1, 8, 5, 0, 8, 2, 7, 1, 8, 9, 6, 4, 4, 9, 2, 4, 5, 0, 9, 5, 3, 6,\n",
      "        6, 2, 1, 3, 8, 1, 4, 0]), tensor([9, 7, 7, 4, 8, 9, 1, 3, 7, 3, 0, 2, 4, 7, 3, 0, 6, 8, 7, 2, 6, 6, 6, 4,\n",
      "        1, 5, 9, 3, 0, 3, 6, 5]), tensor([0, 6, 4, 3, 3, 8, 1, 1, 8, 5, 7, 9, 8, 7, 2, 0, 7, 0, 8, 0, 9, 7, 6, 1,\n",
      "        6, 6, 4, 8, 6, 6, 3, 6]), tensor([8, 4, 0, 8, 9, 2, 4, 5, 9, 1, 6, 4, 9, 2, 3, 7, 9, 8, 8, 3, 7, 7, 3, 1,\n",
      "        1, 6, 9, 5, 3, 8, 4, 2]), tensor([9, 0, 8, 3, 2, 2, 4, 7, 1, 4, 9, 3, 5, 8, 5, 4, 7, 2, 8, 5, 9, 3, 3, 6,\n",
      "        7, 1, 7, 0, 7, 4, 6, 8]), tensor([8, 3, 7, 1, 2, 6, 1, 9, 8, 2, 7, 1, 3, 7, 5, 9, 9, 1, 8, 4, 5, 7, 1, 9,\n",
      "        8, 1, 0, 0, 2, 1, 7, 1]), tensor([1, 8, 7, 1, 5, 2, 2, 3, 3, 1, 1, 4, 9, 4, 3, 7, 7, 0, 8, 9, 9, 6, 1, 3,\n",
      "        4, 0, 3, 5, 9, 2, 0, 5]), tensor([5, 1, 7, 7, 8, 7, 9, 3, 6, 4, 0, 4, 0, 2, 0, 2, 5, 5, 1, 2, 0, 9, 3, 7,\n",
      "        8, 4, 8, 3, 4, 7, 0, 7]), tensor([4, 8, 6, 3, 4, 4, 3, 6, 9, 6, 2, 4, 9, 1, 8, 1, 7, 9, 5, 6, 6, 2, 1, 6,\n",
      "        5, 4, 0, 0, 2, 7, 8, 6]), tensor([2, 5, 9, 4, 8, 6, 6, 4, 6, 2, 9, 3, 7, 7, 1, 4, 4, 0, 5, 0, 9, 9, 8, 8,\n",
      "        3, 0, 2, 4, 6, 6, 3, 2]), tensor([3, 7, 6, 9, 3, 4, 7, 7, 0, 3, 9, 5, 6, 4, 5, 9, 6, 3, 7, 5, 1, 9, 8, 8,\n",
      "        9, 9, 2, 9, 2, 2, 3, 8]), tensor([7, 4, 2, 5, 4, 8, 6, 1, 4, 9, 3, 1, 6, 8, 0, 5, 7, 8, 2, 3, 3, 9, 4, 3,\n",
      "        6, 0, 6, 8, 0, 2, 8, 6]), tensor([6, 3, 2, 7, 0, 2, 1, 1, 3, 6, 6, 5, 9, 0, 1, 6, 5, 1, 4, 4, 8, 4, 7, 7,\n",
      "        3, 8, 3, 1, 9, 8, 1, 3]), tensor([3, 7, 5, 0, 0, 7, 8, 9, 2, 0, 5, 8, 4, 6, 0, 8, 6, 0, 5, 2, 7, 1, 0, 0,\n",
      "        5, 4, 8, 6, 2, 1, 1, 7]), tensor([9, 6, 2, 7, 1, 4, 8, 2, 2, 0, 1, 4, 4, 9, 6, 8, 4, 5, 9, 0, 3, 9, 6, 9,\n",
      "        8, 7, 4, 2, 2, 5, 1, 5]), tensor([0, 7, 2, 9, 3, 7, 0, 9, 3, 8, 4, 4, 7, 2, 3, 6, 2, 0, 7, 8, 4, 2, 4, 5,\n",
      "        5, 6, 4, 5, 5, 8, 1, 3]), tensor([7, 4, 6, 9, 6, 8, 7, 2, 2, 3, 2, 7, 7, 4, 9, 8, 5, 3, 3, 3, 2, 3, 3, 3,\n",
      "        1, 9, 3, 5, 5, 2, 0, 7]), tensor([0, 6, 3, 1, 3, 1, 3, 6, 7, 2, 4, 9, 5, 2, 7, 6, 3, 4, 4, 0, 0, 5, 2, 2,\n",
      "        8, 6, 1, 4, 2, 7, 4, 4]), tensor([8, 3, 2, 4, 0, 6, 3, 6, 8, 3, 8, 2, 0, 3, 4, 8, 8, 4, 5, 2, 2, 3, 0, 1,\n",
      "        7, 0, 9, 1, 7, 3, 5, 2]), tensor([2, 7, 3, 8, 9, 6, 8, 0, 7, 5, 5, 9, 5, 0, 0, 0, 3, 2, 4, 4, 2, 7, 1, 3,\n",
      "        4, 2, 6, 5, 1, 6, 7, 3]), tensor([4, 8, 0, 4, 8, 7, 3, 1, 6, 5, 2, 7, 8, 5, 3, 8, 5, 2, 2, 8, 9, 8, 3, 3,\n",
      "        3, 8, 8, 3, 0, 7, 4, 4]), tensor([8, 1, 3, 6, 1, 9, 2, 1, 6, 2, 7, 9, 2, 6, 0, 4, 4, 2, 4, 5, 0, 2, 8, 3,\n",
      "        7, 4, 4, 0, 0, 5, 4, 8]), tensor([2, 6, 2, 0, 2, 1, 7, 9, 5, 2, 7, 2, 2, 7, 3, 3, 1, 3, 3, 6, 6, 1, 9, 2,\n",
      "        4, 7, 1, 0, 6, 5, 8, 4]), tensor([2, 7, 9, 8, 0, 7, 9, 5, 1, 2, 9, 8, 8, 3, 9, 9, 1, 2, 7, 8, 0, 1, 7, 2,\n",
      "        7, 1, 1, 8, 5, 6, 4, 8]), tensor([9, 5, 5, 2, 3, 9, 3, 8, 5, 4, 6, 3, 6, 5, 7, 6, 8, 2, 6, 4, 6, 7, 6, 0,\n",
      "        5, 1, 7, 2, 3, 6, 8, 9]), tensor([8, 7, 1, 2, 3, 2, 9, 7, 5, 6, 0, 0, 7, 3, 2, 4, 9, 3, 6, 4, 4, 3, 0, 0,\n",
      "        2, 3, 6, 1, 3, 5, 4, 5]), tensor([0, 9, 1, 1, 8, 2, 9, 5, 0, 5, 4, 6, 7, 1, 1, 5, 3, 8, 7, 8, 3, 8, 9, 2,\n",
      "        2, 1, 1, 3, 5, 6, 7, 1]), tensor([9, 9, 2, 4, 7, 0, 1, 3, 9, 6, 3, 7, 2, 8, 1, 8, 0, 7, 9, 8, 5, 5, 2, 6,\n",
      "        4, 6, 6, 5, 8, 3, 8, 5]), tensor([5, 7, 3, 7, 6, 7, 0, 2, 2, 5, 3, 5, 1, 1, 7, 7, 6, 6, 6, 4, 2, 8, 6, 3,\n",
      "        1, 4, 9, 9, 4, 5, 2, 2]), tensor([7, 8, 6, 7, 9, 1, 2, 9, 4, 9, 3, 6, 3, 3, 1, 8, 8, 5, 3, 8, 6, 6, 6, 3,\n",
      "        6, 0, 2, 7, 3, 2, 8, 3]), tensor([9, 7, 3, 1, 7, 5, 8, 8, 2, 3, 8, 4, 4, 8, 5, 7, 0, 6, 2, 7, 7, 3, 9, 2,\n",
      "        5, 9, 7, 3, 7, 4, 4, 5]), tensor([1, 3, 7, 4, 5, 0, 2, 2, 1, 4, 4, 8, 4, 7, 9, 4, 1, 1, 7, 2, 3, 8, 6, 3,\n",
      "        9, 7, 5, 3, 8, 8, 8, 7]), tensor([1, 1, 6, 4, 1, 4, 3, 4, 9, 5, 6, 0, 6, 9, 4, 9, 6, 6, 3, 8, 9, 2, 5, 4,\n",
      "        8, 0, 7, 2, 3, 6, 4, 5]), tensor([6, 1, 9, 6, 2, 2, 5, 9, 0, 8, 3, 2, 6, 6, 0, 4, 2, 6, 6, 5, 0, 2, 7, 8,\n",
      "        7, 4, 6, 6, 0, 5, 2, 4]), tensor([2, 9, 5, 2, 6, 7, 0, 1, 9, 5, 5, 0, 7, 7, 5, 0, 5, 3, 3, 4, 7, 9, 8, 2,\n",
      "        4, 7, 3, 3, 7, 7, 7, 8]), tensor([4, 9, 8, 7, 6, 8, 7, 5, 1, 3, 0, 2, 9, 9, 8, 3, 7, 2, 3, 4, 9, 3, 3, 1,\n",
      "        8, 7, 1, 8, 7, 2, 8, 2]), tensor([5, 7, 3, 7, 5, 5, 4, 0, 7, 3, 3, 2, 6, 2, 9, 9, 0, 6, 6, 8, 3, 8, 6, 4,\n",
      "        4, 1, 8, 2, 6, 5, 0, 4]), tensor([4, 3, 0, 0, 1, 6, 8, 4, 9, 0, 7, 6, 7, 7, 1, 5, 8, 7, 2, 9, 9, 1, 2, 6,\n",
      "        1, 1, 1, 8, 8, 1, 4, 7]), tensor([5, 2, 0, 8, 4, 8, 9, 4, 1, 3, 3, 9, 8, 1, 3, 3, 8, 0, 9, 9, 7, 6, 0, 4,\n",
      "        2, 3, 1, 7, 9, 2, 2, 0]), tensor([3, 6, 4, 8, 1, 7, 2, 4, 2, 2, 3, 8, 7, 1, 8, 5, 5, 9, 9, 6, 6, 4, 9, 0,\n",
      "        4, 3, 5, 5, 0, 6, 1, 0]), tensor([3, 7, 7, 3, 7, 4, 5, 7, 9, 8, 9, 1, 4, 8, 3, 2, 6, 6, 6, 8, 3, 8, 6, 8,\n",
      "        6, 0, 8, 8, 4, 2, 9, 3]), tensor([2, 0, 8, 5, 9, 6, 3, 1, 1, 9, 5, 1, 3, 3, 6, 0, 8, 4, 1, 3, 8, 8, 6, 7,\n",
      "        5, 6, 2, 7, 3, 3, 2, 4]), tensor([6, 5, 5, 6, 2, 3, 9, 1, 1, 7, 3, 8, 7, 2, 2, 9, 3, 9, 9, 0, 1, 7, 1, 2,\n",
      "        8, 1, 2, 9, 3, 4, 0, 0]), tensor([5, 6, 9, 9, 5, 5, 7, 0, 9, 3, 3, 6, 9, 8, 4, 2, 6, 3, 9, 2, 3, 6, 7, 4,\n",
      "        0, 3, 8, 1, 8, 7, 3, 4]), tensor([5, 2, 2, 9, 1, 9, 4, 9, 1, 3, 2, 8, 8, 7, 7, 7, 7, 2, 6, 0, 7, 5, 8, 5,\n",
      "        3, 0, 6, 4, 9, 2, 6, 3]), tensor([1, 9, 0, 1, 2, 2, 2, 3, 7, 5, 7, 6, 4, 4, 1, 2, 8, 5, 4, 2, 9, 1, 8, 9,\n",
      "        3, 6, 6, 8, 0, 1, 8, 7]), tensor([4, 6, 7, 7, 6, 0, 4, 3, 4, 7, 8, 7, 2, 8, 0, 8, 7, 6, 4, 2, 7, 0, 9, 9,\n",
      "        3, 1, 5, 9, 3, 1, 0, 3]), tensor([3, 8, 9, 7, 9, 8, 3, 8, 9, 3, 7, 9, 3, 6, 6, 0, 5, 7, 7, 2, 6, 8, 0, 1,\n",
      "        1, 9, 4, 3, 9, 5, 8, 7]), tensor([2, 4, 9, 0, 2, 1, 9, 7, 1, 5, 0, 5, 5, 0, 3, 8, 0, 3, 3, 7, 4, 2, 6, 8,\n",
      "        8, 9, 2, 1, 3, 5, 5, 8]), tensor([5, 3, 7, 4, 4, 2, 9, 6, 0, 0, 9, 1, 4, 3, 1, 5, 3, 8, 5, 1, 1, 2, 9, 4,\n",
      "        0, 5, 2, 8, 6, 2, 9, 8]), tensor([2, 4, 8, 3, 8, 0, 4, 2, 6, 4, 8, 5, 2, 9, 0, 9, 5, 8, 0, 9, 1, 2, 7, 2,\n",
      "        1, 6, 6, 3, 4, 5, 2, 4]), tensor([8, 7, 5, 2, 6, 6, 8, 6, 6, 1, 9, 2, 9, 7, 2, 6, 4, 8, 3, 4, 8, 5, 6, 8,\n",
      "        3, 3, 1, 4, 2, 0, 4, 9]), tensor([6, 4, 1, 9, 9, 8, 1, 6, 8, 3, 3, 3, 2, 2, 9, 2, 2, 8, 7, 6, 3, 6, 4, 4,\n",
      "        5, 7, 5, 0, 7, 9, 1, 2]), tensor([4, 8, 9, 3, 5, 2, 0, 4, 6, 7, 8, 9, 1, 8, 2, 5, 5, 3, 1, 1, 8, 8, 3, 0,\n",
      "        7, 0, 1, 8, 2, 6, 2, 9]), tensor([8, 9, 8, 8, 6, 9, 1, 8, 2, 2, 7, 7, 0, 5, 1, 1, 0, 6, 4, 3, 0, 2, 3, 5,\n",
      "        1, 2, 3, 3, 4, 2, 5, 6]), tensor([9, 8, 3, 3, 1, 0, 2, 1, 2, 4, 6, 8, 4, 9, 2, 9, 7, 5, 2, 6, 6, 5, 0, 3,\n",
      "        9, 7, 3, 6, 1, 9, 6, 1]), tensor([0, 6, 5, 4, 1, 2, 8, 5, 7, 4, 5, 3, 2, 8, 3, 6, 6, 8, 9, 0, 5, 3, 2, 6,\n",
      "        7, 3, 2, 2, 8, 7, 7, 2]), tensor([3, 1, 6, 3, 6, 2, 7, 4, 1, 2, 6, 4, 3, 2, 8, 5, 6, 8, 5, 2, 7, 8, 1, 5,\n",
      "        9, 8, 6, 9, 0, 9, 3, 7]), tensor([5, 7, 9, 6, 0, 7, 1, 5, 5, 9, 5, 4, 4, 2, 4, 5, 9, 7, 4, 2, 6, 9, 9, 3,\n",
      "        2, 1, 3, 7, 3, 8, 7, 7]), tensor([1, 8, 9, 3, 7, 7, 7, 1, 7, 4, 6, 2, 2, 4, 5, 2, 8, 9, 6, 8, 0, 0, 7, 7,\n",
      "        5, 0, 1, 9, 3, 0, 4, 9]), tensor([2, 2, 6, 9, 1, 0, 5, 8, 9, 2, 8, 2, 3, 6, 0, 7, 4, 8, 7, 4, 1, 7, 8, 2,\n",
      "        4, 0, 4, 4, 1, 8, 6, 9]), tensor([2, 9, 6, 5, 2, 3, 3, 8, 8, 2, 0, 7, 2, 4, 0, 3, 1, 3, 8, 1, 7, 7, 2, 6,\n",
      "        3, 1, 2, 7, 2, 6, 0, 3]), tensor([2, 7, 2, 6, 3, 6, 3, 0, 9, 7, 3, 5, 4, 9, 2, 4, 5, 0, 6, 8, 4, 0, 4, 4,\n",
      "        0, 4, 1, 6, 4, 6, 7, 1]), tensor([0, 6, 4, 1, 1, 5, 6, 3, 8, 3, 3, 3, 7, 4, 9, 8, 8, 4, 5, 5, 6, 7, 2, 9,\n",
      "        3, 0, 5, 3, 7, 2, 1, 1]), tensor([8, 6, 2, 0, 5, 9, 6, 3, 8, 1, 6, 4, 6, 2, 4, 8, 3, 4, 2, 3, 9, 2, 7, 9,\n",
      "        5, 7, 6, 1, 5, 8, 8, 2]), tensor([2, 2, 6, 3, 1, 2, 4, 0, 3, 9, 8, 4, 0, 3, 4, 3, 9, 7, 1, 1, 7, 5, 1, 9,\n",
      "        2, 4, 2, 3, 8, 6, 7, 1]), tensor([3, 0, 7, 3, 5, 8, 1, 4, 2, 3, 4, 8, 8, 8, 4, 8, 1, 8, 9, 3, 0, 6, 6, 2,\n",
      "        9, 7, 3, 7, 0, 1, 2, 5]), tensor([9, 4, 0, 5, 0, 5, 4, 7, 4, 6, 2, 8, 6, 4, 9, 3, 3, 5, 8, 1, 1, 2, 6, 0,\n",
      "        0, 7, 6, 2, 3, 3, 9, 7]), tensor([4, 3, 3, 1, 8, 1, 5, 4, 0, 6, 7, 9, 3, 2, 7, 3, 7, 4, 1, 6, 2, 8, 6, 7,\n",
      "        6, 4, 9, 3, 2, 5, 2, 8]), tensor([6, 2, 6, 7, 2, 4, 1, 1, 0, 3, 5, 5, 2, 6, 4, 1, 8, 8, 4, 4, 3, 4, 2, 7,\n",
      "        2, 3, 9, 6, 2, 6, 8, 4]), tensor([5, 4, 9, 8, 1, 6, 3, 2, 2, 9, 4, 3, 5, 1, 2, 6, 0, 1, 1, 0, 2, 6, 7, 7,\n",
      "        0, 1, 2, 4, 3, 7, 2, 1]), tensor([1, 7, 7, 8, 7, 6, 5, 3, 7, 2, 0, 9, 6, 1, 6, 2, 2, 5, 8, 5, 2, 7, 8, 4,\n",
      "        6, 9, 0, 8, 1, 3, 8, 2]), tensor([8, 2, 0, 2, 3, 8, 7, 8, 2, 2, 6, 6, 0, 4, 5, 4, 4, 3, 1, 9, 7, 3, 6, 6,\n",
      "        1, 4, 2, 7, 7, 1, 8, 3]), tensor([3, 7, 9, 8, 7, 2, 7, 9, 7, 2, 2, 6, 6, 3, 3, 9, 1, 1, 4, 8, 0, 9, 7, 5,\n",
      "        4, 8, 8, 3, 6, 3, 6, 8]), tensor([6, 2, 9, 9, 2, 3, 8, 3, 2, 4, 3, 6, 2, 1, 3, 0, 1, 8, 4, 1, 5, 2, 1, 5,\n",
      "        8, 6, 7, 7, 7, 5, 6, 9]), tensor([5, 3, 6, 7, 8, 1, 5, 1, 6, 2, 2, 4, 3, 7, 7, 9, 9, 2, 5, 8, 5, 8, 5, 3,\n",
      "        0, 9, 7, 2, 0, 6, 8, 1]), tensor([6, 5, 4, 7, 6, 5, 4, 9, 2, 6, 4, 0, 2, 9, 8, 1, 3, 8, 1, 5, 3, 6, 1, 1,\n",
      "        6, 6, 9, 8, 2, 8, 2, 7]), tensor([7, 1, 3, 6, 3, 0, 7, 8, 7, 6, 5, 2, 6, 7, 5, 5, 8, 9, 7, 3, 2, 4, 8, 3,\n",
      "        9, 5, 7, 6, 2, 6, 7, 3]), tensor([8, 5, 1, 8, 9, 2, 2, 1, 2, 2, 7, 4, 0, 6, 4, 8, 9, 7, 9, 2, 2, 8, 2, 6,\n",
      "        0, 6, 3, 3, 1, 5, 2, 7]), tensor([5, 3, 7, 6, 2, 3, 5, 1, 1, 2, 7, 3, 8, 8, 7, 5, 6, 9, 5, 5, 4, 0, 7, 1,\n",
      "        4, 2, 0, 9, 9, 6, 6, 8]), tensor([6, 5, 7, 8, 2, 2, 9, 6, 6, 6, 8, 1, 6, 4, 8, 0, 7, 5, 8, 9, 9, 7, 5, 2,\n",
      "        7, 6, 2, 2, 6, 3, 4, 2]), tensor([0, 8, 9, 4, 5, 4, 4, 1, 2, 8, 9, 0, 5, 6, 2, 8, 6, 3, 8, 6, 8, 7, 2, 7,\n",
      "        2, 3, 4, 7, 1, 2, 3, 4]), tensor([2, 4, 3, 9, 9, 2, 8, 0, 4, 0, 6, 1, 9, 3, 9, 6, 8, 6, 9, 4, 7, 9, 1, 5,\n",
      "        8, 1, 3, 2, 2, 6, 8, 3]), tensor([3, 3, 0, 0, 4, 3, 3, 1, 4, 8, 4, 9, 3, 0, 2, 5, 8, 8, 8, 6, 1, 2, 8, 9,\n",
      "        8, 5, 8, 7, 0, 7, 2, 7]), tensor([3, 5, 5, 8, 3, 2, 8, 5, 9, 9, 4, 0, 4, 7, 1, 8, 8, 8, 7, 2, 0, 9, 7, 9,\n",
      "        6, 9, 4, 1, 4, 7, 2, 5]), tensor([2, 6, 2, 9, 0, 7, 1, 9, 7, 2, 5, 3, 8, 4, 9, 2, 9, 5, 7, 5, 1, 3, 3, 2,\n",
      "        6, 7, 5, 3, 5, 5, 8, 7]), tensor([9, 4, 6, 5, 5, 3, 4, 8, 3, 0, 9, 2, 3, 2, 2, 9, 6, 3, 9, 1, 4, 8, 1, 4,\n",
      "        9, 8, 2, 3, 7, 2, 0, 2]), tensor([2, 3, 2, 3, 0, 5, 2, 3, 2, 2, 5, 0, 7, 4, 6, 4, 8, 3, 5, 1, 3, 9, 1, 6,\n",
      "        9, 6, 7, 4, 2, 6, 2, 5]), tensor([6, 3, 6, 6, 5, 1, 7, 9, 4, 6, 7, 3, 0, 2, 8, 1, 0, 9, 9, 7, 8, 4, 6, 9,\n",
      "        7, 7, 5, 8, 6, 7, 5, 3]), tensor([5, 5, 3, 8, 9, 7, 2, 1, 4, 7, 1, 3, 6, 3, 2, 2, 9, 4, 7, 7, 6, 5, 0, 8,\n",
      "        8, 6, 8, 5, 6, 0, 7, 3]), tensor([6, 6, 4, 5, 2, 0, 7, 7, 7, 1, 8, 2, 1, 8, 5, 4, 4, 8, 7, 7, 6, 7, 1, 6,\n",
      "        9, 5, 3, 9, 3, 5, 0, 7]), tensor([4, 6, 0, 1, 2, 5, 9, 3, 2, 8, 5, 7, 3, 1, 4, 6, 8, 1, 8, 5, 6, 9, 3, 3,\n",
      "        6, 6, 4, 2, 0, 6, 4, 2]), tensor([3, 2, 5, 9, 1, 1, 9, 4, 7, 0, 3, 1, 0, 0, 7, 7, 0, 7, 8, 0, 5, 6, 4, 3,\n",
      "        8, 9, 7, 2, 9, 5, 3, 7]), tensor([2, 4, 1, 9, 7, 8, 1, 3, 9, 3, 6, 7, 8, 6, 5, 6, 7, 9, 9, 7, 0, 4, 2, 3,\n",
      "        4, 0, 7, 5, 3, 9, 2, 8]), tensor([8, 6, 0, 4, 1, 9, 3, 3, 5, 1, 5, 5, 9, 2, 8, 5, 5, 9, 5, 4, 0, 7, 3, 5,\n",
      "        4, 2, 0, 9, 6, 8, 1, 9]), tensor([2, 6, 2, 4, 6, 8, 7, 7, 3, 9, 3, 9, 6, 8, 2, 6, 9, 0, 3, 2, 5, 5, 0, 4,\n",
      "        6, 4, 1, 3, 1, 2, 7, 8]), tensor([8, 9, 7, 6, 5, 7, 3, 6, 0, 4, 2, 3, 6, 8, 8, 8, 0, 2, 3, 2, 8, 2, 1, 4,\n",
      "        1, 1, 6, 3, 2, 2, 6, 0]), tensor([0, 4, 1, 3, 2, 5, 0, 2, 7, 9, 9, 2, 5, 2, 9, 9, 8, 4, 8, 3, 2, 0, 9, 6,\n",
      "        2, 4, 3, 8, 2, 3, 6, 5]), tensor([6, 4, 7, 3, 7, 8, 8, 2, 4, 8, 8, 6, 1, 5, 8, 9, 8, 7, 2, 0, 3, 0, 3, 0,\n",
      "        9, 3, 9, 9, 1, 5, 9, 4]), tensor([1, 7, 6, 1, 0, 5, 3, 8, 6, 4, 1, 7, 0, 5, 0, 4, 1, 7, 1, 7, 9, 6, 3, 9,\n",
      "        2, 2, 9, 3, 5, 2, 8, 4]), tensor([4, 7, 7, 4, 2, 0, 5, 5, 3, 6, 2, 5, 6, 8, 5, 6, 9, 1, 3, 1, 4, 5, 9, 3,\n",
      "        7, 0, 3, 5, 6, 1, 5, 8]), tensor([5, 6, 6, 9, 1, 9, 1, 7, 1, 8, 0, 3, 4, 0, 6, 0, 3, 3, 8, 8, 0, 3, 4, 8,\n",
      "        1, 1, 3, 3, 2, 2, 1, 8]), tensor([3, 2, 0, 2, 4, 2, 3, 9, 2, 3, 0, 4, 7, 7, 1, 6, 1, 2, 0, 0, 8, 5, 1, 6,\n",
      "        5, 2, 8, 1, 7, 1, 6, 4]), tensor([7, 4, 6, 1, 5, 6, 3, 5, 8, 7, 7, 7, 2, 7, 5, 6, 4, 2, 0, 6, 6, 9, 9, 5,\n",
      "        8, 0, 4, 4, 1, 3, 7, 3]), tensor([6, 0, 9, 8, 5, 3, 0, 7, 1, 9, 7, 8, 4, 6, 9, 9, 1, 2, 6, 2, 2, 4, 5, 1,\n",
      "        6, 2, 8, 3, 6, 8, 3, 4]), tensor([0, 0, 3, 6, 7, 4, 4, 1, 7, 3, 6, 7, 9, 9, 1, 7, 8, 9, 1, 2, 6, 1, 2, 8,\n",
      "        2, 5, 9, 8, 0, 6, 2, 7]), tensor([2, 9, 5, 6, 8, 7, 8, 1, 4, 9, 2, 5, 5, 9, 9, 4, 4, 2, 1, 6, 0, 8, 7, 6,\n",
      "        1, 7, 5, 2, 9, 0, 3, 4]), tensor([4, 8, 4, 0, 2, 7, 3, 7, 3, 6, 3, 8, 3, 3, 2, 3, 2, 3, 8, 8, 0, 7, 0, 8,\n",
      "        9, 0, 2, 1, 2, 5, 1, 3]), tensor([4, 7, 6, 4, 9, 9, 1, 4, 3, 1, 2, 8, 0, 3, 0, 2, 2, 0, 4, 3, 6, 7, 2, 3,\n",
      "        4, 0, 8, 5, 4, 0, 1, 0]), tensor([2, 2, 6, 7, 9, 6, 2, 4, 3, 6, 8, 5, 4, 4, 0, 3, 3, 5, 2, 5, 1, 5, 5, 1,\n",
      "        7, 5, 2, 1, 8, 8, 0, 9]), tensor([0, 0, 0, 3, 6, 1, 8, 3, 4, 2, 1, 2, 0, 3, 0, 8, 5, 1, 5, 0, 2, 6, 3, 9,\n",
      "        8, 2, 8, 1, 0, 2, 6, 2]), tensor([0, 3, 7, 5, 0, 6, 2, 0, 8, 2, 2, 1, 8, 6, 8, 2, 9, 2, 4, 8, 5, 2, 7, 3,\n",
      "        2, 2, 0, 6, 6, 8, 5, 4]), tensor([1, 5, 2, 8, 2, 9, 3, 6, 3, 6, 4, 2, 7, 7, 9, 3, 4, 9, 8, 3, 5, 8, 7, 7,\n",
      "        0, 7, 7, 0, 7, 7, 2, 9]), tensor([5, 4, 2, 2, 4, 8, 0, 1, 9, 8, 0, 2, 2, 4, 3, 8, 0, 5, 6, 4, 3, 8, 1, 3,\n",
      "        8, 7, 3, 0, 3, 4, 8, 8]), tensor([9, 1, 3, 2, 1, 4, 8, 3, 4, 6, 7, 3, 9, 2, 9, 0, 4, 6, 5, 7, 0, 8, 1, 7,\n",
      "        5, 4, 9, 5, 7, 3, 2, 0]), tensor([9, 8, 7, 3, 7, 7, 4, 7, 5, 8, 8, 2, 4, 6, 2, 3, 8, 9, 7, 1, 3, 4, 2, 9,\n",
      "        7, 1, 4, 2, 6, 0, 5, 5]), tensor([4, 5, 2, 8, 9, 2, 9, 9, 0, 4, 0, 1, 5, 5, 0, 0, 8, 1, 5, 7, 7, 7, 9, 8,\n",
      "        0, 1, 3, 4, 6, 0, 9, 3]), tensor([6, 4, 4, 8, 2, 5, 2, 9, 0, 2, 8, 4, 8, 6, 3, 6, 1, 2, 3, 3, 8, 2, 9, 9,\n",
      "        0, 7, 9, 5, 3, 1, 7, 2]), tensor([8, 4, 7, 2, 1, 6, 0, 7, 8, 1, 9, 3, 2, 8, 1, 8, 4, 2, 5, 6, 9, 6, 1, 2,\n",
      "        0, 7, 9, 0, 1, 3, 7, 5]), tensor([3, 2, 1, 1, 3, 8, 3, 9, 5, 4, 4, 3, 7, 7, 7, 2, 3, 9, 3, 9, 4, 6, 0, 7,\n",
      "        6, 6, 7, 9, 0, 3, 4, 9]), tensor([6, 4, 6, 2, 7, 9, 6, 1, 3, 2, 0, 8, 8, 7, 3, 6, 7, 5, 7, 6, 1, 8, 1, 4,\n",
      "        9, 8, 9, 3, 1, 0, 3, 3]), tensor([3, 0, 6, 4, 1, 9, 7, 1, 2, 2, 5, 3, 4, 1, 7, 6, 7, 0, 2, 8, 8, 1, 4, 9,\n",
      "        7, 6, 0, 4, 9, 3, 9, 8]), tensor([5, 3, 8, 4, 7, 1, 4, 1, 9, 6, 8, 4, 2, 4, 8, 1, 1, 5, 8, 6, 1, 6, 2, 9,\n",
      "        0, 9, 5, 3, 9, 0, 6, 5]), tensor([6, 8, 3, 8, 0, 2, 9, 9, 1, 5, 3, 2, 6, 5, 3, 6, 3, 6, 7, 4, 0, 4, 1, 9,\n",
      "        9, 1, 7, 8, 5, 5, 9, 6]), tensor([8, 4, 6, 6, 4, 6, 2, 1, 1, 4, 6, 8, 4, 9, 0, 5, 2, 1, 3, 8, 3, 2, 4, 8,\n",
      "        6, 2, 9, 3, 2, 9, 7, 2]), tensor([6, 6, 6, 8, 9, 6, 6, 4, 7, 7, 9, 9, 3, 6, 9, 6, 7, 3, 0, 2, 0, 9, 4, 3,\n",
      "        3, 1, 9, 5, 8, 2, 3, 5]), tensor([2, 6, 4, 5, 2, 3, 5, 2, 7, 7, 6, 6, 9, 5, 1, 4, 4, 5, 3, 2, 6, 1, 2, 0,\n",
      "        5, 4, 8, 5, 7, 2, 6, 8]), tensor([3, 5, 2, 6, 9, 8, 9, 9, 8, 1, 7, 5, 0, 1, 5, 3, 3, 3, 3, 4, 6, 3, 6, 7,\n",
      "        8, 0, 9, 6, 3, 6, 4, 2]), tensor([9, 3, 5, 7, 3, 7, 8, 6, 6, 6, 2, 3, 1, 0, 7, 5, 6, 6, 4, 1, 1, 4, 7, 2,\n",
      "        3, 5, 9, 6, 4, 4, 3, 8]), tensor([9, 9, 2, 6, 9, 6, 3, 5, 3, 1, 4, 5, 0, 1, 8, 5, 8, 4, 6, 7, 8, 9, 2, 4,\n",
      "        6, 4, 2, 6, 4, 7, 9, 1]), tensor([9, 7, 4, 5, 6, 3, 2, 2, 5, 6, 1, 5, 8, 6, 4, 2, 9, 4, 7, 8, 3, 0, 2, 7,\n",
      "        7, 5, 9, 5, 7, 3, 8, 7]), tensor([5, 9, 7, 8, 2, 1, 3, 8, 6, 2, 6, 7, 9, 2, 4, 5, 2, 3, 4, 1, 1, 9, 0, 5,\n",
      "        5, 4, 9, 8, 9, 3, 7, 4]), tensor([6, 6, 5, 5, 8, 4, 8, 8, 7, 4, 9, 4, 9, 6, 9, 7, 3, 9, 7, 3, 2, 6, 2, 8,\n",
      "        7, 9, 2, 0, 2, 4, 1, 0]), tensor([3, 8, 6, 8, 2, 4, 6, 3, 5, 7, 7, 8, 5, 6, 3, 6, 1, 8, 3, 2, 5, 4, 2, 3,\n",
      "        0, 8, 3, 3, 6, 9, 0, 9]), tensor([9, 0, 1, 6, 3, 6, 3, 8, 6, 4, 5, 1, 3, 4, 1, 9, 3, 6, 0, 4, 2, 3, 1, 5,\n",
      "        3, 2, 8, 5, 7, 6, 6, 4]), tensor([1, 0, 6, 2, 5, 9, 6, 7, 2, 3, 6, 4, 6, 3, 3, 9, 4, 9, 0, 8, 6, 5, 6, 2,\n",
      "        0, 1, 3, 9, 4, 2, 5, 6]), tensor([5, 3, 2, 5, 2, 0, 6, 0, 2, 9, 1, 3, 3, 2, 5, 8, 6, 6, 1, 4, 9, 7, 2, 4,\n",
      "        7, 5, 7, 1, 4, 8, 7, 9]), tensor([7, 7, 0, 2, 9, 2, 5, 0, 7, 6, 4, 5, 2, 7, 3, 1, 4, 5, 9, 4, 5, 7, 7, 3,\n",
      "        8, 3, 9, 6, 5, 3, 0, 7]), tensor([6, 9, 5, 1, 3, 6, 9, 1, 4, 4, 5, 3, 4, 9, 9, 1, 2, 2, 2, 4, 6, 8, 7, 9,\n",
      "        9, 4, 8, 8, 9, 0, 7, 6]), tensor([4, 0, 8, 8, 4, 2, 0, 1, 4, 0, 2, 1, 5, 4, 6, 0, 0, 3, 4, 5, 6, 8, 7, 6,\n",
      "        0, 3, 1, 8, 6, 8, 9, 9]), tensor([5, 5, 8, 2, 5, 4, 4, 2, 5, 6, 9, 2, 7, 1, 0, 2, 4, 6, 7, 8, 3, 4, 9, 1,\n",
      "        9, 2, 7, 3, 5, 4, 3, 4]), tensor([2, 1, 0, 2, 4, 3, 7, 8, 4, 9, 8, 9, 0, 6, 3, 4, 5, 5, 9, 7, 6, 1, 3, 3,\n",
      "        7, 0, 9, 7, 6, 8, 3, 5]), tensor([5, 8, 3, 9, 4, 2, 2, 2, 1, 6, 3, 3, 2, 5, 3, 6, 1, 3, 7, 8, 2, 5, 9, 0,\n",
      "        3, 3, 4, 4, 2, 7, 0, 7]), tensor([3, 3, 2, 3, 7, 1, 2, 2, 3, 4, 0, 6, 6, 4, 8, 5, 0, 3, 3, 4, 7, 3, 3, 6,\n",
      "        0, 2, 4, 4, 1, 8, 1, 9]), tensor([3, 2, 2, 4, 2, 3, 3, 3, 5, 3, 5, 8, 3, 9, 7, 3, 0, 6, 1, 6, 1, 0, 7, 7,\n",
      "        2, 8, 9, 2, 1, 5, 4, 9]), tensor([4, 7, 9, 9, 9, 0, 1, 0, 9, 9, 5, 1, 7, 2, 9, 3, 2, 6, 8, 1, 7, 4, 3, 8,\n",
      "        4, 7, 8, 8, 9, 6, 8, 4]), tensor([5, 6, 4, 5, 9, 6, 0, 5, 3, 1, 7, 1, 4, 7, 1, 5, 8, 3, 7, 2, 7, 1, 8, 8,\n",
      "        8, 7, 8, 6, 0, 5, 7, 9]), tensor([8, 5, 6, 0, 6, 2, 3, 2, 8, 9, 9, 1, 9, 5, 8, 4, 4, 2, 4, 2, 7, 2, 8, 3,\n",
      "        0, 7, 8, 8, 3, 9, 9, 5]), tensor([9, 2, 6, 9, 7, 0, 7, 4, 7, 9, 2, 3, 9, 7, 3, 5, 3, 1, 2, 9, 1, 2, 8, 5,\n",
      "        1, 7, 9, 0, 3, 3, 6, 9]), tensor([3, 4, 3, 0, 0, 6, 9, 7, 3, 9, 8, 5, 6, 8, 5, 9, 5, 6, 4, 2, 5, 2, 2, 5,\n",
      "        4, 2, 7, 1, 6, 6, 3, 6]), tensor([8, 6, 4, 6, 7, 8, 5, 1, 8, 2, 3, 4, 6, 4, 1, 9, 0, 7, 2, 7, 3, 2, 9, 7,\n",
      "        4, 6, 6, 3, 7, 1, 4, 7]), tensor([6, 1, 7, 3, 0, 3, 8, 6, 8, 0, 4, 1, 7, 9, 6, 2, 9, 2, 6, 7, 1, 7, 5, 2,\n",
      "        9, 8, 6, 4, 0, 8, 3, 2]), tensor([2, 8, 1, 6, 8, 1, 8, 3, 0, 1, 4, 7, 3, 7, 7, 3, 3, 9, 9, 6, 6, 2, 5, 8,\n",
      "        9, 6, 3, 7, 4, 1, 6, 9]), tensor([4, 3, 2, 6, 1, 8, 1, 3, 4, 0, 2, 1, 9, 0, 5, 3, 5, 3, 6, 4, 1, 2, 0, 7,\n",
      "        3, 6, 4, 3, 4, 4, 5, 2]), tensor([9, 6, 8, 0, 4, 6, 0, 1, 7, 8, 2, 3, 3, 2, 0, 3, 8, 2, 6, 2, 5, 1, 4, 2,\n",
      "        2, 1, 7, 3, 4, 6, 9, 7]), tensor([8, 0, 6, 3, 6, 6, 8, 1, 2, 3, 3, 1, 9, 5, 3, 2, 6, 9, 1, 9, 2, 9, 0, 4,\n",
      "        2, 4, 8, 6, 9, 4, 7, 0]), tensor([3, 1, 3, 8, 3, 4, 1, 2, 6, 2, 6, 7, 7, 8, 3, 2, 9, 5, 4, 6, 9, 5, 2, 3,\n",
      "        8, 5, 3, 8, 3, 7, 9, 0]), tensor([2, 5, 1, 0, 5, 6, 3, 9, 7, 9, 6, 0, 7, 1, 2, 0, 8, 6, 2, 2, 7, 8, 3, 6,\n",
      "        4, 6, 9, 7, 3, 2, 5, 6]), tensor([5, 1, 9, 5, 0, 5, 6, 4, 1, 7, 9, 3, 3, 3, 4, 9, 1, 3, 3, 9, 5, 6, 8, 2,\n",
      "        4, 1, 4, 0, 6, 7, 9, 0]), tensor([6, 0, 2, 3, 0, 9, 8, 1, 3, 7, 3, 9, 9, 5, 4, 2, 3, 6, 8, 8, 5, 5, 1, 8,\n",
      "        8, 5, 7, 9, 9, 3, 4, 6]), tensor([2, 7, 9, 4, 6, 7, 5, 4, 7, 6, 1, 4, 2, 2, 0, 9, 6, 0, 5, 1, 1, 7, 8, 3,\n",
      "        2, 6, 2, 0, 6, 4, 9, 5]), tensor([2, 2, 6, 4, 6, 1, 5, 2, 7, 8, 2, 7, 7, 0, 8, 4, 0, 6, 9, 1, 2, 1, 7, 4,\n",
      "        3, 4, 9, 9, 2, 4, 4, 3]), tensor([3, 3, 7, 5, 2, 7, 8, 9, 9, 2, 7, 8, 7, 7, 5, 8, 7, 4, 6, 9, 0, 1, 8, 7,\n",
      "        5, 4, 5, 3, 7, 4, 6, 5]), tensor([5, 6, 9, 9, 0, 9, 5, 9, 4, 0, 1, 7, 8, 3, 8, 1, 8, 6, 5, 0, 2, 3, 7, 1,\n",
      "        1, 1, 8, 7, 7, 6, 0, 4]), tensor([7, 0, 0, 5, 1, 4, 8, 1, 5, 2, 7, 3, 2, 3, 2, 7, 8, 0, 7, 6, 9, 5, 8, 6,\n",
      "        7, 3, 5, 0, 9, 7, 1, 0]), tensor([6, 5, 7, 8, 4, 3, 1, 9, 0, 2, 9, 1, 3, 4, 4, 3, 3, 6, 2, 3, 8, 6, 2, 9,\n",
      "        5, 0, 1, 8, 2, 4, 3, 4]), tensor([2, 9, 4, 3, 7, 9, 6, 3, 5, 4, 5, 9, 8, 5, 3, 0, 1, 2, 4, 4, 1, 9, 6, 4,\n",
      "        0, 5, 5, 4, 6, 2, 0, 1]), tensor([4, 9, 9, 7, 0, 1, 2, 6, 0, 2, 6, 2, 5, 9, 4, 8, 4, 6, 1, 5, 6, 4, 1, 8,\n",
      "        9, 3, 1, 7, 1, 1, 1, 9]), tensor([1, 3, 8, 9, 9, 1, 9, 6, 0, 5, 8, 5, 5, 5, 3, 8, 9, 4, 7, 8, 4, 9, 2, 6,\n",
      "        1, 5, 0, 7, 3, 6, 0, 7]), tensor([3, 1, 8, 2, 8, 9, 2, 0, 7, 2, 0, 0, 5, 1, 6, 8, 2, 3, 7, 2, 3, 9, 7, 6,\n",
      "        1, 3, 9, 2, 4, 0, 3, 7]), tensor([5, 1, 1, 9, 5, 3, 5, 4, 6, 6, 1, 8, 2, 1, 6, 2, 5, 9, 9, 4, 3, 4, 1, 7,\n",
      "        9, 0, 8, 7, 3, 3, 8, 4]), tensor([1, 8, 2, 7, 4, 4, 8, 9, 2, 9, 3, 2, 6, 1, 1, 0, 6, 1, 6, 7, 8, 5, 9, 1,\n",
      "        5, 0, 9, 3, 2, 1, 7, 2]), tensor([9, 8, 8, 9, 5, 5, 3, 8, 2, 0, 3, 6, 1, 1, 9, 6, 9, 7, 5, 3, 2, 9, 5, 5,\n",
      "        4, 2, 9, 9, 3, 0, 6, 4]), tensor([1, 7, 4, 7, 2, 8, 5, 8, 6, 0, 1, 3, 2, 2, 3, 6, 6, 0, 6, 8, 3, 2, 8, 0,\n",
      "        1, 8, 4, 5, 4, 2, 3, 9]), tensor([0, 4, 3, 4, 5, 4, 2, 7, 3, 7, 3, 3, 6, 9, 4, 8, 5, 6, 0, 3, 6, 7, 2, 5,\n",
      "        3, 1, 1, 9, 9, 5, 4, 2]), tensor([1, 6, 4, 8, 9, 8, 5, 8, 8, 3, 0, 9, 6, 4, 6, 3, 8, 4, 7, 6, 3, 6, 4, 2,\n",
      "        8, 4, 1, 3, 7, 2, 6, 2]), tensor([2, 3, 4, 3, 0, 8, 4, 5, 1, 4, 4, 8, 4, 1, 4, 1, 1, 9, 6, 7, 9, 6, 8, 0,\n",
      "        3, 4, 3, 8, 4, 7, 5, 4]), tensor([1, 1, 2, 0, 8, 7, 0, 1, 0, 5, 2, 8, 9, 7, 9, 1, 1, 3, 3, 2, 6, 7, 6, 9,\n",
      "        4, 9, 3, 6, 6, 2, 8, 7]), tensor([2, 5, 9, 8, 3, 8, 1, 3, 3, 3, 5, 2, 5, 4, 4, 9, 2, 7, 1, 4, 8, 3, 7, 7,\n",
      "        6, 7, 9, 4, 7, 7, 0, 1]), tensor([2, 1, 2, 8, 2, 2, 7, 6, 7, 1, 8, 7, 5, 1, 3, 1, 0, 3, 6, 5, 3, 8, 6, 3,\n",
      "        4, 9, 6, 1, 5, 3, 0, 7]), tensor([0, 3, 4, 5, 1, 6, 6, 2, 8, 3, 9, 8, 3, 7, 2, 4, 2, 5, 1, 9, 4, 3, 8, 7,\n",
      "        1, 8, 3, 2, 0, 9, 2, 4]), tensor([3, 4, 6, 1, 3, 5, 2, 9, 7, 5, 3, 9, 9, 5, 6, 4, 8, 0, 7, 0, 8, 6, 2, 1,\n",
      "        9, 7, 7, 3, 8, 0, 3, 0]), tensor([9, 8, 5, 6, 4, 8, 1, 5, 7, 7, 0, 1, 6, 1, 3, 2, 4, 4, 2, 1, 7, 4, 2, 2,\n",
      "        6, 1, 8, 2, 4, 6, 3, 0]), tensor([8, 8, 4, 6, 2, 0, 7, 0, 8, 9, 1, 4, 6, 7, 6, 8, 1, 8, 2, 6, 6, 7, 5, 7,\n",
      "        9, 9, 3, 9, 4, 4, 2, 6]), tensor([1, 4, 8, 4, 4, 5, 2, 2, 2, 9, 1, 8, 0, 6, 4, 2, 0, 3, 6, 6, 1, 3, 6, 3,\n",
      "        4, 1, 5, 8, 1, 0, 7, 2]), tensor([5, 0, 3, 2, 8, 5, 8, 7, 8, 4, 5, 9, 5, 5, 1, 2, 4, 7, 2, 9, 7, 8, 3, 7,\n",
      "        4, 6, 3, 8, 8, 4, 5, 3]), tensor([8, 2, 4, 2, 2, 7, 8, 9, 0, 2, 7, 9, 1, 5, 7, 8, 4, 3, 9, 5, 9, 1, 0, 8,\n",
      "        4, 1, 6, 1, 5, 8, 6, 0]), tensor([1, 8, 6, 9, 0, 0, 7, 6, 6, 2, 7, 4, 8, 8, 2, 6, 3, 6, 7, 1, 4, 7, 4, 6,\n",
      "        7, 1, 6, 5, 2, 0, 9, 9]), tensor([6, 2, 8, 2, 1, 1, 8, 8, 3, 5, 7, 5, 6, 9, 4, 3, 7, 3, 8, 9, 6, 2, 2, 4,\n",
      "        5, 7, 0, 2, 2, 9, 5, 7]), tensor([2, 6, 5, 8, 3, 1, 3, 7, 4, 9, 4, 3, 9, 7, 2, 0, 8, 6, 9, 1, 9, 9, 6, 7,\n",
      "        1, 4, 7, 0, 3, 8, 7, 2]), tensor([4, 5, 9, 3, 2, 0, 6, 9, 8, 5, 6, 4, 3, 7, 9, 1, 8, 9, 4, 0, 9, 7, 4, 9,\n",
      "        2, 1, 2, 7, 5, 4, 6, 7]), tensor([3, 4, 7, 2, 4, 6, 8, 5, 7, 9, 5, 7, 2, 2, 3, 9, 3, 2, 1, 5, 6, 9, 7, 4,\n",
      "        2, 2, 5, 8, 0, 7, 7, 2]), tensor([2, 0, 4, 8, 2, 0, 6, 9, 8, 9, 6, 5, 0, 6, 0, 2, 6, 3, 1, 8, 7, 2, 3, 9,\n",
      "        1, 2, 6, 5, 2, 3, 2, 0]), tensor([2, 6, 0, 7, 2, 1, 8, 2, 8, 7, 9, 4, 1, 6, 5, 7, 7, 3, 2, 5, 9, 4, 6, 7,\n",
      "        3, 2, 0, 9, 6, 7, 3, 9]), tensor([1, 2, 1, 9, 7, 2, 3, 4, 8, 1, 8, 3, 5, 0, 5, 3, 8, 2, 7, 4, 9, 0, 6, 8,\n",
      "        4, 2, 4, 4, 4, 3, 7, 8]), tensor([7, 1, 3, 7, 8, 9, 5, 5, 2, 4, 4, 5, 0, 8, 6, 6, 4, 0, 8, 8, 9, 6, 9, 1,\n",
      "        5, 1, 2, 1, 3, 2, 2, 2]), tensor([4, 8, 7, 5, 9, 2, 0, 5, 7, 0, 5, 6, 5, 3, 3, 4, 3, 7, 1, 8, 2, 9, 8, 1,\n",
      "        7, 3, 2, 6, 3, 7, 1, 8]), tensor([5, 7, 8, 5, 5, 3, 8, 3, 7, 7, 7, 6, 5, 2, 6, 1, 2, 3, 4, 1, 0, 3, 9, 1,\n",
      "        8, 2, 3, 7, 4, 9, 5, 7]), tensor([4, 3, 9, 5, 6, 8, 2, 7, 3, 9, 3, 0, 8, 9, 0, 9, 8, 6, 4, 5, 7, 1, 6, 8,\n",
      "        2, 0, 2, 3, 1, 1, 1, 7]), tensor([6, 2, 6, 5, 9, 8, 5, 5, 3, 4, 7, 9, 2, 0, 1, 1, 1, 4, 8, 6, 8, 0, 5, 5,\n",
      "        6, 7, 6, 8, 2, 4, 6, 2]), tensor([6, 2, 5, 7, 2, 9, 7, 6, 2, 2, 0, 7, 4, 5, 6, 3, 6, 1, 5, 8, 1, 8, 6, 6,\n",
      "        3, 9, 1, 9, 7, 6, 9, 6]), tensor([9, 3, 0, 2, 8, 3, 4, 6, 6, 9, 2, 1, 1, 0, 5, 6, 7, 0, 4, 1, 1, 7, 0, 3,\n",
      "        1, 9, 8, 7, 3, 5, 4, 1]), tensor([2, 6, 4, 0, 3, 6, 2, 3, 5, 9, 5, 8, 9, 3, 1, 7, 8, 9, 4, 1, 1, 9, 0, 7,\n",
      "        0, 0, 9, 6, 0, 2, 9, 2]), tensor([8, 5, 5, 9, 3, 3, 5, 7, 1, 2, 3, 3, 5, 6, 6, 4, 1, 1, 9, 1, 4, 0, 6, 2,\n",
      "        2, 6, 6, 0, 3, 5, 0, 3]), tensor([0, 5, 1, 1, 8, 2, 5, 3, 5, 1, 6, 6, 3, 1, 6, 7, 9, 6, 3, 8, 7, 6, 6, 9,\n",
      "        1, 9, 7, 7, 6, 4, 2, 7]), tensor([5, 6, 1, 5, 7, 7, 8, 2, 8, 3, 7, 6, 6, 2, 9, 9, 0, 2, 7, 3, 1, 0, 8, 2,\n",
      "        4, 4, 4, 7, 1, 8, 4, 0]), tensor([3, 4, 4, 6, 9, 8, 0, 3, 8, 3, 9, 2, 1, 5, 6, 5, 6, 8, 4, 2, 5, 9, 3, 6,\n",
      "        4, 7, 8, 5, 9, 5, 0, 0]), tensor([6, 9, 7, 2, 9, 2, 2, 6, 4, 8, 1, 6, 3, 9, 4, 0, 3, 8, 2, 6, 9, 4, 7, 2,\n",
      "        5, 6, 3, 6, 8, 7, 0, 2]), tensor([1, 1, 8, 7, 3, 2, 0, 5, 4, 3, 8, 8, 8, 9, 3, 6, 9, 6, 3, 3, 6, 4, 2, 8,\n",
      "        8, 5, 9, 6, 7, 1, 9, 0]), tensor([3, 3, 0, 2, 3, 9, 9, 8, 3, 0, 2, 2, 4, 6, 4, 5, 3, 6, 7, 8, 5, 8, 3, 4,\n",
      "        1, 4, 8, 7, 2, 6, 2, 3]), tensor([5, 6, 3, 5, 2, 5, 3, 7, 1, 2, 7, 8, 9, 2, 8, 8, 5, 5, 8, 4, 4, 0, 8, 3,\n",
      "        6, 4, 9, 6, 1, 0, 5, 1]), tensor([2, 0, 9, 2, 6, 3, 6, 7, 4, 6, 4, 3, 8, 5, 1, 8, 3, 4, 6, 5, 0, 0, 5, 8,\n",
      "        7, 4, 2, 2, 2, 9, 3, 5]), tensor([0, 9, 9, 0, 1, 3, 7, 1, 9, 4, 5, 2, 6, 9, 5, 7, 7, 4, 2, 8, 3, 1, 7, 8,\n",
      "        4, 6, 8, 0, 5, 5, 7, 1]), tensor([7, 6, 2, 1, 5, 1, 9, 0, 2, 2, 3, 2, 7, 3, 9, 3, 5, 4, 0, 6, 9, 7, 4, 2,\n",
      "        3, 8, 5, 8, 3, 0, 4, 1]), tensor([4, 9, 5, 8, 9, 0, 3, 2, 9, 5, 9, 1, 1, 0, 8, 4, 1, 4, 6, 9, 9, 8, 9, 7,\n",
      "        4, 0, 3, 9, 9, 3, 9, 3]), tensor([2, 3, 7, 3, 1, 4, 6, 8, 3, 4, 3, 3, 8, 3, 7, 1, 6, 3, 8, 4, 7, 9, 8, 6,\n",
      "        3, 0, 4, 5, 7, 2, 7, 2]), tensor([5, 0, 2, 6, 3, 3, 0, 3, 4, 4, 4, 4, 6, 9, 9, 0, 7, 4, 3, 2, 6, 1, 9, 5,\n",
      "        9, 9, 0, 5, 8, 2, 7, 3]), tensor([9, 5, 2, 8, 9, 5, 8, 0, 0, 3, 0, 6, 3, 7, 8, 0, 1, 2, 2, 6, 1, 1, 3, 2,\n",
      "        2, 5, 4, 3, 9, 3, 4, 2]), tensor([3, 7, 2, 9, 2, 1, 4, 7, 5, 5, 9, 4, 6, 9, 7, 9, 7, 4, 1, 8, 3, 3, 8, 0,\n",
      "        8, 7, 6, 7, 7, 9, 6, 4]), tensor([0, 3, 9, 2, 1, 5, 2, 0, 5, 8, 6, 7, 0, 1, 0, 5, 6, 2, 1, 4, 1, 8, 7, 9,\n",
      "        9, 7, 3, 2, 2, 4, 7, 6]), tensor([3, 9, 6, 3, 9, 5, 1, 6, 9, 2, 7, 4, 3, 5, 7, 2, 7, 6, 8, 7, 5, 4, 5, 9,\n",
      "        6, 3, 5, 0, 2, 8, 5, 3]), tensor([1, 9, 3, 7, 1, 0, 3, 4, 4, 2, 5, 9, 2, 3, 1, 9, 7, 9, 0, 1, 6, 8, 5, 2,\n",
      "        5, 3, 7, 8, 7, 7, 0, 8]), tensor([5, 6, 2, 3, 5, 6, 7, 7, 9, 7, 1, 0, 0, 8, 6, 4, 2, 6, 4, 2, 5, 0, 3, 3,\n",
      "        2, 4, 5, 6, 7, 1, 8, 7]), tensor([1, 2, 2, 0, 6, 8, 3, 7, 4, 6, 6, 3, 9, 4, 6, 0, 6, 8, 7, 3, 3, 0, 5, 6,\n",
      "        1, 5, 0, 9, 9, 1, 3, 0]), tensor([6, 1, 6, 6, 5, 7, 2, 2, 0, 9, 2, 6, 8, 2, 8, 3, 7, 7, 3, 3, 9, 5, 7, 3,\n",
      "        6, 9, 4, 5, 6, 7, 2, 9]), tensor([5, 5, 8, 7, 4, 9, 6, 2, 3, 6, 3, 0, 2, 7, 2, 4, 2, 7, 4, 1, 5, 7, 9, 7,\n",
      "        3, 9, 8, 8, 5, 1, 9, 6]), tensor([1, 0, 4, 8, 0, 5, 6, 9, 8, 8, 4, 4, 4, 1, 7, 5, 1, 2, 6, 5, 0, 3, 2, 8,\n",
      "        7, 8, 5, 9, 1, 1, 3, 8]), tensor([9, 9, 9, 1, 3, 6, 3, 4, 4, 4, 7, 1, 2, 0, 1, 5, 3, 4, 9, 2, 4, 2, 2, 6,\n",
      "        7, 9, 6, 7, 1, 4, 0, 8]), tensor([3, 3, 5, 6, 0, 8, 3, 0, 2, 0, 1, 8, 2, 3, 2, 9, 5, 4, 3, 5, 2, 1, 6, 4,\n",
      "        4, 5, 8, 6, 7, 3, 2, 6]), tensor([7, 6, 2, 3, 6, 4, 2, 6, 3, 4, 8, 1, 7, 8, 4, 8, 7, 9, 9, 9, 9, 2, 6, 9,\n",
      "        4, 0, 8, 8, 8, 0, 5, 6]), tensor([6, 6, 6, 6, 9, 9, 2, 3, 5, 4, 0, 1, 0, 8, 9, 5, 7, 3, 3, 2, 4, 1, 2, 8,\n",
      "        1, 8, 2, 6, 6, 5, 8, 5]), tensor([1, 2, 4, 0, 5, 2, 5, 8, 0, 7, 1, 6, 5, 8, 9, 9, 4, 9, 6, 3, 1, 2, 5, 0,\n",
      "        8, 0, 4, 2, 3, 0, 0, 0]), tensor([0, 3, 5, 9, 4, 7, 1, 5, 0, 1, 6, 1, 7, 9, 4, 0, 4, 5, 2, 9, 4, 9, 8, 8,\n",
      "        7, 6, 2, 0, 9, 3, 6, 7]), tensor([3, 2, 7, 0, 6, 1, 0, 5, 7, 3, 5, 9, 2, 3, 4, 8, 5, 8, 1, 9, 6, 7, 6, 7,\n",
      "        3, 6, 4, 5, 6, 8, 2, 6]), tensor([7, 4, 0, 5, 1, 5, 9, 6, 0, 9, 5, 8, 5, 7, 3, 9, 8, 3, 2, 6, 5, 7, 5, 1,\n",
      "        1, 5, 4, 1, 2, 5, 8, 2]), tensor([9, 6, 3, 3, 4, 6, 2, 4, 1, 1, 4, 7, 2, 5, 0, 2, 8, 8, 8, 8, 7, 7, 1, 2,\n",
      "        6, 4, 1, 4, 0, 2, 5, 8]), tensor([2, 4, 8, 3, 1, 8, 8, 4, 4, 0, 8, 4, 8, 0, 3, 2, 8, 8, 7, 5, 7, 2, 1, 1,\n",
      "        9, 7, 8, 6, 1, 9, 6, 3]), tensor([6, 9, 4, 0, 4, 9, 7, 2, 2, 2, 0, 5, 6, 6, 3, 7, 8, 6, 2, 6, 1, 1, 9, 9,\n",
      "        4, 5, 3, 6, 8, 5, 8, 6]), tensor([6, 1, 2, 3, 7, 6, 9, 0, 4, 5, 2, 3, 6, 9, 5, 5, 9, 4, 0, 4, 1, 1, 8, 9,\n",
      "        6, 4, 2, 3, 3, 0, 7, 1]), tensor([8, 8, 5, 3, 3, 7, 7, 1, 2, 1, 4, 1, 9, 0, 2, 1, 3, 0, 7, 3, 7, 3, 9, 0,\n",
      "        1, 8, 9, 2, 6, 6, 0, 9]), tensor([3, 6, 1, 2, 7, 8, 0, 5, 6, 8, 2, 5, 5, 3, 5, 9, 1, 8, 5, 3, 3, 2, 6, 3,\n",
      "        7, 3, 5, 4, 8, 0, 7, 1]), tensor([6, 3, 9, 8, 3, 8, 7, 7, 9, 7, 0, 9, 4, 0, 9, 6, 1, 9, 8, 6, 3, 7, 6, 9,\n",
      "        5, 4, 7, 1, 2, 1, 6, 6]), tensor([9, 6, 0, 5, 2, 0, 5, 5, 4, 6, 9, 9, 1, 2, 7, 7, 7, 4, 5, 1, 4, 0, 6, 3,\n",
      "        8, 9, 8, 4, 1, 0, 2, 3]), tensor([9, 8, 8, 7, 8, 3, 0, 0, 7, 6, 8, 6, 9, 9, 4, 7, 7, 2, 2, 1, 5, 3, 2, 3,\n",
      "        5, 5, 0, 8, 4, 7, 8, 9]), tensor([4, 2, 1, 7, 4, 6, 4, 9, 4, 3, 6, 0, 7, 7, 8, 0, 9, 1, 2, 6, 2, 9, 7, 1,\n",
      "        9, 9, 3, 3, 1, 4, 3, 5]), tensor([3, 3, 9, 4, 1, 4, 6, 6, 7, 5, 4, 6, 9, 9, 8, 3, 8, 1, 2, 2, 7, 5, 3, 1,\n",
      "        4, 6, 0, 1, 2, 0, 7, 6]), tensor([8, 8, 2, 8, 4, 5, 0, 0, 1, 7, 9, 7, 3, 9, 4, 6, 2, 8, 7, 1, 6, 8, 7, 6,\n",
      "        2, 6, 8, 2, 8, 0, 1, 5]), tensor([3, 8, 1, 7, 4, 9, 3, 7, 9, 3, 1, 8, 3, 0, 9, 3, 6, 2, 4, 2, 7, 6, 0, 9,\n",
      "        8, 8, 1, 5, 7, 7, 1, 7]), tensor([5, 4, 1, 0, 9, 8, 7, 3, 7, 3, 2, 5, 5, 1, 6, 9, 2, 6, 3, 2, 0, 4, 7, 2,\n",
      "        6, 6, 3, 1, 9, 3, 8, 3]), tensor([9, 7, 1, 7, 1, 3, 4, 6, 5, 6, 0, 6, 4, 1, 1, 2, 9, 0, 2, 2, 1, 3, 2, 7,\n",
      "        6, 1, 8, 5, 7, 4, 0, 5]), tensor([0, 4, 6, 2, 2, 5, 2, 1, 8, 2, 1, 7, 3, 8, 8, 9, 5, 0, 1, 2, 1, 4, 9, 0,\n",
      "        3, 1, 1, 4, 7, 8, 3, 6]), tensor([9, 3, 2, 8, 3, 8, 4, 9, 4, 7, 7, 3, 3, 2, 4, 5, 7, 3, 7, 6, 6, 6, 9, 3,\n",
      "        0, 5, 4, 1, 2, 1, 8, 1]), tensor([9, 4, 8, 9, 9, 3, 3, 7, 0, 0, 6, 1, 6, 6, 6, 4, 2, 2, 9, 3, 6, 3, 4, 0,\n",
      "        0, 1, 3, 6, 6, 5, 7, 9]), tensor([6, 6, 3, 7, 5, 1, 2, 7, 7, 5, 8, 0, 9, 1, 6, 1, 4, 9, 1, 6, 5, 2, 3, 0,\n",
      "        7, 1, 2, 7, 9, 3, 7, 6]), tensor([4, 2, 6, 7, 2, 7, 3, 3, 7, 8, 8, 7, 0, 1, 4, 0, 9, 7, 9, 9, 1, 2, 0, 4,\n",
      "        7, 4, 3, 3, 1, 7, 5, 7]), tensor([8, 5, 2, 0, 3, 1, 4, 5, 5, 3, 2, 7, 8, 4, 7, 4, 0, 8, 3, 0, 1, 7, 9, 2,\n",
      "        9, 1, 6, 6, 5, 1, 0, 2]), tensor([3, 7, 3, 1, 8, 2, 8, 9, 8, 8, 1, 0, 9, 2, 6, 6, 1, 1, 4, 7, 3, 0, 7, 9,\n",
      "        8, 9, 5, 4, 6, 4, 7, 2]), tensor([3, 8, 3, 8, 1, 1, 2, 4, 8, 1, 0, 8, 1, 8, 5, 3, 2, 7, 0, 2, 4, 9, 6, 2,\n",
      "        4, 9, 9, 6, 9, 9, 6, 7]), tensor([3, 2, 3, 3, 9, 6, 7, 7, 8, 1, 1, 2, 6, 5, 7, 9, 4, 7, 4, 7, 0, 6, 2, 9,\n",
      "        9, 7, 7, 5, 0, 1, 2, 3]), tensor([4, 6, 2, 0, 9, 2, 7, 8, 4, 2, 8, 9, 7, 1, 6, 7, 9, 9, 0, 1, 5, 1, 4, 3,\n",
      "        6, 7, 9, 8, 3, 3, 8, 5]), tensor([2, 4, 3, 6, 8, 0, 5, 6, 6, 9, 0, 1, 2, 5, 1, 8, 2, 1, 8, 1, 7, 1, 9, 1,\n",
      "        8, 3, 5, 4, 1, 0, 2, 4]), tensor([6, 6, 8, 2, 2, 5, 5, 0, 2, 6, 9, 8, 0, 1, 0, 0, 6, 8, 3, 4, 7, 7, 5, 9,\n",
      "        2, 5, 6, 6, 9, 9, 4, 8]), tensor([5, 6, 9, 3, 4, 0, 2, 8, 3, 1, 9, 2, 1, 6, 7, 3, 8, 5, 0, 4, 6, 4, 1, 1,\n",
      "        9, 8, 8, 9, 3, 2, 6, 0]), tensor([5, 2, 5, 6, 8, 3, 2, 4, 8, 4, 4, 5, 0, 3, 3, 1, 9, 2, 8, 7, 8, 2, 3, 6,\n",
      "        2, 5, 6, 9, 6, 7, 1, 1]), tensor([7, 9, 6, 1, 6, 7, 5, 4, 6, 3, 3, 6, 1, 0, 0, 9, 9, 8, 4, 9, 6, 4, 5, 4,\n",
      "        7, 2, 6, 5, 2, 6, 9, 3]), tensor([7, 0, 6, 3, 5, 3, 4, 3, 4, 6, 9, 8, 8, 6, 2, 0, 6, 3, 9, 4, 2, 8, 1, 7,\n",
      "        2, 4, 9, 3, 6, 2, 0, 6]), tensor([7, 0, 5, 0, 6, 3, 1, 3, 0, 9, 5, 4, 3, 7, 6, 2, 2, 9, 0, 7, 6, 5, 6, 8,\n",
      "        2, 1, 2, 2, 2, 5, 9, 3]), tensor([5, 6, 2, 0, 7, 4, 6, 6, 3, 3, 6, 6, 3, 8, 9, 4, 0, 2, 8, 4, 8, 2, 5, 7,\n",
      "        0, 3, 6, 8, 1, 5, 9, 2]), tensor([2, 8, 9, 4, 1, 0, 5, 5, 2, 2, 8, 2, 2, 6, 7, 2, 7, 3, 7, 4, 5, 8, 8, 3,\n",
      "        9, 7, 0, 6, 2, 0, 3, 6]), tensor([2, 9, 2, 5, 6, 5, 6, 3, 1, 7, 8, 0, 4, 7, 3, 3, 8, 0, 0, 9, 2, 8, 5, 4,\n",
      "        9, 6, 3, 2, 2, 0, 1, 1]), tensor([9, 3, 8, 2, 1, 9, 3, 8, 4, 8, 2, 3, 7, 3, 6, 4, 9, 2, 6, 2, 9, 8, 0, 5,\n",
      "        7, 2, 6, 5, 4, 3, 0, 7]), tensor([2, 4, 2, 7, 2, 6, 3, 3, 1, 5, 4, 0, 3, 9, 7, 5, 6, 5, 2, 9, 2, 6, 3, 5,\n",
      "        4, 8, 9, 0, 9, 7, 5, 7]), tensor([7, 9, 3, 3, 8, 4, 3, 9, 3, 1, 0, 2, 5, 2, 8, 7, 9, 7, 7, 7, 9, 2, 6, 0,\n",
      "        6, 7, 6, 1, 8, 0, 3, 8]), tensor([5, 0, 5, 6, 9, 1, 1, 2, 2, 8, 9, 7, 7, 5, 8, 6, 1, 4, 0, 1, 8, 4, 3, 4,\n",
      "        7, 9, 3, 7, 5, 5, 3, 9]), tensor([1, 4, 1, 2, 7, 4, 6, 9, 3, 4, 4, 1, 7, 8, 1, 6, 5, 9, 0, 0, 9, 5, 3, 8,\n",
      "        8, 2, 8, 5, 7, 0, 7, 6]), tensor([9, 6, 9, 2, 9, 4, 8, 5, 2, 0, 3, 2, 6, 4, 7, 3, 1, 7, 7, 8, 5, 7, 0, 6,\n",
      "        4, 2, 1, 3, 8, 0, 3, 2]), tensor([7, 5, 9, 1, 0, 4, 3, 7, 6, 6, 3, 1, 8, 4, 7, 2, 5, 9, 3, 1, 7, 1, 9, 2,\n",
      "        9, 6, 2, 6, 1, 8, 3, 9]), tensor([8, 4, 0, 3, 8, 4, 5, 1, 2, 4, 6, 4, 6, 8, 5, 7, 7, 7, 3, 5, 5, 7, 9, 9,\n",
      "        6, 2, 8, 2, 1, 3, 3, 4]), tensor([8, 9, 4, 0, 7, 3, 6, 8, 1, 0, 6, 1, 0, 5, 4, 9, 7, 2, 8, 7, 3, 7, 2, 1,\n",
      "        4, 3, 7, 4, 8, 8, 5, 0]), tensor([2, 3, 0, 1, 6, 6, 5, 0, 1, 5, 5, 4, 5, 1, 7, 8, 7, 3, 2, 7, 0, 9, 3, 1,\n",
      "        9, 0, 4, 6, 6, 5, 9, 9]), tensor([4, 2, 7, 1, 8, 1, 4, 2, 3, 7, 8, 4, 0, 4, 5, 4, 2, 9, 3, 5, 8, 0, 1, 9,\n",
      "        6, 7, 3, 7, 4, 4, 6, 6]), tensor([2, 1, 3, 3, 6, 7, 0, 5, 9, 8, 9, 3, 7, 9, 9, 2, 8, 8, 3, 1, 4, 4, 2, 2,\n",
      "        8, 1, 2, 1, 3, 3, 2, 7]), tensor([8, 7, 0, 4, 3, 4, 4, 5, 7, 9, 2, 5, 2, 4, 5, 0, 1, 7, 6, 7, 6, 6, 0, 3,\n",
      "        5, 1, 1, 2, 3, 6, 9, 8]), tensor([1, 0, 1, 6, 8, 5, 4, 0, 4, 0, 4, 9, 3, 8, 5, 2, 8, 6, 2, 8, 6, 4, 6, 0,\n",
      "        8, 7, 5, 2, 8, 7, 2, 9]), tensor([5, 9, 2, 1, 6, 4, 1, 9, 7, 1, 7, 3, 5, 8, 7, 2, 9, 1, 5, 2, 0, 6, 0, 3,\n",
      "        2, 4, 4, 8, 0, 3, 2, 2]), tensor([3, 5, 1, 6, 3, 6, 5, 1, 8, 3, 1, 6, 7, 8, 4, 2, 0, 6, 7, 8, 1, 3, 9, 0,\n",
      "        6, 8, 1, 4, 6, 8, 3, 0]), tensor([2, 7, 7, 5, 4, 7, 7, 6, 1, 8, 1, 7, 7, 0, 3, 1, 2, 5, 5, 3, 8, 9, 2, 0,\n",
      "        9, 5, 1, 7, 2, 1, 5, 2]), tensor([8, 3, 2, 0, 7, 1, 3, 4, 4, 5, 7, 0, 6, 7, 3, 3, 7, 8, 8, 2, 5, 6, 9, 7,\n",
      "        1, 2, 9, 3, 0, 5, 5, 0]), tensor([9, 1, 4, 8, 5, 2, 4, 1, 4, 6, 3, 3, 6, 3, 0, 8, 6, 7, 5, 5, 7, 0, 7, 9,\n",
      "        4, 3, 2, 9, 6, 7, 1, 8]), tensor([8, 8, 5, 8, 3, 8, 9, 3, 2, 0, 2, 1, 8, 4, 4, 6, 0, 9, 5, 3, 1, 9, 1, 3,\n",
      "        5, 6, 6, 2, 1, 7, 3, 0]), tensor([8, 2, 9, 3, 9, 6, 0, 4, 1, 2, 6, 2, 3, 1, 3, 9, 7, 3, 2, 6, 2, 9, 7, 8,\n",
      "        5, 0, 9, 3, 0, 3, 8, 1]), tensor([3, 2, 7, 5, 8, 4, 5, 6, 8, 9, 1, 9, 1, 8, 1, 8])]\n"
     ]
    },
    {
     "data": {
      "text/plain": [
       "tensor([9, 2, 1, 1, 6, 1, 4, 6, 5, 7])"
      ]
     },
     "execution_count": 185,
     "metadata": {},
     "output_type": "execute_result"
    }
   ],
   "source": [
    "from tqdm.auto import tqdm\n",
    "\n",
    "# Make predicitons with trained model\n",
    "y_preds = []\n",
    "model_2.eval()\n",
    "with torch.inference_mode():\n",
    "    for X, y in tqdm(test_dataloader, desc=\"Making predictions...\"):\n",
    "        X, y = X.to(device), y.to(device)\n",
    "        y_logit = model_2(X)\n",
    "        y_pred = torch.softmax(y_logit.squeeze(), dim=0).argmax(dim=1)\n",
    "        y_preds.append(y_pred.cpu())\n",
    "# Concatenate list of predicitons into a tensor\n",
    "print(y_preds)\n",
    "y_pred_tensor = torch.cat(y_preds)\n",
    "y_pred_tensor[:10]"
   ]
  },
  {
   "cell_type": "code",
   "execution_count": 186,
   "id": "11b5dea0",
   "metadata": {},
   "outputs": [
    {
     "data": {
      "text/plain": [
       "10000"
      ]
     },
     "execution_count": 186,
     "metadata": {},
     "output_type": "execute_result"
    }
   ],
   "source": [
    "len(y_pred_tensor)"
   ]
  },
  {
   "cell_type": "code",
   "execution_count": 187,
   "id": "3a5e14c9",
   "metadata": {},
   "outputs": [
    {
     "name": "stdout",
     "output_type": "stream",
     "text": [
      "mlxtend version: 0.23.1\n",
      "Note: you may need to restart the kernel to use updated packages.\n",
      "mlxtend version: 0.23.1\n"
     ]
    }
   ],
   "source": [
    "try:\n",
    "    import torchmetrics, mlxtend\n",
    "    print(f\"mlxtend version: {mlxtend.__version__}\")\n",
    "    assert int(mlxtend.__version__.split(\".\")[1] >= 19, 'mlxtend version should be 0.19.0 or higher')\n",
    "except:\n",
    "    %pip install -q torchmetrics -U mlxtend\n",
    "    import torchmetrics, mlxtend\n",
    "    print(f\"mlxtend version: {mlxtend.__version__}\")"
   ]
  },
  {
   "cell_type": "code",
   "execution_count": 188,
   "id": "8e62e1da",
   "metadata": {},
   "outputs": [
    {
     "data": {
      "image/png": "[encoded data removed]",
      "text/plain": [
       "<Figure size 1000x700 with 1 Axes>"
      ]
     },
     "metadata": {},
     "output_type": "display_data"
    }
   ],
   "source": [
    "from torchmetrics import ConfusionMatrix\n",
    "from mlxtend.plotting import plot_confusion_matrix\n",
    "\n",
    "# Setup confusion instance and compare predictions to targets\n",
    "confmat = ConfusionMatrix(num_classes=len(class_names), task=\"multiclass\")\n",
    "confmat_tensor = confmat(preds=y_pred_tensor, target=test_data.targets)\n",
    "\n",
    "# Plot the confusion matrix\n",
    "fix, ax = plot_confusion_matrix(\n",
    "    conf_mat=confmat_tensor.numpy(), # matplotlib likes working with numpy\n",
    "    class_names=class_names,\n",
    "    figsize=(10, 7),\n",
    ")"
   ]
  },
  {
   "cell_type": "markdown",
   "id": "51b2bcd9",
   "metadata": {},
   "source": [
    "## 11. Save and load best performing model"
   ]
  },
  {
   "cell_type": "code",
   "execution_count": 189,
   "id": "8034f9e4",
   "metadata": {},
   "outputs": [],
   "source": [
    "torch.save({\n",
    "    'model_state_dics': model_2.state_dict(),\n",
    "    'optimizer_state_dict': optimizer.state_dict(),\n",
    "}, '03_pytorch_computer_vision_model_2.pth')"
   ]
  },
  {
   "cell_type": "code",
   "execution_count": 190,
   "id": "01888311",
   "metadata": {},
   "outputs": [
    {
     "data": {
      "text/plain": [
       "FashionMNISTModelV2(\n",
       "  (block_1): Sequential(\n",
       "    (0): Conv2d(1, 10, kernel_size=(3, 3), stride=(1, 1), padding=(1, 1))\n",
       "    (1): ReLU()\n",
       "    (2): Conv2d(10, 10, kernel_size=(3, 3), stride=(1, 1), padding=(1, 1))\n",
       "    (3): ReLU()\n",
       "    (4): MaxPool2d(kernel_size=2, stride=2, padding=0, dilation=1, ceil_mode=False)\n",
       "  )\n",
       "  (block_2): Sequential(\n",
       "    (0): Conv2d(10, 10, kernel_size=(3, 3), stride=(1, 1), padding=(1, 1))\n",
       "    (1): ReLU()\n",
       "    (2): Conv2d(10, 10, kernel_size=(3, 3), stride=(1, 1), padding=(1, 1))\n",
       "    (3): ReLU()\n",
       "    (4): MaxPool2d(kernel_size=2, stride=2, padding=0, dilation=1, ceil_mode=False)\n",
       "  )\n",
       "  (classifier): Sequential(\n",
       "    (0): Flatten(start_dim=1, end_dim=-1)\n",
       "    (1): Linear(in_features=490, out_features=10, bias=True)\n",
       "  )\n",
       ")"
      ]
     },
     "execution_count": 190,
     "metadata": {},
     "output_type": "execute_result"
    }
   ],
   "source": [
    "# Create a new instance\n",
    "torch.manual_seed(42)\n",
    "\n",
    "loaded_model_2 = FashionMNISTModelV2(input_shape=1,\n",
    "                                     hidden_units=10,\n",
    "                                     output_shape=len(class_names))\n",
    "\n",
    "# Load in the save state_dict()\n",
    "loaded_state = torch.load(\"03_pytorch_computer_vision_model_2.pth\")\n",
    "loaded_model_2.load_state_dict(loaded_state['model_state_dics'])\n",
    "# Send the model to the target device\n",
    "loaded_model_2.to(device)"
   ]
  },
  {
   "cell_type": "code",
   "execution_count": 191,
   "id": "16dcfe46",
   "metadata": {},
   "outputs": [
    {
     "data": {
      "text/plain": [
       "{'model_name': 'FashionMNISTModelV2',\n",
       " 'model_loss': 0.32603877782821655,\n",
       " 'model_acc': 88.18889776357827}"
      ]
     },
     "execution_count": 191,
     "metadata": {},
     "output_type": "execute_result"
    }
   ],
   "source": [
    "model_2_results"
   ]
  },
  {
   "cell_type": "code",
   "execution_count": 192,
   "id": "cda6d236",
   "metadata": {},
   "outputs": [
    {
     "data": {
      "text/plain": [
       "{'model_name': 'FashionMNISTModelV2',\n",
       " 'model_loss': 0.32603877782821655,\n",
       " 'model_acc': 88.18889776357827}"
      ]
     },
     "execution_count": 192,
     "metadata": {},
     "output_type": "execute_result"
    }
   ],
   "source": [
    "torch.manual_seed(42)\n",
    "\n",
    "loaded_model_2_results = eval_model(\n",
    "    model=loaded_model_2,\n",
    "    data_loader=test_dataloader,\n",
    "    loss_fn=loss_fn,\n",
    "    accuracy_fn=accuracy_fn,\n",
    ")\n",
    "\n",
    "loaded_model_2_results"
   ]
  },
  {
   "cell_type": "code",
   "execution_count": 193,
   "id": "11baa3fa",
   "metadata": {},
   "outputs": [
    {
     "data": {
      "text/plain": [
       "tensor(True)"
      ]
     },
     "execution_count": 193,
     "metadata": {},
     "output_type": "execute_result"
    }
   ],
   "source": [
    "torch.isclose(torch.tensor(model_2_results[\"model_loss\"]),\n",
    "              torch.tensor(loaded_model_2_results[\"model_loss\"]),\n",
    "              atol=1e-8)"
   ]
  },
  {
   "cell_type": "markdown",
   "id": "2069295b",
   "metadata": {},
   "source": [
    "torch.equal(torch.tensor(model_2_results[\"model_loss\"]),\n",
    "            torch.tensor(loaded_model_2_results[\"model_loss\"]))"
   ]
  }
 ],
 "metadata": {
  "colab": {
   "provenance": []
  },
  "kernelspec": {
   "display_name": "base",
   "language": "python",
   "name": "python3"
  },
  "language_info": {
   "codemirror_mode": {
    "name": "ipython",
    "version": 3
   },
   "file_extension": ".py",
   "mimetype": "text/x-python",
   "name": "python",
   "nbconvert_exporter": "python",
   "pygments_lexer": "ipython3",
   "version": "3.11.5"
  },
  "widgets": {
   "application/vnd.jupyter.widget-state+json": {
    "018b4792369340488e0858d8d3be9226": {
     "model_module": "@jupyter-widgets/base",
     "model_module_version": "1.2.0",
     "model_name": "LayoutModel",
     "state": {
      "_model_module": "@jupyter-widgets/base",
      "_model_module_version": "1.2.0",
      "_model_name": "LayoutModel",
      "_view_count": null,
      "_view_module": "@jupyter-widgets/base",
      "_view_module_version": "1.2.0",
      "_view_name": "LayoutView",
      "align_content": null,
      "align_items": null,
      "align_self": null,
      "border": null,
      "bottom": null,
      "display": null,
      "flex": null,
      "flex_flow": null,
      "grid_area": null,
      "grid_auto_columns": null,
      "grid_auto_flow": null,
      "grid_auto_rows": null,
      "grid_column": null,
      "grid_gap": null,
      "grid_row": null,
      "grid_template_areas": null,
      "grid_template_columns": null,
      "grid_template_rows": null,
      "height": null,
      "justify_content": null,
      "justify_items": null,
      "left": null,
      "margin": null,
      "max_height": null,
      "max_width": null,
      "min_height": null,
      "min_width": null,
      "object_fit": null,
      "object_position": null,
      "order": null,
      "overflow": null,
      "overflow_x": null,
      "overflow_y": null,
      "padding": null,
      "right": null,
      "top": null,
      "visibility": null,
      "width": null
     }
    },
    "3d668d1af4f44e14a20b23cfe02c01ca": {
     "model_module": "@jupyter-widgets/controls",
     "model_module_version": "1.5.0",
     "model_name": "HBoxModel",
     "state": {
      "_dom_classes": [],
      "_model_module": "@jupyter-widgets/controls",
      "_model_module_version": "1.5.0",
      "_model_name": "HBoxModel",
      "_view_count": null,
      "_view_module": "@jupyter-widgets/controls",
      "_view_module_version": "1.5.0",
      "_view_name": "HBoxView",
      "box_style": "",
      "children": [
       "IPY_MODEL_a97957c5d9e14a07b1a404694558b46c",
       "IPY_MODEL_f9acb30080f64d038310ef1c3a8f74f4",
       "IPY_MODEL_892203b191454a5eb3522d39653788ec"
      ],
      "layout": "IPY_MODEL_c47fe1943c74428cbded231a3fbe5c86"
     }
    },
    "69b4d0072cde4c08bb0ce4b3a34417d7": {
     "model_module": "@jupyter-widgets/base",
     "model_module_version": "1.2.0",
     "model_name": "LayoutModel",
     "state": {
      "_model_module": "@jupyter-widgets/base",
      "_model_module_version": "1.2.0",
      "_model_name": "LayoutModel",
      "_view_count": null,
      "_view_module": "@jupyter-widgets/base",
      "_view_module_version": "1.2.0",
      "_view_name": "LayoutView",
      "align_content": null,
      "align_items": null,
      "align_self": null,
      "border": null,
      "bottom": null,
      "display": null,
      "flex": null,
      "flex_flow": null,
      "grid_area": null,
      "grid_auto_columns": null,
      "grid_auto_flow": null,
      "grid_auto_rows": null,
      "grid_column": null,
      "grid_gap": null,
      "grid_row": null,
      "grid_template_areas": null,
      "grid_template_columns": null,
      "grid_template_rows": null,
      "height": null,
      "justify_content": null,
      "justify_items": null,
      "left": null,
      "margin": null,
      "max_height": null,
      "max_width": null,
      "min_height": null,
      "min_width": null,
      "object_fit": null,
      "object_position": null,
      "order": null,
      "overflow": null,
      "overflow_x": null,
      "overflow_y": null,
      "padding": null,
      "right": null,
      "top": null,
      "visibility": null,
      "width": null
     }
    },
    "892203b191454a5eb3522d39653788ec": {
     "model_module": "@jupyter-widgets/controls",
     "model_module_version": "1.5.0",
     "model_name": "HTMLModel",
     "state": {
      "_dom_classes": [],
      "_model_module": "@jupyter-widgets/controls",
      "_model_module_version": "1.5.0",
      "_model_name": "HTMLModel",
      "_view_count": null,
      "_view_module": "@jupyter-widgets/controls",
      "_view_module_version": "1.5.0",
      "_view_name": "HTMLView",
      "description": "",
      "description_tooltip": null,
      "layout": "IPY_MODEL_018b4792369340488e0858d8d3be9226",
      "placeholder": "​",
      "style": "IPY_MODEL_cce75f0ded4649cf9f8e774113600df5",
      "value": " 3/3 [00:32&lt;00:00, 10.68s/it]"
     }
    },
    "a05e04dfce454dcf9a37b8ba7ad548ed": {
     "model_module": "@jupyter-widgets/controls",
     "model_module_version": "1.5.0",
     "model_name": "DescriptionStyleModel",
     "state": {
      "_model_module": "@jupyter-widgets/controls",
      "_model_module_version": "1.5.0",
      "_model_name": "DescriptionStyleModel",
      "_view_count": null,
      "_view_module": "@jupyter-widgets/base",
      "_view_module_version": "1.2.0",
      "_view_name": "StyleView",
      "description_width": ""
     }
    },
    "a97957c5d9e14a07b1a404694558b46c": {
     "model_module": "@jupyter-widgets/controls",
     "model_module_version": "1.5.0",
     "model_name": "HTMLModel",
     "state": {
      "_dom_classes": [],
      "_model_module": "@jupyter-widgets/controls",
      "_model_module_version": "1.5.0",
      "_model_name": "HTMLModel",
      "_view_count": null,
      "_view_module": "@jupyter-widgets/controls",
      "_view_module_version": "1.5.0",
      "_view_name": "HTMLView",
      "description": "",
      "description_tooltip": null,
      "layout": "IPY_MODEL_ddfdd9f49e6844f3a90ac7a4850c2520",
      "placeholder": "​",
      "style": "IPY_MODEL_a05e04dfce454dcf9a37b8ba7ad548ed",
      "value": "100%"
     }
    },
    "c47fe1943c74428cbded231a3fbe5c86": {
     "model_module": "@jupyter-widgets/base",
     "model_module_version": "1.2.0",
     "model_name": "LayoutModel",
     "state": {
      "_model_module": "@jupyter-widgets/base",
      "_model_module_version": "1.2.0",
      "_model_name": "LayoutModel",
      "_view_count": null,
      "_view_module": "@jupyter-widgets/base",
      "_view_module_version": "1.2.0",
      "_view_name": "LayoutView",
      "align_content": null,
      "align_items": null,
      "align_self": null,
      "border": null,
      "bottom": null,
      "display": null,
      "flex": null,
      "flex_flow": null,
      "grid_area": null,
      "grid_auto_columns": null,
      "grid_auto_flow": null,
      "grid_auto_rows": null,
      "grid_column": null,
      "grid_gap": null,
      "grid_row": null,
      "grid_template_areas": null,
      "grid_template_columns": null,
      "grid_template_rows": null,
      "height": null,
      "justify_content": null,
      "justify_items": null,
      "left": null,
      "margin": null,
      "max_height": null,
      "max_width": null,
      "min_height": null,
      "min_width": null,
      "object_fit": null,
      "object_position": null,
      "order": null,
      "overflow": null,
      "overflow_x": null,
      "overflow_y": null,
      "padding": null,
      "right": null,
      "top": null,
      "visibility": null,
      "width": null
     }
    },
    "cce75f0ded4649cf9f8e774113600df5": {
     "model_module": "@jupyter-widgets/controls",
     "model_module_version": "1.5.0",
     "model_name": "DescriptionStyleModel",
     "state": {
      "_model_module": "@jupyter-widgets/controls",
      "_model_module_version": "1.5.0",
      "_model_name": "DescriptionStyleModel",
      "_view_count": null,
      "_view_module": "@jupyter-widgets/base",
      "_view_module_version": "1.2.0",
      "_view_name": "StyleView",
      "description_width": ""
     }
    },
    "ddfdd9f49e6844f3a90ac7a4850c2520": {
     "model_module": "@jupyter-widgets/base",
     "model_module_version": "1.2.0",
     "model_name": "LayoutModel",
     "state": {
      "_model_module": "@jupyter-widgets/base",
      "_model_module_version": "1.2.0",
      "_model_name": "LayoutModel",
      "_view_count": null,
      "_view_module": "@jupyter-widgets/base",
      "_view_module_version": "1.2.0",
      "_view_name": "LayoutView",
      "align_content": null,
      "align_items": null,
      "align_self": null,
      "border": null,
      "bottom": null,
      "display": null,
      "flex": null,
      "flex_flow": null,
      "grid_area": null,
      "grid_auto_columns": null,
      "grid_auto_flow": null,
      "grid_auto_rows": null,
      "grid_column": null,
      "grid_gap": null,
      "grid_row": null,
      "grid_template_areas": null,
      "grid_template_columns": null,
      "grid_template_rows": null,
      "height": null,
      "justify_content": null,
      "justify_items": null,
      "left": null,
      "margin": null,
      "max_height": null,
      "max_width": null,
      "min_height": null,
      "min_width": null,
      "object_fit": null,
      "object_position": null,
      "order": null,
      "overflow": null,
      "overflow_x": null,
      "overflow_y": null,
      "padding": null,
      "right": null,
      "top": null,
      "visibility": null,
      "width": null
     }
    },
    "f9acb30080f64d038310ef1c3a8f74f4": {
     "model_module": "@jupyter-widgets/controls",
     "model_module_version": "1.5.0",
     "model_name": "FloatProgressModel",
     "state": {
      "_dom_classes": [],
      "_model_module": "@jupyter-widgets/controls",
      "_model_module_version": "1.5.0",
      "_model_name": "FloatProgressModel",
      "_view_count": null,
      "_view_module": "@jupyter-widgets/controls",
      "_view_module_version": "1.5.0",
      "_view_name": "ProgressView",
      "bar_style": "success",
      "description": "",
      "description_tooltip": null,
      "layout": "IPY_MODEL_69b4d0072cde4c08bb0ce4b3a34417d7",
      "max": 3,
      "min": 0,
      "orientation": "horizontal",
      "style": "IPY_MODEL_ffd7c3db81ff4b60874d7a7d3da65eb4",
      "value": 3
     }
    },
    "ffd7c3db81ff4b60874d7a7d3da65eb4": {
     "model_module": "@jupyter-widgets/controls",
     "model_module_version": "1.5.0",
     "model_name": "ProgressStyleModel",
     "state": {
      "_model_module": "@jupyter-widgets/controls",
      "_model_module_version": "1.5.0",
      "_model_name": "ProgressStyleModel",
      "_view_count": null,
      "_view_module": "@jupyter-widgets/base",
      "_view_module_version": "1.2.0",
      "_view_name": "StyleView",
      "bar_color": null,
      "description_width": ""
     }
    }
   }
  }
 },
 "nbformat": 4,
 "nbformat_minor": 5
}
