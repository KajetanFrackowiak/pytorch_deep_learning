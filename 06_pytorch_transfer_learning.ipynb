{
 "cells": [
  {
   "cell_type": "code",
   "execution_count": 1,
<<<<<<< HEAD
   "id": "3038d17d-ce86-43d1-9a8f-7d2af2306260",
   "metadata": {},
   "outputs": [
    {
     "name": "stderr",
     "output_type": "stream",
     "text": [
      "C:\\Users\\kajte\\anaconda3\\envs\\py39_torch\\lib\\site-packages\\tqdm\\auto.py:21: TqdmWarning: IProgress not found. Please update jupyter and ipywidgets. See https://ipywidgets.readthedocs.io/en/stable/user_install.html\n",
      "  from .autonotebook import tqdm as notebook_tqdm\n"
     ]
    },
    {
     "name": "stdout",
     "output_type": "stream",
     "text": [
      "1.10.0\n",
      "0.11.1\n"
=======
   "id": "91afff08-8993-42ee-a3a5-078f716f74f3",
   "metadata": {},
   "outputs": [
    {
     "name": "stdout",
     "output_type": "stream",
     "text": [
      "2.2.0+cu121\n",
      "0.17.0+cu121\n"
>>>>>>> 7c2acc180c41adfae9119a7f3c6459f6d1d466c9
     ]
    }
   ],
   "source": [
    "import torch\n",
    "import torchvision\n",
    "\n",
    "print(torch.__version__)\n",
    "print(torchvision.__version__)"
   ]
  },
  {
   "cell_type": "code",
<<<<<<< HEAD
   "execution_count": 2,
   "id": "15bf9aa0-5ecd-4298-97f4-acc7a6eb0245",
   "metadata": {},
   "outputs": [
    {
     "data": {
      "text/plain": [
       "'NVIDIA GeForce GTX 1650'"
      ]
     },
     "execution_count": 2,
     "metadata": {},
     "output_type": "execute_result"
    }
   ],
   "source": []
  },
  {
   "cell_type": "code",
   "execution_count": null,
   "id": "b2b4fe10-ebc3-4c93-8c09-994104294129",
=======
   "execution_count": null,
   "id": "5665a106-0ef0-4418-8990-c21b0ff41ff4",
>>>>>>> 7c2acc180c41adfae9119a7f3c6459f6d1d466c9
   "metadata": {},
   "outputs": [],
   "source": []
  }
 ],
 "metadata": {
  "kernelspec": {
<<<<<<< HEAD
   "display_name": "Hello Kajetan",
   "language": "python",
   "name": "newenv"
=======
   "display_name": "Python 3 (ipykernel)",
   "language": "python",
   "name": "python3"
>>>>>>> 7c2acc180c41adfae9119a7f3c6459f6d1d466c9
  },
  "language_info": {
   "codemirror_mode": {
    "name": "ipython",
    "version": 3
   },
   "file_extension": ".py",
   "mimetype": "text/x-python",
   "name": "python",
   "nbconvert_exporter": "python",
   "pygments_lexer": "ipython3",
<<<<<<< HEAD
   "version": "3.9.18"
=======
   "version": "3.11.5"
>>>>>>> 7c2acc180c41adfae9119a7f3c6459f6d1d466c9
  }
 },
 "nbformat": 4,
 "nbformat_minor": 5
}
